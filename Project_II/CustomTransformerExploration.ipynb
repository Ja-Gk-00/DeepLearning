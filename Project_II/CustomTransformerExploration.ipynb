{
 "cells": [
  {
   "cell_type": "markdown",
   "id": "0f1d7b13",
   "metadata": {},
   "source": [
    "# Custom Transformer Model evaluation.  \n",
    "Notebook dedicated to training and evaluation of our custom transformer models."
   ]
  },
  {
   "cell_type": "markdown",
   "id": "537a58e5",
   "metadata": {},
   "source": []
  },
  {
   "cell_type": "code",
   "execution_count": 10,
   "id": "a17db820",
   "metadata": {},
   "outputs": [],
   "source": [
    "# imports\n",
    "import torch\n",
    "from DataObjects.DataLoader import DataLoader\n",
    "from Architectures.Transformer.CustomTransformer import CustomTransformerModel\n",
    "\n",
    "from pathlib import Path\n",
    "import numpy as np\n",
    "import matplotlib.pyplot as plt\n",
    "import seaborn as sns\n",
    "\n",
    "import os\n",
    "from pathlib import Path\n",
    "\n",
    "import optuna\n",
    "from optuna.pruners import SuccessiveHalvingPruner\n",
    "from optuna.trial import TrialState"
   ]
  },
  {
   "cell_type": "code",
   "execution_count": 2,
   "id": "9637fc68",
   "metadata": {},
   "outputs": [],
   "source": [
    "# SETTING SEED\n",
    "SEED = 42069    \n",
    "torch.manual_seed(SEED)\n",
    "np.random.seed(0)"
   ]
  },
  {
   "cell_type": "code",
   "execution_count": 15,
   "id": "2c59f90e",
   "metadata": {},
   "outputs": [
    {
     "name": "stdout",
     "output_type": "stream",
     "text": [
      "Using device: cuda\n"
     ]
    }
   ],
   "source": [
    "# set device to cuda\n",
    "device = torch.device('cuda' if torch.cuda.is_available() else 'cpu')\n",
    "print(f\"Using device: {device}\")"
   ]
  },
  {
   "cell_type": "code",
   "execution_count": 4,
   "id": "3b380fac",
   "metadata": {},
   "outputs": [],
   "source": [
    "DATA_PATH = Path(\"Data\")"
   ]
  },
  {
   "cell_type": "code",
   "execution_count": 5,
   "id": "d2cddd3b",
   "metadata": {},
   "outputs": [
    {
     "name": "stdout",
     "output_type": "stream",
     "text": [
      "Classes: {'bed': 0, 'bird': 1, 'cat': 2, 'dog': 3, 'down': 4, 'eight': 5, 'five': 6, 'four': 7, 'go': 8, 'happy': 9, 'house': 10, 'left': 11, 'marvin': 12, 'nine': 13, 'no': 14, 'off': 15, 'on': 16, 'one': 17, 'right': 18, 'seven': 19, 'sheila': 20, 'silence': 21, 'six': 22, 'stop': 23, 'three': 24, 'tree': 25, 'two': 26, 'up': 27, 'wow': 28, 'yes': 29, 'zero': 30}\n",
      "# training batches: 586\n",
      "# validation batches: 216\n",
      "# testing batches: 211\n"
     ]
    }
   ],
   "source": [
    "# prepare Data Loader files\n",
    "train_dir = DATA_PATH / Path(\"MFCC_transformed\", \"training\")\n",
    "val_dir = DATA_PATH / Path(\"MFCC_transformed\", \"validation\")\n",
    "test_dir = DATA_PATH / Path(\"MFCC_transformed\", \"testing\")\n",
    "\n",
    "batch_size = 64\n",
    "\n",
    "train_loader = DataLoader(\n",
    "    data_dir=train_dir,\n",
    "    data_type='mfcc',\n",
    "    batch_size=batch_size,\n",
    "    shuffle=True\n",
    ")\n",
    "val_loader = DataLoader(\n",
    "    data_dir=val_dir,\n",
    "    data_type='mfcc',\n",
    "    batch_size=batch_size,\n",
    "    shuffle=True\n",
    ")\n",
    "\n",
    "test_loader = DataLoader(\n",
    "    data_dir=test_dir,\n",
    "    data_type='mfcc',\n",
    "    batch_size=batch_size,\n",
    "    shuffle=True\n",
    ")\n",
    "\n",
    "# Inspect class mapping and dataset size\n",
    "print(\"Classes:\", train_loader.class_to_idx)\n",
    "print(\"# training batches:\", len(train_loader))\n",
    "\n",
    "print(\"# validation batches:\", len(val_loader))\n",
    "\n",
    "print(\"# testing batches:\", len(test_loader))"
   ]
  },
  {
   "cell_type": "code",
   "execution_count": 6,
   "id": "48affd5f",
   "metadata": {},
   "outputs": [
    {
     "name": "stderr",
     "output_type": "stream",
     "text": [
      "c:\\Users\\aaf6\\AppData\\Local\\Programs\\Python\\Python310\\lib\\site-packages\\torch\\nn\\modules\\transformer.py:379: UserWarning: enable_nested_tensor is True, but self.use_nested_tensor is False because encoder_layer.self_attn.batch_first was not True(use batch_first for better inference performance)\n",
      "  warnings.warn(\n"
     ]
    }
   ],
   "source": [
    "batch = next(iter(test_loader))\n",
    "sample = batch.data[0]\n",
    "C, *rest = sample.shape\n",
    "if len(rest) == 1:\n",
    "    input_dim = C\n",
    "else:\n",
    "    H, W = rest\n",
    "    input_dim = C * H\n",
    "\n",
    "num_classes = len(train_loader.class_to_idx)\n",
    "\n",
    "model = CustomTransformerModel(\n",
    "    input_dim=input_dim,\n",
    "    num_classes=num_classes,\n",
    "    d_model=128,\n",
    "    nhead=4,\n",
    "    num_layers=1,\n",
    "    lr=1e-3\n",
    ").to(device)\n"
   ]
  },
  {
   "cell_type": "code",
   "execution_count": 7,
   "id": "8a154094",
   "metadata": {},
   "outputs": [
    {
     "name": "stdout",
     "output_type": "stream",
     "text": [
      "Epoch 1/20 - train loss: 1.9595 - train accuracy: 0.4230\n"
     ]
    },
    {
     "name": "stderr",
     "output_type": "stream",
     "text": [
      "Evaluating: 100%|██████████| 216/216 [03:14<00:00,  1.11it/s]\n"
     ]
    },
    {
     "name": "stdout",
     "output_type": "stream",
     "text": [
      "Epoch 1/20 - val   loss: 1.5529 - val   accuracy: 0.5468\n",
      "Epoch 2/20 - train loss: 1.2318 - train accuracy: 0.6327\n"
     ]
    },
    {
     "name": "stderr",
     "output_type": "stream",
     "text": [
      "Evaluating: 100%|██████████| 216/216 [00:02<00:00, 79.68it/s]\n"
     ]
    },
    {
     "name": "stdout",
     "output_type": "stream",
     "text": [
      "Epoch 2/20 - val   loss: 1.1076 - val   accuracy: 0.6732\n",
      "Epoch 3/20 - train loss: 1.0042 - train accuracy: 0.7039\n"
     ]
    },
    {
     "name": "stderr",
     "output_type": "stream",
     "text": [
      "Evaluating: 100%|██████████| 216/216 [00:02<00:00, 80.63it/s]\n"
     ]
    },
    {
     "name": "stdout",
     "output_type": "stream",
     "text": [
      "Epoch 3/20 - val   loss: 0.9995 - val   accuracy: 0.7045\n",
      "Epoch 4/20 - train loss: 0.9033 - train accuracy: 0.7324\n"
     ]
    },
    {
     "name": "stderr",
     "output_type": "stream",
     "text": [
      "Evaluating: 100%|██████████| 216/216 [00:02<00:00, 80.19it/s]\n"
     ]
    },
    {
     "name": "stdout",
     "output_type": "stream",
     "text": [
      "Epoch 4/20 - val   loss: 0.9314 - val   accuracy: 0.7255\n",
      "Epoch 5/20 - train loss: 0.8395 - train accuracy: 0.7528\n"
     ]
    },
    {
     "name": "stderr",
     "output_type": "stream",
     "text": [
      "Evaluating: 100%|██████████| 216/216 [00:02<00:00, 77.87it/s]\n"
     ]
    },
    {
     "name": "stdout",
     "output_type": "stream",
     "text": [
      "Epoch 5/20 - val   loss: 0.8470 - val   accuracy: 0.7515\n",
      "Epoch 6/20 - train loss: 0.7544 - train accuracy: 0.7798\n"
     ]
    },
    {
     "name": "stderr",
     "output_type": "stream",
     "text": [
      "Evaluating: 100%|██████████| 216/216 [00:02<00:00, 85.48it/s]\n"
     ]
    },
    {
     "name": "stdout",
     "output_type": "stream",
     "text": [
      "Epoch 6/20 - val   loss: 0.8600 - val   accuracy: 0.7482\n",
      "Epoch 7/20 - train loss: 0.7727 - train accuracy: 0.7710\n"
     ]
    },
    {
     "name": "stderr",
     "output_type": "stream",
     "text": [
      "Evaluating: 100%|██████████| 216/216 [00:02<00:00, 80.21it/s]\n"
     ]
    },
    {
     "name": "stdout",
     "output_type": "stream",
     "text": [
      "Epoch 7/20 - val   loss: 0.8277 - val   accuracy: 0.7515\n",
      "Epoch 8/20 - train loss: 0.7023 - train accuracy: 0.7908\n"
     ]
    },
    {
     "name": "stderr",
     "output_type": "stream",
     "text": [
      "Evaluating: 100%|██████████| 216/216 [00:02<00:00, 77.45it/s]\n"
     ]
    },
    {
     "name": "stdout",
     "output_type": "stream",
     "text": [
      "Epoch 8/20 - val   loss: 0.9293 - val   accuracy: 0.7340\n",
      "Epoch 9/20 - train loss: 0.7032 - train accuracy: 0.7919\n"
     ]
    },
    {
     "name": "stderr",
     "output_type": "stream",
     "text": [
      "Evaluating: 100%|██████████| 216/216 [00:05<00:00, 41.96it/s]\n"
     ]
    },
    {
     "name": "stdout",
     "output_type": "stream",
     "text": [
      "Epoch 9/20 - val   loss: 0.8102 - val   accuracy: 0.7636\n",
      "Epoch 10/20 - train loss: 0.7375 - train accuracy: 0.7777\n"
     ]
    },
    {
     "name": "stderr",
     "output_type": "stream",
     "text": [
      "Evaluating: 100%|██████████| 216/216 [00:05<00:00, 38.99it/s]\n"
     ]
    },
    {
     "name": "stdout",
     "output_type": "stream",
     "text": [
      "Epoch 10/20 - val   loss: 0.8953 - val   accuracy: 0.7316\n",
      "Epoch 11/20 - train loss: 0.6945 - train accuracy: 0.7900\n"
     ]
    },
    {
     "name": "stderr",
     "output_type": "stream",
     "text": [
      "Evaluating: 100%|██████████| 216/216 [00:05<00:00, 39.94it/s]\n"
     ]
    },
    {
     "name": "stdout",
     "output_type": "stream",
     "text": [
      "Epoch 11/20 - val   loss: 0.8300 - val   accuracy: 0.7535\n",
      "Epoch 12/20 - train loss: 0.6192 - train accuracy: 0.8118\n"
     ]
    },
    {
     "name": "stderr",
     "output_type": "stream",
     "text": [
      "Evaluating: 100%|██████████| 216/216 [00:05<00:00, 37.83it/s]\n"
     ]
    },
    {
     "name": "stdout",
     "output_type": "stream",
     "text": [
      "Epoch 12/20 - val   loss: 0.7731 - val   accuracy: 0.7752\n",
      "Epoch 13/20 - train loss: 0.6698 - train accuracy: 0.7993\n"
     ]
    },
    {
     "name": "stderr",
     "output_type": "stream",
     "text": [
      "Evaluating: 100%|██████████| 216/216 [00:05<00:00, 38.64it/s]\n"
     ]
    },
    {
     "name": "stdout",
     "output_type": "stream",
     "text": [
      "Epoch 13/20 - val   loss: 0.7788 - val   accuracy: 0.7723\n",
      "Epoch 14/20 - train loss: 0.5842 - train accuracy: 0.8249\n"
     ]
    },
    {
     "name": "stderr",
     "output_type": "stream",
     "text": [
      "Evaluating: 100%|██████████| 216/216 [00:02<00:00, 83.56it/s]\n"
     ]
    },
    {
     "name": "stdout",
     "output_type": "stream",
     "text": [
      "Epoch 14/20 - val   loss: 0.7502 - val   accuracy: 0.7830\n",
      "Epoch 15/20 - train loss: 0.5697 - train accuracy: 0.8299\n"
     ]
    },
    {
     "name": "stderr",
     "output_type": "stream",
     "text": [
      "Evaluating: 100%|██████████| 216/216 [00:02<00:00, 93.87it/s]\n"
     ]
    },
    {
     "name": "stdout",
     "output_type": "stream",
     "text": [
      "Epoch 15/20 - val   loss: 0.7481 - val   accuracy: 0.7835\n",
      "Epoch 16/20 - train loss: 0.5880 - train accuracy: 0.8225\n"
     ]
    },
    {
     "name": "stderr",
     "output_type": "stream",
     "text": [
      "Evaluating: 100%|██████████| 216/216 [00:05<00:00, 40.75it/s]\n"
     ]
    },
    {
     "name": "stdout",
     "output_type": "stream",
     "text": [
      "Epoch 16/20 - val   loss: 0.7497 - val   accuracy: 0.7801\n",
      "Epoch 17/20 - train loss: 0.5858 - train accuracy: 0.8237\n"
     ]
    },
    {
     "name": "stderr",
     "output_type": "stream",
     "text": [
      "Evaluating: 100%|██████████| 216/216 [00:04<00:00, 43.32it/s]\n"
     ]
    },
    {
     "name": "stdout",
     "output_type": "stream",
     "text": [
      "Epoch 17/20 - val   loss: 0.7529 - val   accuracy: 0.7806\n",
      "Epoch 18/20 - train loss: 0.5717 - train accuracy: 0.8303\n"
     ]
    },
    {
     "name": "stderr",
     "output_type": "stream",
     "text": [
      "Evaluating: 100%|██████████| 216/216 [00:05<00:00, 41.35it/s]\n"
     ]
    },
    {
     "name": "stdout",
     "output_type": "stream",
     "text": [
      "Epoch 18/20 - val   loss: 0.7239 - val   accuracy: 0.7905\n",
      "Epoch 19/20 - train loss: 0.5084 - train accuracy: 0.8471\n"
     ]
    },
    {
     "name": "stderr",
     "output_type": "stream",
     "text": [
      "Evaluating: 100%|██████████| 216/216 [00:04<00:00, 43.30it/s]\n"
     ]
    },
    {
     "name": "stdout",
     "output_type": "stream",
     "text": [
      "Epoch 19/20 - val   loss: 0.6794 - val   accuracy: 0.8095\n",
      "Epoch 20/20 - train loss: 0.4874 - train accuracy: 0.8537\n"
     ]
    },
    {
     "name": "stderr",
     "output_type": "stream",
     "text": [
      "Evaluating: 100%|██████████| 216/216 [00:05<00:00, 37.65it/s]\n"
     ]
    },
    {
     "name": "stdout",
     "output_type": "stream",
     "text": [
      "Epoch 20/20 - val   loss: 0.6966 - val   accuracy: 0.7962\n"
     ]
    }
   ],
   "source": [
    "# training loop\n",
    "model.train_architecture(train_loader = train_loader, epochs = 20, val_loader = val_loader)"
   ]
  },
  {
   "cell_type": "code",
   "execution_count": 8,
   "id": "df2da2ad",
   "metadata": {},
   "outputs": [
    {
     "name": "stderr",
     "output_type": "stream",
     "text": [
      "Evaluating: 100%|██████████| 211/211 [00:07<00:00, 27.15it/s]\n"
     ]
    },
    {
     "name": "stdout",
     "output_type": "stream",
     "text": [
      "Validation Summary:\n",
      "  loss: 0.6843\n",
      "  accuracy: 0.8120\n",
      "  precision: 0.8247\n",
      "  recall: 0.8133\n",
      "  f1: 0.8142\n"
     ]
    }
   ],
   "source": [
    "results = model.evaluate(test_loader)\n",
    "print(\"Validation Summary:\")\n",
    "for k, v in results['summary'].items():\n",
    "    print(f\"  {k}: {v:.4f}\")"
   ]
  },
  {
   "cell_type": "markdown",
   "id": "4965dd19",
   "metadata": {},
   "source": [
    "## More automated approach to running tests\n",
    "Running tests throgh an automated Experiment Object created through ExperimentFactory for easy and streamlined experiments."
   ]
  },
  {
   "cell_type": "code",
   "execution_count": 14,
   "id": "593bdcf5",
   "metadata": {},
   "outputs": [],
   "source": [
    "from DataObjects.Experiments import ExperimentFactory, CNNExperiment"
   ]
  },
  {
   "cell_type": "code",
   "execution_count": 15,
   "id": "814a9da1",
   "metadata": {},
   "outputs": [
    {
     "name": "stdout",
     "output_type": "stream",
     "text": [
      "Using device: cuda\n"
     ]
    }
   ],
   "source": [
    "# set device to cuda\n",
    "device = torch.device('cuda' if torch.cuda.is_available() else 'cpu')\n",
    "print(f\"Using device: {device}\")"
   ]
  },
  {
   "cell_type": "code",
   "execution_count": 16,
   "id": "9e7e3ec0",
   "metadata": {},
   "outputs": [],
   "source": [
    "transformer_exp = ExperimentFactory.create_experiment(\n",
    "    arch_name='transformer',\n",
    "    train_dir='Data/MFCC_transformed/training',\n",
    "    test_dir='Data/MFCC_transformed/testing',\n",
    "    batch_size=32,\n",
    "    epochs=1,\n",
    "    sr=16000,\n",
    "    save_path = \"Saved_experimented_data/CustomTransformer_3_experiment.txt\",   \n",
    "    data_type='mfcc',\n",
    "    model_kwargs={  \n",
    "        'num_classes': 31\n",
    "    }\n",
    ")"
   ]
  },
  {
   "cell_type": "code",
   "execution_count": 17,
   "id": "3a7f93ff",
   "metadata": {},
   "outputs": [
    {
     "name": "stderr",
     "output_type": "stream",
     "text": [
      "c:\\Users\\aaf6\\AppData\\Local\\Programs\\Python\\Python310\\lib\\site-packages\\torch\\nn\\modules\\transformer.py:379: UserWarning: enable_nested_tensor is True, but self.use_nested_tensor is False because encoder_layer.self_attn.batch_first was not True(use batch_first for better inference performance)\n",
      "  warnings.warn(\n",
      "Evaluating: 100%|██████████| 421/421 [00:41<00:00, 10.08it/s]\n"
     ]
    },
    {
     "data": {
      "text/plain": [
       "{'metrics_history': [{'loss': 1.4415233135223389,\n",
       "   'accuracy': 0.59375,\n",
       "   'precision': 0.4875,\n",
       "   'recall': 0.5069444444444444,\n",
       "   'f1': 0.4583333333333333},\n",
       "  {'loss': 0.8514789938926697,\n",
       "   'accuracy': 0.78125,\n",
       "   'precision': 0.6931818181818182,\n",
       "   'recall': 0.6515151515151515,\n",
       "   'f1': 0.6525974025974025},\n",
       "  {'loss': 1.1145508289337158,\n",
       "   'accuracy': 0.75,\n",
       "   'precision': 0.7045454545454546,\n",
       "   'recall': 0.712121212121212,\n",
       "   'f1': 0.6768398268398269},\n",
       "  {'loss': 1.4915801286697388,\n",
       "   'accuracy': 0.65625,\n",
       "   'precision': 0.5869565217391305,\n",
       "   'recall': 0.5652173913043478,\n",
       "   'f1': 0.5536231884057969},\n",
       "  {'loss': 1.180634617805481,\n",
       "   'accuracy': 0.625,\n",
       "   'precision': 0.5471014492753623,\n",
       "   'recall': 0.5760869565217391,\n",
       "   'f1': 0.5358178053830228},\n",
       "  {'loss': 1.313923716545105,\n",
       "   'accuracy': 0.65625,\n",
       "   'precision': 0.5303030303030303,\n",
       "   'recall': 0.5643939393939393,\n",
       "   'f1': 0.5207792207792207},\n",
       "  {'loss': 1.3523926734924316,\n",
       "   'accuracy': 0.625,\n",
       "   'precision': 0.42,\n",
       "   'recall': 0.48,\n",
       "   'f1': 0.43200000000000005},\n",
       "  {'loss': 0.8524130582809448,\n",
       "   'accuracy': 0.78125,\n",
       "   'precision': 0.6739130434782609,\n",
       "   'recall': 0.717391304347826,\n",
       "   'f1': 0.6768115942028985},\n",
       "  {'loss': 1.0232436656951904,\n",
       "   'accuracy': 0.6875,\n",
       "   'precision': 0.5688405797101449,\n",
       "   'recall': 0.536231884057971,\n",
       "   'f1': 0.5343685300207038},\n",
       "  {'loss': 1.071402668952942,\n",
       "   'accuracy': 0.625,\n",
       "   'precision': 0.5434782608695652,\n",
       "   'recall': 0.591304347826087,\n",
       "   'f1': 0.5326086956521738},\n",
       "  {'loss': 0.7052686214447021,\n",
       "   'accuracy': 0.75,\n",
       "   'precision': 0.6916666666666667,\n",
       "   'recall': 0.6833333333333333,\n",
       "   'f1': 0.6616666666666666},\n",
       "  {'loss': 1.2020760774612427,\n",
       "   'accuracy': 0.6875,\n",
       "   'precision': 0.5742424242424242,\n",
       "   'recall': 0.6287878787878788,\n",
       "   'f1': 0.5752525252525251},\n",
       "  {'loss': 1.0642539262771606,\n",
       "   'accuracy': 0.59375,\n",
       "   'precision': 0.45138888888888884,\n",
       "   'recall': 0.4444444444444444,\n",
       "   'f1': 0.44166666666666665},\n",
       "  {'loss': 0.8643661141395569,\n",
       "   'accuracy': 0.8125,\n",
       "   'precision': 0.7368421052631579,\n",
       "   'recall': 0.7192982456140351,\n",
       "   'f1': 0.7112781954887218},\n",
       "  {'loss': 1.1319303512573242,\n",
       "   'accuracy': 0.6875,\n",
       "   'precision': 0.6071428571428571,\n",
       "   'recall': 0.5912698412698413,\n",
       "   'f1': 0.5785714285714285},\n",
       "  {'loss': 1.0866577625274658,\n",
       "   'accuracy': 0.65625,\n",
       "   'precision': 0.5333333333333333,\n",
       "   'recall': 0.5466666666666666,\n",
       "   'f1': 0.5053333333333333},\n",
       "  {'loss': 1.0229370594024658,\n",
       "   'accuracy': 0.71875,\n",
       "   'precision': 0.5438596491228069,\n",
       "   'recall': 0.5526315789473684,\n",
       "   'f1': 0.5333333333333333},\n",
       "  {'loss': 1.0818357467651367,\n",
       "   'accuracy': 0.65625,\n",
       "   'precision': 0.5869565217391305,\n",
       "   'recall': 0.5615942028985507,\n",
       "   'f1': 0.5590062111801243},\n",
       "  {'loss': 1.3549871444702148,\n",
       "   'accuracy': 0.46875,\n",
       "   'precision': 0.3840579710144927,\n",
       "   'recall': 0.4072463768115942,\n",
       "   'f1': 0.38354037267080743},\n",
       "  {'loss': 1.3722807168960571,\n",
       "   'accuracy': 0.625,\n",
       "   'precision': 0.5625,\n",
       "   'recall': 0.5416666666666666,\n",
       "   'f1': 0.525},\n",
       "  {'loss': 1.4636154174804688,\n",
       "   'accuracy': 0.5,\n",
       "   'precision': 0.38888888888888895,\n",
       "   'recall': 0.3888888888888889,\n",
       "   'f1': 0.3733333333333333},\n",
       "  {'loss': 0.9197621941566467,\n",
       "   'accuracy': 0.71875,\n",
       "   'precision': 0.6021739130434782,\n",
       "   'recall': 0.5833333333333333,\n",
       "   'f1': 0.5782608695652174},\n",
       "  {'loss': 1.6250295639038086,\n",
       "   'accuracy': 0.53125,\n",
       "   'precision': 0.45512820512820507,\n",
       "   'recall': 0.4807692307692308,\n",
       "   'f1': 0.45256410256410246},\n",
       "  {'loss': 1.3265365362167358,\n",
       "   'accuracy': 0.59375,\n",
       "   'precision': 0.5523809523809524,\n",
       "   'recall': 0.5,\n",
       "   'f1': 0.503968253968254},\n",
       "  {'loss': 1.0318063497543335,\n",
       "   'accuracy': 0.59375,\n",
       "   'precision': 0.3506944444444444,\n",
       "   'recall': 0.3506944444444444,\n",
       "   'f1': 0.34097222222222223},\n",
       "  {'loss': 2.087317943572998,\n",
       "   'accuracy': 0.53125,\n",
       "   'precision': 0.3695652173913043,\n",
       "   'recall': 0.32681159420289857,\n",
       "   'f1': 0.329296066252588},\n",
       "  {'loss': 1.1358673572540283,\n",
       "   'accuracy': 0.6875,\n",
       "   'precision': 0.5666666666666667,\n",
       "   'recall': 0.5133333333333333,\n",
       "   'f1': 0.5293333333333333},\n",
       "  {'loss': 0.9686130881309509,\n",
       "   'accuracy': 0.6875,\n",
       "   'precision': 0.5972222222222222,\n",
       "   'recall': 0.5833333333333334,\n",
       "   'f1': 0.561111111111111},\n",
       "  {'loss': 1.030595064163208,\n",
       "   'accuracy': 0.71875,\n",
       "   'precision': 0.7222222222222222,\n",
       "   'recall': 0.6904761904761905,\n",
       "   'f1': 0.6698412698412699},\n",
       "  {'loss': 1.487156867980957,\n",
       "   'accuracy': 0.65625,\n",
       "   'precision': 0.6014492753623188,\n",
       "   'recall': 0.6376811594202898,\n",
       "   'f1': 0.589855072463768},\n",
       "  {'loss': 1.8392279148101807,\n",
       "   'accuracy': 0.53125,\n",
       "   'precision': 0.4133333333333333,\n",
       "   'recall': 0.36666666666666664,\n",
       "   'f1': 0.3588571428571429},\n",
       "  {'loss': 1.3141531944274902,\n",
       "   'accuracy': 0.625,\n",
       "   'precision': 0.4318181818181818,\n",
       "   'recall': 0.47348484848484845,\n",
       "   'f1': 0.42943722943722934},\n",
       "  {'loss': 1.2266827821731567,\n",
       "   'accuracy': 0.6875,\n",
       "   'precision': 0.5769230769230769,\n",
       "   'recall': 0.5615384615384614,\n",
       "   'f1': 0.5610805860805861},\n",
       "  {'loss': 0.9006807208061218,\n",
       "   'accuracy': 0.75,\n",
       "   'precision': 0.7246376811594203,\n",
       "   'recall': 0.7391304347826086,\n",
       "   'f1': 0.708695652173913},\n",
       "  {'loss': 1.371483325958252,\n",
       "   'accuracy': 0.65625,\n",
       "   'precision': 0.5933333333333333,\n",
       "   'recall': 0.56,\n",
       "   'f1': 0.5493333333333333},\n",
       "  {'loss': 1.0948063135147095,\n",
       "   'accuracy': 0.65625,\n",
       "   'precision': 0.51,\n",
       "   'recall': 0.5066666666666666,\n",
       "   'f1': 0.4946666666666667},\n",
       "  {'loss': 1.1966030597686768,\n",
       "   'accuracy': 0.6875,\n",
       "   'precision': 0.572463768115942,\n",
       "   'recall': 0.6014492753623187,\n",
       "   'f1': 0.5579710144927535},\n",
       "  {'loss': 1.2353535890579224,\n",
       "   'accuracy': 0.6875,\n",
       "   'precision': 0.6730769230769231,\n",
       "   'recall': 0.6089743589743589,\n",
       "   'f1': 0.6217948717948717},\n",
       "  {'loss': 1.0118545293807983,\n",
       "   'accuracy': 0.65625,\n",
       "   'precision': 0.5952380952380951,\n",
       "   'recall': 0.6071428571428571,\n",
       "   'f1': 0.5773242630385487},\n",
       "  {'loss': 1.5129414796829224,\n",
       "   'accuracy': 0.53125,\n",
       "   'precision': 0.4201388888888889,\n",
       "   'recall': 0.3958333333333333,\n",
       "   'f1': 0.37777777777777777},\n",
       "  {'loss': 1.0985716581344604,\n",
       "   'accuracy': 0.625,\n",
       "   'precision': 0.42045454545454547,\n",
       "   'recall': 0.5037878787878788,\n",
       "   'f1': 0.4492424242424242},\n",
       "  {'loss': 1.7602183818817139,\n",
       "   'accuracy': 0.40625,\n",
       "   'precision': 0.3237179487179487,\n",
       "   'recall': 0.30128205128205127,\n",
       "   'f1': 0.29450549450549446},\n",
       "  {'loss': 1.4920598268508911,\n",
       "   'accuracy': 0.625,\n",
       "   'precision': 0.4782608695652174,\n",
       "   'recall': 0.4782608695652174,\n",
       "   'f1': 0.44637681159420295},\n",
       "  {'loss': 1.4775240421295166,\n",
       "   'accuracy': 0.59375,\n",
       "   'precision': 0.51,\n",
       "   'recall': 0.46,\n",
       "   'f1': 0.4593333333333333},\n",
       "  {'loss': 0.7672674059867859,\n",
       "   'accuracy': 0.75,\n",
       "   'precision': 0.6319444444444444,\n",
       "   'recall': 0.686111111111111,\n",
       "   'f1': 0.6342592592592592},\n",
       "  {'loss': 0.9412433505058289,\n",
       "   'accuracy': 0.75,\n",
       "   'precision': 0.6628787878787878,\n",
       "   'recall': 0.7045454545454546,\n",
       "   'f1': 0.6647186147186147},\n",
       "  {'loss': 1.0633571147918701,\n",
       "   'accuracy': 0.6875,\n",
       "   'precision': 0.6013888888888889,\n",
       "   'recall': 0.625,\n",
       "   'f1': 0.59375},\n",
       "  {'loss': 0.6708351373672485,\n",
       "   'accuracy': 0.78125,\n",
       "   'precision': 0.626984126984127,\n",
       "   'recall': 0.6507936507936508,\n",
       "   'f1': 0.6238095238095237},\n",
       "  {'loss': 1.4252686500549316,\n",
       "   'accuracy': 0.46875,\n",
       "   'precision': 0.40972222222222215,\n",
       "   'recall': 0.4305555555555555,\n",
       "   'f1': 0.39999999999999997},\n",
       "  {'loss': 0.9514539837837219,\n",
       "   'accuracy': 0.78125,\n",
       "   'precision': 0.6602564102564101,\n",
       "   'recall': 0.6730769230769231,\n",
       "   'f1': 0.6525641025641027},\n",
       "  {'loss': 1.409907579421997,\n",
       "   'accuracy': 0.59375,\n",
       "   'precision': 0.572463768115942,\n",
       "   'recall': 0.5144927536231884,\n",
       "   'f1': 0.5202898550724637},\n",
       "  {'loss': 1.7371729612350464,\n",
       "   'accuracy': 0.65625,\n",
       "   'precision': 0.4782608695652174,\n",
       "   'recall': 0.46376811594202894,\n",
       "   'f1': 0.444927536231884},\n",
       "  {'loss': 1.2748534679412842,\n",
       "   'accuracy': 0.59375,\n",
       "   'precision': 0.5072463768115942,\n",
       "   'recall': 0.5181159420289855,\n",
       "   'f1': 0.4797101449275362},\n",
       "  {'loss': 1.2360715866088867,\n",
       "   'accuracy': 0.59375,\n",
       "   'precision': 0.4305555555555555,\n",
       "   'recall': 0.45,\n",
       "   'f1': 0.43009259259259264},\n",
       "  {'loss': 1.714674472808838,\n",
       "   'accuracy': 0.46875,\n",
       "   'precision': 0.4513888888888889,\n",
       "   'recall': 0.40972222222222215,\n",
       "   'f1': 0.4124999999999999},\n",
       "  {'loss': 1.1530367136001587,\n",
       "   'accuracy': 0.65625,\n",
       "   'precision': 0.5797101449275361,\n",
       "   'recall': 0.5652173913043478,\n",
       "   'f1': 0.5608695652173913},\n",
       "  {'loss': 1.1650804281234741,\n",
       "   'accuracy': 0.65625,\n",
       "   'precision': 0.6376811594202898,\n",
       "   'recall': 0.6231884057971014,\n",
       "   'f1': 0.6014492753623187},\n",
       "  {'loss': 1.611708402633667,\n",
       "   'accuracy': 0.65625,\n",
       "   'precision': 0.5433333333333333,\n",
       "   'recall': 0.5666666666666667,\n",
       "   'f1': 0.5356190476190476},\n",
       "  {'loss': 1.3407258987426758,\n",
       "   'accuracy': 0.53125,\n",
       "   'precision': 0.4144927536231884,\n",
       "   'recall': 0.44202898550724634,\n",
       "   'f1': 0.40082815734989646},\n",
       "  {'loss': 1.083396077156067,\n",
       "   'accuracy': 0.78125,\n",
       "   'precision': 0.736111111111111,\n",
       "   'recall': 0.7222222222222222,\n",
       "   'f1': 0.7111111111111111},\n",
       "  {'loss': 1.362138271331787,\n",
       "   'accuracy': 0.53125,\n",
       "   'precision': 0.4236111111111111,\n",
       "   'recall': 0.3958333333333333,\n",
       "   'f1': 0.3902777777777778},\n",
       "  {'loss': 1.4331121444702148,\n",
       "   'accuracy': 0.53125,\n",
       "   'precision': 0.46,\n",
       "   'recall': 0.5,\n",
       "   'f1': 0.4653333333333334},\n",
       "  {'loss': 1.6029417514801025,\n",
       "   'accuracy': 0.59375,\n",
       "   'precision': 0.5855072463768116,\n",
       "   'recall': 0.5652173913043478,\n",
       "   'f1': 0.5415458937198068},\n",
       "  {'loss': 1.3705257177352905,\n",
       "   'accuracy': 0.59375,\n",
       "   'precision': 0.47222222222222215,\n",
       "   'recall': 0.4791666666666667,\n",
       "   'f1': 0.4569444444444444},\n",
       "  {'loss': 2.031548023223877,\n",
       "   'accuracy': 0.53125,\n",
       "   'precision': 0.44,\n",
       "   'recall': 0.4733333333333333,\n",
       "   'f1': 0.43200000000000005},\n",
       "  {'loss': 1.227710247039795,\n",
       "   'accuracy': 0.6875,\n",
       "   'precision': 0.6266666666666666,\n",
       "   'recall': 0.62,\n",
       "   'f1': 0.5986666666666666},\n",
       "  {'loss': 1.8503011465072632,\n",
       "   'accuracy': 0.5,\n",
       "   'precision': 0.43402777777777773,\n",
       "   'recall': 0.3958333333333333,\n",
       "   'f1': 0.38749999999999996},\n",
       "  {'loss': 1.4718596935272217,\n",
       "   'accuracy': 0.59375,\n",
       "   'precision': 0.5288461538461539,\n",
       "   'recall': 0.46153846153846156,\n",
       "   'f1': 0.47948717948717945},\n",
       "  {'loss': 1.651703119277954,\n",
       "   'accuracy': 0.53125,\n",
       "   'precision': 0.40277777777777773,\n",
       "   'recall': 0.4791666666666667,\n",
       "   'f1': 0.42083333333333334},\n",
       "  {'loss': 0.9863486886024475,\n",
       "   'accuracy': 0.6875,\n",
       "   'precision': 0.536231884057971,\n",
       "   'recall': 0.5942028985507246,\n",
       "   'f1': 0.5391304347826086},\n",
       "  {'loss': 1.1295403242111206,\n",
       "   'accuracy': 0.6875,\n",
       "   'precision': 0.6304347826086957,\n",
       "   'recall': 0.6086956521739131,\n",
       "   'f1': 0.608695652173913},\n",
       "  {'loss': 1.9139435291290283,\n",
       "   'accuracy': 0.5,\n",
       "   'precision': 0.3958333333333333,\n",
       "   'recall': 0.3854166666666667,\n",
       "   'f1': 0.3773809523809524},\n",
       "  {'loss': 1.1986415386199951,\n",
       "   'accuracy': 0.65625,\n",
       "   'precision': 0.49999999999999994,\n",
       "   'recall': 0.6014492753623188,\n",
       "   'f1': 0.527743271221532},\n",
       "  {'loss': 1.246645450592041,\n",
       "   'accuracy': 0.6875,\n",
       "   'precision': 0.6031746031746031,\n",
       "   'recall': 0.6825396825396826,\n",
       "   'f1': 0.6063492063492062},\n",
       "  {'loss': 1.3374310731887817,\n",
       "   'accuracy': 0.75,\n",
       "   'precision': 0.7738095238095238,\n",
       "   'recall': 0.75,\n",
       "   'f1': 0.7308390022675736},\n",
       "  {'loss': 1.5164365768432617,\n",
       "   'accuracy': 0.59375,\n",
       "   'precision': 0.48666666666666664,\n",
       "   'recall': 0.47,\n",
       "   'f1': 0.46495238095238095},\n",
       "  {'loss': 1.1157656908035278,\n",
       "   'accuracy': 0.6875,\n",
       "   'precision': 0.6231884057971014,\n",
       "   'recall': 0.536231884057971,\n",
       "   'f1': 0.56231884057971},\n",
       "  {'loss': 1.2250350713729858,\n",
       "   'accuracy': 0.5625,\n",
       "   'precision': 0.5266666666666666,\n",
       "   'recall': 0.5875,\n",
       "   'f1': 0.5295238095238095},\n",
       "  {'loss': 1.222866177558899,\n",
       "   'accuracy': 0.65625,\n",
       "   'precision': 0.5763888888888888,\n",
       "   'recall': 0.5777777777777778,\n",
       "   'f1': 0.5472222222222222},\n",
       "  {'loss': 1.075627088546753,\n",
       "   'accuracy': 0.65625,\n",
       "   'precision': 0.6098484848484849,\n",
       "   'recall': 0.6439393939393938,\n",
       "   'f1': 0.5813852813852814},\n",
       "  {'loss': 1.2524393796920776,\n",
       "   'accuracy': 0.5625,\n",
       "   'precision': 0.5104166666666666,\n",
       "   'recall': 0.5625,\n",
       "   'f1': 0.5111111111111111},\n",
       "  {'loss': 1.2446229457855225,\n",
       "   'accuracy': 0.59375,\n",
       "   'precision': 0.4933333333333333,\n",
       "   'recall': 0.52,\n",
       "   'f1': 0.48666666666666664},\n",
       "  {'loss': 1.828214406967163,\n",
       "   'accuracy': 0.4375,\n",
       "   'precision': 0.34027777777777773,\n",
       "   'recall': 0.38888888888888884,\n",
       "   'f1': 0.3361111111111111},\n",
       "  {'loss': 0.8706864714622498,\n",
       "   'accuracy': 0.8125,\n",
       "   'precision': 0.7222222222222222,\n",
       "   'recall': 0.6825396825396824,\n",
       "   'f1': 0.6888888888888889},\n",
       "  {'loss': 1.2723332643508911,\n",
       "   'accuracy': 0.59375,\n",
       "   'precision': 0.44097222222222215,\n",
       "   'recall': 0.4583333333333333,\n",
       "   'f1': 0.42916666666666664},\n",
       "  {'loss': 0.7533098459243774,\n",
       "   'accuracy': 0.84375,\n",
       "   'precision': 0.782608695652174,\n",
       "   'recall': 0.782608695652174,\n",
       "   'f1': 0.7666666666666666},\n",
       "  {'loss': 1.0299965143203735,\n",
       "   'accuracy': 0.59375,\n",
       "   'precision': 0.48148148148148145,\n",
       "   'recall': 0.5185185185185185,\n",
       "   'f1': 0.48024691358024685},\n",
       "  {'loss': 1.0721971988677979,\n",
       "   'accuracy': 0.6875,\n",
       "   'precision': 0.6340579710144927,\n",
       "   'recall': 0.6376811594202898,\n",
       "   'f1': 0.5937888198757764},\n",
       "  {'loss': 1.0132945775985718,\n",
       "   'accuracy': 0.75,\n",
       "   'precision': 0.66,\n",
       "   'recall': 0.68,\n",
       "   'f1': 0.656952380952381},\n",
       "  {'loss': 0.7765331864356995,\n",
       "   'accuracy': 0.6875,\n",
       "   'precision': 0.5972222222222222,\n",
       "   'recall': 0.5937499999999999,\n",
       "   'f1': 0.5638888888888888},\n",
       "  {'loss': 0.8219855427742004,\n",
       "   'accuracy': 0.78125,\n",
       "   'precision': 0.6847826086956522,\n",
       "   'recall': 0.644927536231884,\n",
       "   'f1': 0.6459627329192547},\n",
       "  {'loss': 1.2566038370132446,\n",
       "   'accuracy': 0.46875,\n",
       "   'precision': 0.41666666666666663,\n",
       "   'recall': 0.4393939393939394,\n",
       "   'f1': 0.38636363636363635},\n",
       "  {'loss': 1.3761212825775146,\n",
       "   'accuracy': 0.625,\n",
       "   'precision': 0.578798185941043,\n",
       "   'recall': 0.5476190476190477,\n",
       "   'f1': 0.5372405372405372},\n",
       "  {'loss': 0.9614438414573669,\n",
       "   'accuracy': 0.71875,\n",
       "   'precision': 0.65625,\n",
       "   'recall': 0.642361111111111,\n",
       "   'f1': 0.6340277777777777},\n",
       "  {'loss': 1.2410025596618652,\n",
       "   'accuracy': 0.6875,\n",
       "   'precision': 0.6111111111111112,\n",
       "   'recall': 0.5476190476190476,\n",
       "   'f1': 0.5650793650793651},\n",
       "  {'loss': 1.4015460014343262,\n",
       "   'accuracy': 0.59375,\n",
       "   'precision': 0.53125,\n",
       "   'recall': 0.5555555555555555,\n",
       "   'f1': 0.5249999999999999},\n",
       "  {'loss': 1.2094018459320068,\n",
       "   'accuracy': 0.59375,\n",
       "   'precision': 0.51,\n",
       "   'recall': 0.5533333333333332,\n",
       "   'f1': 0.5076190476190476},\n",
       "  {'loss': 1.1723018884658813,\n",
       "   'accuracy': 0.65625,\n",
       "   'precision': 0.6380952380952382,\n",
       "   'recall': 0.619047619047619,\n",
       "   'f1': 0.6068027210884354},\n",
       "  {'loss': 0.8653749227523804,\n",
       "   'accuracy': 0.75,\n",
       "   'precision': 0.7301587301587301,\n",
       "   'recall': 0.7619047619047619,\n",
       "   'f1': 0.7176870748299319},\n",
       "  {'loss': 1.1495405435562134,\n",
       "   'accuracy': 0.59375,\n",
       "   'precision': 0.4861111111111111,\n",
       "   'recall': 0.5,\n",
       "   'f1': 0.47222222222222227},\n",
       "  {'loss': 0.7681485414505005,\n",
       "   'accuracy': 0.78125,\n",
       "   'precision': 0.5905797101449275,\n",
       "   'recall': 0.6231884057971014,\n",
       "   'f1': 0.5985319028797289},\n",
       "  {'loss': 1.0454751253128052,\n",
       "   'accuracy': 0.71875,\n",
       "   'precision': 0.6041666666666666,\n",
       "   'recall': 0.6249999999999999,\n",
       "   'f1': 0.5904761904761905},\n",
       "  {'loss': 1.3015786409378052,\n",
       "   'accuracy': 0.59375,\n",
       "   'precision': 0.492063492063492,\n",
       "   'recall': 0.5063492063492063,\n",
       "   'f1': 0.4835978835978836},\n",
       "  {'loss': 0.9538813233375549,\n",
       "   'accuracy': 0.71875,\n",
       "   'precision': 0.6474358974358974,\n",
       "   'recall': 0.6192307692307693,\n",
       "   'f1': 0.6121794871794871},\n",
       "  {'loss': 1.458035945892334,\n",
       "   'accuracy': 0.65625,\n",
       "   'precision': 0.6212121212121212,\n",
       "   'recall': 0.6477272727272727,\n",
       "   'f1': 0.6075757575757575},\n",
       "  {'loss': 1.0125536918640137,\n",
       "   'accuracy': 0.84375,\n",
       "   'precision': 0.8174603174603173,\n",
       "   'recall': 0.8412698412698412,\n",
       "   'f1': 0.8063492063492064},\n",
       "  {'loss': 1.1098730564117432,\n",
       "   'accuracy': 0.71875,\n",
       "   'precision': 0.58,\n",
       "   'recall': 0.5720000000000001,\n",
       "   'f1': 0.5542222222222222},\n",
       "  {'loss': 1.4242817163467407,\n",
       "   'accuracy': 0.65625,\n",
       "   'precision': 0.625,\n",
       "   'recall': 0.5763888888888888,\n",
       "   'f1': 0.561111111111111},\n",
       "  {'loss': 1.2876158952713013,\n",
       "   'accuracy': 0.59375,\n",
       "   'precision': 0.5265151515151515,\n",
       "   'recall': 0.496969696969697,\n",
       "   'f1': 0.48668831168831167},\n",
       "  {'loss': 1.8406946659088135,\n",
       "   'accuracy': 0.65625,\n",
       "   'precision': 0.5576923076923077,\n",
       "   'recall': 0.5705128205128205,\n",
       "   'f1': 0.5448717948717948},\n",
       "  {'loss': 1.6158305406570435,\n",
       "   'accuracy': 0.53125,\n",
       "   'precision': 0.43402777777777773,\n",
       "   'recall': 0.43402777777777773,\n",
       "   'f1': 0.42847222222222214},\n",
       "  {'loss': 0.9390785098075867,\n",
       "   'accuracy': 0.75,\n",
       "   'precision': 0.5869565217391305,\n",
       "   'recall': 0.5942028985507246,\n",
       "   'f1': 0.5768115942028986},\n",
       "  {'loss': 1.3301541805267334,\n",
       "   'accuracy': 0.59375,\n",
       "   'precision': 0.5303030303030303,\n",
       "   'recall': 0.5227272727272727,\n",
       "   'f1': 0.4742424242424242},\n",
       "  {'loss': 1.5552589893341064,\n",
       "   'accuracy': 0.5625,\n",
       "   'precision': 0.4621212121212121,\n",
       "   'recall': 0.37878787878787873,\n",
       "   'f1': 0.40454545454545454},\n",
       "  {'loss': 2.0083577632904053,\n",
       "   'accuracy': 0.5625,\n",
       "   'precision': 0.5126984126984127,\n",
       "   'recall': 0.4841269841269841,\n",
       "   'f1': 0.46746031746031735},\n",
       "  {'loss': 1.2421637773513794,\n",
       "   'accuracy': 0.59375,\n",
       "   'precision': 0.5476190476190476,\n",
       "   'recall': 0.5396825396825397,\n",
       "   'f1': 0.5210884353741496},\n",
       "  {'loss': 1.2140905857086182,\n",
       "   'accuracy': 0.5625,\n",
       "   'precision': 0.5066666666666666,\n",
       "   'recall': 0.44666666666666666,\n",
       "   'f1': 0.46266666666666667},\n",
       "  {'loss': 1.2153338193893433,\n",
       "   'accuracy': 0.78125,\n",
       "   'precision': 0.7380952380952381,\n",
       "   'recall': 0.746031746031746,\n",
       "   'f1': 0.7206349206349206},\n",
       "  {'loss': 1.0469081401824951,\n",
       "   'accuracy': 0.6875,\n",
       "   'precision': 0.5684210526315789,\n",
       "   'recall': 0.618421052631579,\n",
       "   'f1': 0.5573099415204679},\n",
       "  {'loss': 0.7679553627967834,\n",
       "   'accuracy': 0.78125,\n",
       "   'precision': 0.6916666666666667,\n",
       "   'recall': 0.6708333333333333,\n",
       "   'f1': 0.6661904761904762},\n",
       "  {'loss': 1.0230695009231567,\n",
       "   'accuracy': 0.71875,\n",
       "   'precision': 0.6376811594202898,\n",
       "   'recall': 0.6231884057971014,\n",
       "   'f1': 0.6072463768115942},\n",
       "  {'loss': 1.1838723421096802,\n",
       "   'accuracy': 0.625,\n",
       "   'precision': 0.5555555555555555,\n",
       "   'recall': 0.5625,\n",
       "   'f1': 0.5361111111111111},\n",
       "  {'loss': 1.5658059120178223,\n",
       "   'accuracy': 0.5,\n",
       "   'precision': 0.55,\n",
       "   'recall': 0.4416666666666666,\n",
       "   'f1': 0.45999999999999996},\n",
       "  {'loss': 0.8396536707878113,\n",
       "   'accuracy': 0.6875,\n",
       "   'precision': 0.6340579710144927,\n",
       "   'recall': 0.5652173913043478,\n",
       "   'f1': 0.5710144927536231},\n",
       "  {'loss': 1.392574667930603,\n",
       "   'accuracy': 0.5625,\n",
       "   'precision': 0.51,\n",
       "   'recall': 0.5266666666666666,\n",
       "   'f1': 0.488},\n",
       "  {'loss': 1.2250356674194336,\n",
       "   'accuracy': 0.65625,\n",
       "   'precision': 0.5833333333333333,\n",
       "   'recall': 0.5797101449275361,\n",
       "   'f1': 0.5674948240165631},\n",
       "  {'loss': 1.5809887647628784,\n",
       "   'accuracy': 0.46875,\n",
       "   'precision': 0.40384615384615385,\n",
       "   'recall': 0.41666666666666663,\n",
       "   'f1': 0.3935897435897436},\n",
       "  {'loss': 1.5114206075668335,\n",
       "   'accuracy': 0.5,\n",
       "   'precision': 0.42948717948717946,\n",
       "   'recall': 0.47756410256410253,\n",
       "   'f1': 0.4269230769230769},\n",
       "  {'loss': 0.8993600606918335,\n",
       "   'accuracy': 0.78125,\n",
       "   'precision': 0.6485507246376812,\n",
       "   'recall': 0.7065217391304348,\n",
       "   'f1': 0.6636645962732919},\n",
       "  {'loss': 1.2281267642974854,\n",
       "   'accuracy': 0.71875,\n",
       "   'precision': 0.62,\n",
       "   'recall': 0.59,\n",
       "   'f1': 0.5929523809523809},\n",
       "  {'loss': 1.4224340915679932,\n",
       "   'accuracy': 0.53125,\n",
       "   'precision': 0.4131944444444444,\n",
       "   'recall': 0.46527777777777773,\n",
       "   'f1': 0.4138888888888889},\n",
       "  {'loss': 1.5661238431930542,\n",
       "   'accuracy': 0.40625,\n",
       "   'precision': 0.2716049382716049,\n",
       "   'recall': 0.3148148148148148,\n",
       "   'f1': 0.27901234567901234},\n",
       "  {'loss': 1.7536698579788208,\n",
       "   'accuracy': 0.5625,\n",
       "   'precision': 0.48148148148148145,\n",
       "   'recall': 0.441358024691358,\n",
       "   'f1': 0.45026455026455026},\n",
       "  {'loss': 1.7654613256454468,\n",
       "   'accuracy': 0.5,\n",
       "   'precision': 0.4930555555555555,\n",
       "   'recall': 0.48263888888888884,\n",
       "   'f1': 0.45357142857142857},\n",
       "  {'loss': 1.1481971740722656,\n",
       "   'accuracy': 0.59375,\n",
       "   'precision': 0.5625,\n",
       "   'recall': 0.5208333333333334,\n",
       "   'f1': 0.5138888888888888},\n",
       "  {'loss': 1.2782704830169678,\n",
       "   'accuracy': 0.53125,\n",
       "   'precision': 0.3768115942028985,\n",
       "   'recall': 0.3833333333333333,\n",
       "   'f1': 0.36356107660455483},\n",
       "  {'loss': 1.0825992822647095,\n",
       "   'accuracy': 0.75,\n",
       "   'precision': 0.6174603174603175,\n",
       "   'recall': 0.6587301587301587,\n",
       "   'f1': 0.6169312169312169},\n",
       "  {'loss': 1.0268137454986572,\n",
       "   'accuracy': 0.6875,\n",
       "   'precision': 0.5568181818181818,\n",
       "   'recall': 0.5909090909090909,\n",
       "   'f1': 0.5616883116883117},\n",
       "  {'loss': 1.2310653924942017,\n",
       "   'accuracy': 0.71875,\n",
       "   'precision': 0.6969696969696969,\n",
       "   'recall': 0.6893939393939393,\n",
       "   'f1': 0.6696969696969697},\n",
       "  {'loss': 1.0573780536651611,\n",
       "   'accuracy': 0.6875,\n",
       "   'precision': 0.6014492753623188,\n",
       "   'recall': 0.5905797101449276,\n",
       "   'f1': 0.5626293995859212},\n",
       "  {'loss': 1.4806816577911377,\n",
       "   'accuracy': 0.59375,\n",
       "   'precision': 0.49666666666666665,\n",
       "   'recall': 0.52,\n",
       "   'f1': 0.4929523809523809},\n",
       "  {'loss': 1.253913164138794,\n",
       "   'accuracy': 0.65625,\n",
       "   'precision': 0.6318181818181818,\n",
       "   'recall': 0.6515151515151515,\n",
       "   'f1': 0.6168831168831168},\n",
       "  {'loss': 0.9474048614501953,\n",
       "   'accuracy': 0.75,\n",
       "   'precision': 0.6666666666666666,\n",
       "   'recall': 0.6212121212121212,\n",
       "   'f1': 0.6287878787878788},\n",
       "  {'loss': 1.6985154151916504,\n",
       "   'accuracy': 0.59375,\n",
       "   'precision': 0.4431818181818182,\n",
       "   'recall': 0.46969696969696967,\n",
       "   'f1': 0.445021645021645},\n",
       "  {'loss': 1.2229714393615723,\n",
       "   'accuracy': 0.625,\n",
       "   'precision': 0.5317460317460317,\n",
       "   'recall': 0.5238095238095238,\n",
       "   'f1': 0.5095238095238096},\n",
       "  {'loss': 1.774965524673462,\n",
       "   'accuracy': 0.5,\n",
       "   'precision': 0.4423076923076923,\n",
       "   'recall': 0.39551282051282044,\n",
       "   'f1': 0.38223443223443226},\n",
       "  {'loss': 1.275490641593933,\n",
       "   'accuracy': 0.625,\n",
       "   'precision': 0.5,\n",
       "   'recall': 0.5133333333333333,\n",
       "   'f1': 0.48533333333333334},\n",
       "  {'loss': 1.0582114458084106,\n",
       "   'accuracy': 0.5625,\n",
       "   'precision': 0.4174603174603174,\n",
       "   'recall': 0.4682539682539682,\n",
       "   'f1': 0.4200680272108843},\n",
       "  {'loss': 1.0906925201416016,\n",
       "   'accuracy': 0.65625,\n",
       "   'precision': 0.68,\n",
       "   'recall': 0.7266666666666666,\n",
       "   'f1': 0.6746666666666666},\n",
       "  {'loss': 1.7801803350448608,\n",
       "   'accuracy': 0.5,\n",
       "   'precision': 0.4305555555555556,\n",
       "   'recall': 0.3958333333333333,\n",
       "   'f1': 0.39444444444444443},\n",
       "  {'loss': 1.287534475326538,\n",
       "   'accuracy': 0.65625,\n",
       "   'precision': 0.4618055555555556,\n",
       "   'recall': 0.4791666666666667,\n",
       "   'f1': 0.4537698412698412},\n",
       "  {'loss': 1.1848933696746826,\n",
       "   'accuracy': 0.625,\n",
       "   'precision': 0.4583333333333333,\n",
       "   'recall': 0.5138888888888888,\n",
       "   'f1': 0.45138888888888884},\n",
       "  {'loss': 1.2569568157196045,\n",
       "   'accuracy': 0.625,\n",
       "   'precision': 0.5034722222222222,\n",
       "   'recall': 0.4895833333333333,\n",
       "   'f1': 0.4842261904761905},\n",
       "  {'loss': 0.9740136861801147,\n",
       "   'accuracy': 0.71875,\n",
       "   'precision': 0.712121212121212,\n",
       "   'recall': 0.6742424242424243,\n",
       "   'f1': 0.6651515151515152},\n",
       "  {'loss': 1.6259033679962158,\n",
       "   'accuracy': 0.71875,\n",
       "   'precision': 0.6666666666666666,\n",
       "   'recall': 0.6818181818181818,\n",
       "   'f1': 0.6424242424242425},\n",
       "  {'loss': 1.1427009105682373,\n",
       "   'accuracy': 0.625,\n",
       "   'precision': 0.5217391304347826,\n",
       "   'recall': 0.5289855072463768,\n",
       "   'f1': 0.4840579710144927},\n",
       "  {'loss': 1.4821151494979858,\n",
       "   'accuracy': 0.65625,\n",
       "   'precision': 0.5474358974358975,\n",
       "   'recall': 0.5897435897435896,\n",
       "   'f1': 0.5514652014652015},\n",
       "  {'loss': 1.2365700006484985,\n",
       "   'accuracy': 0.5625,\n",
       "   'precision': 0.49242424242424243,\n",
       "   'recall': 0.5454545454545454,\n",
       "   'f1': 0.47424242424242424},\n",
       "  {'loss': 0.9867181777954102,\n",
       "   'accuracy': 0.75,\n",
       "   'precision': 0.6739130434782609,\n",
       "   'recall': 0.6956521739130435,\n",
       "   'f1': 0.6652173913043478},\n",
       "  {'loss': 1.5725852251052856,\n",
       "   'accuracy': 0.5625,\n",
       "   'precision': 0.48717948717948717,\n",
       "   'recall': 0.5,\n",
       "   'f1': 0.4474358974358974},\n",
       "  {'loss': 1.570648431777954,\n",
       "   'accuracy': 0.5625,\n",
       "   'precision': 0.548611111111111,\n",
       "   'recall': 0.5104166666666666,\n",
       "   'f1': 0.5027777777777778},\n",
       "  {'loss': 0.8087638020515442,\n",
       "   'accuracy': 0.6875,\n",
       "   'precision': 0.47115384615384615,\n",
       "   'recall': 0.5448717948717948,\n",
       "   'f1': 0.4855311355311355},\n",
       "  {'loss': 1.1709063053131104,\n",
       "   'accuracy': 0.71875,\n",
       "   'precision': 0.6428571428571429,\n",
       "   'recall': 0.619047619047619,\n",
       "   'f1': 0.6126984126984126},\n",
       "  {'loss': 1.2901840209960938,\n",
       "   'accuracy': 0.65625,\n",
       "   'precision': 0.6405797101449275,\n",
       "   'recall': 0.6594202898550724,\n",
       "   'f1': 0.610351966873706},\n",
       "  {'loss': 0.9732423424720764,\n",
       "   'accuracy': 0.71875,\n",
       "   'precision': 0.7301587301587302,\n",
       "   'recall': 0.6944444444444444,\n",
       "   'f1': 0.6789115646258503},\n",
       "  {'loss': 1.1065775156021118,\n",
       "   'accuracy': 0.65625,\n",
       "   'precision': 0.6956521739130435,\n",
       "   'recall': 0.6195652173913043,\n",
       "   'f1': 0.6217391304347826},\n",
       "  {'loss': 0.9797767996788025,\n",
       "   'accuracy': 0.59375,\n",
       "   'precision': 0.5384615384615384,\n",
       "   'recall': 0.5192307692307693,\n",
       "   'f1': 0.5128205128205128},\n",
       "  {'loss': 1.7535237073898315,\n",
       "   'accuracy': 0.5,\n",
       "   'precision': 0.43768115942028984,\n",
       "   'recall': 0.40507246376811595,\n",
       "   'f1': 0.39316770186335404},\n",
       "  {'loss': 1.2915046215057373,\n",
       "   'accuracy': 0.6875,\n",
       "   'precision': 0.5797101449275361,\n",
       "   'recall': 0.644927536231884,\n",
       "   'f1': 0.5942028985507247},\n",
       "  {'loss': 0.7456044554710388,\n",
       "   'accuracy': 0.8125,\n",
       "   'precision': 0.6708333333333333,\n",
       "   'recall': 0.725,\n",
       "   'f1': 0.6828571428571429},\n",
       "  {'loss': 1.4102437496185303,\n",
       "   'accuracy': 0.5625,\n",
       "   'precision': 0.46969696969696967,\n",
       "   'recall': 0.47424242424242424,\n",
       "   'f1': 0.4522727272727272},\n",
       "  {'loss': 1.3619027137756348,\n",
       "   'accuracy': 0.6875,\n",
       "   'precision': 0.553030303030303,\n",
       "   'recall': 0.6818181818181818,\n",
       "   'f1': 0.5818181818181817},\n",
       "  {'loss': 1.0610032081604004,\n",
       "   'accuracy': 0.65625,\n",
       "   'precision': 0.52,\n",
       "   'recall': 0.5666666666666665,\n",
       "   'f1': 0.528},\n",
       "  {'loss': 1.4582165479660034,\n",
       "   'accuracy': 0.59375,\n",
       "   'precision': 0.4479166666666667,\n",
       "   'recall': 0.46527777777777773,\n",
       "   'f1': 0.4333333333333333},\n",
       "  {'loss': 0.8746545910835266,\n",
       "   'accuracy': 0.71875,\n",
       "   'precision': 0.56,\n",
       "   'recall': 0.6266666666666666,\n",
       "   'f1': 0.568},\n",
       "  {'loss': 0.8487240672111511,\n",
       "   'accuracy': 0.65625,\n",
       "   'precision': 0.5579710144927537,\n",
       "   'recall': 0.6014492753623187,\n",
       "   'f1': 0.5594202898550724},\n",
       "  {'loss': 1.2984951734542847,\n",
       "   'accuracy': 0.625,\n",
       "   'precision': 0.5533333333333332,\n",
       "   'recall': 0.62,\n",
       "   'f1': 0.5626666666666666},\n",
       "  {'loss': 1.3580092191696167,\n",
       "   'accuracy': 0.59375,\n",
       "   'precision': 0.4710144927536232,\n",
       "   'recall': 0.49275362318840576,\n",
       "   'f1': 0.4652173913043478},\n",
       "  {'loss': 1.4512087106704712,\n",
       "   'accuracy': 0.5625,\n",
       "   'precision': 0.513888888888889,\n",
       "   'recall': 0.4375,\n",
       "   'f1': 0.45},\n",
       "  {'loss': 1.5748462677001953,\n",
       "   'accuracy': 0.4375,\n",
       "   'precision': 0.3466666666666666,\n",
       "   'recall': 0.3466666666666666,\n",
       "   'f1': 0.33333333333333326},\n",
       "  {'loss': 1.3226861953735352,\n",
       "   'accuracy': 0.65625,\n",
       "   'precision': 0.6413043478260869,\n",
       "   'recall': 0.6304347826086957,\n",
       "   'f1': 0.6115942028985506},\n",
       "  {'loss': 1.2259435653686523,\n",
       "   'accuracy': 0.59375,\n",
       "   'precision': 0.481060606060606,\n",
       "   'recall': 0.4431818181818182,\n",
       "   'f1': 0.434090909090909},\n",
       "  {'loss': 1.4389327764511108,\n",
       "   'accuracy': 0.625,\n",
       "   'precision': 0.6041666666666666,\n",
       "   'recall': 0.6361111111111111,\n",
       "   'f1': 0.592361111111111},\n",
       "  {'loss': 1.2777718305587769,\n",
       "   'accuracy': 0.65625,\n",
       "   'precision': 0.503968253968254,\n",
       "   'recall': 0.503968253968254,\n",
       "   'f1': 0.4928571428571428},\n",
       "  {'loss': 1.505447268486023,\n",
       "   'accuracy': 0.6875,\n",
       "   'precision': 0.5912698412698413,\n",
       "   'recall': 0.6065759637188208,\n",
       "   'f1': 0.5802102659245517},\n",
       "  {'loss': 1.175586223602295,\n",
       "   'accuracy': 0.6875,\n",
       "   'precision': 0.6666666666666666,\n",
       "   'recall': 0.5789473684210527,\n",
       "   'f1': 0.5947368421052632},\n",
       "  {'loss': 1.0396853685379028,\n",
       "   'accuracy': 0.71875,\n",
       "   'precision': 0.6031746031746031,\n",
       "   'recall': 0.5634920634920635,\n",
       "   'f1': 0.5666666666666667},\n",
       "  {'loss': 1.1300883293151855,\n",
       "   'accuracy': 0.625,\n",
       "   'precision': 0.5108695652173914,\n",
       "   'recall': 0.5652173913043478,\n",
       "   'f1': 0.5198757763975156},\n",
       "  {'loss': 1.2467175722122192,\n",
       "   'accuracy': 0.5625,\n",
       "   'precision': 0.5416666666666666,\n",
       "   'recall': 0.5,\n",
       "   'f1': 0.49166666666666664},\n",
       "  {'loss': 1.5890127420425415,\n",
       "   'accuracy': 0.5625,\n",
       "   'precision': 0.48,\n",
       "   'recall': 0.48666666666666664,\n",
       "   'f1': 0.45199999999999996},\n",
       "  {'loss': 1.6185451745986938,\n",
       "   'accuracy': 0.46875,\n",
       "   'precision': 0.42424242424242425,\n",
       "   'recall': 0.45,\n",
       "   'f1': 0.42474747474747476},\n",
       "  {'loss': 0.879043459892273,\n",
       "   'accuracy': 0.8125,\n",
       "   'precision': 0.7526315789473684,\n",
       "   'recall': 0.6736842105263158,\n",
       "   'f1': 0.6912280701754385},\n",
       "  {'loss': 1.022498607635498,\n",
       "   'accuracy': 0.71875,\n",
       "   'precision': 0.587121212121212,\n",
       "   'recall': 0.606060606060606,\n",
       "   'f1': 0.5787878787878789},\n",
       "  {'loss': 1.5575425624847412,\n",
       "   'accuracy': 0.53125,\n",
       "   'precision': 0.45175438596491224,\n",
       "   'recall': 0.46929824561403505,\n",
       "   'f1': 0.4456140350877193},\n",
       "  {'loss': 1.2336881160736084,\n",
       "   'accuracy': 0.5,\n",
       "   'precision': 0.42,\n",
       "   'recall': 0.46,\n",
       "   'f1': 0.4039999999999999},\n",
       "  {'loss': 1.5139591693878174,\n",
       "   'accuracy': 0.46875,\n",
       "   'precision': 0.3611111111111111,\n",
       "   'recall': 0.3444444444444444,\n",
       "   'f1': 0.33402777777777776},\n",
       "  {'loss': 0.9650577306747437,\n",
       "   'accuracy': 0.6875,\n",
       "   'precision': 0.611111111111111,\n",
       "   'recall': 0.625,\n",
       "   'f1': 0.5888888888888889},\n",
       "  {'loss': 0.8341756463050842,\n",
       "   'accuracy': 0.71875,\n",
       "   'precision': 0.6145833333333334,\n",
       "   'recall': 0.5868055555555555,\n",
       "   'f1': 0.5783730158730159},\n",
       "  {'loss': 1.2343119382858276,\n",
       "   'accuracy': 0.71875,\n",
       "   'precision': 0.5652173913043478,\n",
       "   'recall': 0.6086956521739131,\n",
       "   'f1': 0.5666666666666668},\n",
       "  {'loss': 0.7765450477600098,\n",
       "   'accuracy': 0.78125,\n",
       "   'precision': 0.6507936507936508,\n",
       "   'recall': 0.6428571428571429,\n",
       "   'f1': 0.6335600907029478},\n",
       "  {'loss': 0.9450913071632385,\n",
       "   'accuracy': 0.71875,\n",
       "   'precision': 0.6287878787878788,\n",
       "   'recall': 0.6590909090909091,\n",
       "   'f1': 0.6136363636363635},\n",
       "  {'loss': 1.4969018697738647,\n",
       "   'accuracy': 0.4375,\n",
       "   'precision': 0.37121212121212116,\n",
       "   'recall': 0.32575757575757575,\n",
       "   'f1': 0.3305194805194805},\n",
       "  {'loss': 1.392699122428894,\n",
       "   'accuracy': 0.5625,\n",
       "   'precision': 0.5151515151515151,\n",
       "   'recall': 0.5681818181818182,\n",
       "   'f1': 0.5075757575757576},\n",
       "  {'loss': 1.386240839958191,\n",
       "   'accuracy': 0.625,\n",
       "   'precision': 0.41893939393939394,\n",
       "   'recall': 0.5,\n",
       "   'f1': 0.4414862914862914},\n",
       "  {'loss': 1.1620768308639526,\n",
       "   'accuracy': 0.65625,\n",
       "   'precision': 0.58,\n",
       "   'recall': 0.6066666666666667,\n",
       "   'f1': 0.5653333333333332},\n",
       "  {'loss': 1.4018192291259766,\n",
       "   'accuracy': 0.5,\n",
       "   'precision': 0.3958333333333333,\n",
       "   'recall': 0.38392857142857145,\n",
       "   'f1': 0.35595238095238096},\n",
       "  {'loss': 1.504016399383545,\n",
       "   'accuracy': 0.65625,\n",
       "   'precision': 0.6166666666666666,\n",
       "   'recall': 0.6683333333333333,\n",
       "   'f1': 0.5883333333333333},\n",
       "  {'loss': 1.0517696142196655,\n",
       "   'accuracy': 0.625,\n",
       "   'precision': 0.4855072463768116,\n",
       "   'recall': 0.4855072463768116,\n",
       "   'f1': 0.46376811594202894},\n",
       "  {'loss': 1.0391916036605835,\n",
       "   'accuracy': 0.6875,\n",
       "   'precision': 0.7301587301587302,\n",
       "   'recall': 0.7063492063492063,\n",
       "   'f1': 0.673015873015873},\n",
       "  {'loss': 1.3111015558242798,\n",
       "   'accuracy': 0.65625,\n",
       "   'precision': 0.6022727272727273,\n",
       "   'recall': 0.6212121212121212,\n",
       "   'f1': 0.5783549783549783},\n",
       "  {'loss': 1.101245403289795,\n",
       "   'accuracy': 0.625,\n",
       "   'precision': 0.5492424242424243,\n",
       "   'recall': 0.5833333333333333,\n",
       "   'f1': 0.5287878787878788},\n",
       "  {'loss': 1.1347545385360718,\n",
       "   'accuracy': 0.625,\n",
       "   'precision': 0.5066666666666666,\n",
       "   'recall': 0.48666666666666664,\n",
       "   'f1': 0.46399999999999997},\n",
       "  {'loss': 1.3875422477722168,\n",
       "   'accuracy': 0.65625,\n",
       "   'precision': 0.4541666666666666,\n",
       "   'recall': 0.5083333333333333,\n",
       "   'f1': 0.46619047619047616},\n",
       "  {'loss': 1.090132713317871,\n",
       "   'accuracy': 0.75,\n",
       "   'precision': 0.6944444444444443,\n",
       "   'recall': 0.6805555555555557,\n",
       "   'f1': 0.6652777777777777},\n",
       "  {'loss': 1.0266143083572388,\n",
       "   'accuracy': 0.75,\n",
       "   'precision': 0.5984848484848485,\n",
       "   'recall': 0.6212121212121212,\n",
       "   'f1': 0.5818181818181819},\n",
       "  {'loss': 1.1791536808013916,\n",
       "   'accuracy': 0.65625,\n",
       "   'precision': 0.6557971014492754,\n",
       "   'recall': 0.5543478260869565,\n",
       "   'f1': 0.576086956521739},\n",
       "  {'loss': 1.3476154804229736,\n",
       "   'accuracy': 0.59375,\n",
       "   'precision': 0.4746376811594203,\n",
       "   'recall': 0.4681159420289855,\n",
       "   'f1': 0.4478260869565217},\n",
       "  {'loss': 0.7116649150848389,\n",
       "   'accuracy': 0.8125,\n",
       "   'precision': 0.7142857142857142,\n",
       "   'recall': 0.7142857142857142,\n",
       "   'f1': 0.7031746031746031},\n",
       "  {'loss': 1.3673380613327026,\n",
       "   'accuracy': 0.65625,\n",
       "   'precision': 0.5833333333333333,\n",
       "   'recall': 0.6346153846153846,\n",
       "   'f1': 0.5871794871794871},\n",
       "  {'loss': 1.2399879693984985,\n",
       "   'accuracy': 0.65625,\n",
       "   'precision': 0.5793650793650793,\n",
       "   'recall': 0.5436507936507936,\n",
       "   'f1': 0.5446712018140589},\n",
       "  {'loss': 0.9853313565254211,\n",
       "   'accuracy': 0.78125,\n",
       "   'precision': 0.6666666666666665,\n",
       "   'recall': 0.62,\n",
       "   'f1': 0.633904761904762},\n",
       "  {'loss': 1.3772128820419312,\n",
       "   'accuracy': 0.625,\n",
       "   'precision': 0.48863636363636365,\n",
       "   'recall': 0.5075757575757576,\n",
       "   'f1': 0.47781385281385275},\n",
       "  {'loss': 1.8054088354110718,\n",
       "   'accuracy': 0.53125,\n",
       "   'precision': 0.48,\n",
       "   'recall': 0.49,\n",
       "   'f1': 0.45028571428571423},\n",
       "  {'loss': 1.0866307020187378,\n",
       "   'accuracy': 0.59375,\n",
       "   'precision': 0.4807692307692308,\n",
       "   'recall': 0.45512820512820507,\n",
       "   'f1': 0.4589743589743589},\n",
       "  {'loss': 1.2920775413513184,\n",
       "   'accuracy': 0.65625,\n",
       "   'precision': 0.5333333333333333,\n",
       "   'recall': 0.5916666666666666,\n",
       "   'f1': 0.5252380952380953},\n",
       "  {'loss': 1.139744758605957,\n",
       "   'accuracy': 0.65625,\n",
       "   'precision': 0.5615942028985507,\n",
       "   'recall': 0.5036231884057971,\n",
       "   'f1': 0.5093167701863354},\n",
       "  {'loss': 1.5063037872314453,\n",
       "   'accuracy': 0.59375,\n",
       "   'precision': 0.4621212121212121,\n",
       "   'recall': 0.5378787878787878,\n",
       "   'f1': 0.47878787878787876},\n",
       "  {'loss': 1.2561360597610474,\n",
       "   'accuracy': 0.5625,\n",
       "   'precision': 0.3536231884057971,\n",
       "   'recall': 0.39855072463768115,\n",
       "   'f1': 0.35603864734299523},\n",
       "  {'loss': 1.3960973024368286,\n",
       "   'accuracy': 0.625,\n",
       "   'precision': 0.5869565217391305,\n",
       "   'recall': 0.5869565217391305,\n",
       "   'f1': 0.5695652173913043},\n",
       "  {'loss': 0.8571147918701172,\n",
       "   'accuracy': 0.8125,\n",
       "   'precision': 0.6944444444444444,\n",
       "   'recall': 0.7301587301587301,\n",
       "   'f1': 0.6963718820861677},\n",
       "  {'loss': 1.0335726737976074,\n",
       "   'accuracy': 0.75,\n",
       "   'precision': 0.7192982456140351,\n",
       "   'recall': 0.7543859649122806,\n",
       "   'f1': 0.7087719298245614},\n",
       "  {'loss': 1.132977843284607,\n",
       "   'accuracy': 0.65625,\n",
       "   'precision': 0.5681818181818182,\n",
       "   'recall': 0.6045454545454546,\n",
       "   'f1': 0.5797979797979799},\n",
       "  {'loss': 1.054121494293213,\n",
       "   'accuracy': 0.71875,\n",
       "   'precision': 0.5961538461538461,\n",
       "   'recall': 0.6153846153846154,\n",
       "   'f1': 0.5897435897435896},\n",
       "  {'loss': 1.0431209802627563,\n",
       "   'accuracy': 0.71875,\n",
       "   'precision': 0.7007575757575757,\n",
       "   'recall': 0.7045454545454546,\n",
       "   'f1': 0.653030303030303},\n",
       "  {'loss': 0.8179847598075867,\n",
       "   'accuracy': 0.78125,\n",
       "   'precision': 0.6825396825396824,\n",
       "   'recall': 0.6746031746031745,\n",
       "   'f1': 0.6603174603174603},\n",
       "  {'loss': 1.03351628780365,\n",
       "   'accuracy': 0.75,\n",
       "   'precision': 0.6571428571428571,\n",
       "   'recall': 0.6071428571428571,\n",
       "   'f1': 0.6164777021919879},\n",
       "  {'loss': 1.4571568965911865,\n",
       "   'accuracy': 0.59375,\n",
       "   'precision': 0.5057971014492754,\n",
       "   'recall': 0.5144927536231884,\n",
       "   'f1': 0.48716356107660447},\n",
       "  {'loss': 1.0820808410644531,\n",
       "   'accuracy': 0.65625,\n",
       "   'precision': 0.5066666666666666,\n",
       "   'recall': 0.49666666666666665,\n",
       "   'f1': 0.48828571428571427},\n",
       "  {'loss': 1.2237496376037598,\n",
       "   'accuracy': 0.65625,\n",
       "   'precision': 0.5396825396825397,\n",
       "   'recall': 0.5634920634920635,\n",
       "   'f1': 0.5206349206349206},\n",
       "  {'loss': 1.0033226013183594,\n",
       "   'accuracy': 0.6875,\n",
       "   'precision': 0.6833333333333333,\n",
       "   'recall': 0.7,\n",
       "   'f1': 0.6816666666666666},\n",
       "  {'loss': 1.050405740737915,\n",
       "   'accuracy': 0.59375,\n",
       "   'precision': 0.4916666666666667,\n",
       "   'recall': 0.5083333333333333,\n",
       "   'f1': 0.46212121212121204},\n",
       "  {'loss': 1.139456868171692,\n",
       "   'accuracy': 0.71875,\n",
       "   'precision': 0.6304347826086957,\n",
       "   'recall': 0.6666666666666666,\n",
       "   'f1': 0.6405797101449275},\n",
       "  {'loss': 0.9955659508705139,\n",
       "   'accuracy': 0.71875,\n",
       "   'precision': 0.6439393939393939,\n",
       "   'recall': 0.678030303030303,\n",
       "   'f1': 0.6283549783549782},\n",
       "  {'loss': 1.0694265365600586,\n",
       "   'accuracy': 0.71875,\n",
       "   'precision': 0.5712121212121212,\n",
       "   'recall': 0.5757575757575757,\n",
       "   'f1': 0.5532467532467532},\n",
       "  {'loss': 1.0030102729797363,\n",
       "   'accuracy': 0.6875,\n",
       "   'precision': 0.5,\n",
       "   'recall': 0.5480769230769231,\n",
       "   'f1': 0.5009157509157509},\n",
       "  {'loss': 1.2006324529647827,\n",
       "   'accuracy': 0.625,\n",
       "   'precision': 0.481060606060606,\n",
       "   'recall': 0.496969696969697,\n",
       "   'f1': 0.4745670995670995},\n",
       "  {'loss': 1.7378836870193481,\n",
       "   'accuracy': 0.53125,\n",
       "   'precision': 0.43333333333333335,\n",
       "   'recall': 0.44,\n",
       "   'f1': 0.41352380952380957},\n",
       "  {'loss': 1.1943830251693726,\n",
       "   'accuracy': 0.625,\n",
       "   'precision': 0.48,\n",
       "   'recall': 0.48666666666666664,\n",
       "   'f1': 0.4666666666666666},\n",
       "  {'loss': 1.2599023580551147,\n",
       "   'accuracy': 0.65625,\n",
       "   'precision': 0.5507246376811594,\n",
       "   'recall': 0.536231884057971,\n",
       "   'f1': 0.5347826086956521},\n",
       "  {'loss': 1.136436939239502,\n",
       "   'accuracy': 0.71875,\n",
       "   'precision': 0.5363636363636363,\n",
       "   'recall': 0.5909090909090909,\n",
       "   'f1': 0.5434343434343435},\n",
       "  {'loss': 1.456728458404541,\n",
       "   'accuracy': 0.53125,\n",
       "   'precision': 0.3506944444444444,\n",
       "   'recall': 0.4375,\n",
       "   'f1': 0.36944444444444446},\n",
       "  {'loss': 1.3071163892745972,\n",
       "   'accuracy': 0.5625,\n",
       "   'precision': 0.41111111111111115,\n",
       "   'recall': 0.5,\n",
       "   'f1': 0.41805555555555557},\n",
       "  {'loss': 2.113523006439209,\n",
       "   'accuracy': 0.40625,\n",
       "   'precision': 0.2916666666666667,\n",
       "   'recall': 0.3541666666666667,\n",
       "   'f1': 0.30416666666666664},\n",
       "  {'loss': 0.9346912503242493,\n",
       "   'accuracy': 0.6875,\n",
       "   'precision': 0.6266666666666666,\n",
       "   'recall': 0.6066666666666667,\n",
       "   'f1': 0.604},\n",
       "  {'loss': 1.2683618068695068,\n",
       "   'accuracy': 0.53125,\n",
       "   'precision': 0.4852941176470588,\n",
       "   'recall': 0.44019607843137254,\n",
       "   'f1': 0.44047619047619047},\n",
       "  {'loss': 1.3276044130325317,\n",
       "   'accuracy': 0.5625,\n",
       "   'precision': 0.5,\n",
       "   'recall': 0.4618055555555555,\n",
       "   'f1': 0.4527777777777778},\n",
       "  {'loss': 1.383248209953308,\n",
       "   'accuracy': 0.71875,\n",
       "   'precision': 0.6818181818181818,\n",
       "   'recall': 0.6590909090909091,\n",
       "   'f1': 0.6454545454545455},\n",
       "  {'loss': 1.4583832025527954,\n",
       "   'accuracy': 0.65625,\n",
       "   'precision': 0.5952380952380952,\n",
       "   'recall': 0.5714285714285714,\n",
       "   'f1': 0.5424036281179139},\n",
       "  {'loss': 1.1086429357528687,\n",
       "   'accuracy': 0.65625,\n",
       "   'precision': 0.5842105263157894,\n",
       "   'recall': 0.618421052631579,\n",
       "   'f1': 0.5666666666666667},\n",
       "  {'loss': 1.1624799966812134,\n",
       "   'accuracy': 0.65625,\n",
       "   'precision': 0.5625,\n",
       "   'recall': 0.5138888888888888,\n",
       "   'f1': 0.5055555555555555},\n",
       "  {'loss': 1.0623853206634521,\n",
       "   'accuracy': 0.625,\n",
       "   'precision': 0.4551282051282052,\n",
       "   'recall': 0.46153846153846156,\n",
       "   'f1': 0.4452214452214452},\n",
       "  {'loss': 0.901384711265564,\n",
       "   'accuracy': 0.6875,\n",
       "   'precision': 0.6133333333333333,\n",
       "   'recall': 0.58,\n",
       "   'f1': 0.5666666666666665},\n",
       "  {'loss': 0.9376334547996521,\n",
       "   'accuracy': 0.65625,\n",
       "   'precision': 0.5942028985507246,\n",
       "   'recall': 0.5869565217391304,\n",
       "   'f1': 0.563768115942029},\n",
       "  {'loss': 1.6714255809783936,\n",
       "   'accuracy': 0.5,\n",
       "   'precision': 0.39855072463768115,\n",
       "   'recall': 0.3695652173913043,\n",
       "   'f1': 0.3668737060041408},\n",
       "  {'loss': 1.5516184568405151,\n",
       "   'accuracy': 0.46875,\n",
       "   'precision': 0.37333333333333335,\n",
       "   'recall': 0.33,\n",
       "   'f1': 0.33428571428571424},\n",
       "  {'loss': 1.1152641773223877,\n",
       "   'accuracy': 0.65625,\n",
       "   'precision': 0.5952380952380952,\n",
       "   'recall': 0.6587301587301587,\n",
       "   'f1': 0.5936507936507935},\n",
       "  {'loss': 1.485147476196289,\n",
       "   'accuracy': 0.65625,\n",
       "   'precision': 0.5933333333333333,\n",
       "   'recall': 0.6266666666666666,\n",
       "   'f1': 0.596},\n",
       "  {'loss': 1.1529958248138428,\n",
       "   'accuracy': 0.5625,\n",
       "   'precision': 0.475,\n",
       "   'recall': 0.4333333333333333,\n",
       "   'f1': 0.42023809523809524},\n",
       "  {'loss': 0.8997567892074585,\n",
       "   'accuracy': 0.6875,\n",
       "   'precision': 0.5873015873015872,\n",
       "   'recall': 0.6031746031746031,\n",
       "   'f1': 0.5603174603174603},\n",
       "  {'loss': 1.0153261423110962,\n",
       "   'accuracy': 0.6875,\n",
       "   'precision': 0.6071428571428571,\n",
       "   'recall': 0.6904761904761905,\n",
       "   'f1': 0.6185941043083899},\n",
       "  {'loss': 1.2367241382598877,\n",
       "   'accuracy': 0.6875,\n",
       "   'precision': 0.5507246376811594,\n",
       "   'recall': 0.5181159420289855,\n",
       "   'f1': 0.5126293995859214},\n",
       "  {'loss': 1.5246843099594116,\n",
       "   'accuracy': 0.625,\n",
       "   'precision': 0.5326086956521738,\n",
       "   'recall': 0.5289855072463768,\n",
       "   'f1': 0.5053830227743271},\n",
       "  {'loss': 1.3762288093566895,\n",
       "   'accuracy': 0.65625,\n",
       "   'precision': 0.5833333333333334,\n",
       "   'recall': 0.6428571428571429,\n",
       "   'f1': 0.5789115646258504},\n",
       "  {'loss': 1.4570592641830444,\n",
       "   'accuracy': 0.53125,\n",
       "   'precision': 0.4895833333333333,\n",
       "   'recall': 0.47222222222222215,\n",
       "   'f1': 0.44305555555555554},\n",
       "  {'loss': 1.159426212310791,\n",
       "   'accuracy': 0.625,\n",
       "   'precision': 0.5507246376811594,\n",
       "   'recall': 0.5434782608695652,\n",
       "   'f1': 0.5304347826086956},\n",
       "  {'loss': 1.0574913024902344,\n",
       "   'accuracy': 0.75,\n",
       "   'precision': 0.6388888888888888,\n",
       "   'recall': 0.7222222222222222,\n",
       "   'f1': 0.6576719576719577},\n",
       "  {'loss': 1.012330174446106,\n",
       "   'accuracy': 0.75,\n",
       "   'precision': 0.6515151515151515,\n",
       "   'recall': 0.6515151515151515,\n",
       "   'f1': 0.6242424242424242},\n",
       "  {'loss': 1.4390617609024048,\n",
       "   'accuracy': 0.625,\n",
       "   'precision': 0.48166666666666663,\n",
       "   'recall': 0.49833333333333324,\n",
       "   'f1': 0.4738888888888889},\n",
       "  {'loss': 1.0815527439117432,\n",
       "   'accuracy': 0.6875,\n",
       "   'precision': 0.6166666666666666,\n",
       "   'recall': 0.6071428571428571,\n",
       "   'f1': 0.5836734693877551},\n",
       "  {'loss': 1.4517004489898682,\n",
       "   'accuracy': 0.53125,\n",
       "   'precision': 0.46527777777777773,\n",
       "   'recall': 0.4597222222222222,\n",
       "   'f1': 0.433531746031746},\n",
       "  {'loss': 0.9934583306312561,\n",
       "   'accuracy': 0.6875,\n",
       "   'precision': 0.5,\n",
       "   'recall': 0.5277777777777778,\n",
       "   'f1': 0.4944444444444444},\n",
       "  {'loss': 1.0957156419754028,\n",
       "   'accuracy': 0.625,\n",
       "   'precision': 0.4791666666666667,\n",
       "   'recall': 0.4791666666666667,\n",
       "   'f1': 0.4611111111111111},\n",
       "  {'loss': 1.4847254753112793,\n",
       "   'accuracy': 0.6875,\n",
       "   'precision': 0.5491228070175438,\n",
       "   'recall': 0.5614035087719298,\n",
       "   'f1': 0.5314536340852131},\n",
       "  {'loss': 1.4936842918395996,\n",
       "   'accuracy': 0.46875,\n",
       "   'precision': 0.4,\n",
       "   'recall': 0.4733333333333333,\n",
       "   'f1': 0.396},\n",
       "  {'loss': 1.2443273067474365,\n",
       "   'accuracy': 0.59375,\n",
       "   'precision': 0.5339506172839505,\n",
       "   'recall': 0.5895061728395061,\n",
       "   'f1': 0.5259259259259259},\n",
       "  {'loss': 1.1137045621871948,\n",
       "   'accuracy': 0.53125,\n",
       "   'precision': 0.5206349206349207,\n",
       "   'recall': 0.4920634920634921,\n",
       "   'f1': 0.4753968253968254},\n",
       "  {'loss': 1.7818776369094849,\n",
       "   'accuracy': 0.625,\n",
       "   'precision': 0.6333333333333333,\n",
       "   'recall': 0.56,\n",
       "   'f1': 0.5826666666666667},\n",
       "  {'loss': 1.2035551071166992,\n",
       "   'accuracy': 0.5625,\n",
       "   'precision': 0.46,\n",
       "   'recall': 0.42,\n",
       "   'f1': 0.42133333333333334},\n",
       "  {'loss': 1.4335509538650513,\n",
       "   'accuracy': 0.53125,\n",
       "   'precision': 0.49999999999999994,\n",
       "   'recall': 0.42028985507246375,\n",
       "   'f1': 0.4405797101449275},\n",
       "  {'loss': 1.1326675415039062,\n",
       "   'accuracy': 0.6875,\n",
       "   'precision': 0.631578947368421,\n",
       "   'recall': 0.656140350877193,\n",
       "   'f1': 0.615204678362573},\n",
       "  {'loss': 1.0572319030761719,\n",
       "   'accuracy': 0.75,\n",
       "   'precision': 0.6159420289855072,\n",
       "   'recall': 0.6739130434782609,\n",
       "   'f1': 0.6144927536231883},\n",
       "  {'loss': 0.7540866136550903,\n",
       "   'accuracy': 0.71875,\n",
       "   'precision': 0.611111111111111,\n",
       "   'recall': 0.611111111111111,\n",
       "   'f1': 0.592063492063492},\n",
       "  {'loss': 1.1850333213806152,\n",
       "   'accuracy': 0.6875,\n",
       "   'precision': 0.6515151515151515,\n",
       "   'recall': 0.6590909090909091,\n",
       "   'f1': 0.6257575757575756},\n",
       "  {'loss': 1.1398459672927856,\n",
       "   'accuracy': 0.59375,\n",
       "   'precision': 0.513888888888889,\n",
       "   'recall': 0.5694444444444444,\n",
       "   'f1': 0.5154761904761904},\n",
       "  {'loss': 1.0396150350570679,\n",
       "   'accuracy': 0.65625,\n",
       "   'precision': 0.6041666666666666,\n",
       "   'recall': 0.5694444444444444,\n",
       "   'f1': 0.5682539682539682},\n",
       "  {'loss': 1.7680563926696777,\n",
       "   'accuracy': 0.5,\n",
       "   'precision': 0.35256410256410253,\n",
       "   'recall': 0.37820512820512814,\n",
       "   'f1': 0.36172161172161166},\n",
       "  {'loss': 1.2699451446533203,\n",
       "   'accuracy': 0.71875,\n",
       "   'precision': 0.6739130434782609,\n",
       "   'recall': 0.6304347826086957,\n",
       "   'f1': 0.6347826086956523},\n",
       "  {'loss': 1.8071565628051758,\n",
       "   'accuracy': 0.5,\n",
       "   'precision': 0.4340579710144927,\n",
       "   'recall': 0.3623188405797101,\n",
       "   'f1': 0.36542443064182195},\n",
       "  {'loss': 1.2882413864135742,\n",
       "   'accuracy': 0.5625,\n",
       "   'precision': 0.44782608695652176,\n",
       "   'recall': 0.4927536231884058,\n",
       "   'f1': 0.45458937198067634},\n",
       "  {'loss': 1.3437294960021973,\n",
       "   'accuracy': 0.65625,\n",
       "   'precision': 0.66,\n",
       "   'recall': 0.6133333333333333,\n",
       "   'f1': 0.6146666666666667},\n",
       "  {'loss': 1.4098371267318726,\n",
       "   'accuracy': 0.59375,\n",
       "   'precision': 0.4791666666666667,\n",
       "   'recall': 0.5138888888888888,\n",
       "   'f1': 0.48333333333333334},\n",
       "  {'loss': 1.122540831565857,\n",
       "   'accuracy': 0.625,\n",
       "   'precision': 0.5,\n",
       "   'recall': 0.5579710144927535,\n",
       "   'f1': 0.4956521739130434},\n",
       "  {'loss': 1.068037986755371,\n",
       "   'accuracy': 0.6875,\n",
       "   'precision': 0.6519607843137254,\n",
       "   'recall': 0.7009803921568627,\n",
       "   'f1': 0.6522408963585434},\n",
       "  {'loss': 1.1794637441635132,\n",
       "   'accuracy': 0.625,\n",
       "   'precision': 0.48484848484848475,\n",
       "   'recall': 0.4772727272727272,\n",
       "   'f1': 0.4606060606060606},\n",
       "  {'loss': 1.4149885177612305,\n",
       "   'accuracy': 0.59375,\n",
       "   'precision': 0.5398550724637681,\n",
       "   'recall': 0.5217391304347826,\n",
       "   'f1': 0.4855072463768116},\n",
       "  {'loss': 2.0129916667938232,\n",
       "   'accuracy': 0.46875,\n",
       "   'precision': 0.372463768115942,\n",
       "   'recall': 0.39855072463768115,\n",
       "   'f1': 0.34223602484472054},\n",
       "  {'loss': 1.1424944400787354,\n",
       "   'accuracy': 0.6875,\n",
       "   'precision': 0.6244444444444445,\n",
       "   'recall': 0.6277777777777779,\n",
       "   'f1': 0.6106349206349205},\n",
       "  {'loss': 1.033180832862854,\n",
       "   'accuracy': 0.59375,\n",
       "   'precision': 0.4753086419753086,\n",
       "   'recall': 0.5185185185185185,\n",
       "   'f1': 0.4790123456790123},\n",
       "  {'loss': 1.265606164932251,\n",
       "   'accuracy': 0.75,\n",
       "   'precision': 0.7182539682539683,\n",
       "   'recall': 0.7698412698412698,\n",
       "   'f1': 0.7170068027210884},\n",
       "  {'loss': 1.1309157609939575,\n",
       "   'accuracy': 0.8125,\n",
       "   'precision': 0.7817460317460316,\n",
       "   'recall': 0.7619047619047619,\n",
       "   'f1': 0.745578231292517},\n",
       "  {'loss': 1.53590726852417,\n",
       "   'accuracy': 0.5625,\n",
       "   'precision': 0.5757575757575757,\n",
       "   'recall': 0.4469696969696969,\n",
       "   'f1': 0.4848484848484848},\n",
       "  {'loss': 1.1611284017562866,\n",
       "   'accuracy': 0.65625,\n",
       "   'precision': 0.4772727272727273,\n",
       "   'recall': 0.5,\n",
       "   'f1': 0.47943722943722944},\n",
       "  {'loss': 1.3625972270965576,\n",
       "   'accuracy': 0.65625,\n",
       "   'precision': 0.4618055555555555,\n",
       "   'recall': 0.46527777777777773,\n",
       "   'f1': 0.4579365079365079},\n",
       "  {'loss': 0.6870265007019043,\n",
       "   'accuracy': 0.84375,\n",
       "   'precision': 0.75,\n",
       "   'recall': 0.712121212121212,\n",
       "   'f1': 0.7181818181818181},\n",
       "  {'loss': 1.4950133562088013,\n",
       "   'accuracy': 0.53125,\n",
       "   'precision': 0.4666666666666666,\n",
       "   'recall': 0.4533333333333333,\n",
       "   'f1': 0.4293333333333333},\n",
       "  {'loss': 0.6218904852867126,\n",
       "   'accuracy': 0.84375,\n",
       "   'precision': 0.8181818181818182,\n",
       "   'recall': 0.8712121212121211,\n",
       "   'f1': 0.8303030303030302},\n",
       "  {'loss': 1.5646458864212036,\n",
       "   'accuracy': 0.5625,\n",
       "   'precision': 0.5166666666666667,\n",
       "   'recall': 0.5454545454545454,\n",
       "   'f1': 0.5136363636363636},\n",
       "  {'loss': 1.4550023078918457,\n",
       "   'accuracy': 0.59375,\n",
       "   'precision': 0.5289855072463768,\n",
       "   'recall': 0.5347826086956522,\n",
       "   'f1': 0.4951690821256038},\n",
       "  {'loss': 0.9899964928627014,\n",
       "   'accuracy': 0.6875,\n",
       "   'precision': 0.5533333333333332,\n",
       "   'recall': 0.61,\n",
       "   'f1': 0.5529523809523809},\n",
       "  {'loss': 1.6514925956726074,\n",
       "   'accuracy': 0.53125,\n",
       "   'precision': 0.46969696969696967,\n",
       "   'recall': 0.4772727272727273,\n",
       "   'f1': 0.43787878787878787},\n",
       "  {'loss': 1.2980588674545288,\n",
       "   'accuracy': 0.5625,\n",
       "   'precision': 0.4423076923076923,\n",
       "   'recall': 0.4807692307692308,\n",
       "   'f1': 0.4487179487179487},\n",
       "  {'loss': 1.4848273992538452,\n",
       "   'accuracy': 0.5,\n",
       "   'precision': 0.34615384615384615,\n",
       "   'recall': 0.46153846153846156,\n",
       "   'f1': 0.37692307692307697},\n",
       "  {'loss': 1.4075603485107422,\n",
       "   'accuracy': 0.53125,\n",
       "   'precision': 0.3263888888888889,\n",
       "   'recall': 0.3680555555555556,\n",
       "   'f1': 0.32676767676767676},\n",
       "  {'loss': 1.3805997371673584,\n",
       "   'accuracy': 0.59375,\n",
       "   'precision': 0.42391304347826086,\n",
       "   'recall': 0.5,\n",
       "   'f1': 0.4358178053830228},\n",
       "  {'loss': 1.4323514699935913,\n",
       "   'accuracy': 0.5625,\n",
       "   'precision': 0.5277777777777778,\n",
       "   'recall': 0.47222222222222215,\n",
       "   'f1': 0.48888888888888893},\n",
       "  {'loss': 1.1274144649505615,\n",
       "   'accuracy': 0.65625,\n",
       "   'precision': 0.54,\n",
       "   'recall': 0.52,\n",
       "   'f1': 0.5213333333333333},\n",
       "  {'loss': 0.9330826997756958,\n",
       "   'accuracy': 0.6875,\n",
       "   'precision': 0.673611111111111,\n",
       "   'recall': 0.6666666666666666,\n",
       "   'f1': 0.6361111111111111},\n",
       "  {'loss': 1.2517049312591553,\n",
       "   'accuracy': 0.59375,\n",
       "   'precision': 0.5625,\n",
       "   'recall': 0.548611111111111,\n",
       "   'f1': 0.5222222222222221},\n",
       "  {'loss': 1.29446542263031,\n",
       "   'accuracy': 0.625,\n",
       "   'precision': 0.6285714285714286,\n",
       "   'recall': 0.5476190476190477,\n",
       "   'f1': 0.5430839002267573},\n",
       "  {'loss': 1.6984153985977173,\n",
       "   'accuracy': 0.375,\n",
       "   'precision': 0.24,\n",
       "   'recall': 0.24666666666666665,\n",
       "   'f1': 0.23866666666666667},\n",
       "  {'loss': 1.7869839668273926,\n",
       "   'accuracy': 0.53125,\n",
       "   'precision': 0.33012820512820507,\n",
       "   'recall': 0.391025641025641,\n",
       "   'f1': 0.3457875457875458},\n",
       "  {'loss': 0.9916852712631226,\n",
       "   'accuracy': 0.71875,\n",
       "   'precision': 0.5246913580246914,\n",
       "   'recall': 0.5296296296296297,\n",
       "   'f1': 0.5193415637860083},\n",
       "  {'loss': 1.6121079921722412,\n",
       "   'accuracy': 0.53125,\n",
       "   'precision': 0.5113636363636364,\n",
       "   'recall': 0.5409090909090909,\n",
       "   'f1': 0.4956709956709956},\n",
       "  {'loss': 1.4468464851379395,\n",
       "   'accuracy': 0.5625,\n",
       "   'precision': 0.4999999999999999,\n",
       "   'recall': 0.5190476190476191,\n",
       "   'f1': 0.4888888888888888},\n",
       "  {'loss': 1.166978120803833,\n",
       "   'accuracy': 0.59375,\n",
       "   'precision': 0.6,\n",
       "   'recall': 0.6166666666666666,\n",
       "   'f1': 0.5988095238095237},\n",
       "  {'loss': 1.0371990203857422,\n",
       "   'accuracy': 0.6875,\n",
       "   'precision': 0.6666666666666666,\n",
       "   'recall': 0.6249999999999999,\n",
       "   'f1': 0.6180555555555555},\n",
       "  {'loss': 0.9628090262413025,\n",
       "   'accuracy': 0.65625,\n",
       "   'precision': 0.5705128205128205,\n",
       "   'recall': 0.5641025641025641,\n",
       "   'f1': 0.5448717948717949},\n",
       "  {'loss': 0.9605509638786316,\n",
       "   'accuracy': 0.75,\n",
       "   'precision': 0.6625,\n",
       "   'recall': 0.7375,\n",
       "   'f1': 0.684047619047619},\n",
       "  {'loss': 0.7676068544387817,\n",
       "   'accuracy': 0.6875,\n",
       "   'precision': 0.5277777777777777,\n",
       "   'recall': 0.5158730158730158,\n",
       "   'f1': 0.5058956916099773},\n",
       "  {'loss': 1.030786156654358,\n",
       "   'accuracy': 0.78125,\n",
       "   'precision': 0.605072463768116,\n",
       "   'recall': 0.6594202898550724,\n",
       "   'f1': 0.6213250517598344},\n",
       "  {'loss': 2.0154781341552734,\n",
       "   'accuracy': 0.5,\n",
       "   'precision': 0.38,\n",
       "   'recall': 0.38666666666666666,\n",
       "   'f1': 0.36666666666666664},\n",
       "  {'loss': 1.3244279623031616,\n",
       "   'accuracy': 0.625,\n",
       "   'precision': 0.5541666666666667,\n",
       "   'recall': 0.5555555555555555,\n",
       "   'f1': 0.5428030303030303},\n",
       "  {'loss': 1.5833779573440552,\n",
       "   'accuracy': 0.4375,\n",
       "   'precision': 0.4083333333333333,\n",
       "   'recall': 0.4333333333333333,\n",
       "   'f1': 0.37452380952380954},\n",
       "  {'loss': 0.8269193172454834,\n",
       "   'accuracy': 0.75,\n",
       "   'precision': 0.6785714285714286,\n",
       "   'recall': 0.6746031746031745,\n",
       "   'f1': 0.6503401360544216},\n",
       "  {'loss': 1.4723376035690308,\n",
       "   'accuracy': 0.59375,\n",
       "   'precision': 0.49652777777777773,\n",
       "   'recall': 0.4270833333333333,\n",
       "   'f1': 0.4384920634920635},\n",
       "  {'loss': 1.4258583784103394,\n",
       "   'accuracy': 0.5,\n",
       "   'precision': 0.36217948717948717,\n",
       "   'recall': 0.4423076923076923,\n",
       "   'f1': 0.3743589743589743},\n",
       "  {'loss': 1.3246420621871948,\n",
       "   'accuracy': 0.625,\n",
       "   'precision': 0.5666666666666667,\n",
       "   'recall': 0.52,\n",
       "   'f1': 0.5133333333333333},\n",
       "  {'loss': 1.54412841796875,\n",
       "   'accuracy': 0.625,\n",
       "   'precision': 0.5666666666666668,\n",
       "   'recall': 0.5866666666666667,\n",
       "   'f1': 0.5613333333333334},\n",
       "  {'loss': 1.4182435274124146,\n",
       "   'accuracy': 0.5625,\n",
       "   'precision': 0.45512820512820507,\n",
       "   'recall': 0.5448717948717949,\n",
       "   'f1': 0.48205128205128206},\n",
       "  {'loss': 1.268062710762024,\n",
       "   'accuracy': 0.59375,\n",
       "   'precision': 0.5,\n",
       "   'recall': 0.4930555555555555,\n",
       "   'f1': 0.47083333333333327},\n",
       "  {'loss': 1.2691463232040405,\n",
       "   'accuracy': 0.65625,\n",
       "   'precision': 0.6666666666666666,\n",
       "   'recall': 0.5909090909090909,\n",
       "   'f1': 0.5787878787878787},\n",
       "  {'loss': 0.9476271271705627,\n",
       "   'accuracy': 0.6875,\n",
       "   'precision': 0.6231884057971014,\n",
       "   'recall': 0.6413043478260869,\n",
       "   'f1': 0.6039337474120082},\n",
       "  {'loss': 1.0114107131958008,\n",
       "   'accuracy': 0.71875,\n",
       "   'precision': 0.717391304347826,\n",
       "   'recall': 0.7028985507246376,\n",
       "   'f1': 0.6869565217391305},\n",
       "  {'loss': 0.9340031743049622,\n",
       "   'accuracy': 0.625,\n",
       "   'precision': 0.5028985507246376,\n",
       "   'recall': 0.5289855072463768,\n",
       "   'f1': 0.48861283643892334},\n",
       "  {'loss': 1.092458963394165,\n",
       "   'accuracy': 0.71875,\n",
       "   'precision': 0.6521739130434783,\n",
       "   'recall': 0.6847826086956522,\n",
       "   'f1': 0.6459627329192547},\n",
       "  {'loss': 1.290281891822815,\n",
       "   'accuracy': 0.59375,\n",
       "   'precision': 0.5121212121212122,\n",
       "   'recall': 0.4772727272727273,\n",
       "   'f1': 0.4548701298701298},\n",
       "  {'loss': 1.1349254846572876,\n",
       "   'accuracy': 0.625,\n",
       "   'precision': 0.49722222222222223,\n",
       "   'recall': 0.5104166666666666,\n",
       "   'f1': 0.49027777777777776},\n",
       "  {'loss': 0.9526788592338562,\n",
       "   'accuracy': 0.71875,\n",
       "   'precision': 0.6376811594202898,\n",
       "   'recall': 0.6666666666666666,\n",
       "   'f1': 0.6202898550724637},\n",
       "  {'loss': 1.015432357788086,\n",
       "   'accuracy': 0.65625,\n",
       "   'precision': 0.5555555555555556,\n",
       "   'recall': 0.6388888888888888,\n",
       "   'f1': 0.5693877551020406},\n",
       "  {'loss': 1.6401612758636475,\n",
       "   'accuracy': 0.53125,\n",
       "   'precision': 0.44202898550724634,\n",
       "   'recall': 0.44202898550724634,\n",
       "   'f1': 0.41511387163561075},\n",
       "  {'loss': 1.12156343460083,\n",
       "   'accuracy': 0.65625,\n",
       "   'precision': 0.605,\n",
       "   'recall': 0.5624999999999999,\n",
       "   'f1': 0.5683333333333334},\n",
       "  {'loss': 1.232072353363037,\n",
       "   'accuracy': 0.65625,\n",
       "   'precision': 0.6212121212121212,\n",
       "   'recall': 0.6424242424242425,\n",
       "   'f1': 0.607070707070707},\n",
       "  {'loss': 1.2253245115280151,\n",
       "   'accuracy': 0.625,\n",
       "   'precision': 0.4807692307692308,\n",
       "   'recall': 0.43589743589743585,\n",
       "   'f1': 0.4461538461538461},\n",
       "  {'loss': 1.30875825881958,\n",
       "   'accuracy': 0.625,\n",
       "   'precision': 0.6325757575757576,\n",
       "   'recall': 0.6136363636363635,\n",
       "   'f1': 0.5753246753246752},\n",
       "  {'loss': 1.0378223657608032,\n",
       "   'accuracy': 0.71875,\n",
       "   'precision': 0.6818181818181818,\n",
       "   'recall': 0.6856060606060606,\n",
       "   'f1': 0.6480519480519481},\n",
       "  {'loss': 1.570702314376831,\n",
       "   'accuracy': 0.5625,\n",
       "   'precision': 0.46527777777777773,\n",
       "   'recall': 0.47222222222222215,\n",
       "   'f1': 0.44166666666666665},\n",
       "  {'loss': 1.5307910442352295,\n",
       "   'accuracy': 0.53125,\n",
       "   'precision': 0.40625,\n",
       "   'recall': 0.44097222222222215,\n",
       "   'f1': 0.3912698412698412},\n",
       "  {'loss': 1.0058975219726562,\n",
       "   'accuracy': 0.59375,\n",
       "   'precision': 0.4423076923076923,\n",
       "   'recall': 0.5384615384615384,\n",
       "   'f1': 0.46923076923076923},\n",
       "  {'loss': 1.6634186506271362,\n",
       "   'accuracy': 0.5625,\n",
       "   'precision': 0.5181159420289855,\n",
       "   'recall': 0.4275362318840579,\n",
       "   'f1': 0.4474120082815735},\n",
       "  {'loss': 1.0086256265640259,\n",
       "   'accuracy': 0.6875,\n",
       "   'precision': 0.6458333333333334,\n",
       "   'recall': 0.548611111111111,\n",
       "   'f1': 0.5724206349206349},\n",
       "  {'loss': 1.0578439235687256,\n",
       "   'accuracy': 0.75,\n",
       "   'precision': 0.6840277777777777,\n",
       "   'recall': 0.673611111111111,\n",
       "   'f1': 0.6579365079365079},\n",
       "  {'loss': 1.0858474969863892,\n",
       "   'accuracy': 0.6875,\n",
       "   'precision': 0.611111111111111,\n",
       "   'recall': 0.5880952380952381,\n",
       "   'f1': 0.5590702947845804},\n",
       "  {'loss': 1.3254485130310059,\n",
       "   'accuracy': 0.6875,\n",
       "   'precision': 0.6602564102564101,\n",
       "   'recall': 0.5705128205128205,\n",
       "   'f1': 0.5884615384615384},\n",
       "  {'loss': 0.9213695526123047,\n",
       "   'accuracy': 0.65625,\n",
       "   'precision': 0.6287878787878788,\n",
       "   'recall': 0.5454545454545454,\n",
       "   'f1': 0.5545454545454546},\n",
       "  {'loss': 1.4638012647628784,\n",
       "   'accuracy': 0.59375,\n",
       "   'precision': 0.45486111111111116,\n",
       "   'recall': 0.5208333333333334,\n",
       "   'f1': 0.46349206349206346},\n",
       "  {'loss': 0.9419451951980591,\n",
       "   'accuracy': 0.71875,\n",
       "   'precision': 0.611111111111111,\n",
       "   'recall': 0.6507936507936508,\n",
       "   'f1': 0.6043083900226757},\n",
       "  {'loss': 0.9564974308013916,\n",
       "   'accuracy': 0.71875,\n",
       "   'precision': 0.6491228070175438,\n",
       "   'recall': 0.6622807017543859,\n",
       "   'f1': 0.6328320802005013},\n",
       "  {'loss': 1.652896761894226,\n",
       "   'accuracy': 0.59375,\n",
       "   'precision': 0.4891304347826087,\n",
       "   'recall': 0.5760869565217391,\n",
       "   'f1': 0.5039337474120081},\n",
       "  {'loss': 1.2394492626190186,\n",
       "   'accuracy': 0.65625,\n",
       "   'precision': 0.5694444444444444,\n",
       "   'recall': 0.5208333333333334,\n",
       "   'f1': 0.5265873015873015},\n",
       "  {'loss': 1.3192460536956787,\n",
       "   'accuracy': 0.6875,\n",
       "   'precision': 0.53125,\n",
       "   'recall': 0.5625,\n",
       "   'f1': 0.5248015873015873},\n",
       "  {'loss': 0.8750159740447998,\n",
       "   'accuracy': 0.75,\n",
       "   'precision': 0.6547619047619048,\n",
       "   'recall': 0.5873015873015872,\n",
       "   'f1': 0.6011337868480725},\n",
       "  {'loss': 0.8954448103904724,\n",
       "   'accuracy': 0.6875,\n",
       "   'precision': 0.6180555555555555,\n",
       "   'recall': 0.5902777777777778,\n",
       "   'f1': 0.5736111111111111},\n",
       "  {'loss': 1.3896924257278442,\n",
       "   'accuracy': 0.59375,\n",
       "   'precision': 0.5104166666666666,\n",
       "   'recall': 0.5208333333333334,\n",
       "   'f1': 0.48333333333333334},\n",
       "  {'loss': 0.8493466973304749,\n",
       "   'accuracy': 0.71875,\n",
       "   'precision': 0.6174242424242423,\n",
       "   'recall': 0.6287878787878788,\n",
       "   'f1': 0.5965367965367966},\n",
       "  {'loss': 0.9285040497779846,\n",
       "   'accuracy': 0.75,\n",
       "   'precision': 0.7282608695652174,\n",
       "   'recall': 0.7318840579710144,\n",
       "   'f1': 0.7024844720496894},\n",
       "  {'loss': 1.1832959651947021,\n",
       "   'accuracy': 0.5625,\n",
       "   'precision': 0.47222222222222215,\n",
       "   'recall': 0.45138888888888884,\n",
       "   'f1': 0.4319444444444444},\n",
       "  {'loss': 0.890067994594574,\n",
       "   'accuracy': 0.78125,\n",
       "   'precision': 0.6289855072463768,\n",
       "   'recall': 0.6086956521739131,\n",
       "   'f1': 0.6096618357487923},\n",
       "  {'loss': 1.147047758102417,\n",
       "   'accuracy': 0.65625,\n",
       "   'precision': 0.5396825396825398,\n",
       "   'recall': 0.5793650793650793,\n",
       "   'f1': 0.5430839002267573},\n",
       "  {'loss': 0.9765976667404175,\n",
       "   'accuracy': 0.71875,\n",
       "   'precision': 0.6324561403508772,\n",
       "   'recall': 0.6403508771929824,\n",
       "   'f1': 0.600375939849624},\n",
       "  {'loss': 1.3022704124450684,\n",
       "   'accuracy': 0.625,\n",
       "   'precision': 0.5416666666666666,\n",
       "   'recall': 0.548611111111111,\n",
       "   'f1': 0.5277777777777777},\n",
       "  {'loss': 1.0269652605056763,\n",
       "   'accuracy': 0.6875,\n",
       "   'precision': 0.7272727272727273,\n",
       "   'recall': 0.7462121212121211,\n",
       "   'f1': 0.722943722943723},\n",
       "  {'loss': 1.0628342628479004,\n",
       "   'accuracy': 0.75,\n",
       "   'precision': 0.6749999999999999,\n",
       "   'recall': 0.7083333333333333,\n",
       "   'f1': 0.68},\n",
       "  {'loss': 1.1340417861938477,\n",
       "   'accuracy': 0.6875,\n",
       "   'precision': 0.5507246376811594,\n",
       "   'recall': 0.5507246376811594,\n",
       "   'f1': 0.5333333333333333},\n",
       "  {'loss': 0.8722126483917236,\n",
       "   'accuracy': 0.71875,\n",
       "   'precision': 0.6249999999999999,\n",
       "   'recall': 0.6483333333333333,\n",
       "   'f1': 0.6077777777777778},\n",
       "  {'loss': 0.989186704158783,\n",
       "   'accuracy': 0.75,\n",
       "   'precision': 0.5942028985507246,\n",
       "   'recall': 0.5978260869565217,\n",
       "   'f1': 0.579296066252588},\n",
       "  {'loss': 1.3757846355438232,\n",
       "   'accuracy': 0.625,\n",
       "   'precision': 0.587121212121212,\n",
       "   'recall': 0.5833333333333334,\n",
       "   'f1': 0.5469696969696969},\n",
       "  {'loss': 1.010769009590149,\n",
       "   'accuracy': 0.65625,\n",
       "   'precision': 0.4786666666666667,\n",
       "   'recall': 0.45333333333333337,\n",
       "   'f1': 0.44755555555555554},\n",
       "  {'loss': 1.1118247509002686,\n",
       "   'accuracy': 0.625,\n",
       "   'precision': 0.4601449275362318,\n",
       "   'recall': 0.48188405797101447,\n",
       "   'f1': 0.4469979296066252},\n",
       "  {'loss': 1.0104451179504395,\n",
       "   'accuracy': 0.65625,\n",
       "   'precision': 0.5833333333333333,\n",
       "   'recall': 0.6434782608695652,\n",
       "   'f1': 0.5908212560386474},\n",
       "  {'loss': 1.3658405542373657,\n",
       "   'accuracy': 0.6875,\n",
       "   'precision': 0.5456521739130435,\n",
       "   'recall': 0.5978260869565217,\n",
       "   'f1': 0.5640096618357487},\n",
       "  {'loss': 1.0164878368377686,\n",
       "   'accuracy': 0.75,\n",
       "   'precision': 0.615079365079365,\n",
       "   'recall': 0.611111111111111,\n",
       "   'f1': 0.6074829931972789},\n",
       "  {'loss': 1.5977435111999512,\n",
       "   'accuracy': 0.625,\n",
       "   'precision': 0.6346153846153846,\n",
       "   'recall': 0.5576923076923077,\n",
       "   'f1': 0.5692307692307692},\n",
       "  {'loss': 1.7512691020965576,\n",
       "   'accuracy': 0.40625,\n",
       "   'precision': 0.30333333333333334,\n",
       "   'recall': 0.30333333333333334,\n",
       "   'f1': 0.2815238095238095},\n",
       "  {'loss': 1.0395550727844238,\n",
       "   'accuracy': 0.65625,\n",
       "   'precision': 0.49999999999999994,\n",
       "   'recall': 0.5797101449275363,\n",
       "   'f1': 0.5173913043478261},\n",
       "  {'loss': 1.061099886894226,\n",
       "   'accuracy': 0.65625,\n",
       "   'precision': 0.6363636363636364,\n",
       "   'recall': 0.5833333333333333,\n",
       "   'f1': 0.5759740259740259},\n",
       "  {'loss': 1.2359728813171387,\n",
       "   'accuracy': 0.59375,\n",
       "   'precision': 0.48333333333333334,\n",
       "   'recall': 0.5034722222222222,\n",
       "   'f1': 0.4749999999999999},\n",
       "  {'loss': 1.2897309064865112,\n",
       "   'accuracy': 0.59375,\n",
       "   'precision': 0.4423076923076923,\n",
       "   'recall': 0.49679487179487175,\n",
       "   'f1': 0.4445054945054945},\n",
       "  {'loss': 0.9415398836135864,\n",
       "   'accuracy': 0.6875,\n",
       "   'precision': 0.587121212121212,\n",
       "   'recall': 0.5681818181818182,\n",
       "   'f1': 0.5541125541125541},\n",
       "  {'loss': 1.0620349645614624,\n",
       "   'accuracy': 0.65625,\n",
       "   'precision': 0.52,\n",
       "   'recall': 0.5533333333333332,\n",
       "   'f1': 0.528},\n",
       "  {'loss': 1.2947598695755005,\n",
       "   'accuracy': 0.5625,\n",
       "   'precision': 0.49999999999999994,\n",
       "   'recall': 0.5606060606060606,\n",
       "   'f1': 0.5030303030303029},\n",
       "  {'loss': 1.2056862115859985,\n",
       "   'accuracy': 0.65625,\n",
       "   'precision': 0.6159420289855072,\n",
       "   'recall': 0.5942028985507246,\n",
       "   'f1': 0.5782608695652173},\n",
       "  {'loss': 1.9171456098556519,\n",
       "   'accuracy': 0.4375,\n",
       "   'precision': 0.4066666666666666,\n",
       "   'recall': 0.39,\n",
       "   'f1': 0.37199999999999994},\n",
       "  {'loss': 1.3050390481948853,\n",
       "   'accuracy': 0.59375,\n",
       "   'precision': 0.46,\n",
       "   'recall': 0.4733333333333333,\n",
       "   'f1': 0.45866666666666667},\n",
       "  {'loss': 1.226251482963562,\n",
       "   'accuracy': 0.6875,\n",
       "   'precision': 0.5405797101449274,\n",
       "   'recall': 0.5543478260869565,\n",
       "   'f1': 0.5333333333333333},\n",
       "  {'loss': 1.1865012645721436,\n",
       "   'accuracy': 0.59375,\n",
       "   'precision': 0.548611111111111,\n",
       "   'recall': 0.4861111111111111,\n",
       "   'f1': 0.4847222222222222},\n",
       "  {'loss': 1.0013917684555054,\n",
       "   'accuracy': 0.625,\n",
       "   'precision': 0.428030303030303,\n",
       "   'recall': 0.5136363636363637,\n",
       "   'f1': 0.45555555555555555},\n",
       "  {'loss': 1.145103931427002,\n",
       "   'accuracy': 0.6875,\n",
       "   'precision': 0.6136363636363636,\n",
       "   'recall': 0.6553030303030303,\n",
       "   'f1': 0.5889610389610389},\n",
       "  {'loss': 1.24678373336792,\n",
       "   'accuracy': 0.71875,\n",
       "   'precision': 0.6458333333333333,\n",
       "   'recall': 0.6583333333333333,\n",
       "   'f1': 0.6183116883116883},\n",
       "  {'loss': 1.4350841045379639,\n",
       "   'accuracy': 0.625,\n",
       "   'precision': 0.5507246376811594,\n",
       "   'recall': 0.6159420289855072,\n",
       "   'f1': 0.5652173913043478},\n",
       "  {'loss': 1.1885851621627808,\n",
       "   'accuracy': 0.65625,\n",
       "   'precision': 0.6180555555555555,\n",
       "   'recall': 0.5916666666666667,\n",
       "   'f1': 0.5750000000000001},\n",
       "  {'loss': 0.9185455441474915,\n",
       "   'accuracy': 0.72,\n",
       "   'precision': 0.475,\n",
       "   'recall': 0.5,\n",
       "   'f1': 0.4833333333333333}],\n",
       " 'summary': {'loss': 1.239810475464696,\n",
       "  'accuracy': 0.638321578502655,\n",
       "  'precision': 0.6626695145508001,\n",
       "  'recall': 0.6412469604316406,\n",
       "  'f1': 0.6385194950220653},\n",
       " 'score': 0.638321578502655}"
      ]
     },
     "execution_count": 17,
     "metadata": {},
     "output_type": "execute_result"
    }
   ],
   "source": [
    "transformer_exp.run()"
   ]
  },
  {
   "cell_type": "markdown",
   "id": "a029d38a",
   "metadata": {},
   "source": [
    "## Training through Optitorch"
   ]
  },
  {
   "cell_type": "code",
   "execution_count": 10,
   "id": "a284c08d",
   "metadata": {},
   "outputs": [
    {
     "name": "stdout",
     "output_type": "stream",
     "text": [
      "Classes: {'bed': 0, 'bird': 1, 'cat': 2, 'dog': 3, 'down': 4, 'eight': 5, 'five': 6, 'four': 7, 'go': 8, 'happy': 9, 'house': 10, 'left': 11, 'marvin': 12, 'nine': 13, 'no': 14, 'off': 15, 'on': 16, 'one': 17, 'right': 18, 'seven': 19, 'sheila': 20, 'silence': 21, 'six': 22, 'stop': 23, 'three': 24, 'tree': 25, 'two': 26, 'up': 27, 'wow': 28, 'yes': 29, 'zero': 30}\n",
      "# training batches: 586\n",
      "# validation batches: 216\n",
      "# testing batches: 211\n"
     ]
    }
   ],
   "source": [
    "# prepare Data Loader files\n",
    "train_dir = DATA_PATH / Path(\"MFCC_transformed\", \"training\")\n",
    "val_dir = DATA_PATH / Path(\"MFCC_transformed\", \"validation\")\n",
    "test_dir = DATA_PATH / Path(\"MFCC_transformed\", \"testing\")\n",
    "\n",
    "batch_size = 64\n",
    "\n",
    "train_loader = DataLoader(\n",
    "    data_dir=train_dir,\n",
    "    data_type='mfcc',\n",
    "    batch_size=batch_size,\n",
    "    shuffle=True\n",
    ")\n",
    "val_loader = DataLoader(\n",
    "    data_dir=val_dir,\n",
    "    data_type='mfcc',\n",
    "    batch_size=batch_size,\n",
    "    shuffle=True\n",
    ")\n",
    "\n",
    "test_loader = DataLoader(\n",
    "    data_dir=test_dir,\n",
    "    data_type='mfcc',\n",
    "    batch_size=batch_size,\n",
    "    shuffle=True\n",
    ")\n",
    "\n",
    "# Inspect class mapping and dataset size\n",
    "print(\"Classes:\", train_loader.class_to_idx)\n",
    "print(\"# training batches:\", len(train_loader))\n",
    "\n",
    "print(\"# validation batches:\", len(val_loader))\n",
    "\n",
    "print(\"# testing batches:\", len(test_loader))"
   ]
  },
  {
   "cell_type": "code",
   "execution_count": null,
   "id": "d04eb115",
   "metadata": {},
   "outputs": [],
   "source": [
    "def train_CustomTransformer(config, device, data_type):\n",
    "\n",
    "\n",
    "    train_loader = DataLoader(\n",
    "            data_dir=config[\"train_dir\"],\n",
    "            data_type=data_type,\n",
    "            batch_size=config[\"batch_size\"],\n",
    "            shuffle=True\n",
    "        )\n",
    "    val_loader = DataLoader(\n",
    "            data_dir=config[\"val_dir\"],\n",
    "            data_type=data_type,\n",
    "            batch_size=config[\"batch_size\"],\n",
    "            shuffle=True\n",
    "        )\n",
    "\n",
    "    batch = next(iter(test_loader))\n",
    "    sample = batch.data[0]\n",
    "    C, *rest = sample.shape\n",
    "    if len(rest) == 1:\n",
    "        input_dim = C\n",
    "    else:\n",
    "        H, W = rest\n",
    "        input_dim = C * H\n",
    "\n",
    "    num_classes = len(train_loader.class_to_idx)\n",
    "\n",
    "    model = CustomTransformerModel(\n",
    "        input_dim=input_dim,\n",
    "        num_classes=num_classes,\n",
    "        d_model=128,\n",
    "        nhead=config['nhead'],\n",
    "        num_layers=config['num_layers'],\n",
    "        lr=config['lr'],\n",
    "        dropout=config['dropout']\n",
    "    ).to(device)\n",
    "\n",
    "\n",
    "    model.train_architecture(train_loader=train_loader, val_loader=val_loader, epochs=config[\"epochs\"])\n",
    "    results = model.evaluate(val_loader)\n",
    "\n",
    "    final_loss = results[\"summary\"][\"loss\"]\n",
    "    final_acc  = results[\"summary\"][\"accuracy\"]\n",
    "    return final_loss, final_acc\n"
   ]
  },
  {
   "cell_type": "code",
   "execution_count": 11,
   "id": "6a30db25",
   "metadata": {},
   "outputs": [],
   "source": [
    "def objective(trial):\n",
    "    config = {\n",
    "        \"lr\":         trial.suggest_float(\"lr\", 1e-5, 1e-3, log=True),\n",
    "        \"epochs\":     trial.suggest_categorical(\"epochs\", [3, 5, 8, 10]),\n",
    "        \"batch_size\": trial.suggest_categorical(\"batch_size\", [4, 16, 32]),\n",
    "        \"dropout\":    trial.suggest_float(\"dropout\", 0.2, 0.8),\n",
    "        \"num_layers\": trial.suggest_categorical(\"num_layers\", [1, 2, 3]),\n",
    "        \"nhead\":      trial.suggest_categorical(\"nhead\", [4, 8, 16]),\n",
    "        \"train_dir\":  train_dir,\n",
    "        \"val_dir\":    val_dir,\n",
    "    }\n",
    "\n",
    "    # initialize, train, and evaluate your model\n",
    "    final_loss, final_acc = train_CustomTransformer(config, device)\n",
    "    return final_acc\n"
   ]
  },
  {
   "cell_type": "code",
   "execution_count": 12,
   "id": "79d05db8",
   "metadata": {},
   "outputs": [
    {
     "name": "stderr",
     "output_type": "stream",
     "text": [
      "[I 2025-04-29 00:05:35,396] A new study created in memory with name: no-name-a4e01af5-8bf2-4f59-9d3d-3f7cb57e3e03\n",
      "c:\\Users\\aaf6\\AppData\\Local\\Programs\\Python\\Python310\\lib\\site-packages\\torch\\nn\\modules\\transformer.py:379: UserWarning: enable_nested_tensor is True, but self.use_nested_tensor is False because encoder_layer.self_attn.batch_first was not True(use batch_first for better inference performance)\n",
      "  warnings.warn(\n"
     ]
    },
    {
     "name": "stdout",
     "output_type": "stream",
     "text": [
      "Epoch 1/3 - train loss: 2.2927 - train accuracy: 0.3313\n"
     ]
    },
    {
     "name": "stderr",
     "output_type": "stream",
     "text": [
      "Evaluating: 100%|██████████| 431/431 [00:03<00:00, 117.22it/s]\n"
     ]
    },
    {
     "name": "stdout",
     "output_type": "stream",
     "text": [
      "Epoch 1/3 - val   loss: 1.4784 - val   accuracy: 0.5537\n",
      "Epoch 2/3 - train loss: 1.0202 - train accuracy: 0.7051\n"
     ]
    },
    {
     "name": "stderr",
     "output_type": "stream",
     "text": [
      "Evaluating: 100%|██████████| 431/431 [00:03<00:00, 122.48it/s]\n"
     ]
    },
    {
     "name": "stdout",
     "output_type": "stream",
     "text": [
      "Epoch 2/3 - val   loss: 0.8116 - val   accuracy: 0.7705\n",
      "Epoch 3/3 - train loss: 0.6488 - train accuracy: 0.8162\n"
     ]
    },
    {
     "name": "stderr",
     "output_type": "stream",
     "text": [
      "Evaluating: 100%|██████████| 431/431 [00:06<00:00, 61.98it/s]\n"
     ]
    },
    {
     "name": "stdout",
     "output_type": "stream",
     "text": [
      "Epoch 3/3 - val   loss: 0.6883 - val   accuracy: 0.8014\n"
     ]
    },
    {
     "name": "stderr",
     "output_type": "stream",
     "text": [
      "Evaluating: 100%|██████████| 431/431 [00:07<00:00, 56.33it/s]\n",
      "[I 2025-04-29 00:06:34,076] Trial 0 finished with value: 0.8014086484909058 and parameters: {'lr': 0.0001968333105147399, 'epochs': 3, 'batch_size': 32, 'dropout': 0.5101804292320393, 'num_layers': 3, 'nhead': 8}. Best is trial 0 with value: 0.8014086484909058.\n",
      "c:\\Users\\aaf6\\AppData\\Local\\Programs\\Python\\Python310\\lib\\site-packages\\torch\\nn\\modules\\transformer.py:379: UserWarning: enable_nested_tensor is True, but self.use_nested_tensor is False because encoder_layer.self_attn.batch_first was not True(use batch_first for better inference performance)\n",
      "  warnings.warn(\n"
     ]
    },
    {
     "name": "stdout",
     "output_type": "stream",
     "text": [
      "Epoch 1/5 - train loss: 3.2448 - train accuracy: 0.0654\n"
     ]
    },
    {
     "name": "stderr",
     "output_type": "stream",
     "text": [
      "Evaluating: 100%|██████████| 3443/3443 [00:29<00:00, 117.95it/s]\n"
     ]
    },
    {
     "name": "stdout",
     "output_type": "stream",
     "text": [
      "Epoch 1/5 - val   loss: 6.1670 - val   accuracy: 0.0597\n",
      "Epoch 2/5 - train loss: 3.4158 - train accuracy: 0.0359\n"
     ]
    },
    {
     "name": "stderr",
     "output_type": "stream",
     "text": [
      "Evaluating: 100%|██████████| 3443/3443 [00:28<00:00, 120.48it/s]\n"
     ]
    },
    {
     "name": "stdout",
     "output_type": "stream",
     "text": [
      "Epoch 2/5 - val   loss: 3.3942 - val   accuracy: 0.0370\n",
      "Epoch 3/5 - train loss: 3.3984 - train accuracy: 0.0364\n"
     ]
    },
    {
     "name": "stderr",
     "output_type": "stream",
     "text": [
      "Evaluating: 100%|██████████| 3443/3443 [00:25<00:00, 134.74it/s]\n"
     ]
    },
    {
     "name": "stdout",
     "output_type": "stream",
     "text": [
      "Epoch 3/5 - val   loss: 3.3921 - val   accuracy: 0.0370\n",
      "Epoch 4/5 - train loss: 3.3964 - train accuracy: 0.0355\n"
     ]
    },
    {
     "name": "stderr",
     "output_type": "stream",
     "text": [
      "Evaluating: 100%|██████████| 3443/3443 [00:27<00:00, 123.51it/s]\n"
     ]
    },
    {
     "name": "stdout",
     "output_type": "stream",
     "text": [
      "Epoch 4/5 - val   loss: 3.3900 - val   accuracy: 0.0373\n",
      "Epoch 5/5 - train loss: 3.3960 - train accuracy: 0.0356\n"
     ]
    },
    {
     "name": "stderr",
     "output_type": "stream",
     "text": [
      "Evaluating: 100%|██████████| 3443/3443 [00:25<00:00, 135.93it/s]\n"
     ]
    },
    {
     "name": "stdout",
     "output_type": "stream",
     "text": [
      "Epoch 5/5 - val   loss: 3.3893 - val   accuracy: 0.0377\n"
     ]
    },
    {
     "name": "stderr",
     "output_type": "stream",
     "text": [
      "Evaluating: 100%|██████████| 3443/3443 [00:24<00:00, 138.54it/s]\n",
      "[I 2025-04-29 00:14:52,001] Trial 1 finished with value: 0.03768515959382057 and parameters: {'lr': 0.0007113754068160925, 'epochs': 5, 'batch_size': 4, 'dropout': 0.6844255939955854, 'num_layers': 3, 'nhead': 16}. Best is trial 0 with value: 0.8014086484909058.\n",
      "c:\\Users\\aaf6\\AppData\\Local\\Programs\\Python\\Python310\\lib\\site-packages\\torch\\nn\\modules\\transformer.py:379: UserWarning: enable_nested_tensor is True, but self.use_nested_tensor is False because encoder_layer.self_attn.batch_first was not True(use batch_first for better inference performance)\n",
      "  warnings.warn(\n"
     ]
    },
    {
     "name": "stdout",
     "output_type": "stream",
     "text": [
      "Epoch 1/8 - train loss: 1.6232 - train accuracy: 0.5134\n"
     ]
    },
    {
     "name": "stderr",
     "output_type": "stream",
     "text": [
      "Evaluating: 100%|██████████| 861/861 [00:09<00:00, 93.69it/s] \n"
     ]
    },
    {
     "name": "stdout",
     "output_type": "stream",
     "text": [
      "Epoch 1/8 - val   loss: 1.0881 - val   accuracy: 0.6781\n",
      "Epoch 2/8 - train loss: 0.8232 - train accuracy: 0.7573\n"
     ]
    },
    {
     "name": "stderr",
     "output_type": "stream",
     "text": [
      "Evaluating: 100%|██████████| 861/861 [00:09<00:00, 87.69it/s] \n"
     ]
    },
    {
     "name": "stdout",
     "output_type": "stream",
     "text": [
      "Epoch 2/8 - val   loss: 0.8463 - val   accuracy: 0.7504\n",
      "Epoch 3/8 - train loss: 0.6566 - train accuracy: 0.8064\n"
     ]
    },
    {
     "name": "stderr",
     "output_type": "stream",
     "text": [
      "Evaluating: 100%|██████████| 861/861 [00:07<00:00, 120.10it/s]\n"
     ]
    },
    {
     "name": "stdout",
     "output_type": "stream",
     "text": [
      "Epoch 3/8 - val   loss: 0.7745 - val   accuracy: 0.7822\n",
      "Epoch 4/8 - train loss: 0.5908 - train accuracy: 0.8227\n"
     ]
    },
    {
     "name": "stderr",
     "output_type": "stream",
     "text": [
      "Evaluating: 100%|██████████| 861/861 [00:10<00:00, 83.98it/s] \n"
     ]
    },
    {
     "name": "stdout",
     "output_type": "stream",
     "text": [
      "Epoch 4/8 - val   loss: 0.6344 - val   accuracy: 0.8148\n",
      "Epoch 5/8 - train loss: 0.5360 - train accuracy: 0.8415\n"
     ]
    },
    {
     "name": "stderr",
     "output_type": "stream",
     "text": [
      "Evaluating: 100%|██████████| 861/861 [00:09<00:00, 94.55it/s] \n"
     ]
    },
    {
     "name": "stdout",
     "output_type": "stream",
     "text": [
      "Epoch 5/8 - val   loss: 0.6028 - val   accuracy: 0.8219\n",
      "Epoch 6/8 - train loss: 0.5270 - train accuracy: 0.8456\n"
     ]
    },
    {
     "name": "stderr",
     "output_type": "stream",
     "text": [
      "Evaluating: 100%|██████████| 861/861 [00:09<00:00, 90.35it/s] \n"
     ]
    },
    {
     "name": "stdout",
     "output_type": "stream",
     "text": [
      "Epoch 6/8 - val   loss: 0.6397 - val   accuracy: 0.8163\n",
      "Epoch 7/8 - train loss: 0.4949 - train accuracy: 0.8524\n"
     ]
    },
    {
     "name": "stderr",
     "output_type": "stream",
     "text": [
      "Evaluating: 100%|██████████| 861/861 [00:09<00:00, 88.62it/s]\n"
     ]
    },
    {
     "name": "stdout",
     "output_type": "stream",
     "text": [
      "Epoch 7/8 - val   loss: 0.7519 - val   accuracy: 0.7851\n",
      "Epoch 8/8 - train loss: nan - train accuracy: 0.1226\n"
     ]
    },
    {
     "name": "stderr",
     "output_type": "stream",
     "text": [
      "Evaluating: 100%|██████████| 861/861 [00:09<00:00, 87.08it/s] \n"
     ]
    },
    {
     "name": "stdout",
     "output_type": "stream",
     "text": [
      "Epoch 8/8 - val   loss: nan - val   accuracy: 0.0246\n"
     ]
    },
    {
     "name": "stderr",
     "output_type": "stream",
     "text": [
      "Evaluating: 100%|██████████| 861/861 [00:10<00:00, 82.05it/s]\n",
      "[I 2025-04-29 00:19:21,357] Trial 2 finished with value: 0.02461516112089157 and parameters: {'lr': 0.0009884440050990598, 'epochs': 8, 'batch_size': 16, 'dropout': 0.24844044108406377, 'num_layers': 2, 'nhead': 4}. Best is trial 0 with value: 0.8014086484909058.\n",
      "c:\\Users\\aaf6\\AppData\\Local\\Programs\\Python\\Python310\\lib\\site-packages\\torch\\nn\\modules\\transformer.py:379: UserWarning: enable_nested_tensor is True, but self.use_nested_tensor is False because encoder_layer.self_attn.batch_first was not True(use batch_first for better inference performance)\n",
      "  warnings.warn(\n"
     ]
    },
    {
     "name": "stdout",
     "output_type": "stream",
     "text": [
      "Epoch 1/10 - train loss: 2.5808 - train accuracy: 0.2597\n"
     ]
    },
    {
     "name": "stderr",
     "output_type": "stream",
     "text": [
      "Evaluating: 100%|██████████| 431/431 [00:06<00:00, 64.31it/s]\n"
     ]
    },
    {
     "name": "stdout",
     "output_type": "stream",
     "text": [
      "Epoch 1/10 - val   loss: 1.8954 - val   accuracy: 0.4179\n",
      "Epoch 2/10 - train loss: 1.3955 - train accuracy: 0.5896\n"
     ]
    },
    {
     "name": "stderr",
     "output_type": "stream",
     "text": [
      "Evaluating: 100%|██████████| 431/431 [00:07<00:00, 58.60it/s]\n"
     ]
    },
    {
     "name": "stdout",
     "output_type": "stream",
     "text": [
      "Epoch 2/10 - val   loss: 1.2285 - val   accuracy: 0.6378\n",
      "Epoch 3/10 - train loss: 1.0585 - train accuracy: 0.6916\n"
     ]
    },
    {
     "name": "stderr",
     "output_type": "stream",
     "text": [
      "Evaluating: 100%|██████████| 431/431 [00:07<00:00, 58.04it/s]\n"
     ]
    },
    {
     "name": "stdout",
     "output_type": "stream",
     "text": [
      "Epoch 3/10 - val   loss: 1.0295 - val   accuracy: 0.6926\n",
      "Epoch 4/10 - train loss: 0.9178 - train accuracy: 0.7277\n"
     ]
    },
    {
     "name": "stderr",
     "output_type": "stream",
     "text": [
      "Evaluating: 100%|██████████| 431/431 [00:04<00:00, 105.30it/s]\n"
     ]
    },
    {
     "name": "stdout",
     "output_type": "stream",
     "text": [
      "Epoch 4/10 - val   loss: 0.9008 - val   accuracy: 0.7340\n",
      "Epoch 5/10 - train loss: 0.8043 - train accuracy: 0.7637\n"
     ]
    },
    {
     "name": "stderr",
     "output_type": "stream",
     "text": [
      "Evaluating: 100%|██████████| 431/431 [00:04<00:00, 100.68it/s]\n"
     ]
    },
    {
     "name": "stdout",
     "output_type": "stream",
     "text": [
      "Epoch 5/10 - val   loss: 0.8392 - val   accuracy: 0.7538\n",
      "Epoch 6/10 - train loss: 0.7472 - train accuracy: 0.7773\n"
     ]
    },
    {
     "name": "stderr",
     "output_type": "stream",
     "text": [
      "Evaluating: 100%|██████████| 431/431 [00:03<00:00, 111.11it/s]\n"
     ]
    },
    {
     "name": "stdout",
     "output_type": "stream",
     "text": [
      "Epoch 6/10 - val   loss: 0.8029 - val   accuracy: 0.7629\n",
      "Epoch 7/10 - train loss: 0.7022 - train accuracy: 0.7916\n"
     ]
    },
    {
     "name": "stderr",
     "output_type": "stream",
     "text": [
      "Evaluating: 100%|██████████| 431/431 [00:04<00:00, 99.33it/s] \n"
     ]
    },
    {
     "name": "stdout",
     "output_type": "stream",
     "text": [
      "Epoch 7/10 - val   loss: 0.7741 - val   accuracy: 0.7703\n",
      "Epoch 8/10 - train loss: 0.6497 - train accuracy: 0.8067\n"
     ]
    },
    {
     "name": "stderr",
     "output_type": "stream",
     "text": [
      "Evaluating: 100%|██████████| 431/431 [00:03<00:00, 123.35it/s]\n"
     ]
    },
    {
     "name": "stdout",
     "output_type": "stream",
     "text": [
      "Epoch 8/10 - val   loss: 0.7375 - val   accuracy: 0.7801\n",
      "Epoch 9/10 - train loss: 0.5985 - train accuracy: 0.8228\n"
     ]
    },
    {
     "name": "stderr",
     "output_type": "stream",
     "text": [
      "Evaluating: 100%|██████████| 431/431 [00:06<00:00, 68.38it/s]\n"
     ]
    },
    {
     "name": "stdout",
     "output_type": "stream",
     "text": [
      "Epoch 9/10 - val   loss: 0.7131 - val   accuracy: 0.7904\n",
      "Epoch 10/10 - train loss: 0.5773 - train accuracy: 0.8288\n"
     ]
    },
    {
     "name": "stderr",
     "output_type": "stream",
     "text": [
      "Evaluating: 100%|██████████| 431/431 [00:06<00:00, 65.08it/s]\n"
     ]
    },
    {
     "name": "stdout",
     "output_type": "stream",
     "text": [
      "Epoch 10/10 - val   loss: 0.7134 - val   accuracy: 0.7851\n"
     ]
    },
    {
     "name": "stderr",
     "output_type": "stream",
     "text": [
      "Evaluating: 100%|██████████| 431/431 [00:06<00:00, 62.47it/s]\n",
      "[I 2025-04-29 00:22:28,234] Trial 3 finished with value: 0.7850711345672607 and parameters: {'lr': 0.00024900110379125684, 'epochs': 10, 'batch_size': 32, 'dropout': 0.6333562415958818, 'num_layers': 1, 'nhead': 16}. Best is trial 0 with value: 0.8014086484909058.\n",
      "c:\\Users\\aaf6\\AppData\\Local\\Programs\\Python\\Python310\\lib\\site-packages\\torch\\nn\\modules\\transformer.py:379: UserWarning: enable_nested_tensor is True, but self.use_nested_tensor is False because encoder_layer.self_attn.batch_first was not True(use batch_first for better inference performance)\n",
      "  warnings.warn(\n"
     ]
    },
    {
     "name": "stdout",
     "output_type": "stream",
     "text": [
      "Epoch 1/8 - train loss: 2.7090 - train accuracy: 0.2396\n"
     ]
    },
    {
     "name": "stderr",
     "output_type": "stream",
     "text": [
      "Evaluating: 100%|██████████| 3443/3443 [00:24<00:00, 138.41it/s]\n"
     ]
    },
    {
     "name": "stdout",
     "output_type": "stream",
     "text": [
      "Epoch 1/8 - val   loss: 1.9134 - val   accuracy: 0.4126\n",
      "Epoch 2/8 - train loss: 1.4520 - train accuracy: 0.5792\n"
     ]
    },
    {
     "name": "stderr",
     "output_type": "stream",
     "text": [
      "Evaluating: 100%|██████████| 3443/3443 [00:17<00:00, 194.52it/s]\n"
     ]
    },
    {
     "name": "stdout",
     "output_type": "stream",
     "text": [
      "Epoch 2/8 - val   loss: 1.2617 - val   accuracy: 0.6356\n",
      "Epoch 3/8 - train loss: 1.1218 - train accuracy: 0.6785\n"
     ]
    },
    {
     "name": "stderr",
     "output_type": "stream",
     "text": [
      "Evaluating: 100%|██████████| 3443/3443 [00:23<00:00, 147.24it/s]\n"
     ]
    },
    {
     "name": "stdout",
     "output_type": "stream",
     "text": [
      "Epoch 3/8 - val   loss: 1.0781 - val   accuracy: 0.6828\n",
      "Epoch 4/8 - train loss: 0.9688 - train accuracy: 0.7197\n"
     ]
    },
    {
     "name": "stderr",
     "output_type": "stream",
     "text": [
      "Evaluating: 100%|██████████| 3443/3443 [00:15<00:00, 224.26it/s]\n"
     ]
    },
    {
     "name": "stdout",
     "output_type": "stream",
     "text": [
      "Epoch 4/8 - val   loss: 0.9649 - val   accuracy: 0.7137\n",
      "Epoch 5/8 - train loss: 0.8623 - train accuracy: 0.7512\n"
     ]
    },
    {
     "name": "stderr",
     "output_type": "stream",
     "text": [
      "Evaluating: 100%|██████████| 3443/3443 [00:14<00:00, 241.29it/s]\n"
     ]
    },
    {
     "name": "stdout",
     "output_type": "stream",
     "text": [
      "Epoch 5/8 - val   loss: 0.8578 - val   accuracy: 0.7434\n",
      "Epoch 6/8 - train loss: 0.7905 - train accuracy: 0.7699\n"
     ]
    },
    {
     "name": "stderr",
     "output_type": "stream",
     "text": [
      "Evaluating: 100%|██████████| 3443/3443 [00:12<00:00, 266.40it/s]\n"
     ]
    },
    {
     "name": "stdout",
     "output_type": "stream",
     "text": [
      "Epoch 6/8 - val   loss: 0.8470 - val   accuracy: 0.7493\n",
      "Epoch 7/8 - train loss: 0.7454 - train accuracy: 0.7833\n"
     ]
    },
    {
     "name": "stderr",
     "output_type": "stream",
     "text": [
      "Evaluating: 100%|██████████| 3443/3443 [00:14<00:00, 237.60it/s]\n"
     ]
    },
    {
     "name": "stdout",
     "output_type": "stream",
     "text": [
      "Epoch 7/8 - val   loss: 0.7857 - val   accuracy: 0.7700\n",
      "Epoch 8/8 - train loss: 0.6948 - train accuracy: 0.7977\n"
     ]
    },
    {
     "name": "stderr",
     "output_type": "stream",
     "text": [
      "Evaluating: 100%|██████████| 3443/3443 [00:14<00:00, 236.97it/s]\n"
     ]
    },
    {
     "name": "stdout",
     "output_type": "stream",
     "text": [
      "Epoch 8/8 - val   loss: 0.8114 - val   accuracy: 0.7619\n"
     ]
    },
    {
     "name": "stderr",
     "output_type": "stream",
     "text": [
      "Evaluating: 100%|██████████| 3443/3443 [00:14<00:00, 241.43it/s]\n",
      "[I 2025-04-29 00:29:27,016] Trial 4 finished with value: 0.761908233165741 and parameters: {'lr': 5.697435428966158e-05, 'epochs': 8, 'batch_size': 4, 'dropout': 0.5563143227037222, 'num_layers': 1, 'nhead': 16}. Best is trial 0 with value: 0.8014086484909058.\n",
      "c:\\Users\\aaf6\\AppData\\Local\\Programs\\Python\\Python310\\lib\\site-packages\\torch\\nn\\modules\\transformer.py:379: UserWarning: enable_nested_tensor is True, but self.use_nested_tensor is False because encoder_layer.self_attn.batch_first was not True(use batch_first for better inference performance)\n",
      "  warnings.warn(\n"
     ]
    },
    {
     "name": "stdout",
     "output_type": "stream",
     "text": [
      "Epoch 1/5 - train loss: 3.2046 - train accuracy: 0.0895\n"
     ]
    },
    {
     "name": "stderr",
     "output_type": "stream",
     "text": [
      "Evaluating: 100%|██████████| 431/431 [00:03<00:00, 132.70it/s]\n"
     ]
    },
    {
     "name": "stdout",
     "output_type": "stream",
     "text": [
      "Epoch 1/5 - val   loss: 2.8588 - val   accuracy: 0.1573\n",
      "Epoch 2/5 - train loss: 2.3145 - train accuracy: 0.3566\n"
     ]
    },
    {
     "name": "stderr",
     "output_type": "stream",
     "text": [
      "Evaluating: 100%|██████████| 431/431 [00:03<00:00, 132.37it/s]\n"
     ]
    },
    {
     "name": "stdout",
     "output_type": "stream",
     "text": [
      "Epoch 2/5 - val   loss: 1.9522 - val   accuracy: 0.4759\n",
      "Epoch 3/5 - train loss: 1.6980 - train accuracy: 0.5570\n"
     ]
    },
    {
     "name": "stderr",
     "output_type": "stream",
     "text": [
      "Evaluating: 100%|██████████| 431/431 [00:03<00:00, 128.89it/s]\n"
     ]
    },
    {
     "name": "stdout",
     "output_type": "stream",
     "text": [
      "Epoch 3/5 - val   loss: 1.5475 - val   accuracy: 0.6052\n",
      "Epoch 4/5 - train loss: 1.3696 - train accuracy: 0.6457\n"
     ]
    },
    {
     "name": "stderr",
     "output_type": "stream",
     "text": [
      "Evaluating: 100%|██████████| 431/431 [00:03<00:00, 129.00it/s]\n"
     ]
    },
    {
     "name": "stdout",
     "output_type": "stream",
     "text": [
      "Epoch 4/5 - val   loss: 1.2912 - val   accuracy: 0.6608\n",
      "Epoch 5/5 - train loss: 1.1823 - train accuracy: 0.6898\n"
     ]
    },
    {
     "name": "stderr",
     "output_type": "stream",
     "text": [
      "Evaluating: 100%|██████████| 431/431 [00:03<00:00, 129.35it/s]\n"
     ]
    },
    {
     "name": "stdout",
     "output_type": "stream",
     "text": [
      "Epoch 5/5 - val   loss: 1.1600 - val   accuracy: 0.6855\n"
     ]
    },
    {
     "name": "stderr",
     "output_type": "stream",
     "text": [
      "Evaluating: 100%|██████████| 431/431 [00:03<00:00, 111.48it/s]\n",
      "[I 2025-04-29 00:30:31,364] Trial 5 finished with value: 0.6855213642120361 and parameters: {'lr': 3.0780432132845295e-05, 'epochs': 5, 'batch_size': 32, 'dropout': 0.363590945008623, 'num_layers': 2, 'nhead': 4}. Best is trial 0 with value: 0.8014086484909058.\n",
      "c:\\Users\\aaf6\\AppData\\Local\\Programs\\Python\\Python310\\lib\\site-packages\\torch\\nn\\modules\\transformer.py:379: UserWarning: enable_nested_tensor is True, but self.use_nested_tensor is False because encoder_layer.self_attn.batch_first was not True(use batch_first for better inference performance)\n",
      "  warnings.warn(\n"
     ]
    },
    {
     "name": "stdout",
     "output_type": "stream",
     "text": [
      "Epoch 1/5 - train loss: 3.3146 - train accuracy: 0.0673\n"
     ]
    },
    {
     "name": "stderr",
     "output_type": "stream",
     "text": [
      "Evaluating: 100%|██████████| 861/861 [00:05<00:00, 170.16it/s]\n"
     ]
    },
    {
     "name": "stdout",
     "output_type": "stream",
     "text": [
      "Epoch 1/5 - val   loss: 2.9142 - val   accuracy: 0.1302\n",
      "Epoch 2/5 - train loss: 2.2622 - train accuracy: 0.3530\n"
     ]
    },
    {
     "name": "stderr",
     "output_type": "stream",
     "text": [
      "Evaluating: 100%|██████████| 861/861 [00:04<00:00, 176.33it/s]\n"
     ]
    },
    {
     "name": "stdout",
     "output_type": "stream",
     "text": [
      "Epoch 2/5 - val   loss: 1.8931 - val   accuracy: 0.4779\n",
      "Epoch 3/5 - train loss: 1.6304 - train accuracy: 0.5588\n"
     ]
    },
    {
     "name": "stderr",
     "output_type": "stream",
     "text": [
      "Evaluating: 100%|██████████| 861/861 [00:05<00:00, 169.99it/s]\n"
     ]
    },
    {
     "name": "stdout",
     "output_type": "stream",
     "text": [
      "Epoch 3/5 - val   loss: 1.4536 - val   accuracy: 0.6080\n",
      "Epoch 4/5 - train loss: 1.2907 - train accuracy: 0.6501\n"
     ]
    },
    {
     "name": "stderr",
     "output_type": "stream",
     "text": [
      "Evaluating: 100%|██████████| 861/861 [00:05<00:00, 171.24it/s]\n"
     ]
    },
    {
     "name": "stdout",
     "output_type": "stream",
     "text": [
      "Epoch 4/5 - val   loss: 1.1975 - val   accuracy: 0.6660\n",
      "Epoch 5/5 - train loss: 1.0839 - train accuracy: 0.7025\n"
     ]
    },
    {
     "name": "stderr",
     "output_type": "stream",
     "text": [
      "Evaluating: 100%|██████████| 861/861 [00:04<00:00, 174.68it/s]\n"
     ]
    },
    {
     "name": "stdout",
     "output_type": "stream",
     "text": [
      "Epoch 5/5 - val   loss: 1.0577 - val   accuracy: 0.6980\n"
     ]
    },
    {
     "name": "stderr",
     "output_type": "stream",
     "text": [
      "Evaluating: 100%|██████████| 861/861 [00:05<00:00, 164.31it/s]\n",
      "[I 2025-04-29 00:32:01,444] Trial 6 finished with value: 0.6980104446411133 and parameters: {'lr': 2.9449916645272645e-05, 'epochs': 5, 'batch_size': 16, 'dropout': 0.7609924851910808, 'num_layers': 2, 'nhead': 8}. Best is trial 0 with value: 0.8014086484909058.\n",
      "c:\\Users\\aaf6\\AppData\\Local\\Programs\\Python\\Python310\\lib\\site-packages\\torch\\nn\\modules\\transformer.py:379: UserWarning: enable_nested_tensor is True, but self.use_nested_tensor is False because encoder_layer.self_attn.batch_first was not True(use batch_first for better inference performance)\n",
      "  warnings.warn(\n"
     ]
    },
    {
     "name": "stdout",
     "output_type": "stream",
     "text": [
      "Epoch 1/8 - train loss: 2.3632 - train accuracy: 0.3272\n"
     ]
    },
    {
     "name": "stderr",
     "output_type": "stream",
     "text": [
      "Evaluating: 100%|██████████| 3443/3443 [00:26<00:00, 132.12it/s]\n"
     ]
    },
    {
     "name": "stdout",
     "output_type": "stream",
     "text": [
      "Epoch 1/8 - val   loss: 1.6026 - val   accuracy: 0.5115\n",
      "Epoch 2/8 - train loss: 1.2245 - train accuracy: 0.6397\n"
     ]
    },
    {
     "name": "stderr",
     "output_type": "stream",
     "text": [
      "Evaluating: 100%|██████████| 3443/3443 [00:26<00:00, 130.77it/s]\n"
     ]
    },
    {
     "name": "stdout",
     "output_type": "stream",
     "text": [
      "Epoch 2/8 - val   loss: 1.0633 - val   accuracy: 0.6866\n",
      "Epoch 3/8 - train loss: 0.8622 - train accuracy: 0.7506\n"
     ]
    },
    {
     "name": "stderr",
     "output_type": "stream",
     "text": [
      "Evaluating: 100%|██████████| 3443/3443 [00:25<00:00, 137.55it/s]\n"
     ]
    },
    {
     "name": "stdout",
     "output_type": "stream",
     "text": [
      "Epoch 3/8 - val   loss: 0.8211 - val   accuracy: 0.7615\n",
      "Epoch 4/8 - train loss: 0.6652 - train accuracy: 0.8100\n"
     ]
    },
    {
     "name": "stderr",
     "output_type": "stream",
     "text": [
      "Evaluating: 100%|██████████| 3443/3443 [00:24<00:00, 141.82it/s]\n"
     ]
    },
    {
     "name": "stdout",
     "output_type": "stream",
     "text": [
      "Epoch 4/8 - val   loss: 0.6531 - val   accuracy: 0.8122\n",
      "Epoch 5/8 - train loss: 0.5574 - train accuracy: 0.8403\n"
     ]
    },
    {
     "name": "stderr",
     "output_type": "stream",
     "text": [
      "Evaluating: 100%|██████████| 3443/3443 [00:13<00:00, 250.55it/s]\n"
     ]
    },
    {
     "name": "stdout",
     "output_type": "stream",
     "text": [
      "Epoch 5/8 - val   loss: 0.5736 - val   accuracy: 0.8336\n",
      "Epoch 6/8 - train loss: 0.4809 - train accuracy: 0.8604\n"
     ]
    },
    {
     "name": "stderr",
     "output_type": "stream",
     "text": [
      "Evaluating: 100%|██████████| 3443/3443 [00:14<00:00, 236.75it/s]\n"
     ]
    },
    {
     "name": "stdout",
     "output_type": "stream",
     "text": [
      "Epoch 6/8 - val   loss: 0.5451 - val   accuracy: 0.8445\n",
      "Epoch 7/8 - train loss: 0.4371 - train accuracy: 0.8718\n"
     ]
    },
    {
     "name": "stderr",
     "output_type": "stream",
     "text": [
      "Evaluating: 100%|██████████| 3443/3443 [00:15<00:00, 228.50it/s]\n"
     ]
    },
    {
     "name": "stdout",
     "output_type": "stream",
     "text": [
      "Epoch 7/8 - val   loss: 0.5337 - val   accuracy: 0.8453\n",
      "Epoch 8/8 - train loss: 0.3956 - train accuracy: 0.8848\n"
     ]
    },
    {
     "name": "stderr",
     "output_type": "stream",
     "text": [
      "Evaluating: 100%|██████████| 3443/3443 [00:14<00:00, 230.79it/s]\n"
     ]
    },
    {
     "name": "stdout",
     "output_type": "stream",
     "text": [
      "Epoch 8/8 - val   loss: 0.4938 - val   accuracy: 0.8579\n"
     ]
    },
    {
     "name": "stderr",
     "output_type": "stream",
     "text": [
      "Evaluating: 100%|██████████| 3443/3443 [00:15<00:00, 221.95it/s]\n",
      "[I 2025-04-29 00:41:18,926] Trial 7 finished with value: 0.857900083065033 and parameters: {'lr': 6.105370611048516e-05, 'epochs': 8, 'batch_size': 4, 'dropout': 0.6438441723101728, 'num_layers': 2, 'nhead': 16}. Best is trial 7 with value: 0.857900083065033.\n",
      "c:\\Users\\aaf6\\AppData\\Local\\Programs\\Python\\Python310\\lib\\site-packages\\torch\\nn\\modules\\transformer.py:379: UserWarning: enable_nested_tensor is True, but self.use_nested_tensor is False because encoder_layer.self_attn.batch_first was not True(use batch_first for better inference performance)\n",
      "  warnings.warn(\n"
     ]
    },
    {
     "name": "stdout",
     "output_type": "stream",
     "text": [
      "Epoch 1/8 - train loss: 3.3663 - train accuracy: 0.0714\n"
     ]
    },
    {
     "name": "stderr",
     "output_type": "stream",
     "text": [
      "Evaluating: 100%|██████████| 431/431 [00:04<00:00, 99.45it/s] \n"
     ]
    },
    {
     "name": "stdout",
     "output_type": "stream",
     "text": [
      "Epoch 1/8 - val   loss: 3.2108 - val   accuracy: 0.1396\n",
      "Epoch 2/8 - train loss: 2.7360 - train accuracy: 0.2499\n"
     ]
    },
    {
     "name": "stderr",
     "output_type": "stream",
     "text": [
      "Evaluating: 100%|██████████| 431/431 [00:04<00:00, 94.41it/s] \n"
     ]
    },
    {
     "name": "stdout",
     "output_type": "stream",
     "text": [
      "Epoch 2/8 - val   loss: 2.4005 - val   accuracy: 0.3453\n",
      "Epoch 3/8 - train loss: 2.2104 - train accuracy: 0.4104\n"
     ]
    },
    {
     "name": "stderr",
     "output_type": "stream",
     "text": [
      "Evaluating: 100%|██████████| 431/431 [00:03<00:00, 117.73it/s]\n"
     ]
    },
    {
     "name": "stdout",
     "output_type": "stream",
     "text": [
      "Epoch 3/8 - val   loss: 2.0837 - val   accuracy: 0.4372\n",
      "Epoch 4/8 - train loss: 1.9306 - train accuracy: 0.5042\n"
     ]
    },
    {
     "name": "stderr",
     "output_type": "stream",
     "text": [
      "Evaluating: 100%|██████████| 431/431 [00:03<00:00, 129.66it/s]\n"
     ]
    },
    {
     "name": "stdout",
     "output_type": "stream",
     "text": [
      "Epoch 4/8 - val   loss: 1.8489 - val   accuracy: 0.5246\n",
      "Epoch 5/8 - train loss: 1.7168 - train accuracy: 0.5692\n"
     ]
    },
    {
     "name": "stderr",
     "output_type": "stream",
     "text": [
      "Evaluating: 100%|██████████| 431/431 [00:03<00:00, 117.18it/s]\n"
     ]
    },
    {
     "name": "stdout",
     "output_type": "stream",
     "text": [
      "Epoch 5/8 - val   loss: 1.6568 - val   accuracy: 0.5808\n",
      "Epoch 6/8 - train loss: 1.5498 - train accuracy: 0.6128\n"
     ]
    },
    {
     "name": "stderr",
     "output_type": "stream",
     "text": [
      "Evaluating: 100%|██████████| 431/431 [00:03<00:00, 121.18it/s]\n"
     ]
    },
    {
     "name": "stdout",
     "output_type": "stream",
     "text": [
      "Epoch 6/8 - val   loss: 1.5378 - val   accuracy: 0.6059\n",
      "Epoch 7/8 - train loss: 1.4101 - train accuracy: 0.6465\n"
     ]
    },
    {
     "name": "stderr",
     "output_type": "stream",
     "text": [
      "Evaluating: 100%|██████████| 431/431 [00:06<00:00, 65.60it/s]\n"
     ]
    },
    {
     "name": "stdout",
     "output_type": "stream",
     "text": [
      "Epoch 7/8 - val   loss: 1.4076 - val   accuracy: 0.6391\n",
      "Epoch 8/8 - train loss: 1.3020 - train accuracy: 0.6697\n"
     ]
    },
    {
     "name": "stderr",
     "output_type": "stream",
     "text": [
      "Evaluating: 100%|██████████| 431/431 [00:06<00:00, 64.93it/s]\n"
     ]
    },
    {
     "name": "stdout",
     "output_type": "stream",
     "text": [
      "Epoch 8/8 - val   loss: 1.2990 - val   accuracy: 0.6664\n"
     ]
    },
    {
     "name": "stderr",
     "output_type": "stream",
     "text": [
      "Evaluating: 100%|██████████| 431/431 [00:07<00:00, 60.39it/s]\n",
      "[I 2025-04-29 00:43:31,514] Trial 8 finished with value: 0.6664246320724487 and parameters: {'lr': 1.3814434030404763e-05, 'epochs': 8, 'batch_size': 32, 'dropout': 0.31972830331703184, 'num_layers': 2, 'nhead': 4}. Best is trial 7 with value: 0.857900083065033.\n",
      "c:\\Users\\aaf6\\AppData\\Local\\Programs\\Python\\Python310\\lib\\site-packages\\torch\\nn\\modules\\transformer.py:379: UserWarning: enable_nested_tensor is True, but self.use_nested_tensor is False because encoder_layer.self_attn.batch_first was not True(use batch_first for better inference performance)\n",
      "  warnings.warn(\n"
     ]
    },
    {
     "name": "stdout",
     "output_type": "stream",
     "text": [
      "Epoch 1/3 - train loss: 2.8768 - train accuracy: 0.1875\n"
     ]
    },
    {
     "name": "stderr",
     "output_type": "stream",
     "text": [
      "Evaluating: 100%|██████████| 861/861 [00:09<00:00, 91.19it/s]\n"
     ]
    },
    {
     "name": "stdout",
     "output_type": "stream",
     "text": [
      "Epoch 1/3 - val   loss: 2.0906 - val   accuracy: 0.3650\n",
      "Epoch 2/3 - train loss: 1.5877 - train accuracy: 0.5479\n"
     ]
    },
    {
     "name": "stderr",
     "output_type": "stream",
     "text": [
      "Evaluating: 100%|██████████| 861/861 [00:09<00:00, 90.72it/s]\n"
     ]
    },
    {
     "name": "stdout",
     "output_type": "stream",
     "text": [
      "Epoch 2/3 - val   loss: 1.2537 - val   accuracy: 0.6444\n",
      "Epoch 3/3 - train loss: 1.0873 - train accuracy: 0.6985\n"
     ]
    },
    {
     "name": "stderr",
     "output_type": "stream",
     "text": [
      "Evaluating: 100%|██████████| 861/861 [00:09<00:00, 89.83it/s]\n"
     ]
    },
    {
     "name": "stdout",
     "output_type": "stream",
     "text": [
      "Epoch 3/3 - val   loss: 1.0010 - val   accuracy: 0.7118\n"
     ]
    },
    {
     "name": "stderr",
     "output_type": "stream",
     "text": [
      "Evaluating: 100%|██████████| 861/861 [00:10<00:00, 84.71it/s]\n",
      "[I 2025-04-29 00:45:20,979] Trial 9 finished with value: 0.7118065357208252 and parameters: {'lr': 5.65293446661469e-05, 'epochs': 3, 'batch_size': 16, 'dropout': 0.6514628602243575, 'num_layers': 2, 'nhead': 16}. Best is trial 7 with value: 0.857900083065033.\n"
     ]
    }
   ],
   "source": [
    "pruner = SuccessiveHalvingPruner(\n",
    "    min_resource=1,          # minimum epochs before pruning\n",
    "    reduction_factor=2,      # cut half the trials each round\n",
    "    min_early_stopping_rate=1\n",
    ")\n",
    "\n",
    "study = optuna.create_study(\n",
    "    direction=\"maximize\",\n",
    "    pruner=pruner\n",
    ")\n",
    "\n",
    "# run 20 trials\n",
    "study.optimize(objective, n_trials=10)\n"
   ]
  },
  {
   "cell_type": "code",
   "execution_count": 13,
   "id": "a912ece3",
   "metadata": {},
   "outputs": [
    {
     "name": "stdout",
     "output_type": "stream",
     "text": [
      "Finished 10 trials: 10 complete, 0 pruned\n",
      "\n",
      "Best accuracy: 0.8579\n",
      "Params:\n",
      "  lr: 6.105370611048516e-05\n",
      "  epochs: 8\n",
      "  batch_size: 4\n",
      "  dropout: 0.6438441723101728\n",
      "  num_layers: 2\n",
      "  nhead: 16\n"
     ]
    },
    {
     "data": {
      "text/html": [
       "<div>\n",
       "<style scoped>\n",
       "    .dataframe tbody tr th:only-of-type {\n",
       "        vertical-align: middle;\n",
       "    }\n",
       "\n",
       "    .dataframe tbody tr th {\n",
       "        vertical-align: top;\n",
       "    }\n",
       "\n",
       "    .dataframe thead th {\n",
       "        text-align: right;\n",
       "    }\n",
       "</style>\n",
       "<table border=\"1\" class=\"dataframe\">\n",
       "  <thead>\n",
       "    <tr style=\"text-align: right;\">\n",
       "      <th></th>\n",
       "      <th>number</th>\n",
       "      <th>value</th>\n",
       "      <th>datetime_start</th>\n",
       "      <th>datetime_complete</th>\n",
       "      <th>duration</th>\n",
       "      <th>params_batch_size</th>\n",
       "      <th>params_dropout</th>\n",
       "      <th>params_epochs</th>\n",
       "      <th>params_lr</th>\n",
       "      <th>params_nhead</th>\n",
       "      <th>params_num_layers</th>\n",
       "      <th>state</th>\n",
       "    </tr>\n",
       "  </thead>\n",
       "  <tbody>\n",
       "    <tr>\n",
       "      <th>0</th>\n",
       "      <td>0</td>\n",
       "      <td>0.801409</td>\n",
       "      <td>2025-04-29 00:05:35.396038</td>\n",
       "      <td>2025-04-29 00:06:34.076748</td>\n",
       "      <td>0 days 00:00:58.680710</td>\n",
       "      <td>32</td>\n",
       "      <td>0.510180</td>\n",
       "      <td>3</td>\n",
       "      <td>0.000197</td>\n",
       "      <td>8</td>\n",
       "      <td>3</td>\n",
       "      <td>COMPLETE</td>\n",
       "    </tr>\n",
       "    <tr>\n",
       "      <th>1</th>\n",
       "      <td>1</td>\n",
       "      <td>0.037685</td>\n",
       "      <td>2025-04-29 00:06:34.077749</td>\n",
       "      <td>2025-04-29 00:14:52.001999</td>\n",
       "      <td>0 days 00:08:17.924250</td>\n",
       "      <td>4</td>\n",
       "      <td>0.684426</td>\n",
       "      <td>5</td>\n",
       "      <td>0.000711</td>\n",
       "      <td>16</td>\n",
       "      <td>3</td>\n",
       "      <td>COMPLETE</td>\n",
       "    </tr>\n",
       "    <tr>\n",
       "      <th>2</th>\n",
       "      <td>2</td>\n",
       "      <td>0.024615</td>\n",
       "      <td>2025-04-29 00:14:52.002999</td>\n",
       "      <td>2025-04-29 00:19:21.357980</td>\n",
       "      <td>0 days 00:04:29.354981</td>\n",
       "      <td>16</td>\n",
       "      <td>0.248440</td>\n",
       "      <td>8</td>\n",
       "      <td>0.000988</td>\n",
       "      <td>4</td>\n",
       "      <td>2</td>\n",
       "      <td>COMPLETE</td>\n",
       "    </tr>\n",
       "    <tr>\n",
       "      <th>3</th>\n",
       "      <td>3</td>\n",
       "      <td>0.785071</td>\n",
       "      <td>2025-04-29 00:19:21.358980</td>\n",
       "      <td>2025-04-29 00:22:28.234993</td>\n",
       "      <td>0 days 00:03:06.876013</td>\n",
       "      <td>32</td>\n",
       "      <td>0.633356</td>\n",
       "      <td>10</td>\n",
       "      <td>0.000249</td>\n",
       "      <td>16</td>\n",
       "      <td>1</td>\n",
       "      <td>COMPLETE</td>\n",
       "    </tr>\n",
       "    <tr>\n",
       "      <th>4</th>\n",
       "      <td>4</td>\n",
       "      <td>0.761908</td>\n",
       "      <td>2025-04-29 00:22:28.235999</td>\n",
       "      <td>2025-04-29 00:29:27.016565</td>\n",
       "      <td>0 days 00:06:58.780566</td>\n",
       "      <td>4</td>\n",
       "      <td>0.556314</td>\n",
       "      <td>8</td>\n",
       "      <td>0.000057</td>\n",
       "      <td>16</td>\n",
       "      <td>1</td>\n",
       "      <td>COMPLETE</td>\n",
       "    </tr>\n",
       "    <tr>\n",
       "      <th>5</th>\n",
       "      <td>5</td>\n",
       "      <td>0.685521</td>\n",
       "      <td>2025-04-29 00:29:27.017566</td>\n",
       "      <td>2025-04-29 00:30:31.364565</td>\n",
       "      <td>0 days 00:01:04.346999</td>\n",
       "      <td>32</td>\n",
       "      <td>0.363591</td>\n",
       "      <td>5</td>\n",
       "      <td>0.000031</td>\n",
       "      <td>4</td>\n",
       "      <td>2</td>\n",
       "      <td>COMPLETE</td>\n",
       "    </tr>\n",
       "    <tr>\n",
       "      <th>6</th>\n",
       "      <td>6</td>\n",
       "      <td>0.698010</td>\n",
       "      <td>2025-04-29 00:30:31.364565</td>\n",
       "      <td>2025-04-29 00:32:01.444474</td>\n",
       "      <td>0 days 00:01:30.079909</td>\n",
       "      <td>16</td>\n",
       "      <td>0.760992</td>\n",
       "      <td>5</td>\n",
       "      <td>0.000029</td>\n",
       "      <td>8</td>\n",
       "      <td>2</td>\n",
       "      <td>COMPLETE</td>\n",
       "    </tr>\n",
       "    <tr>\n",
       "      <th>7</th>\n",
       "      <td>7</td>\n",
       "      <td>0.857900</td>\n",
       "      <td>2025-04-29 00:32:01.445475</td>\n",
       "      <td>2025-04-29 00:41:18.925475</td>\n",
       "      <td>0 days 00:09:17.480000</td>\n",
       "      <td>4</td>\n",
       "      <td>0.643844</td>\n",
       "      <td>8</td>\n",
       "      <td>0.000061</td>\n",
       "      <td>16</td>\n",
       "      <td>2</td>\n",
       "      <td>COMPLETE</td>\n",
       "    </tr>\n",
       "    <tr>\n",
       "      <th>8</th>\n",
       "      <td>8</td>\n",
       "      <td>0.666425</td>\n",
       "      <td>2025-04-29 00:41:18.926473</td>\n",
       "      <td>2025-04-29 00:43:31.514936</td>\n",
       "      <td>0 days 00:02:12.588463</td>\n",
       "      <td>32</td>\n",
       "      <td>0.319728</td>\n",
       "      <td>8</td>\n",
       "      <td>0.000014</td>\n",
       "      <td>4</td>\n",
       "      <td>2</td>\n",
       "      <td>COMPLETE</td>\n",
       "    </tr>\n",
       "    <tr>\n",
       "      <th>9</th>\n",
       "      <td>9</td>\n",
       "      <td>0.711807</td>\n",
       "      <td>2025-04-29 00:43:31.515936</td>\n",
       "      <td>2025-04-29 00:45:20.978038</td>\n",
       "      <td>0 days 00:01:49.462102</td>\n",
       "      <td>16</td>\n",
       "      <td>0.651463</td>\n",
       "      <td>3</td>\n",
       "      <td>0.000057</td>\n",
       "      <td>16</td>\n",
       "      <td>2</td>\n",
       "      <td>COMPLETE</td>\n",
       "    </tr>\n",
       "  </tbody>\n",
       "</table>\n",
       "</div>"
      ],
      "text/plain": [
       "   number     value             datetime_start          datetime_complete  \\\n",
       "0       0  0.801409 2025-04-29 00:05:35.396038 2025-04-29 00:06:34.076748   \n",
       "1       1  0.037685 2025-04-29 00:06:34.077749 2025-04-29 00:14:52.001999   \n",
       "2       2  0.024615 2025-04-29 00:14:52.002999 2025-04-29 00:19:21.357980   \n",
       "3       3  0.785071 2025-04-29 00:19:21.358980 2025-04-29 00:22:28.234993   \n",
       "4       4  0.761908 2025-04-29 00:22:28.235999 2025-04-29 00:29:27.016565   \n",
       "5       5  0.685521 2025-04-29 00:29:27.017566 2025-04-29 00:30:31.364565   \n",
       "6       6  0.698010 2025-04-29 00:30:31.364565 2025-04-29 00:32:01.444474   \n",
       "7       7  0.857900 2025-04-29 00:32:01.445475 2025-04-29 00:41:18.925475   \n",
       "8       8  0.666425 2025-04-29 00:41:18.926473 2025-04-29 00:43:31.514936   \n",
       "9       9  0.711807 2025-04-29 00:43:31.515936 2025-04-29 00:45:20.978038   \n",
       "\n",
       "                duration  params_batch_size  params_dropout  params_epochs  \\\n",
       "0 0 days 00:00:58.680710                 32        0.510180              3   \n",
       "1 0 days 00:08:17.924250                  4        0.684426              5   \n",
       "2 0 days 00:04:29.354981                 16        0.248440              8   \n",
       "3 0 days 00:03:06.876013                 32        0.633356             10   \n",
       "4 0 days 00:06:58.780566                  4        0.556314              8   \n",
       "5 0 days 00:01:04.346999                 32        0.363591              5   \n",
       "6 0 days 00:01:30.079909                 16        0.760992              5   \n",
       "7 0 days 00:09:17.480000                  4        0.643844              8   \n",
       "8 0 days 00:02:12.588463                 32        0.319728              8   \n",
       "9 0 days 00:01:49.462102                 16        0.651463              3   \n",
       "\n",
       "   params_lr  params_nhead  params_num_layers     state  \n",
       "0   0.000197             8                  3  COMPLETE  \n",
       "1   0.000711            16                  3  COMPLETE  \n",
       "2   0.000988             4                  2  COMPLETE  \n",
       "3   0.000249            16                  1  COMPLETE  \n",
       "4   0.000057            16                  1  COMPLETE  \n",
       "5   0.000031             4                  2  COMPLETE  \n",
       "6   0.000029             8                  2  COMPLETE  \n",
       "7   0.000061            16                  2  COMPLETE  \n",
       "8   0.000014             4                  2  COMPLETE  \n",
       "9   0.000057            16                  2  COMPLETE  "
      ]
     },
     "execution_count": 13,
     "metadata": {},
     "output_type": "execute_result"
    }
   ],
   "source": [
    "from optuna.trial import TrialState\n",
    "import pandas as pd\n",
    "\n",
    "# summary\n",
    "trials = study.trials\n",
    "n_complete = len([t for t in trials if t.state is TrialState.COMPLETE])\n",
    "n_pruned   = len([t for t in trials if t.state is TrialState.PRUNED])\n",
    "print(f\"Finished {len(trials)} trials: {n_complete} complete, {n_pruned} pruned\")\n",
    "\n",
    "# best trial\n",
    "best = study.best_trial\n",
    "print(f\"\\nBest accuracy: {best.value:.4f}\")\n",
    "print(\"Params:\")\n",
    "for k, v in best.params.items():\n",
    "    print(f\"  {k}: {v}\")\n",
    "\n",
    "# optional: dataframe of all trials\n",
    "df = study.trials_dataframe()\n",
    "df\n"
   ]
  },
  {
   "cell_type": "code",
   "execution_count": 6,
   "id": "a52a71c0",
   "metadata": {},
   "outputs": [
    {
     "name": "stderr",
     "output_type": "stream",
     "text": [
      "c:\\Users\\aaf6\\AppData\\Local\\Programs\\Python\\Python310\\lib\\site-packages\\torch\\nn\\modules\\transformer.py:379: UserWarning: enable_nested_tensor is True, but self.use_nested_tensor is False because encoder_layer.self_attn.batch_first was not True(use batch_first for better inference performance)\n",
      "  warnings.warn(\n"
     ]
    }
   ],
   "source": [
    "batch = next(iter(test_loader))\n",
    "sample = batch.data[0]\n",
    "C, *rest = sample.shape\n",
    "if len(rest) == 1:\n",
    "    input_dim = C\n",
    "else:\n",
    "    H, W = rest\n",
    "    input_dim = C * H\n",
    "\n",
    "num_classes = len(train_loader.class_to_idx)\n",
    "\n",
    "model = CustomTransformerModel(\n",
    "    input_dim=input_dim,\n",
    "    num_classes=num_classes,\n",
    "    d_model=128,\n",
    "    nhead=16,\n",
    "    num_layers=2,\n",
    "    lr=6.105370611048516e-05,\n",
    "    dropout=0.6438441723101728\n",
    ").to(device)"
   ]
  },
  {
   "cell_type": "code",
   "execution_count": 8,
   "id": "c93339bf",
   "metadata": {},
   "outputs": [
    {
     "name": "stdout",
     "output_type": "stream",
     "text": [
      "Epoch 1/8 - train loss: 3.2505 - train accuracy: 0.0970\n"
     ]
    },
    {
     "name": "stderr",
     "output_type": "stream",
     "text": [
      "Evaluating: 100%|██████████| 216/216 [00:03<00:00, 54.28it/s]\n"
     ]
    },
    {
     "name": "stdout",
     "output_type": "stream",
     "text": [
      "Epoch 1/8 - val   loss: 2.6807 - val   accuracy: 0.2056\n",
      "Epoch 2/8 - train loss: 1.9900 - train accuracy: 0.4511\n"
     ]
    },
    {
     "name": "stderr",
     "output_type": "stream",
     "text": [
      "Evaluating: 100%|██████████| 216/216 [00:06<00:00, 34.90it/s]\n"
     ]
    },
    {
     "name": "stdout",
     "output_type": "stream",
     "text": [
      "Epoch 2/8 - val   loss: 1.5944 - val   accuracy: 0.5717\n",
      "Epoch 3/8 - train loss: 1.3734 - train accuracy: 0.6316\n"
     ]
    },
    {
     "name": "stderr",
     "output_type": "stream",
     "text": [
      "Evaluating: 100%|██████████| 216/216 [00:05<00:00, 42.38it/s]\n"
     ]
    },
    {
     "name": "stdout",
     "output_type": "stream",
     "text": [
      "Epoch 3/8 - val   loss: 1.2476 - val   accuracy: 0.6581\n",
      "Epoch 4/8 - train loss: 1.1112 - train accuracy: 0.6983\n"
     ]
    },
    {
     "name": "stderr",
     "output_type": "stream",
     "text": [
      "Evaluating: 100%|██████████| 216/216 [00:05<00:00, 38.97it/s]\n"
     ]
    },
    {
     "name": "stdout",
     "output_type": "stream",
     "text": [
      "Epoch 4/8 - val   loss: 1.0569 - val   accuracy: 0.7027\n",
      "Epoch 5/8 - train loss: 0.9585 - train accuracy: 0.7365\n"
     ]
    },
    {
     "name": "stderr",
     "output_type": "stream",
     "text": [
      "Evaluating: 100%|██████████| 216/216 [00:05<00:00, 39.01it/s]\n"
     ]
    },
    {
     "name": "stdout",
     "output_type": "stream",
     "text": [
      "Epoch 5/8 - val   loss: 0.9352 - val   accuracy: 0.7363\n",
      "Epoch 6/8 - train loss: 0.8539 - train accuracy: 0.7624\n"
     ]
    },
    {
     "name": "stderr",
     "output_type": "stream",
     "text": [
      "Evaluating: 100%|██████████| 216/216 [00:05<00:00, 38.69it/s]\n"
     ]
    },
    {
     "name": "stdout",
     "output_type": "stream",
     "text": [
      "Epoch 6/8 - val   loss: 0.8644 - val   accuracy: 0.7528\n",
      "Epoch 7/8 - train loss: 0.7738 - train accuracy: 0.7826\n"
     ]
    },
    {
     "name": "stderr",
     "output_type": "stream",
     "text": [
      "Evaluating: 100%|██████████| 216/216 [00:05<00:00, 38.54it/s]\n"
     ]
    },
    {
     "name": "stdout",
     "output_type": "stream",
     "text": [
      "Epoch 7/8 - val   loss: 0.8156 - val   accuracy: 0.7693\n",
      "Epoch 8/8 - train loss: 0.7119 - train accuracy: 0.8005\n"
     ]
    },
    {
     "name": "stderr",
     "output_type": "stream",
     "text": [
      "Evaluating: 100%|██████████| 216/216 [00:05<00:00, 36.41it/s]"
     ]
    },
    {
     "name": "stdout",
     "output_type": "stream",
     "text": [
      "Epoch 8/8 - val   loss: 0.7425 - val   accuracy: 0.7883\n"
     ]
    },
    {
     "name": "stderr",
     "output_type": "stream",
     "text": [
      "\n"
     ]
    }
   ],
   "source": [
    "# training loop\n",
    "model.train_architecture(train_loader = train_loader, epochs = 8, val_loader=val_loader)"
   ]
  },
  {
   "cell_type": "code",
   "execution_count": 9,
   "id": "ff383635",
   "metadata": {},
   "outputs": [
    {
     "name": "stderr",
     "output_type": "stream",
     "text": [
      "Evaluating: 100%|██████████| 211/211 [00:06<00:00, 33.84it/s]"
     ]
    },
    {
     "name": "stdout",
     "output_type": "stream",
     "text": [
      "Validation Summary:\n",
      "  loss: 0.7077\n",
      "  accuracy: 0.8045\n",
      "  precision: 0.8103\n",
      "  recall: 0.8059\n",
      "  f1: 0.8066\n"
     ]
    },
    {
     "name": "stderr",
     "output_type": "stream",
     "text": [
      "\n"
     ]
    }
   ],
   "source": [
    "results = model.evaluate(test_loader)\n",
    "print(\"Validation Summary:\")\n",
    "for k, v in results['summary'].items():\n",
    "    print(f\"  {k}: {v:.4f}\")"
   ]
  },
  {
   "cell_type": "code",
   "execution_count": 11,
   "id": "654753c5",
   "metadata": {},
   "outputs": [
    {
     "data": {
      "image/png": "[encoded data removed]",
      "text/plain": [
       "<Figure size 1440x864 with 2 Axes>"
      ]
     },
     "metadata": {
      "needs_background": "light"
     },
     "output_type": "display_data"
    }
   ],
   "source": [
    "cm = results['confusion_matrix']\n",
    "labels = list(train_loader.class_to_idx.keys())\n",
    "\n",
    "fig, ax = plt.subplots(figsize=(20, 12))\n",
    "im = ax.imshow(cm, interpolation='nearest', cmap='Blues', vmin=0, vmax=cm.max())\n",
    "\n",
    "ax.set(\n",
    "    xticks=np.arange(len(labels)),\n",
    "    yticks=np.arange(len(labels)),\n",
    "    xticklabels=labels,\n",
    "    yticklabels=labels,\n",
    "    xlabel='Predicted Label',\n",
    "    ylabel='True Label',\n",
    "    title='Confusion Matrix'\n",
    ")\n",
    "plt.setp(ax.get_xticklabels(), rotation=45, ha='right')\n",
    "\n",
    "for i in range(cm.shape[0]):\n",
    "    for j in range(cm.shape[1]):\n",
    "        ax.text(j, i, f\"{cm[i, j]:d}\", ha='center', va='center')\n",
    "\n",
    "fig.colorbar(im, ax=ax, fraction=0.046, pad=0.04)\n",
    "fig.tight_layout()\n",
    "plt.show()\n"
   ]
  },
  {
   "cell_type": "code",
   "execution_count": 17,
   "id": "312e1e4c",
   "metadata": {},
   "outputs": [],
   "source": [
    "# For spectogram data\n",
    "train_dir = DATA_PATH / Path(\"spectogram_transformed\", \"training\")\n",
    "val_dir = DATA_PATH / Path(\"spectogram_transformed\", \"validation\")\n",
    "test_dir = DATA_PATH / Path(\"spectogram_transformed\", \"testing\")\n",
    "\n",
    "batch_size = 8\n",
    "\n",
    "train_loader = DataLoader(\n",
    "    data_dir=train_dir,\n",
    "    data_type='spectrogram',\n",
    "    batch_size=batch_size,\n",
    "    shuffle=True\n",
    ")\n",
    "val_loader = DataLoader(\n",
    "    data_dir=val_dir,\n",
    "    data_type='spectrogram',\n",
    "    batch_size=batch_size,\n",
    "    shuffle=True\n",
    ")\n",
    "\n",
    "test_loader = DataLoader(\n",
    "    data_dir=test_dir,\n",
    "    data_type='spectrogram',\n",
    "    batch_size=batch_size,\n",
    "    shuffle=True\n",
    ")"
   ]
  },
  {
   "cell_type": "code",
   "execution_count": 18,
   "id": "3b3e8ff9",
   "metadata": {},
   "outputs": [],
   "source": [
    "batch = next(iter(test_loader))\n",
    "sample = batch.data[0]\n",
    "C, *rest = sample.shape\n",
    "if len(rest) == 1:\n",
    "    input_dim = C\n",
    "else:\n",
    "    H, W = rest\n",
    "    input_dim = C * H\n",
    "\n",
    "num_classes = len(train_loader.class_to_idx)\n",
    "\n",
    "model = CustomTransformerModel(\n",
    "    input_dim=input_dim,\n",
    "    num_classes=num_classes,\n",
    "    d_model=128,\n",
    "    nhead=16,\n",
    "    num_layers=2,\n",
    "    lr=6.105370611048516e-05,\n",
    "    dropout=0.6438441723101728\n",
    ").to(device)"
   ]
  },
  {
   "cell_type": "code",
   "execution_count": 19,
   "id": "f9ddac2e",
   "metadata": {},
   "outputs": [
    {
     "name": "stdout",
     "output_type": "stream",
     "text": [
      "Epoch 1/8 - train loss: 2.7666 - train accuracy: 0.2046\n"
     ]
    },
    {
     "name": "stderr",
     "output_type": "stream",
     "text": [
      "Evaluating: 100%|██████████| 1722/1722 [05:14<00:00,  5.47it/s]\n"
     ]
    },
    {
     "name": "stdout",
     "output_type": "stream",
     "text": [
      "Epoch 1/8 - val   loss: 1.9600 - val   accuracy: 0.4014\n",
      "Epoch 2/8 - train loss: 1.5406 - train accuracy: 0.5463\n"
     ]
    },
    {
     "name": "stderr",
     "output_type": "stream",
     "text": [
      "Evaluating: 100%|██████████| 1722/1722 [00:17<00:00, 99.78it/s] \n"
     ]
    },
    {
     "name": "stdout",
     "output_type": "stream",
     "text": [
      "Epoch 2/8 - val   loss: 1.2930 - val   accuracy: 0.6239\n",
      "Epoch 3/8 - train loss: 1.1107 - train accuracy: 0.6831\n"
     ]
    },
    {
     "name": "stderr",
     "output_type": "stream",
     "text": [
      "Evaluating: 100%|██████████| 1722/1722 [00:17<00:00, 96.00it/s] \n"
     ]
    },
    {
     "name": "stdout",
     "output_type": "stream",
     "text": [
      "Epoch 3/8 - val   loss: 1.0808 - val   accuracy: 0.6811\n",
      "Epoch 4/8 - train loss: 0.8865 - train accuracy: 0.7477\n"
     ]
    },
    {
     "name": "stderr",
     "output_type": "stream",
     "text": [
      "Evaluating: 100%|██████████| 1722/1722 [00:18<00:00, 94.01it/s] \n"
     ]
    },
    {
     "name": "stdout",
     "output_type": "stream",
     "text": [
      "Epoch 4/8 - val   loss: 0.8844 - val   accuracy: 0.7464\n",
      "Epoch 5/8 - train loss: 0.7386 - train accuracy: 0.7860\n"
     ]
    },
    {
     "name": "stderr",
     "output_type": "stream",
     "text": [
      "Evaluating: 100%|██████████| 1722/1722 [00:17<00:00, 100.28it/s]\n"
     ]
    },
    {
     "name": "stdout",
     "output_type": "stream",
     "text": [
      "Epoch 5/8 - val   loss: 0.7883 - val   accuracy: 0.7740\n",
      "Epoch 6/8 - train loss: 0.6336 - train accuracy: 0.8177\n"
     ]
    },
    {
     "name": "stderr",
     "output_type": "stream",
     "text": [
      "Evaluating: 100%|██████████| 1722/1722 [00:17<00:00, 97.01it/s] \n"
     ]
    },
    {
     "name": "stdout",
     "output_type": "stream",
     "text": [
      "Epoch 6/8 - val   loss: 0.6796 - val   accuracy: 0.8042\n",
      "Epoch 7/8 - train loss: 0.5631 - train accuracy: 0.8388\n"
     ]
    },
    {
     "name": "stderr",
     "output_type": "stream",
     "text": [
      "Evaluating: 100%|██████████| 1722/1722 [00:19<00:00, 87.48it/s] \n"
     ]
    },
    {
     "name": "stdout",
     "output_type": "stream",
     "text": [
      "Epoch 7/8 - val   loss: 0.6123 - val   accuracy: 0.8237\n",
      "Epoch 8/8 - train loss: 0.5121 - train accuracy: 0.8520\n"
     ]
    },
    {
     "name": "stderr",
     "output_type": "stream",
     "text": [
      "Evaluating: 100%|██████████| 1722/1722 [00:17<00:00, 97.46it/s] "
     ]
    },
    {
     "name": "stdout",
     "output_type": "stream",
     "text": [
      "Epoch 8/8 - val   loss: 0.5904 - val   accuracy: 0.8291\n"
     ]
    },
    {
     "name": "stderr",
     "output_type": "stream",
     "text": [
      "\n"
     ]
    }
   ],
   "source": [
    "# training loop\n",
    "model.train_architecture(train_loader = train_loader, epochs = 8, val_loader=val_loader)"
   ]
  },
  {
   "cell_type": "code",
   "execution_count": 20,
   "id": "d838b4dc",
   "metadata": {},
   "outputs": [
    {
     "name": "stderr",
     "output_type": "stream",
     "text": [
      "Evaluating: 100%|██████████| 1684/1684 [04:58<00:00,  5.64it/s]\n"
     ]
    },
    {
     "name": "stdout",
     "output_type": "stream",
     "text": [
      "Validation Summary:\n",
      "  loss: 0.5335\n",
      "  accuracy: 0.8469\n",
      "  precision: 0.8569\n",
      "  recall: 0.8485\n",
      "  f1: 0.8497\n"
     ]
    }
   ],
   "source": [
    "results = model.evaluate(test_loader)\n",
    "print(\"Validation Summary:\")\n",
    "for k, v in results['summary'].items():\n",
    "    print(f\"  {k}: {v:.4f}\")"
   ]
  },
  {
   "cell_type": "code",
   "execution_count": 21,
   "id": "8d90af3c",
   "metadata": {},
   "outputs": [
    {
     "data": {
      "image/png": "[encoded data removed]",
      "text/plain": [
       "<Figure size 1440x864 with 2 Axes>"
      ]
     },
     "metadata": {
      "needs_background": "light"
     },
     "output_type": "display_data"
    }
   ],
   "source": [
    "cm = results['confusion_matrix']\n",
    "labels = list(train_loader.class_to_idx.keys())\n",
    "\n",
    "fig, ax = plt.subplots(figsize=(20, 12))\n",
    "im = ax.imshow(cm, interpolation='nearest', cmap='Blues', vmin=0, vmax=cm.max())\n",
    "\n",
    "ax.set(\n",
    "    xticks=np.arange(len(labels)),\n",
    "    yticks=np.arange(len(labels)),\n",
    "    xticklabels=labels,\n",
    "    yticklabels=labels,\n",
    "    xlabel='Predicted Label',\n",
    "    ylabel='True Label',\n",
    "    title='Confusion Matrix'\n",
    ")\n",
    "plt.setp(ax.get_xticklabels(), rotation=45, ha='right')\n",
    "\n",
    "for i in range(cm.shape[0]):\n",
    "    for j in range(cm.shape[1]):\n",
    "        ax.text(j, i, f\"{cm[i, j]:d}\", ha='center', va='center')\n",
    "\n",
    "fig.colorbar(im, ax=ax, fraction=0.046, pad=0.04)\n",
    "fig.tight_layout()\n",
    "plt.show()\n"
   ]
  },
  {
   "cell_type": "code",
   "execution_count": 30,
   "id": "242cacd3",
   "metadata": {},
   "outputs": [],
   "source": [
    "# For spectogram data\n",
    "train_dir = DATA_PATH / Path(\"Statistical_transform\", \"training\")\n",
    "val_dir = DATA_PATH / Path(\"Statistical_transform\", \"validation\")\n",
    "test_dir = DATA_PATH / Path(\"Statistical_transform\", \"testing\")\n",
    "\n",
    "batch_size = 8\n",
    "\n",
    "train_loader = DataLoader(\n",
    "    data_dir=train_dir,\n",
    "    data_type='moving',\n",
    "    batch_size=batch_size,\n",
    "    shuffle=True\n",
    ")\n",
    "val_loader = DataLoader(\n",
    "    data_dir=val_dir,\n",
    "    data_type='moving',\n",
    "    batch_size=batch_size,\n",
    "    shuffle=True\n",
    ")\n",
    "\n",
    "test_loader = DataLoader(\n",
    "    data_dir=test_dir,\n",
    "    data_type='moving',\n",
    "    batch_size=batch_size,\n",
    "    shuffle=True\n",
    ")"
   ]
  },
  {
   "cell_type": "code",
   "execution_count": 33,
   "id": "9bd053f4",
   "metadata": {},
   "outputs": [
    {
     "name": "stderr",
     "output_type": "stream",
     "text": [
      "c:\\Users\\aaf6\\AppData\\Local\\Programs\\Python\\Python310\\lib\\site-packages\\torch\\nn\\modules\\transformer.py:379: UserWarning: enable_nested_tensor is True, but self.use_nested_tensor is False because encoder_layer.self_attn.batch_first was not True(use batch_first for better inference performance)\n",
      "  warnings.warn(\n"
     ]
    }
   ],
   "source": [
    "batch = next(iter(train_loader))\n",
    "sample = batch.data[0]\n",
    "C, *rest = sample.shape\n",
    "if len(rest) == 1:\n",
    "    input_dim = C\n",
    "else:\n",
    "    H, W = rest\n",
    "    input_dim = C * H\n",
    "\n",
    "num_classes = len(train_loader.class_to_idx)\n",
    "\n",
    "model = CustomTransformerModel(\n",
    "    input_dim=input_dim,\n",
    "    num_classes=num_classes,\n",
    "    d_model=128,\n",
    "    nhead=16,\n",
    "    num_layers=2,\n",
    "    lr=6.105370611048516e-05,\n",
    "    dropout=0.6438441723101728\n",
    ").to(device)"
   ]
  },
  {
   "cell_type": "code",
   "execution_count": null,
   "id": "2697ff11",
   "metadata": {},
   "outputs": [],
   "source": []
  }
 ],
 "metadata": {
  "kernelspec": {
   "display_name": "Python 3",
   "language": "python",
   "name": "python3"
  },
  "language_info": {
   "codemirror_mode": {
    "name": "ipython",
    "version": 3
   },
   "file_extension": ".py",
   "mimetype": "text/x-python",
   "name": "python",
   "nbconvert_exporter": "python",
   "pygments_lexer": "ipython3",
   "version": "3.10.5"
  }
 },
 "nbformat": 4,
 "nbformat_minor": 5
}
