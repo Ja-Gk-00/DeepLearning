{
 "cells": [
  {
   "cell_type": "markdown",
   "id": "0f1d7b13",
   "metadata": {},
   "source": [
    "# Custom Transformer Model evaluation.  \n",
    "Notebook dedicated to training and evaluation of our custom transformer models."
   ]
  },
  {
   "cell_type": "markdown",
   "id": "537a58e5",
   "metadata": {},
   "source": []
  },
  {
   "cell_type": "code",
   "execution_count": 1,
   "id": "a17db820",
   "metadata": {},
   "outputs": [],
   "source": [
    "# imports\n",
    "import torch\n",
    "from DataObjects.DataLoader import DataLoader\n",
    "from Architectures.Transformer.CustomTransformer import CustomTransformerModel\n",
    "\n",
    "from pathlib import Path\n",
    "import numpy as np"
   ]
  },
  {
   "cell_type": "code",
   "execution_count": 2,
   "id": "9637fc68",
   "metadata": {},
   "outputs": [],
   "source": [
    "# SETTING SEED\n",
    "SEED = 42069    \n",
    "torch.manual_seed(SEED)\n",
    "np.random.seed(0)"
   ]
  },
  {
   "cell_type": "code",
   "execution_count": 3,
   "id": "2c59f90e",
   "metadata": {},
   "outputs": [
    {
     "name": "stdout",
     "output_type": "stream",
     "text": [
      "Using device: cuda\n"
     ]
    }
   ],
   "source": [
    "# set device to cuda\n",
    "device = torch.device('cuda' if torch.cuda.is_available() else 'cpu')\n",
    "print(f\"Using device: {device}\")"
   ]
  },
  {
   "cell_type": "code",
   "execution_count": 4,
   "id": "3b380fac",
   "metadata": {},
   "outputs": [],
   "source": [
    "DATA_PATH = Path(\"Data\")"
   ]
  },
  {
   "cell_type": "code",
   "execution_count": 5,
   "id": "d2cddd3b",
   "metadata": {},
   "outputs": [
    {
     "name": "stdout",
     "output_type": "stream",
     "text": [
      "Classes: {'bed': 0, 'bird': 1, 'cat': 2, 'dog': 3, 'down': 4, 'eight': 5, 'five': 6, 'four': 7, 'go': 8, 'happy': 9, 'house': 10, 'left': 11, 'marvin': 12, 'nine': 13, 'no': 14, 'off': 15, 'on': 16, 'one': 17, 'right': 18, 'seven': 19, 'sheila': 20, 'silence': 21, 'six': 22, 'stop': 23, 'three': 24, 'tree': 25, 'two': 26, 'up': 27, 'wow': 28, 'yes': 29, 'zero': 30}\n",
      "# training batches: 586\n",
      "# validation batches: 216\n",
      "# testing batches: 211\n"
     ]
    }
   ],
   "source": [
    "# prepare Data Loader files\n",
    "train_dir = DATA_PATH / Path(\"MFCC_transformed\", \"training\")\n",
    "val_dir = DATA_PATH / Path(\"MFCC_transformed\", \"validation\")\n",
    "test_dir = DATA_PATH / Path(\"MFCC_transformed\", \"testing\")\n",
    "\n",
    "batch_size = 64\n",
    "\n",
    "train_loader = DataLoader(\n",
    "    data_dir=train_dir,\n",
    "    data_type='mfcc',\n",
    "    batch_size=batch_size,\n",
    "    shuffle=True\n",
    ")\n",
    "val_loader = DataLoader(\n",
    "    data_dir=val_dir,\n",
    "    data_type='mfcc',\n",
    "    batch_size=batch_size,\n",
    "    shuffle=True\n",
    ")\n",
    "\n",
    "test_loader = DataLoader(\n",
    "    data_dir=test_dir,\n",
    "    data_type='mfcc',\n",
    "    batch_size=batch_size,\n",
    "    shuffle=True\n",
    ")\n",
    "\n",
    "# Inspect class mapping and dataset size\n",
    "print(\"Classes:\", train_loader.class_to_idx)\n",
    "print(\"# training batches:\", len(train_loader))\n",
    "\n",
    "print(\"# validation batches:\", len(val_loader))\n",
    "\n",
    "print(\"# testing batches:\", len(test_loader))"
   ]
  },
  {
   "cell_type": "code",
   "execution_count": 6,
   "id": "48affd5f",
   "metadata": {},
   "outputs": [
    {
     "name": "stderr",
     "output_type": "stream",
     "text": [
      "c:\\Users\\aaf6\\AppData\\Local\\Programs\\Python\\Python310\\lib\\site-packages\\torch\\nn\\modules\\transformer.py:379: UserWarning: enable_nested_tensor is True, but self.use_nested_tensor is False because encoder_layer.self_attn.batch_first was not True(use batch_first for better inference performance)\n",
      "  warnings.warn(\n"
     ]
    }
   ],
   "source": [
    "batch = next(iter(test_loader))\n",
    "sample = batch.data[0]\n",
    "C, *rest = sample.shape\n",
    "if len(rest) == 1:\n",
    "    input_dim = C\n",
    "else:\n",
    "    H, W = rest\n",
    "    input_dim = C * H\n",
    "\n",
    "num_classes = len(train_loader.class_to_idx)\n",
    "\n",
    "model = CustomTransformerModel(\n",
    "    input_dim=input_dim,\n",
    "    num_classes=num_classes,\n",
    "    d_model=128,\n",
    "    nhead=4,\n",
    "    num_layers=1,\n",
    "    lr=1e-3\n",
    ").to(device)\n"
   ]
  },
  {
   "cell_type": "code",
   "execution_count": 7,
   "id": "8a154094",
   "metadata": {},
   "outputs": [
    {
     "name": "stdout",
     "output_type": "stream",
     "text": [
      "Epoch 1/20 - train loss: 1.9595 - train accuracy: 0.4230\n"
     ]
    },
    {
     "name": "stderr",
     "output_type": "stream",
     "text": [
      "Evaluating: 100%|██████████| 216/216 [03:14<00:00,  1.11it/s]\n"
     ]
    },
    {
     "name": "stdout",
     "output_type": "stream",
     "text": [
      "Epoch 1/20 - val   loss: 1.5529 - val   accuracy: 0.5468\n",
      "Epoch 2/20 - train loss: 1.2318 - train accuracy: 0.6327\n"
     ]
    },
    {
     "name": "stderr",
     "output_type": "stream",
     "text": [
      "Evaluating: 100%|██████████| 216/216 [00:02<00:00, 79.68it/s]\n"
     ]
    },
    {
     "name": "stdout",
     "output_type": "stream",
     "text": [
      "Epoch 2/20 - val   loss: 1.1076 - val   accuracy: 0.6732\n",
      "Epoch 3/20 - train loss: 1.0042 - train accuracy: 0.7039\n"
     ]
    },
    {
     "name": "stderr",
     "output_type": "stream",
     "text": [
      "Evaluating: 100%|██████████| 216/216 [00:02<00:00, 80.63it/s]\n"
     ]
    },
    {
     "name": "stdout",
     "output_type": "stream",
     "text": [
      "Epoch 3/20 - val   loss: 0.9995 - val   accuracy: 0.7045\n",
      "Epoch 4/20 - train loss: 0.9033 - train accuracy: 0.7324\n"
     ]
    },
    {
     "name": "stderr",
     "output_type": "stream",
     "text": [
      "Evaluating: 100%|██████████| 216/216 [00:02<00:00, 80.19it/s]\n"
     ]
    },
    {
     "name": "stdout",
     "output_type": "stream",
     "text": [
      "Epoch 4/20 - val   loss: 0.9314 - val   accuracy: 0.7255\n",
      "Epoch 5/20 - train loss: 0.8395 - train accuracy: 0.7528\n"
     ]
    },
    {
     "name": "stderr",
     "output_type": "stream",
     "text": [
      "Evaluating: 100%|██████████| 216/216 [00:02<00:00, 77.87it/s]\n"
     ]
    },
    {
     "name": "stdout",
     "output_type": "stream",
     "text": [
      "Epoch 5/20 - val   loss: 0.8470 - val   accuracy: 0.7515\n",
      "Epoch 6/20 - train loss: 0.7544 - train accuracy: 0.7798\n"
     ]
    },
    {
     "name": "stderr",
     "output_type": "stream",
     "text": [
      "Evaluating: 100%|██████████| 216/216 [00:02<00:00, 85.48it/s]\n"
     ]
    },
    {
     "name": "stdout",
     "output_type": "stream",
     "text": [
      "Epoch 6/20 - val   loss: 0.8600 - val   accuracy: 0.7482\n",
      "Epoch 7/20 - train loss: 0.7727 - train accuracy: 0.7710\n"
     ]
    },
    {
     "name": "stderr",
     "output_type": "stream",
     "text": [
      "Evaluating: 100%|██████████| 216/216 [00:02<00:00, 80.21it/s]\n"
     ]
    },
    {
     "name": "stdout",
     "output_type": "stream",
     "text": [
      "Epoch 7/20 - val   loss: 0.8277 - val   accuracy: 0.7515\n",
      "Epoch 8/20 - train loss: 0.7023 - train accuracy: 0.7908\n"
     ]
    },
    {
     "name": "stderr",
     "output_type": "stream",
     "text": [
      "Evaluating: 100%|██████████| 216/216 [00:02<00:00, 77.45it/s]\n"
     ]
    },
    {
     "name": "stdout",
     "output_type": "stream",
     "text": [
      "Epoch 8/20 - val   loss: 0.9293 - val   accuracy: 0.7340\n",
      "Epoch 9/20 - train loss: 0.7032 - train accuracy: 0.7919\n"
     ]
    },
    {
     "name": "stderr",
     "output_type": "stream",
     "text": [
      "Evaluating: 100%|██████████| 216/216 [00:05<00:00, 41.96it/s]\n"
     ]
    },
    {
     "name": "stdout",
     "output_type": "stream",
     "text": [
      "Epoch 9/20 - val   loss: 0.8102 - val   accuracy: 0.7636\n",
      "Epoch 10/20 - train loss: 0.7375 - train accuracy: 0.7777\n"
     ]
    },
    {
     "name": "stderr",
     "output_type": "stream",
     "text": [
      "Evaluating: 100%|██████████| 216/216 [00:05<00:00, 38.99it/s]\n"
     ]
    },
    {
     "name": "stdout",
     "output_type": "stream",
     "text": [
      "Epoch 10/20 - val   loss: 0.8953 - val   accuracy: 0.7316\n",
      "Epoch 11/20 - train loss: 0.6945 - train accuracy: 0.7900\n"
     ]
    },
    {
     "name": "stderr",
     "output_type": "stream",
     "text": [
      "Evaluating: 100%|██████████| 216/216 [00:05<00:00, 39.94it/s]\n"
     ]
    },
    {
     "name": "stdout",
     "output_type": "stream",
     "text": [
      "Epoch 11/20 - val   loss: 0.8300 - val   accuracy: 0.7535\n",
      "Epoch 12/20 - train loss: 0.6192 - train accuracy: 0.8118\n"
     ]
    },
    {
     "name": "stderr",
     "output_type": "stream",
     "text": [
      "Evaluating: 100%|██████████| 216/216 [00:05<00:00, 37.83it/s]\n"
     ]
    },
    {
     "name": "stdout",
     "output_type": "stream",
     "text": [
      "Epoch 12/20 - val   loss: 0.7731 - val   accuracy: 0.7752\n",
      "Epoch 13/20 - train loss: 0.6698 - train accuracy: 0.7993\n"
     ]
    },
    {
     "name": "stderr",
     "output_type": "stream",
     "text": [
      "Evaluating: 100%|██████████| 216/216 [00:05<00:00, 38.64it/s]\n"
     ]
    },
    {
     "name": "stdout",
     "output_type": "stream",
     "text": [
      "Epoch 13/20 - val   loss: 0.7788 - val   accuracy: 0.7723\n",
      "Epoch 14/20 - train loss: 0.5842 - train accuracy: 0.8249\n"
     ]
    },
    {
     "name": "stderr",
     "output_type": "stream",
     "text": [
      "Evaluating: 100%|██████████| 216/216 [00:02<00:00, 83.56it/s]\n"
     ]
    },
    {
     "name": "stdout",
     "output_type": "stream",
     "text": [
      "Epoch 14/20 - val   loss: 0.7502 - val   accuracy: 0.7830\n",
      "Epoch 15/20 - train loss: 0.5697 - train accuracy: 0.8299\n"
     ]
    },
    {
     "name": "stderr",
     "output_type": "stream",
     "text": [
      "Evaluating: 100%|██████████| 216/216 [00:02<00:00, 93.87it/s]\n"
     ]
    },
    {
     "name": "stdout",
     "output_type": "stream",
     "text": [
      "Epoch 15/20 - val   loss: 0.7481 - val   accuracy: 0.7835\n",
      "Epoch 16/20 - train loss: 0.5880 - train accuracy: 0.8225\n"
     ]
    },
    {
     "name": "stderr",
     "output_type": "stream",
     "text": [
      "Evaluating: 100%|██████████| 216/216 [00:05<00:00, 40.75it/s]\n"
     ]
    },
    {
     "name": "stdout",
     "output_type": "stream",
     "text": [
      "Epoch 16/20 - val   loss: 0.7497 - val   accuracy: 0.7801\n",
      "Epoch 17/20 - train loss: 0.5858 - train accuracy: 0.8237\n"
     ]
    },
    {
     "name": "stderr",
     "output_type": "stream",
     "text": [
      "Evaluating: 100%|██████████| 216/216 [00:04<00:00, 43.32it/s]\n"
     ]
    },
    {
     "name": "stdout",
     "output_type": "stream",
     "text": [
      "Epoch 17/20 - val   loss: 0.7529 - val   accuracy: 0.7806\n",
      "Epoch 18/20 - train loss: 0.5717 - train accuracy: 0.8303\n"
     ]
    },
    {
     "name": "stderr",
     "output_type": "stream",
     "text": [
      "Evaluating: 100%|██████████| 216/216 [00:05<00:00, 41.35it/s]\n"
     ]
    },
    {
     "name": "stdout",
     "output_type": "stream",
     "text": [
      "Epoch 18/20 - val   loss: 0.7239 - val   accuracy: 0.7905\n",
      "Epoch 19/20 - train loss: 0.5084 - train accuracy: 0.8471\n"
     ]
    },
    {
     "name": "stderr",
     "output_type": "stream",
     "text": [
      "Evaluating: 100%|██████████| 216/216 [00:04<00:00, 43.30it/s]\n"
     ]
    },
    {
     "name": "stdout",
     "output_type": "stream",
     "text": [
      "Epoch 19/20 - val   loss: 0.6794 - val   accuracy: 0.8095\n",
      "Epoch 20/20 - train loss: 0.4874 - train accuracy: 0.8537\n"
     ]
    },
    {
     "name": "stderr",
     "output_type": "stream",
     "text": [
      "Evaluating: 100%|██████████| 216/216 [00:05<00:00, 37.65it/s]\n"
     ]
    },
    {
     "name": "stdout",
     "output_type": "stream",
     "text": [
      "Epoch 20/20 - val   loss: 0.6966 - val   accuracy: 0.7962\n"
     ]
    }
   ],
   "source": [
    "# training loop\n",
    "model.train_architecture(train_loader = train_loader, epochs = 20, val_loader = val_loader)"
   ]
  },
  {
   "cell_type": "code",
   "execution_count": 8,
   "id": "df2da2ad",
   "metadata": {},
   "outputs": [
    {
     "name": "stderr",
     "output_type": "stream",
     "text": [
      "Evaluating: 100%|██████████| 211/211 [00:07<00:00, 27.15it/s]\n"
     ]
    },
    {
     "name": "stdout",
     "output_type": "stream",
     "text": [
      "Validation Summary:\n",
      "  loss: 0.6843\n",
      "  accuracy: 0.8120\n",
      "  precision: 0.8247\n",
      "  recall: 0.8133\n",
      "  f1: 0.8142\n"
     ]
    }
   ],
   "source": [
    "results = model.evaluate(test_loader)\n",
    "print(\"Validation Summary:\")\n",
    "for k, v in results['summary'].items():\n",
    "    print(f\"  {k}: {v:.4f}\")"
   ]
  },
  {
   "cell_type": "markdown",
   "id": "4965dd19",
   "metadata": {},
   "source": [
    "## More automated approach to running tests\n",
    "Running tests throgh an automated Experiment Object created through ExperimentFactory for easy and streamlined experiments."
   ]
  },
  {
   "cell_type": "code",
   "execution_count": 1,
   "id": "593bdcf5",
   "metadata": {},
   "outputs": [],
   "source": [
    "from DataObjects.Experiments import ExperimentFactory, CNNExperiment"
   ]
  },
  {
   "cell_type": "code",
   "execution_count": null,
   "id": "814a9da1",
   "metadata": {},
   "outputs": [],
   "source": [
    "# set device to cuda\n",
    "device = torch.device('cuda' if torch.cuda.is_available() else 'cpu')\n",
    "print(f\"Using device: {device}\")"
   ]
  },
  {
   "cell_type": "code",
   "execution_count": 6,
   "id": "9e7e3ec0",
   "metadata": {},
   "outputs": [],
   "source": [
    "transformer_exp = ExperimentFactory.create_experiment(\n",
    "    arch_name='transformer',\n",
    "    train_dir='Data/MFCC_transformed/training',\n",
    "    val_dir='Data/MFCC_transformed/validation',\n",
    "    test_dir='Data/MFCC_transformed/testing',\n",
    "    batch_size=32,\n",
    "    epochs=10,\n",
    "    sr=16000,\n",
    "    save_path = \"Saved_experimented_data/CustomTransformer_experiment.txt\",   \n",
    "    data_type='mfcc',\n",
    "    model_kwargs={  \n",
    "        'num_classes': 31\n",
    "    }\n",
    ")"
   ]
  },
  {
   "cell_type": "code",
   "execution_count": null,
   "id": "3a7f93ff",
   "metadata": {},
   "outputs": [
    {
     "name": "stderr",
     "output_type": "stream",
     "text": [
      "c:\\Users\\aaf6\\AppData\\Local\\Programs\\Python\\Python310\\lib\\site-packages\\torch\\nn\\modules\\transformer.py:379: UserWarning: enable_nested_tensor is True, but self.use_nested_tensor is False because encoder_layer.self_attn.batch_first was not True(use batch_first for better inference performance)\n",
      "  warnings.warn(\n"
     ]
    }
   ],
   "source": [
    "transformer_exp.run()"
   ]
  },
  {
   "cell_type": "code",
   "execution_count": null,
   "id": "29603175",
   "metadata": {},
   "outputs": [],
   "source": []
  }
 ],
 "metadata": {
  "kernelspec": {
   "display_name": "Python 3",
   "language": "python",
   "name": "python3"
  },
  "language_info": {
   "codemirror_mode": {
    "name": "ipython",
    "version": 3
   },
   "file_extension": ".py",
   "mimetype": "text/x-python",
   "name": "python",
   "nbconvert_exporter": "python",
   "pygments_lexer": "ipython3",
   "version": "3.10.5"
  }
 },
 "nbformat": 4,
 "nbformat_minor": 5
}
