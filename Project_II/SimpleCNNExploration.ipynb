{
 "cells": [
  {
   "cell_type": "markdown",
   "id": "1f7fa189",
   "metadata": {},
   "source": [
    "### Notebook for exploring the SimpleCNN architecture on spectograms"
   ]
  },
  {
   "cell_type": "code",
   "execution_count": 11,
   "id": "a95d84b7",
   "metadata": {},
   "outputs": [],
   "source": [
    "# imports\n",
    "import torch\n",
    "from DataObjects.DataLoader import DataLoader\n",
    "from Architectures.CNN import SimpleCNN\n",
    "\n",
    "from pathlib import Path\n",
    "import numpy as np"
   ]
  },
  {
   "cell_type": "code",
   "execution_count": null,
   "id": "f1ccd85f",
   "metadata": {},
   "outputs": [],
   "source": [
    "# SETTING SEED\n",
    "SEED = 42069    \n",
    "torch.manual_seed(SEED)\n",
    "np.random.seed(0)"
   ]
  },
  {
   "cell_type": "code",
   "execution_count": null,
   "id": "4bf8179a",
   "metadata": {},
   "outputs": [],
   "source": [
    "# set device to cuda\n",
    "device = torch.device('cuda' if torch.cuda.is_available() else 'cpu')\n",
    "print(f\"Using device: {device}\")"
   ]
  },
  {
   "cell_type": "code",
   "execution_count": null,
   "id": "9f2f5094",
   "metadata": {},
   "outputs": [],
   "source": [
    "DATA_PATH = Path(\"Data\")"
   ]
  },
  {
   "cell_type": "code",
   "execution_count": null,
   "id": "131d099b",
   "metadata": {},
   "outputs": [],
   "source": [
    "# prepare Data Loader files\n",
    "train_dir = DATA_PATH / Path(\"Spectogram_transformed\", \"training\")\n",
    "val_dir = DATA_PATH / Path(\"Spectogram_transformed\", \"validation\")\n",
    "test_dir = DATA_PATH / Path(\"Spectogram_transformed\", \"testing\")\n",
    "\n",
    "batch_size = 64\n",
    "\n",
    "train_loader = DataLoader(\n",
    "    data_dir=train_dir,\n",
    "    data_type=\"spectrogram\",\n",
    "    batch_size=batch_size,\n",
    "    shuffle=True\n",
    ")\n",
    "val_loader = DataLoader(\n",
    "    data_dir=val_dir,\n",
    "    data_type=\"spectrogram\",\n",
    "    batch_size=batch_size,\n",
    "    shuffle=True\n",
    ")\n",
    "\n",
    "test_loader = DataLoader(\n",
    "    data_dir=test_dir,\n",
    "    data_type=\"spectrogram\",\n",
    "    batch_size=batch_size,\n",
    "    shuffle=True\n",
    ")\n",
    "\n",
    "# Inspect class mapping and dataset size\n",
    "print(\"Classes:\", train_loader.class_to_idx)\n",
    "print(\"# training batches:\", len(train_loader))\n",
    "\n",
    "print(\"# validation batches:\", len(val_loader))\n",
    "\n",
    "print(\"# testing batches:\", len(test_loader))"
   ]
  },
  {
   "cell_type": "code",
   "execution_count": null,
   "id": "2717bb05",
   "metadata": {},
   "outputs": [],
   "source": [
    "model = SimpleCNN(in_channels=1, num_classes=len(train_loader.class_to_idx))"
   ]
  },
  {
   "cell_type": "code",
   "execution_count": null,
   "id": "08880a3a",
   "metadata": {},
   "outputs": [],
   "source": [
    "# training loop\n",
    "model.train_architecture(train_loader = train_loader, epochs = 20, val_loader = val_loader)"
   ]
  },
  {
   "cell_type": "code",
   "execution_count": null,
   "id": "71ac27d0",
   "metadata": {},
   "outputs": [],
   "source": [
    "results = model.evaluate(test_loader)\n",
    "print(\"Validation Summary:\")\n",
    "for k, v in results['summary'].items():\n",
    "    print(f\"  {k}: {v:.4f}\")"
   ]
  }
 ],
 "metadata": {
  "kernelspec": {
   "display_name": ".venv",
   "language": "python",
   "name": "python3"
  },
  "language_info": {
   "codemirror_mode": {
    "name": "ipython",
    "version": 3
   },
   "file_extension": ".py",
   "mimetype": "text/x-python",
   "name": "python",
   "nbconvert_exporter": "python",
   "pygments_lexer": "ipython3",
   "version": "3.10.9"
  }
 },
 "nbformat": 4,
 "nbformat_minor": 5
}
