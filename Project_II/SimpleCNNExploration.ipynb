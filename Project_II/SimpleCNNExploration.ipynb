{
 "cells": [
  {
   "cell_type": "markdown",
   "id": "1f7fa189",
   "metadata": {},
   "source": [
    "### Notebook for exploring the SimpleCNN architecture on spectograms"
   ]
  },
  {
   "cell_type": "code",
   "execution_count": null,
   "id": "a95d84b7",
   "metadata": {},
   "outputs": [],
   "source": [
    "# imports\n",
    "import torch\n",
    "from DataObjects.DataLoader import DataLoader\n",
    "from Architectures.CNN import SimpleCNN\n",
    "\n",
    "from pathlib import Path\n",
    "import numpy as np"
   ]
  },
  {
   "cell_type": "code",
   "execution_count": null,
   "id": "f1ccd85f",
   "metadata": {},
   "outputs": [],
   "source": [
    "# SETTING SEED\n",
    "SEED = 42069    \n",
    "torch.manual_seed(SEED)\n",
    "np.random.seed(0)"
   ]
  },
  {
   "cell_type": "code",
   "execution_count": null,
   "id": "4bf8179a",
   "metadata": {},
   "outputs": [],
   "source": [
    "# set device to cuda\n",
    "device = torch.device('cuda' if torch.cuda.is_available() else 'cpu')\n",
    "print(f\"Using device: {device}\")"
   ]
  },
  {
   "cell_type": "code",
   "execution_count": null,
   "id": "9f2f5094",
   "metadata": {},
   "outputs": [],
   "source": [
    "DATA_PATH = Path(\"Data\")"
   ]
  },
  {
   "cell_type": "code",
   "execution_count": null,
   "id": "131d099b",
   "metadata": {},
   "outputs": [],
   "source": [
    "# prepare Data Loader files\n",
    "train_dir = DATA_PATH / Path(\"Spectogram_transformed\", \"training\")\n",
    "val_dir = DATA_PATH / Path(\"Spectogram_transformed\", \"validation\")\n",
    "test_dir = DATA_PATH / Path(\"Spectogram_transformed\", \"testing\")\n",
    "\n",
    "batch_size = 64\n",
    "\n",
    "train_loader = DataLoader(\n",
    "    data_dir=train_dir,\n",
    "    data_type=\"spectrogram\",\n",
    "    batch_size=batch_size,\n",
    "    shuffle=True\n",
    ")\n",
    "val_loader = DataLoader(\n",
    "    data_dir=val_dir,\n",
    "    data_type=\"spectrogram\",\n",
    "    batch_size=batch_size,\n",
    "    shuffle=True\n",
    ")\n",
    "\n",
    "test_loader = DataLoader(\n",
    "    data_dir=test_dir,\n",
    "    data_type=\"spectrogram\",\n",
    "    batch_size=batch_size,\n",
    "    shuffle=True\n",
    ")\n",
    "\n",
    "# Inspect class mapping and dataset size\n",
    "print(\"Classes:\", train_loader.class_to_idx)\n",
    "print(\"# training batches:\", len(train_loader))\n",
    "\n",
    "print(\"# validation batches:\", len(val_loader))\n",
    "\n",
    "print(\"# testing batches:\", len(test_loader))"
   ]
  },
  {
   "cell_type": "code",
   "execution_count": null,
   "id": "2717bb05",
   "metadata": {},
   "outputs": [],
   "source": [
    "model = SimpleCNN(in_channels=1, num_classes=len(train_loader.class_to_idx))"
   ]
  },
  {
   "cell_type": "code",
   "execution_count": null,
   "id": "08880a3a",
   "metadata": {},
   "outputs": [],
   "source": [
    "# training loop\n",
    "model.train_architecture(train_loader = train_loader, epochs = 20, val_loader = val_loader)"
   ]
  },
  {
   "cell_type": "code",
   "execution_count": null,
   "id": "71ac27d0",
   "metadata": {},
   "outputs": [],
   "source": [
    "results = model.evaluate(test_loader)\n",
    "print(\"Validation Summary:\")\n",
    "for k, v in results['summary'].items():\n",
    "    print(f\"  {k}: {v:.4f}\")"
   ]
  },
  {
   "cell_type": "markdown",
   "id": "014ffa97",
   "metadata": {},
   "source": [
    "## More automated approach to running tests\n",
    "Running tests throgh an automated Experiment Object created through ExperimentFactory for easy and streamlined experiments."
   ]
  },
  {
   "cell_type": "code",
   "execution_count": 1,
   "id": "8bf9d9c4",
   "metadata": {},
   "outputs": [],
   "source": [
    "from DataObjects.Experiments import ExperimentFactory, CNNExperiment"
   ]
  },
  {
   "cell_type": "code",
   "execution_count": null,
   "id": "100137b2",
   "metadata": {},
   "outputs": [],
   "source": [
    "# set device to cuda\n",
    "device = torch.device('cuda' if torch.cuda.is_available() else 'cpu')\n",
    "print(f\"Using device: {device}\")"
   ]
  },
  {
   "cell_type": "code",
   "execution_count": 2,
   "id": "6c09144a",
   "metadata": {},
   "outputs": [],
   "source": [
    "cnn_exp = ExperimentFactory.create_experiment(\n",
    "    arch_name='cnn',\n",
    "    train_dir='Data/spectogram_transformed/training',\n",
    "    val_dir='Data/spectogram_transformed/validation',\n",
    "    test_dir='Data/spectogram_transformed/testing',\n",
    "    batch_size=32,\n",
    "    epochs=10,\n",
    "    in_channels=1,\n",
    "    save_path = \"Saved_experimented_data/CNN_experiment.txt\",    \n",
    "    model_kwargs={\n",
    "        'lr': 1e-3,\n",
    "        'dropout': 0.3,\n",
    "        'num_classes': 31,\n",
    "    }\n",
    ")"
   ]
  },
  {
   "cell_type": "code",
   "execution_count": 3,
   "id": "046e875e",
   "metadata": {},
   "outputs": [
    {
     "ename": "RuntimeError",
     "evalue": "stack expects each tensor to be equal size, but got [1, 257, 63] at entry 0 and [1, 257, 46] at entry 21",
     "output_type": "error",
     "traceback": [
      "\u001b[1;31m---------------------------------------------------------------------------\u001b[0m",
      "\u001b[1;31mRuntimeError\u001b[0m                              Traceback (most recent call last)",
      "Input \u001b[1;32mIn [3]\u001b[0m, in \u001b[0;36m<cell line: 1>\u001b[1;34m()\u001b[0m\n\u001b[1;32m----> 1\u001b[0m \u001b[43mcnn_exp\u001b[49m\u001b[38;5;241;43m.\u001b[39;49m\u001b[43mrun\u001b[49m\u001b[43m(\u001b[49m\u001b[43m)\u001b[49m\n",
      "File \u001b[1;32md:\\Pulpit\\DeepLearning\\DeepLearning\\Project_II\\DataObjects\\Experiments.py:154\u001b[0m, in \u001b[0;36mCNNExperiment.run\u001b[1;34m(self)\u001b[0m\n\u001b[0;32m    152\u001b[0m \u001b[38;5;66;03m# Train & optionally validate\u001b[39;00m\n\u001b[0;32m    153\u001b[0m \u001b[38;5;28;01mwith\u001b[39;00m Capturing(\u001b[38;5;28mself\u001b[39m\u001b[38;5;241m.\u001b[39mparams\u001b[38;5;241m.\u001b[39mget(\u001b[38;5;124m'\u001b[39m\u001b[38;5;124msave_path\u001b[39m\u001b[38;5;124m'\u001b[39m, \u001b[38;5;124m\"\u001b[39m\u001b[38;5;124mlog.txt\u001b[39m\u001b[38;5;124m\"\u001b[39m)) \u001b[38;5;28;01mas\u001b[39;00m logs:\n\u001b[1;32m--> 154\u001b[0m     \u001b[43mmodel\u001b[49m\u001b[38;5;241;43m.\u001b[39;49m\u001b[43mtrain_architecture\u001b[49m\u001b[43m(\u001b[49m\u001b[43mtrain_loader\u001b[49m\u001b[43m,\u001b[49m\u001b[43m \u001b[49m\u001b[43mepochs\u001b[49m\u001b[38;5;241;43m=\u001b[39;49m\u001b[43mepochs\u001b[49m\u001b[43m,\u001b[49m\u001b[43m \u001b[49m\u001b[43mval_loader\u001b[49m\u001b[38;5;241;43m=\u001b[39;49m\u001b[43mval_loader\u001b[49m\u001b[43m)\u001b[49m\n\u001b[0;32m    155\u001b[0m     results \u001b[38;5;241m=\u001b[39m model\u001b[38;5;241m.\u001b[39mevaluate(test_loader) \u001b[38;5;28;01mif\u001b[39;00m test_loader \u001b[38;5;28;01melse\u001b[39;00m {}\n\u001b[0;32m    156\u001b[0m     \u001b[38;5;66;03m# Ray Tune score\u001b[39;00m\n",
      "File \u001b[1;32md:\\Pulpit\\DeepLearning\\DeepLearning\\Project_II\\Architectures\\CNN\\SimpleCNN.py:105\u001b[0m, in \u001b[0;36mSimpleCNN.train_architecture\u001b[1;34m(self, train_loader, epochs, val_loader, **kwargs)\u001b[0m\n\u001b[0;32m    103\u001b[0m total_correct \u001b[38;5;241m=\u001b[39m \u001b[38;5;241m0\u001b[39m\n\u001b[0;32m    104\u001b[0m total_samples \u001b[38;5;241m=\u001b[39m \u001b[38;5;241m0\u001b[39m\n\u001b[1;32m--> 105\u001b[0m \u001b[38;5;28;01mfor\u001b[39;00m batch \u001b[38;5;129;01min\u001b[39;00m train_loader:\n\u001b[0;32m    106\u001b[0m     inputs \u001b[38;5;241m=\u001b[39m batch\u001b[38;5;241m.\u001b[39mdata\u001b[38;5;241m.\u001b[39mto(\u001b[38;5;28mself\u001b[39m\u001b[38;5;241m.\u001b[39mdevice)\n\u001b[0;32m    107\u001b[0m     targets \u001b[38;5;241m=\u001b[39m batch\u001b[38;5;241m.\u001b[39mlabels\u001b[38;5;241m.\u001b[39mto(\u001b[38;5;28mself\u001b[39m\u001b[38;5;241m.\u001b[39mdevice)\n",
      "File \u001b[1;32md:\\Pulpit\\DeepLearning\\DeepLearning\\Project_II\\DataObjects\\DataLoader.py:137\u001b[0m, in \u001b[0;36mDataLoader.__iter__\u001b[1;34m(self)\u001b[0m\n\u001b[0;32m    134\u001b[0m     labels_list\u001b[38;5;241m.\u001b[39mappend(label)\n\u001b[0;32m    136\u001b[0m \u001b[38;5;28;01mif\u001b[39;00m data_list:\n\u001b[1;32m--> 137\u001b[0m     batch_data \u001b[38;5;241m=\u001b[39m \u001b[43mtorch\u001b[49m\u001b[38;5;241;43m.\u001b[39;49m\u001b[43mstack\u001b[49m\u001b[43m(\u001b[49m\u001b[43mdata_list\u001b[49m\u001b[43m)\u001b[49m\n\u001b[0;32m    138\u001b[0m     batch_labels \u001b[38;5;241m=\u001b[39m torch\u001b[38;5;241m.\u001b[39mtensor(labels_list, dtype\u001b[38;5;241m=\u001b[39mtorch\u001b[38;5;241m.\u001b[39mlong)\n\u001b[0;32m    139\u001b[0m     \u001b[38;5;28;01myield\u001b[39;00m DataBatch(batch_data, batch_labels)\n",
      "\u001b[1;31mRuntimeError\u001b[0m: stack expects each tensor to be equal size, but got [1, 257, 63] at entry 0 and [1, 257, 46] at entry 21"
     ]
    }
   ],
   "source": [
    "cnn_exp.run()"
   ]
  },
  {
   "cell_type": "code",
   "execution_count": null,
   "id": "d1637ca7",
   "metadata": {},
   "outputs": [],
   "source": []
  }
 ],
 "metadata": {
  "kernelspec": {
   "display_name": "Python 3",
   "language": "python",
   "name": "python3"
  },
  "language_info": {
   "codemirror_mode": {
    "name": "ipython",
    "version": 3
   },
   "file_extension": ".py",
   "mimetype": "text/x-python",
   "name": "python",
   "nbconvert_exporter": "python",
   "pygments_lexer": "ipython3",
   "version": "3.10.5"
  }
 },
 "nbformat": 4,
 "nbformat_minor": 5
}
