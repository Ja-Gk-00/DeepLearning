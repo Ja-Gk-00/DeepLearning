{
 "cells": [
  {
   "cell_type": "code",
   "execution_count": null,
   "id": "7ed3ee22",
   "metadata": {},
   "outputs": [],
   "source": [
    "# imports\n",
    "import torch\n",
    "from DataObjects.DataLoader import DataLoader\n",
    "from Architectures.Statistical import GMM\n",
    "\n",
    "from pathlib import Path\n",
    "import numpy as np"
   ]
  },
  {
   "cell_type": "code",
   "execution_count": null,
   "id": "f8f48636",
   "metadata": {},
   "outputs": [],
   "source": [
    "# SETTING SEED\n",
    "SEED = 42069    \n",
    "torch.manual_seed(SEED)\n",
    "np.random.seed(0)"
   ]
  },
  {
   "cell_type": "code",
   "execution_count": null,
   "id": "3e359207",
   "metadata": {},
   "outputs": [],
   "source": [
    "# set device to cuda\n",
    "device = torch.device('cuda' if torch.cuda.is_available() else 'cpu')\n",
    "print(f\"Using device: {device}\")"
   ]
  },
  {
   "cell_type": "code",
   "execution_count": null,
   "id": "94961eb2",
   "metadata": {},
   "outputs": [],
   "source": [
    "DATA_PATH = Path(\"Data\")"
   ]
  },
  {
   "cell_type": "code",
   "execution_count": null,
   "id": "4e63d801",
   "metadata": {},
   "outputs": [],
   "source": [
    "# prepare Data Loader files\n",
    "train_dir = DATA_PATH / Path(\"FFT_transformed\", \"training\")\n",
    "val_dir = DATA_PATH / Path(\"FFT_transformed\", \"validation\")\n",
    "test_dir = DATA_PATH / Path(\"FFT_transformed\", \"testing\")\n",
    "\n",
    "batch_size = 64\n",
    "\n",
    "train_loader = DataLoader(\n",
    "    data_dir=train_dir,\n",
    "    data_type='fft',\n",
    "    batch_size=batch_size,\n",
    "    shuffle=True\n",
    ")\n",
    "val_loader = DataLoader(\n",
    "    data_dir=val_dir,\n",
    "    data_type='fft',\n",
    "    batch_size=batch_size,\n",
    "    shuffle=True\n",
    ")\n",
    "\n",
    "test_loader = DataLoader(\n",
    "    data_dir=test_dir,\n",
    "    data_type='fft',\n",
    "    batch_size=batch_size,\n",
    "    shuffle=True\n",
    ")\n",
    "\n",
    "# Inspect class mapping and dataset size\n",
    "print(\"Classes:\", train_loader.class_to_idx)\n",
    "print(\"# training batches:\", len(train_loader))\n",
    "\n",
    "print(\"# validation batches:\", len(val_loader))\n",
    "\n",
    "print(\"# testing batches:\", len(test_loader))"
   ]
  },
  {
   "cell_type": "code",
   "execution_count": null,
   "id": "0d3afbd9",
   "metadata": {},
   "outputs": [],
   "source": [
    "gmm_model = GMM(\n",
    "    n_components=4,\n",
    "    covariance_type='full',\n",
    "    max_iter=100,\n",
    "    random_state=42\n",
    ")"
   ]
  },
  {
   "cell_type": "code",
   "execution_count": null,
   "id": "71344cc6",
   "metadata": {},
   "outputs": [],
   "source": [
    "gmm_model.train(train_loader)"
   ]
  },
  {
   "cell_type": "code",
   "execution_count": null,
   "id": "d062a12c",
   "metadata": {},
   "outputs": [],
   "source": [
    "results = gmm_model.evaluate(test_loader)\n",
    "print(\"Test summary:\")\n",
    "for metric, value in results['summary'].items():\n",
    "    print(f\"  {metric}: {value:.4f}\")"
   ]
  },
  {
   "cell_type": "markdown",
   "id": "88ba9cb3",
   "metadata": {},
   "source": [
    "## More automated approach to running tests\n",
    "Running tests throgh an automated Experiment Object created through ExperimentFactory for easy and streamlined experiments."
   ]
  },
  {
   "cell_type": "code",
   "execution_count": 1,
   "id": "5846d1bb",
   "metadata": {},
   "outputs": [],
   "source": [
    "from DataObjects.Experiments import ExperimentFactory, GMMClassifier"
   ]
  },
  {
   "cell_type": "code",
   "execution_count": null,
   "id": "0fa27c87",
   "metadata": {},
   "outputs": [],
   "source": [
    "# set device to cuda\n",
    "device = torch.device('cuda' if torch.cuda.is_available() else 'cpu')\n",
    "print(f\"Using device: {device}\")"
   ]
  },
  {
   "cell_type": "code",
   "execution_count": 4,
   "id": "60b8d9c8",
   "metadata": {},
   "outputs": [],
   "source": [
    "gmm_exp = ExperimentFactory.create_experiment(\n",
    "    arch_name='gmm',\n",
    "    train_dir='Data/Fourier_transformed/training',\n",
    "    val_dir='Data/Fourier_transformed/validation',\n",
    "    test_dir='Data/Fourier_transformed/testing',\n",
    "    batch_size=64,\n",
    "    save_path = \"Saved_experimented_data/GMM_experiment.txt\",\n",
    "    model_kwargs={\n",
    "        'n_components': 4,\n",
    "        'covariance_type': 'full',\n",
    "        'max_iter': 100,\n",
    "        'random_state': 42\n",
    "    }\n",
    ")"
   ]
  },
  {
   "cell_type": "code",
   "execution_count": 5,
   "id": "34c732cb",
   "metadata": {},
   "outputs": [
    {
     "ename": "RuntimeError",
     "evalue": "stack expects each tensor to be equal size, but got [1, 2, 8001] at entry 0 and [1, 2, 7431] at entry 16",
     "output_type": "error",
     "traceback": [
      "\u001b[1;31m---------------------------------------------------------------------------\u001b[0m",
      "\u001b[1;31mRuntimeError\u001b[0m                              Traceback (most recent call last)",
      "Input \u001b[1;32mIn [5]\u001b[0m, in \u001b[0;36m<cell line: 1>\u001b[1;34m()\u001b[0m\n\u001b[1;32m----> 1\u001b[0m \u001b[43mgmm_exp\u001b[49m\u001b[38;5;241;43m.\u001b[39;49m\u001b[43mrun\u001b[49m\u001b[43m(\u001b[49m\u001b[43m)\u001b[49m\n",
      "File \u001b[1;32md:\\Pulpit\\DeepLearning\\DeepLearning\\Project_II\\DataObjects\\Experiments.py:191\u001b[0m, in \u001b[0;36mGMMExperiment.run\u001b[1;34m(self)\u001b[0m\n\u001b[0;32m    189\u001b[0m model \u001b[38;5;241m=\u001b[39m GMMClassifier(\u001b[38;5;241m*\u001b[39m\u001b[38;5;241m*\u001b[39mmodel_kwargs)\n\u001b[0;32m    190\u001b[0m \u001b[38;5;28;01mwith\u001b[39;00m Capturing(\u001b[38;5;28mself\u001b[39m\u001b[38;5;241m.\u001b[39mparams\u001b[38;5;241m.\u001b[39mget(\u001b[38;5;124m'\u001b[39m\u001b[38;5;124msave_path\u001b[39m\u001b[38;5;124m'\u001b[39m, \u001b[38;5;124m\"\u001b[39m\u001b[38;5;124mlog.txt\u001b[39m\u001b[38;5;124m\"\u001b[39m)) \u001b[38;5;28;01mas\u001b[39;00m logs:\n\u001b[1;32m--> 191\u001b[0m     \u001b[43mmodel\u001b[49m\u001b[38;5;241;43m.\u001b[39;49m\u001b[43mtrain_architecture\u001b[49m\u001b[43m(\u001b[49m\u001b[43mtrain_loader\u001b[49m\u001b[43m,\u001b[49m\u001b[43m \u001b[49m\u001b[43mval_loader\u001b[49m\u001b[38;5;241;43m=\u001b[39;49m\u001b[43mval_loader\u001b[49m\u001b[43m)\u001b[49m\n\u001b[0;32m    192\u001b[0m     results \u001b[38;5;241m=\u001b[39m model\u001b[38;5;241m.\u001b[39mevaluate(test_loader) \u001b[38;5;28;01mif\u001b[39;00m test_loader \u001b[38;5;28;01melse\u001b[39;00m {}\n\u001b[0;32m    193\u001b[0m     \u001b[38;5;66;03m# Ray Tune score\u001b[39;00m\n",
      "File \u001b[1;32md:\\Pulpit\\DeepLearning\\DeepLearning\\Project_II\\Architectures\\Statistical\\GMM.py:52\u001b[0m, in \u001b[0;36mGMMClassifier.train_architecture\u001b[1;34m(self, train_loader, epochs, val_loader, **kwargs)\u001b[0m\n\u001b[0;32m     50\u001b[0m \u001b[38;5;66;03m# collect data by class\u001b[39;00m\n\u001b[0;32m     51\u001b[0m features_by_class: Dict[\u001b[38;5;28mint\u001b[39m, List[np\u001b[38;5;241m.\u001b[39mndarray]] \u001b[38;5;241m=\u001b[39m {}\n\u001b[1;32m---> 52\u001b[0m \u001b[38;5;28;01mfor\u001b[39;00m batch \u001b[38;5;129;01min\u001b[39;00m train_loader:\n\u001b[0;32m     53\u001b[0m     arrs \u001b[38;5;241m=\u001b[39m batch\u001b[38;5;241m.\u001b[39mdata\u001b[38;5;241m.\u001b[39mnumpy()\n\u001b[0;32m     54\u001b[0m     labels \u001b[38;5;241m=\u001b[39m batch\u001b[38;5;241m.\u001b[39mlabels\u001b[38;5;241m.\u001b[39mnumpy()\n",
      "File \u001b[1;32md:\\Pulpit\\DeepLearning\\DeepLearning\\Project_II\\DataObjects\\DataLoader.py:137\u001b[0m, in \u001b[0;36mDataLoader.__iter__\u001b[1;34m(self)\u001b[0m\n\u001b[0;32m    134\u001b[0m     labels_list\u001b[38;5;241m.\u001b[39mappend(label)\n\u001b[0;32m    136\u001b[0m \u001b[38;5;28;01mif\u001b[39;00m data_list:\n\u001b[1;32m--> 137\u001b[0m     batch_data \u001b[38;5;241m=\u001b[39m \u001b[43mtorch\u001b[49m\u001b[38;5;241;43m.\u001b[39;49m\u001b[43mstack\u001b[49m\u001b[43m(\u001b[49m\u001b[43mdata_list\u001b[49m\u001b[43m)\u001b[49m\n\u001b[0;32m    138\u001b[0m     batch_labels \u001b[38;5;241m=\u001b[39m torch\u001b[38;5;241m.\u001b[39mtensor(labels_list, dtype\u001b[38;5;241m=\u001b[39mtorch\u001b[38;5;241m.\u001b[39mlong)\n\u001b[0;32m    139\u001b[0m     \u001b[38;5;28;01myield\u001b[39;00m DataBatch(batch_data, batch_labels)\n",
      "\u001b[1;31mRuntimeError\u001b[0m: stack expects each tensor to be equal size, but got [1, 2, 8001] at entry 0 and [1, 2, 7431] at entry 16"
     ]
    }
   ],
   "source": [
    "gmm_exp.run()"
   ]
  },
  {
   "cell_type": "code",
   "execution_count": null,
   "id": "8ad6c405",
   "metadata": {},
   "outputs": [],
   "source": []
  }
 ],
 "metadata": {
  "kernelspec": {
   "display_name": "Python 3",
   "language": "python",
   "name": "python3"
  },
  "language_info": {
   "codemirror_mode": {
    "name": "ipython",
    "version": 3
   },
   "file_extension": ".py",
   "mimetype": "text/x-python",
   "name": "python",
   "nbconvert_exporter": "python",
   "pygments_lexer": "ipython3",
   "version": "3.10.5"
  }
 },
 "nbformat": 4,
 "nbformat_minor": 5
}
