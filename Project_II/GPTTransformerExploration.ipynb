{
 "cells": [
  {
   "cell_type": "code",
   "id": "683d24ac",
   "metadata": {
    "ExecuteTime": {
     "end_time": "2025-04-27T10:57:06.406465Z",
     "start_time": "2025-04-27T10:57:03.829863Z"
    }
   },
   "source": [
    "# imports\n",
    "import torch\n",
    "import ray\n",
    "import os\n",
    "import shutil\n",
    "import matplotlib.pyplot as plt\n",
    "import seaborn as sns\n",
    "\n",
    "from DataObjects.DataLoader import DataLoader\n",
    "from Architectures.Transformer.GPT2 import GPT2FineTuner\n",
    "from ray import tune\n",
    "from ray.tune.schedulers import ASHAScheduler\n",
    "from ray.air import session\n",
    "\n",
    "from pathlib import Path\n",
    "import numpy as np"
   ],
   "outputs": [
    {
     "name": "stderr",
     "output_type": "stream",
     "text": [
      "/home/piotr/PycharmProjects/dl_project1/DeepLearning/Project_II/.venv/lib/python3.10/site-packages/tqdm/auto.py:22: TqdmWarning: IProgress not found. Please update jupyter and ipywidgets. See https://ipywidgets.readthedocs.io/en/stable/user_install.html\n",
      "  from .autonotebook import tqdm as notebook_tqdm\n",
      "2025-04-27 12:57:05,078\tINFO util.py:154 -- Missing packages: ['ipywidgets']. Run `pip install -U ipywidgets`, then restart the notebook server for rich notebook output.\n",
      "2025-04-27 12:57:06,346\tINFO util.py:154 -- Missing packages: ['ipywidgets']. Run `pip install -U ipywidgets`, then restart the notebook server for rich notebook output.\n"
     ]
    }
   ],
   "execution_count": 1
  },
  {
   "cell_type": "code",
   "id": "1d1a080e",
   "metadata": {
    "ExecuteTime": {
     "end_time": "2025-04-27T10:57:07.371726Z",
     "start_time": "2025-04-27T10:57:07.368261Z"
    }
   },
   "source": [
    "# SETTING SEED\n",
    "SEED = 42069    \n",
    "torch.manual_seed(SEED)\n",
    "np.random.seed(0)"
   ],
   "outputs": [],
   "execution_count": 2
  },
  {
   "cell_type": "code",
   "id": "bc13091f",
   "metadata": {
    "ExecuteTime": {
     "end_time": "2025-04-27T10:57:08.772169Z",
     "start_time": "2025-04-27T10:57:08.755210Z"
    }
   },
   "source": [
    "# set device to cuda\n",
    "device = torch.device('cuda' if torch.cuda.is_available() else 'cpu')\n",
    "print(f\"Using device: {device}\")"
   ],
   "outputs": [
    {
     "name": "stdout",
     "output_type": "stream",
     "text": [
      "Using device: cuda\n"
     ]
    }
   ],
   "execution_count": 3
  },
  {
   "metadata": {},
   "cell_type": "code",
   "source": [
    "def train_gpt2(config, audio_dim, num_labels, device):\n",
    "    # Initialize GPT2 model with parameters from Ray Tune's search space\n",
    "    model = GPT2FineTuner(\n",
    "        audio_dim=audio_dim,\n",
    "        num_labels=num_labels,\n",
    "        pretrained=True,\n",
    "        model_name=\"gpt2\",\n",
    "        lr=config[\"lr\"],  # Hyperparameter from Ray Tune\n",
    "    ).to(device)\n",
    "\n",
    "    train_loader = DataLoader(\n",
    "    data_dir=config[\"train_dir\"],\n",
    "    data_type='mfcc',\n",
    "    batch_size=config[\"batch_size\"],\n",
    "    shuffle=True\n",
    "    )\n",
    "    val_loader = DataLoader(\n",
    "    data_dir=config[\"val_dir\"],\n",
    "    data_type='mfcc',\n",
    "    batch_size=config[\"batch_size\"],\n",
    "    shuffle=True\n",
    "    )\n",
    "\n",
    "    # Training loop\n",
    "    model.train_architecture(train_loader=train_loader, val_loader=val_loader, epochs=config[\"epochs\"])\n",
    "\n",
    "    # Evaluate the model\n",
    "    results = model.evaluate(val_loader)\n",
    "\n",
    "    final_loss = results[\"summary\"][\"loss\"]\n",
    "    final_acc = results[\"summary\"][\"accuracy\"]\n",
    "\n",
    "    # Report the validation accuracy or other metrics as the result\n",
    "    if not session.get_session():\n",
    "        return final_loss, final_acc\n",
    "    return None"
   ],
   "id": "948e05b11836d1b1",
   "outputs": [],
   "execution_count": null
  },
  {
   "metadata": {},
   "cell_type": "code",
   "source": [
    "@ray.remote\n",
    "def setup_worker():\n",
    "    \"\"\"Ensure each Ray worker has access to the dataset.\"\"\"\n",
    "    worker_data_path = os.path.join(os.getcwd(), \"worker_data\")\n",
    "\n",
    "    if not os.path.exists(worker_data_path):\n",
    "        os.makedirs(worker_data_path)\n",
    "\n",
    "    # Copy dataset if it doesn’t already exist\n",
    "    source_data_path = os.path.abspath(\"Data/MFCC_transformed\")\n",
    "    if not os.path.exists(os.path.join(worker_data_path, \"MFCC_transformed\")):\n",
    "        shutil.copytree(source_data_path, os.path.join(worker_data_path, \"MFCC_transformed\"))\n",
    "\n",
    "    return f\"Worker setup complete: {worker_data_path}\""
   ],
   "id": "fa3ffbea97fccf7f",
   "outputs": [],
   "execution_count": null
  },
  {
   "metadata": {},
   "cell_type": "code",
   "source": [
    "config = {\n",
    "    \"lr\": tune.loguniform(1e-5, 1e-3),  # Learning rate search space\n",
    "    \"epochs\": tune.choice([1, 3, 5, 7]), # Number of epochs to train\n",
    "    \"batch_size\": tune.choice([4, 16, 32, 64]), # Batch size choice\n",
    "    \"train_dir\": os.path.abspath(\"Data/MFCC_transformed/training\"),\n",
    "    \"val_dir\":  os.path.abspath(\"Data/MFCC_transformed/validation\")\n",
    "}"
   ],
   "id": "b3ec7aa44366da87",
   "outputs": [],
   "execution_count": null
  },
  {
   "metadata": {},
   "cell_type": "code",
   "source": [
    "# Set up a scheduler for early stopping based on validation accuracy\n",
    "scheduler = ASHAScheduler(\n",
    "    metric=\"accuracy\",  # Objective metric\n",
    "    mode=\"max\",         # We want to maximize accuracy\n",
    "    max_t=10,           # Maximum number of epochs to run\n",
    "    grace_period=2,     # Number of epochs to wait before evaluating\n",
    "    reduction_factor=2  # Reduce the number of trials as we progress\n",
    ")"
   ],
   "id": "edb96410e529dbe5",
   "outputs": [],
   "execution_count": null
  },
  {
   "metadata": {},
   "cell_type": "code",
   "outputs": [],
   "execution_count": 4,
   "source": "DATA_PATH = Path(\"Data\")",
   "id": "7b651437"
  },
  {
   "metadata": {},
   "cell_type": "code",
   "outputs": [
    {
     "name": "stdout",
     "output_type": "stream",
     "text": [
      "Classes: {'bed': 0, 'bird': 1, 'cat': 2, 'dog': 3, 'down': 4, 'eight': 5, 'five': 6, 'four': 7, 'go': 8, 'happy': 9, 'house': 10, 'left': 11, 'marvin': 12, 'nine': 13, 'no': 14, 'off': 15, 'on': 16, 'one': 17, 'right': 18, 'seven': 19, 'sheila': 20, 'silence': 21, 'six': 22, 'stop': 23, 'three': 24, 'tree': 25, 'two': 26, 'up': 27, 'wow': 28, 'yes': 29, 'zero': 30}\n",
      "# training batches: 797\n",
      "# validation batches: 108\n",
      "# testing batches: 108\n"
     ]
    }
   ],
   "execution_count": 5,
   "source": [
    "# prepare Data Loader files\n",
    "train_dir = DATA_PATH / Path(\"MFCC_transformed\", \"training\")\n",
    "val_dir = DATA_PATH / Path(\"MFCC_transformed\", \"validation\")\n",
    "test_dir = DATA_PATH / Path(\"MFCC_transformed\", \"testing\")\n",
    "\n",
    "batch_size = 64\n",
    "\n",
    "train_loader = DataLoader(\n",
    "    data_dir=train_dir,\n",
    "    data_type='mfcc',\n",
    "    batch_size=batch_size,\n",
    "    shuffle=True\n",
    ")\n",
    "val_loader = DataLoader(\n",
    "    data_dir=val_dir,\n",
    "    data_type='mfcc',\n",
    "    batch_size=batch_size,\n",
    "    shuffle=True\n",
    ")\n",
    "\n",
    "test_loader = DataLoader(\n",
    "    data_dir=test_dir,\n",
    "    data_type='mfcc',\n",
    "    batch_size=batch_size,\n",
    "    shuffle=True\n",
    ")\n",
    "\n",
    "# Inspect class mapping and dataset size\n",
    "print(\"Classes:\", train_loader.class_to_idx)\n",
    "print(\"# training batches:\", len(train_loader))\n",
    "\n",
    "print(\"# validation batches:\", len(val_loader))\n",
    "\n",
    "print(\"# testing batches:\", len(test_loader))"
   ],
   "id": "d6716005"
  },
  {
   "cell_type": "code",
   "id": "74f76fed",
   "metadata": {
    "ExecuteTime": {
     "end_time": "2025-04-27T10:57:32.015242Z",
     "start_time": "2025-04-27T10:57:32.001597Z"
    }
   },
   "source": [
    "batch = next(iter(train_loader))\n",
    "C, *rest = batch.data.shape[1:] \n",
    "audio_dim = C                     \n",
    "\n",
    "num_labels = len(train_loader.class_to_idx)"
   ],
   "outputs": [],
   "execution_count": 6
  },
  {
   "metadata": {},
   "cell_type": "code",
   "source": [
    "ray.init(ignore_reinit_error=True)\n",
    "ray.get(setup_worker.remote())\n",
    "\n",
    "trainable = tune.with_parameters(train_gpt2, audio_dim=audio_dim, num_labels=num_labels, device=device)\n",
    "\n",
    "trainable = tune.with_resources(trainable, resources={\"cpu\": 16, \"gpu\": 1})\n",
    "\n",
    "tuner = tune.Tuner(\n",
    "    trainable,\n",
    "    param_space=config,\n",
    "    tune_config=tune.TuneConfig(\n",
    "        scheduler=scheduler,\n",
    "        num_samples=20,\n",
    "    ),\n",
    ")\n",
    "\n",
    "results = tuner.fit()\n",
    "\n",
    "best_result = results.get_best_result(metric=\"accuracy\", mode=\"max\")\n",
    "best_config = best_result.config\n",
    "print(\"Best config: \", best_config)"
   ],
   "id": "ab4b5538b63b3e3c",
   "outputs": [],
   "execution_count": null
  },
  {
   "metadata": {},
   "cell_type": "markdown",
   "source": "Best config:  {'lr': 0.00020677929251336613, 'epochs': 5, 'batch_size': 64",
   "id": "37235392a8d4a11"
  },
  {
   "metadata": {},
   "cell_type": "code",
   "source": [
    "loss_tab = []\n",
    "acc_tab = []\n",
    "lr_tab = []\n",
    "batch_size_tab = [4, 16, 32, 64]\n",
    "epoch_tab = [1, 3, 5, 7]"
   ],
   "id": "578066d7563d207d",
   "outputs": [],
   "execution_count": null
  },
  {
   "metadata": {},
   "cell_type": "code",
   "source": [
    "lr_tab.clear()\n",
    "loss_tab.clear()\n",
    "acc_tab.clear()\n",
    "for i in np.arange(0.6, 1.51, 0.1):\n",
    "    config_lr = best_config.copy()\n",
    "    config_lr[\"lr\"] = best_config.get(\"lr\")*i\n",
    "    lr_tab.append(config_lr[\"lr\"])\n",
    "\n",
    "    [loss, acc] = train_gpt2(config_lr, audio_dim, num_labels, device)\n",
    "    loss_tab.append(loss)\n",
    "    acc_tab.append(acc)"
   ],
   "id": "616c297296a8723b",
   "outputs": [],
   "execution_count": null
  },
  {
   "metadata": {},
   "cell_type": "code",
   "source": [
    "# Plot loss and accuracy vs learning rate\n",
    "plt.figure(figsize=(10, 5))\n",
    "\n",
    "# Loss plot\n",
    "plt.subplot(1, 2, 1)\n",
    "plt.plot(lr_tab, loss_tab, marker='o', linestyle='-')\n",
    "plt.xlabel(\"Learning Rate\")\n",
    "plt.ylabel(\"Loss\")\n",
    "plt.title(\"Loss vs Learning Rate\")\n",
    "\n",
    "# Accuracy plot\n",
    "plt.subplot(1, 2, 2)\n",
    "plt.plot(lr_tab, acc_tab, marker='o', linestyle='-', color='g')\n",
    "plt.xlabel(\"Learning Rate\")\n",
    "plt.ylabel(\"Accuracy\")\n",
    "plt.title(\"Accuracy vs Learning Rate\")\n",
    "\n",
    "plt.tight_layout()\n",
    "plt.show()"
   ],
   "id": "7d8e2c3a9b2d7d81",
   "outputs": [],
   "execution_count": null
  },
  {
   "metadata": {},
   "cell_type": "code",
   "source": [
    "loss_tab.clear()\n",
    "acc_tab.clear()\n",
    "for i in batch_size_tab:\n",
    "    config_batch = best_config.copy()\n",
    "    config_batch[\"batch_size\"] = i\n",
    "\n",
    "    [loss, acc] = train_gpt2(config_batch, audio_dim, num_labels, device)\n",
    "    loss_tab.append(loss)\n",
    "    acc_tab.append(acc)"
   ],
   "id": "1ff4221fb290826b",
   "outputs": [],
   "execution_count": null
  },
  {
   "metadata": {},
   "cell_type": "code",
   "source": [
    "# Plot loss and accuracy vs learning rate\n",
    "plt.figure(figsize=(10, 5))\n",
    "\n",
    "# Loss plot\n",
    "plt.subplot(1, 2, 1)\n",
    "plt.plot(batch_size_tab, loss_tab, marker='o', linestyle='-')\n",
    "plt.xlabel(\"Batch Size\")\n",
    "plt.ylabel(\"Loss\")\n",
    "plt.title(\"Loss vs Batch Size\")\n",
    "\n",
    "# Accuracy plot\n",
    "plt.subplot(1, 2, 2)\n",
    "plt.plot(batch_size_tab, acc_tab, marker='o', linestyle='-', color='g')\n",
    "plt.xlabel(\"Batch Size\")\n",
    "plt.ylabel(\"Accuracy\")\n",
    "plt.title(\"Accuracy vs Batch Size\")\n",
    "\n",
    "plt.tight_layout()\n",
    "plt.show()"
   ],
   "id": "46058b6925b0cda6",
   "outputs": [],
   "execution_count": null
  },
  {
   "metadata": {},
   "cell_type": "code",
   "source": [
    "loss_tab.clear()\n",
    "acc_tab.clear()\n",
    "for i in epoch_tab:\n",
    "    config_epoch = best_config.copy()\n",
    "    config_epoch[\"epochs\"] = i\n",
    "\n",
    "    [loss, acc] = train_gpt2(config_epoch, audio_dim, num_labels, device)\n",
    "    loss_tab.append(loss)\n",
    "    acc_tab.append(acc)"
   ],
   "id": "25fab85e8e038f9",
   "outputs": [],
   "execution_count": null
  },
  {
   "metadata": {},
   "cell_type": "code",
   "source": [
    "# Plot loss and accuracy vs learning rate\n",
    "plt.figure(figsize=(10, 5))\n",
    "\n",
    "# Loss plot\n",
    "plt.subplot(1, 2, 1)\n",
    "plt.plot(epoch_tab, loss_tab, marker='o', linestyle='-')\n",
    "plt.xlabel(\"Number of epochs\")\n",
    "plt.ylabel(\"Loss\")\n",
    "plt.title(\"Loss vs Number of epochs\")\n",
    "\n",
    "# Accuracy plot\n",
    "plt.subplot(1, 2, 2)\n",
    "plt.plot(epoch_tab, acc_tab, marker='o', linestyle='-', color='g')\n",
    "plt.xlabel(\"Number of epochs\")\n",
    "plt.ylabel(\"Accuracy\")\n",
    "plt.title(\"Accuracy vs Number of epochs\")\n",
    "\n",
    "plt.tight_layout()\n",
    "plt.show()"
   ],
   "id": "f1b914b6e808ef04",
   "outputs": [],
   "execution_count": null
  },
  {
   "metadata": {},
   "cell_type": "markdown",
   "source": "# Evaluate optimal setup",
   "id": "5dcfb5cb52cb84f5"
  },
  {
   "metadata": {
    "ExecuteTime": {
     "end_time": "2025-04-27T11:03:18.070848Z",
     "start_time": "2025-04-27T11:03:17.693748Z"
    }
   },
   "cell_type": "code",
   "source": [
    "model = GPT2FineTuner(\n",
    "    audio_dim=audio_dim,\n",
    "    num_labels=num_labels,\n",
    "    pretrained=True,\n",
    "    model_name=\"gpt2\",\n",
    "    lr=0.00020677929251336613\n",
    ").to(torch.device(\"cuda\" if torch.cuda.is_available() else \"cpu\"))"
   ],
   "id": "73abe35a4ef9b2bd",
   "outputs": [],
   "execution_count": 12
  },
  {
   "metadata": {
    "ExecuteTime": {
     "end_time": "2025-04-27T11:18:31.297541Z",
     "start_time": "2025-04-27T11:03:20.516308Z"
    }
   },
   "cell_type": "code",
   "source": [
    "# training loop\n",
    "# takes long time for gpt2...\n",
    "model.train_architecture(train_loader = train_loader, epochs = 5)"
   ],
   "id": "93f7ae21",
   "outputs": [
    {
     "name": "stdout",
     "output_type": "stream",
     "text": [
      "Epoch 1/5 - train loss: 1.4170 - train acc: 0.5875\n",
      "Epoch 2/5 - train loss: 0.4225 - train acc: 0.8742\n",
      "Epoch 3/5 - train loss: 0.3101 - train acc: 0.9086\n",
      "Epoch 4/5 - train loss: 0.2562 - train acc: 0.9230\n",
      "Epoch 5/5 - train loss: 0.2188 - train acc: 0.9350\n"
     ]
    }
   ],
   "execution_count": 13
  },
  {
   "metadata": {
    "ExecuteTime": {
     "end_time": "2025-04-27T11:18:40.028828Z",
     "start_time": "2025-04-27T11:18:31.350541Z"
    }
   },
   "cell_type": "code",
   "source": [
    "results = model.evaluate(test_loader)\n",
    "print(\"Validation Summary:\")\n",
    "for k, v in results['summary'].items():\n",
    "    print(f\"  {k}: {v:.4f}\")"
   ],
   "id": "efa29c73",
   "outputs": [
    {
     "name": "stderr",
     "output_type": "stream",
     "text": [
      "Evaluating GPT2: 100%|██████████| 108/108 [00:08<00:00, 12.48it/s]"
     ]
    },
    {
     "name": "stdout",
     "output_type": "stream",
     "text": [
      "Validation Summary:\n",
      "  loss: 0.3332\n",
      "  accuracy: 0.9069\n",
      "  precision: 0.9102\n",
      "  recall: 0.9090\n",
      "  f1: 0.9077\n"
     ]
    },
    {
     "name": "stderr",
     "output_type": "stream",
     "text": [
      "\n"
     ]
    }
   ],
   "execution_count": 14
  },
  {
   "metadata": {
    "ExecuteTime": {
     "end_time": "2025-04-27T11:18:40.937684Z",
     "start_time": "2025-04-27T11:18:40.039168Z"
    }
   },
   "cell_type": "code",
   "source": [
    "cm = results['confusion_matrix']\n",
    "# Plotting\n",
    "plt.figure(figsize=(12, 8))\n",
    "sns.heatmap(cm, annot=True, fmt=\"d\", cmap=\"Blues\", cbar=False)\n",
    "plt.xlabel(\"Predicted\")\n",
    "plt.ylabel(\"Actual\")\n",
    "plt.title(\"Confusion Matrix\")\n",
    "plt.show()"
   ],
   "id": "4ed90482d1d79e34",
   "outputs": [
    {
     "data": {
      "text/plain": [
       "<Figure size 1200x800 with 1 Axes>"
      ],
      "image/png": "[encoded data removed]"
     },
     "metadata": {},
     "output_type": "display_data"
    }
   ],
   "execution_count": 15
  },
  {
   "metadata": {},
   "cell_type": "markdown",
   "source": [
    "## More automated approach to running tests\n",
    "Running tests throgh an automated Experiment Object created through ExperimentFactory for easy and streamlined experiments."
   ],
   "id": "1ed87af1"
  },
  {
   "cell_type": "code",
   "id": "0a9fbe57",
   "metadata": {},
   "source": [
    "from DataObjects.Experiments import ExperimentFactory, GPT2Experiment"
   ],
   "outputs": [],
   "execution_count": null
  },
  {
   "cell_type": "code",
   "id": "9f8291e9",
   "metadata": {},
   "source": [
    "# set device to cuda\n",
    "device = torch.device('cuda' if torch.cuda.is_available() else 'cpu')\n",
    "print(f\"Using device: {device}\")"
   ],
   "outputs": [],
   "execution_count": null
  },
  {
   "cell_type": "code",
   "id": "3bf00d81",
   "metadata": {},
   "source": [
    "gpt2_exp = ExperimentFactory.create_experiment(\n",
    "    arch_name='gpt2',\n",
    "    train_dir='Data/MFCC_transformed/training',\n",
    "    val_dir='Data/MFCC_transformed/validation',\n",
    "    test_dir='Data/MFCC_transformed/testing',\n",
    "    batch_size=32,\n",
    "    epochs=5,\n",
    "    audio_dim=128,\n",
    "    save_path = \"Saved_experimented_data/GPT2_experiment.txt\",     \n",
    "    model_kwargs={\n",
    "        'num_labels': 31,\n",
    "        'pretrained': False,\n",
    "        'model_name': 'gpt2',\n",
    "        'lr': 5e-5\n",
    "    }\n",
    ")"
   ],
   "outputs": [],
   "execution_count": null
  },
  {
   "cell_type": "code",
   "id": "b622dd4c",
   "metadata": {},
   "source": [
    "gpt2_exp.run()"
   ],
   "outputs": [],
   "execution_count": null
  }
 ],
 "metadata": {
  "kernelspec": {
   "display_name": "Python 3",
   "language": "python",
   "name": "python3"
  },
  "language_info": {
   "codemirror_mode": {
    "name": "ipython",
    "version": 3
   },
   "file_extension": ".py",
   "mimetype": "text/x-python",
   "name": "python",
   "nbconvert_exporter": "python",
   "pygments_lexer": "ipython3",
   "version": "3.10.5"
  }
 },
 "nbformat": 4,
 "nbformat_minor": 5
}
