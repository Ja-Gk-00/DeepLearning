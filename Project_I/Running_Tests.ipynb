{
 "cells": [
  {
   "cell_type": "markdown",
   "metadata": {},
   "source": [
    "## Tests\n",
    "Here all the required tests were ran in order to acquire the results needed for the comparison between out methods."
   ]
  },
  {
   "cell_type": "code",
   "execution_count": null,
   "metadata": {},
   "outputs": [],
   "source": [
    "import os\n",
    "import torch\n",
    "import torch.optim as optim\n",
    "import torch.nn as nn\n",
    "\n",
    "from DataObjects import DataLoader\n",
    "from Architectures.SimpleCNN import SimpleCNN\n",
    "from Architectures.OptimalCNN import OptimalCNN\n",
    "from Architectures.ResNet import ResNet20, ResNet32, ResNet50, ResNet56, ResNet101\n",
    "from Architectures.DenseNET import DenseNet121, DenseNet169, DenseNet201, DenseNet161\n",
    "from Architectures.StochasticDepthCNN import StochasticDepthCNN\n",
    "from Architectures.utils import train_model, evaluate, infer\n",
    "\n",
    "\n",
    "from typing import Optional, Tuple\n",
    "\n",
    "from utils import save_model, load_model"
   ]
  },
  {
   "cell_type": "code",
   "execution_count": 2,
   "metadata": {},
   "outputs": [
    {
     "data": {
      "text/plain": [
       "True"
      ]
     },
     "execution_count": 2,
     "metadata": {},
     "output_type": "execute_result"
    }
   ],
   "source": [
    "import torch\n",
    "torch.cuda.is_available()"
   ]
  },
  {
   "cell_type": "code",
   "execution_count": 3,
   "metadata": {},
   "outputs": [
    {
     "name": "stdout",
     "output_type": "stream",
     "text": [
      "cuda:0\n"
     ]
    }
   ],
   "source": [
    "device = torch.device(\"cuda:0\" if torch.cuda.is_available() else \"cpu\")\n",
    "print(device)"
   ]
  },
  {
   "cell_type": "code",
   "execution_count": 12,
   "metadata": {},
   "outputs": [],
   "source": [
    "# Setup directories and DataLoaders\n",
    "train_dir = os.path.join(\"Data\", \"Data_converted\", \"train\")\n",
    "val_dir = os.path.join(\"Data\", \"Data_converted\", \"valid\")\n",
    "\n",
    "train_loader = DataLoader(train_dir, batch_size=32, shuffle=True, max_per_class = 3000)\n",
    "val_loader = DataLoader(val_dir, batch_size=32, shuffle=True, max_per_class = 3000) \n",
    "\n",
    "# Instantiate the model\n",
    "model_Simple_I = SimpleCNN(num_classes=10)"
   ]
  },
  {
   "cell_type": "code",
   "execution_count": 13,
   "metadata": {},
   "outputs": [
    {
     "name": "stdout",
     "output_type": "stream",
     "text": [
      "Epoch 1/10 - Train loss: 2.9953, Train acc: 0.1020 | Val loss: 2.3035, Val acc: 0.1000\n",
      "Epoch 2/10 - Train loss: 2.3037, Train acc: 0.1007 | Val loss: 2.3034, Val acc: 0.1000\n",
      "Epoch 3/10 - Train loss: 2.3038, Train acc: 0.0993 | Val loss: 2.3031, Val acc: 0.1000\n",
      "Epoch 4/10 - Train loss: 2.3037, Train acc: 0.1011 | Val loss: 2.3037, Val acc: 0.1000\n",
      "Epoch 5/10 - Train loss: 2.3037, Train acc: 0.0991 | Val loss: 2.3030, Val acc: 0.1000\n",
      "Epoch 6/10 - Train loss: 2.3038, Train acc: 0.0959 | Val loss: 2.3030, Val acc: 0.1000\n",
      "Epoch 7/10 - Train loss: 2.3037, Train acc: 0.1008 | Val loss: 2.3034, Val acc: 0.1000\n",
      "Epoch 8/10 - Train loss: 2.3040, Train acc: 0.0988 | Val loss: 2.3033, Val acc: 0.1000\n",
      "Epoch 9/10 - Train loss: 2.3037, Train acc: 0.0985 | Val loss: 2.3038, Val acc: 0.1000\n",
      "Epoch 10/10 - Train loss: 2.3036, Train acc: 0.0986 | Val loss: 2.3032, Val acc: 0.1000\n"
     ]
    }
   ],
   "source": [
    "# Train the model\n",
    "train_model(model_Simple_I, train_loader, val_loader, num_epochs=10, lr=0.008)"
   ]
  },
  {
   "cell_type": "code",
   "execution_count": 16,
   "metadata": {},
   "outputs": [],
   "source": [
    "# Setup directories and DataLoaders\n",
    "train_dir = os.path.join(\"Data\", \"Data_converted\", \"train\")\n",
    "val_dir = os.path.join(\"Data\", \"Data_converted\", \"valid\")\n",
    "\n",
    "train_loader = DataLoader(train_dir, batch_size=32, shuffle=True, max_per_class = 3000)\n",
    "val_loader = DataLoader(val_dir, batch_size=32, shuffle=True, max_per_class = 3000) \n",
    "\n",
    "# Instantiate the model\n",
    "model_Res_I = ResNet20(num_classes=10)"
   ]
  },
  {
   "cell_type": "code",
   "execution_count": 17,
   "metadata": {},
   "outputs": [
    {
     "name": "stdout",
     "output_type": "stream",
     "text": [
      "Epoch 1/10 - Train loss: 1.8386, Train acc: 0.3093 | Val loss: 1.7188, Val acc: 0.3606\n",
      "Epoch 2/10 - Train loss: 1.4339, Train acc: 0.4834 | Val loss: 1.3189, Val acc: 0.5321\n",
      "Epoch 3/10 - Train loss: 1.2048, Train acc: 0.5725 | Val loss: 1.1774, Val acc: 0.5872\n",
      "Epoch 4/10 - Train loss: 1.0603, Train acc: 0.6273 | Val loss: 1.0753, Val acc: 0.6255\n",
      "Epoch 5/10 - Train loss: 0.9408, Train acc: 0.6688 | Val loss: 0.9573, Val acc: 0.6677\n",
      "Epoch 6/10 - Train loss: 0.8436, Train acc: 0.7052 | Val loss: 0.9313, Val acc: 0.6773\n",
      "Epoch 7/10 - Train loss: 0.7587, Train acc: 0.7333 | Val loss: 0.9371, Val acc: 0.6756\n",
      "Epoch 8/10 - Train loss: 0.6884, Train acc: 0.7599 | Val loss: 0.9067, Val acc: 0.6927\n",
      "Epoch 9/10 - Train loss: 0.6127, Train acc: 0.7864 | Val loss: 0.9222, Val acc: 0.6957\n",
      "Epoch 10/10 - Train loss: 0.5466, Train acc: 0.8088 | Val loss: 1.0590, Val acc: 0.6858\n"
     ]
    }
   ],
   "source": [
    "# Train the model\n",
    "train_model(model_Res_I, train_loader, val_loader, num_epochs=10, lr=0.008)"
   ]
  },
  {
   "cell_type": "code",
   "execution_count": null,
   "metadata": {},
   "outputs": [
    {
     "name": "stdout",
     "output_type": "stream",
     "text": [
      "Epoch 1/15 - Train loss: 1.7893, Train acc: 0.3393 | Val loss: 1.6382, Val acc: 0.4092\n",
      "Epoch 2/15 - Train loss: 1.3846, Train acc: 0.5063 | Val loss: 1.6874, Val acc: 0.4288\n",
      "Epoch 3/15 - Train loss: 1.1891, Train acc: 0.5792 | Val loss: 1.2517, Val acc: 0.5588\n",
      "Epoch 4/15 - Train loss: 1.0435, Train acc: 0.6339 | Val loss: 1.0474, Val acc: 0.6355\n",
      "Epoch 5/15 - Train loss: 0.9216, Train acc: 0.6767 | Val loss: 1.0008, Val acc: 0.6517\n",
      "Epoch 6/15 - Train loss: 0.8281, Train acc: 0.7108 | Val loss: 0.9131, Val acc: 0.6812\n",
      "Epoch 7/15 - Train loss: 0.7503, Train acc: 0.7373 | Val loss: 1.0839, Val acc: 0.6359\n",
      "Epoch 8/15 - Train loss: 0.6807, Train acc: 0.7632 | Val loss: 1.0006, Val acc: 0.6756\n",
      "Epoch 9/15 - Train loss: 0.6090, Train acc: 0.7899 | Val loss: 0.9915, Val acc: 0.6689\n",
      "Epoch 10/15 - Train loss: 0.5440, Train acc: 0.8081 | Val loss: 0.9741, Val acc: 0.6903\n",
      "Epoch 11/15 - Train loss: 0.4810, Train acc: 0.8298 | Val loss: 0.9674, Val acc: 0.7043\n",
      "Epoch 12/15 - Train loss: 0.4303, Train acc: 0.8484 | Val loss: 1.0107, Val acc: 0.6913\n",
      "Epoch 13/15 - Train loss: 0.3711, Train acc: 0.8688 | Val loss: 1.1071, Val acc: 0.7007\n",
      "Epoch 14/15 - Train loss: 0.3356, Train acc: 0.8814 | Val loss: 1.1143, Val acc: 0.6818\n",
      "Epoch 15/15 - Train loss: 0.2862, Train acc: 0.8964 | Val loss: 1.3434, Val acc: 0.6700\n"
     ]
    }
   ],
   "source": [
    "# Setup directories and DataLoaders\n",
    "train_dir = os.path.join(\"Data\", \"Data_converted\", \"train\")\n",
    "val_dir = os.path.join(\"Data\", \"Data_converted\", \"valid\")\n",
    "\n",
    "train_loader = DataLoader(train_dir, batch_size=32, shuffle=True, max_per_class = 3000)\n",
    "val_loader = DataLoader(val_dir, batch_size=32, shuffle=True, max_per_class = 3000) \n",
    "\n",
    "# Instantiate the model\n",
    "model_Res_II = ResNet20(num_classes=10)\n",
    "# Train the model\n",
    "train_model(model_Res_II, train_loader, val_loader, num_epochs=15, lr=0.001)"
   ]
  },
  {
   "cell_type": "code",
   "execution_count": 5,
   "metadata": {},
   "outputs": [
    {
     "name": "stdout",
     "output_type": "stream",
     "text": [
      "Epoch 1/15 - Train loss: 1.6724, Train acc: 0.3861 | Val loss: 1.5197, Val acc: 0.4590\n",
      "Epoch 2/15 - Train loss: 1.3017, Train acc: 0.5387 | Val loss: 1.1780, Val acc: 0.5755\n",
      "Epoch 3/15 - Train loss: 1.1339, Train acc: 0.6016 | Val loss: 1.1236, Val acc: 0.6039\n",
      "Epoch 4/15 - Train loss: 1.0090, Train acc: 0.6494 | Val loss: 1.0791, Val acc: 0.6234\n",
      "Epoch 5/15 - Train loss: 0.9133, Train acc: 0.6853 | Val loss: 1.0394, Val acc: 0.6426\n",
      "Epoch 6/15 - Train loss: 0.8333, Train acc: 0.7085 | Val loss: 0.9526, Val acc: 0.6741\n",
      "Epoch 7/15 - Train loss: 0.7563, Train acc: 0.7396 | Val loss: 0.9208, Val acc: 0.6828\n",
      "Epoch 8/15 - Train loss: 0.6929, Train acc: 0.7621 | Val loss: 0.9369, Val acc: 0.6885\n",
      "Epoch 9/15 - Train loss: 0.6257, Train acc: 0.7857 | Val loss: 0.9076, Val acc: 0.7002\n",
      "Epoch 10/15 - Train loss: 0.5572, Train acc: 0.8042 | Val loss: 0.9606, Val acc: 0.6942\n",
      "Epoch 11/15 - Train loss: 0.4995, Train acc: 0.8275 | Val loss: 0.9513, Val acc: 0.6990\n",
      "Epoch 12/15 - Train loss: 0.4340, Train acc: 0.8513 | Val loss: 0.9984, Val acc: 0.6968\n",
      "Epoch 13/15 - Train loss: 0.3865, Train acc: 0.8644 | Val loss: 1.0464, Val acc: 0.6884\n",
      "Epoch 14/15 - Train loss: 0.3354, Train acc: 0.8845 | Val loss: 1.1036, Val acc: 0.6940\n",
      "Epoch 15/15 - Train loss: 0.2939, Train acc: 0.8966 | Val loss: 1.2184, Val acc: 0.6855\n"
     ]
    }
   ],
   "source": [
    "# Setup directories and DataLoaders\n",
    "train_dir = os.path.join(\"Data\", \"Data_converted\", \"train\")\n",
    "val_dir = os.path.join(\"Data\", \"Data_converted\", \"valid\")\n",
    "\n",
    "train_loader = DataLoader(train_dir, batch_size=32, shuffle=True, max_per_class = 3000)\n",
    "val_loader = DataLoader(val_dir, batch_size=32, shuffle=True, max_per_class = 3000) \n",
    "\n",
    "# Instantiate the model\n",
    "model_Res_III = ResNet32(num_classes=10)\n",
    "# Train the model\n",
    "train_model(model_Res_III, train_loader, val_loader, num_epochs=15, lr=0.001)"
   ]
  },
  {
   "cell_type": "code",
   "execution_count": 6,
   "metadata": {},
   "outputs": [
    {
     "name": "stdout",
     "output_type": "stream",
     "text": [
      "Epoch 1/20 - Train loss: 1.7377, Train acc: 0.3592 | Val loss: 1.4754, Val acc: 0.4631\n",
      "Epoch 2/20 - Train loss: 1.3503, Train acc: 0.5164 | Val loss: 1.2598, Val acc: 0.5513\n",
      "Epoch 3/20 - Train loss: 1.1678, Train acc: 0.5823 | Val loss: 1.1263, Val acc: 0.6021\n",
      "Epoch 4/20 - Train loss: 1.0423, Train acc: 0.6321 | Val loss: 1.1206, Val acc: 0.6164\n",
      "Epoch 5/20 - Train loss: 0.9404, Train acc: 0.6688 | Val loss: 0.9987, Val acc: 0.6529\n",
      "Epoch 6/20 - Train loss: 0.8505, Train acc: 0.7025 | Val loss: 1.0874, Val acc: 0.6314\n",
      "Epoch 7/20 - Train loss: 0.7767, Train acc: 0.7270 | Val loss: 0.9428, Val acc: 0.6739\n",
      "Epoch 8/20 - Train loss: 0.7035, Train acc: 0.7529 | Val loss: 0.9033, Val acc: 0.6958\n",
      "Epoch 9/20 - Train loss: 0.6329, Train acc: 0.7786 | Val loss: 0.9138, Val acc: 0.7054\n",
      "Epoch 10/20 - Train loss: 0.5611, Train acc: 0.8028 | Val loss: 0.8997, Val acc: 0.7091\n",
      "Epoch 11/20 - Train loss: 0.5025, Train acc: 0.8247 | Val loss: 0.9522, Val acc: 0.7022\n",
      "Epoch 12/20 - Train loss: 0.4441, Train acc: 0.8446 | Val loss: 0.9914, Val acc: 0.6952\n",
      "Epoch 13/20 - Train loss: 0.3932, Train acc: 0.8623 | Val loss: 1.0187, Val acc: 0.6985\n",
      "Epoch 14/20 - Train loss: 0.3592, Train acc: 0.8722 | Val loss: 1.0798, Val acc: 0.6858\n",
      "Epoch 15/20 - Train loss: 0.3048, Train acc: 0.8929 | Val loss: 1.1352, Val acc: 0.6902\n",
      "Epoch 16/20 - Train loss: 0.2759, Train acc: 0.9025 | Val loss: 1.1873, Val acc: 0.6976\n",
      "Epoch 17/20 - Train loss: 0.2517, Train acc: 0.9114 | Val loss: 1.1770, Val acc: 0.6955\n",
      "Epoch 18/20 - Train loss: 0.2125, Train acc: 0.9236 | Val loss: 1.1895, Val acc: 0.6896\n",
      "Epoch 19/20 - Train loss: 0.2042, Train acc: 0.9264 | Val loss: 1.3573, Val acc: 0.6854\n",
      "Epoch 20/20 - Train loss: 0.1834, Train acc: 0.9353 | Val loss: 1.2804, Val acc: 0.6986\n",
      "Model saved successfully at Models_Pytorch_saved/model_Res_IV.pth\n"
     ]
    }
   ],
   "source": [
    "# Setup directories and DataLoaders\n",
    "train_dir = os.path.join(\"Data\", \"Data_converted\", \"train\")\n",
    "val_dir = os.path.join(\"Data\", \"Data_converted\", \"valid\")\n",
    "\n",
    "train_loader = DataLoader(train_dir, batch_size=32, shuffle=True, max_per_class = 3000)\n",
    "val_loader = DataLoader(val_dir, batch_size=32, shuffle=True, max_per_class = 3000) \n",
    "\n",
    "# Instantiate the model\n",
    "model_Res_IV = ResNet50(num_classes=10)\n",
    "# Train the model\n",
    "train_model(model_Res_IV, train_loader, val_loader, num_epochs=20, lr=0.001)\n",
    "save_model(model_Res_IV, \"Models_Pytorch_saved/model_Res_IV.pth\")"
   ]
  },
  {
   "cell_type": "code",
   "execution_count": 7,
   "metadata": {},
   "outputs": [
    {
     "name": "stdout",
     "output_type": "stream",
     "text": [
      "Epoch 1/30 - Train loss: 1.6795, Train acc: 0.3905 | Val loss: 1.5187, Val acc: 0.4537\n",
      "Epoch 2/30 - Train loss: 1.3245, Train acc: 0.5325 | Val loss: 1.2790, Val acc: 0.5341\n",
      "Epoch 3/30 - Train loss: 1.1528, Train acc: 0.5960 | Val loss: 1.1725, Val acc: 0.5923\n",
      "Epoch 4/30 - Train loss: 1.0301, Train acc: 0.6379 | Val loss: 1.0740, Val acc: 0.6270\n",
      "Epoch 5/30 - Train loss: 0.9316, Train acc: 0.6757 | Val loss: 0.9888, Val acc: 0.6549\n",
      "Epoch 6/30 - Train loss: 0.8502, Train acc: 0.7048 | Val loss: 0.9904, Val acc: 0.6646\n",
      "Epoch 7/30 - Train loss: 0.7745, Train acc: 0.7329 | Val loss: 0.9900, Val acc: 0.6626\n",
      "Epoch 8/30 - Train loss: 0.7051, Train acc: 0.7551 | Val loss: 0.9632, Val acc: 0.6784\n",
      "Epoch 9/30 - Train loss: 0.6391, Train acc: 0.7800 | Val loss: 0.9444, Val acc: 0.6855\n",
      "Epoch 10/30 - Train loss: 0.5746, Train acc: 0.7985 | Val loss: 1.0093, Val acc: 0.6776\n",
      "Epoch 11/30 - Train loss: 0.5146, Train acc: 0.8172 | Val loss: 0.9387, Val acc: 0.6998\n",
      "Epoch 12/30 - Train loss: 0.4587, Train acc: 0.8390 | Val loss: 1.0495, Val acc: 0.6833\n",
      "Epoch 13/30 - Train loss: 0.4073, Train acc: 0.8566 | Val loss: 1.0273, Val acc: 0.6895\n",
      "Epoch 14/30 - Train loss: 0.3533, Train acc: 0.8771 | Val loss: 1.0647, Val acc: 0.6946\n",
      "Epoch 15/30 - Train loss: 0.3159, Train acc: 0.8879 | Val loss: 1.1124, Val acc: 0.6928\n",
      "Epoch 16/30 - Train loss: 0.2946, Train acc: 0.8950 | Val loss: 1.1601, Val acc: 0.6881\n",
      "Epoch 17/30 - Train loss: 0.2567, Train acc: 0.9102 | Val loss: 1.2190, Val acc: 0.6924\n",
      "Epoch 18/30 - Train loss: 0.2317, Train acc: 0.9169 | Val loss: 1.2016, Val acc: 0.6996\n",
      "Epoch 19/30 - Train loss: 0.2158, Train acc: 0.9234 | Val loss: 1.2877, Val acc: 0.6874\n",
      "Epoch 20/30 - Train loss: 0.1909, Train acc: 0.9318 | Val loss: 1.3532, Val acc: 0.6884\n",
      "Epoch 21/30 - Train loss: 0.1871, Train acc: 0.9335 | Val loss: 1.4367, Val acc: 0.6814\n",
      "Epoch 22/30 - Train loss: 0.1678, Train acc: 0.9405 | Val loss: 1.3604, Val acc: 0.6923\n",
      "Epoch 23/30 - Train loss: 0.1608, Train acc: 0.9429 | Val loss: 1.4969, Val acc: 0.6843\n",
      "Epoch 24/30 - Train loss: 0.1560, Train acc: 0.9455 | Val loss: 1.5765, Val acc: 0.6767\n",
      "Epoch 25/30 - Train loss: 0.1472, Train acc: 0.9479 | Val loss: 1.4075, Val acc: 0.6944\n",
      "Epoch 26/30 - Train loss: 0.1336, Train acc: 0.9535 | Val loss: 1.4889, Val acc: 0.6910\n",
      "Epoch 27/30 - Train loss: 0.1344, Train acc: 0.9534 | Val loss: 1.5004, Val acc: 0.6851\n",
      "Epoch 28/30 - Train loss: 0.1314, Train acc: 0.9546 | Val loss: 1.4812, Val acc: 0.6923\n",
      "Epoch 29/30 - Train loss: 0.1193, Train acc: 0.9580 | Val loss: 1.5155, Val acc: 0.6897\n",
      "Epoch 30/30 - Train loss: 0.1136, Train acc: 0.9604 | Val loss: 1.6626, Val acc: 0.6785\n",
      "Model saved successfully at Models_Pytorch_saved/model_Res_IV.pth\n",
      "Test Loss: 1.7074, Test Accuracy: 0.6764\n"
     ]
    },
    {
     "data": {
      "text/plain": [
       "(1.7073976653575897, 0.67645)"
      ]
     },
     "execution_count": 7,
     "metadata": {},
     "output_type": "execute_result"
    }
   ],
   "source": [
    "# Setup directories and DataLoaders\n",
    "train_dir = os.path.join(\"Data\", \"Data_converted\", \"train\")\n",
    "val_dir = os.path.join(\"Data\", \"Data_converted\", \"valid\")\n",
    "test_dir = os.path.join(\"Data\", \"Data_converted\", \"test\")\n",
    "\n",
    "train_loader = DataLoader(train_dir, batch_size=32, shuffle=True, max_per_class = 4000)\n",
    "val_loader = DataLoader(val_dir, batch_size=32, shuffle=True, max_per_class = 4000) \n",
    "test_loader = DataLoader(test_dir, batch_size=32, shuffle=True, max_per_class = 4000) \n",
    "\n",
    "# Instantiate the model\n",
    "model_Res_IV = ResNet50(num_classes=10)\n",
    "# Train the model\n",
    "train_model(model_Res_IV, train_loader, val_loader, num_epochs=30, lr=0.001)\n",
    "save_model(model_Res_IV, \"Models_Pytorch_saved/model_Res_IV.pth\")\n",
    "evaluate(model_Res_IV, test_loader)"
   ]
  },
  {
   "cell_type": "code",
   "execution_count": 9,
   "metadata": {},
   "outputs": [
    {
     "name": "stdout",
     "output_type": "stream",
     "text": [
      "Epoch 1/30 - Train loss: 1.7217, Train acc: 0.3696 | Val loss: 1.8537, Val acc: 0.4009\n",
      "Epoch 2/30 - Train loss: 1.3451, Train acc: 0.5225 | Val loss: 1.3156, Val acc: 0.5384\n",
      "Epoch 3/30 - Train loss: 1.1636, Train acc: 0.5905 | Val loss: 1.2708, Val acc: 0.5528\n",
      "Epoch 4/30 - Train loss: 1.0463, Train acc: 0.6318 | Val loss: 1.1367, Val acc: 0.6021\n",
      "Epoch 5/30 - Train loss: 0.9488, Train acc: 0.6691 | Val loss: 0.9614, Val acc: 0.6656\n",
      "Epoch 6/30 - Train loss: 0.8671, Train acc: 0.6977 | Val loss: 0.9182, Val acc: 0.6808\n",
      "Epoch 7/30 - Train loss: 0.7970, Train acc: 0.7253 | Val loss: 0.9064, Val acc: 0.6848\n",
      "Epoch 8/30 - Train loss: 0.7284, Train acc: 0.7467 | Val loss: 0.8929, Val acc: 0.6922\n",
      "Epoch 9/30 - Train loss: 0.6604, Train acc: 0.7712 | Val loss: 0.8723, Val acc: 0.7034\n",
      "Epoch 10/30 - Train loss: 0.6025, Train acc: 0.7905 | Val loss: 0.8857, Val acc: 0.7057\n",
      "Epoch 11/30 - Train loss: 0.5362, Train acc: 0.8134 | Val loss: 0.9062, Val acc: 0.7042\n",
      "Epoch 12/30 - Train loss: 0.4767, Train acc: 0.8327 | Val loss: 0.9052, Val acc: 0.7064\n",
      "Epoch 13/30 - Train loss: 0.4212, Train acc: 0.8540 | Val loss: 1.0289, Val acc: 0.6910\n",
      "Epoch 14/30 - Train loss: 0.3680, Train acc: 0.8709 | Val loss: 1.1487, Val acc: 0.6805\n",
      "Epoch 15/30 - Train loss: 0.3189, Train acc: 0.8879 | Val loss: 1.0636, Val acc: 0.7063\n",
      "Epoch 16/30 - Train loss: 0.2889, Train acc: 0.8990 | Val loss: 1.0864, Val acc: 0.7051\n",
      "Epoch 17/30 - Train loss: 0.2456, Train acc: 0.9139 | Val loss: 1.1703, Val acc: 0.7005\n",
      "Epoch 18/30 - Train loss: 0.2223, Train acc: 0.9202 | Val loss: 1.2477, Val acc: 0.6926\n",
      "Epoch 19/30 - Train loss: 0.1967, Train acc: 0.9310 | Val loss: 1.2794, Val acc: 0.6977\n",
      "Epoch 20/30 - Train loss: 0.1779, Train acc: 0.9366 | Val loss: 1.4183, Val acc: 0.6770\n",
      "Epoch 21/30 - Train loss: 0.1618, Train acc: 0.9436 | Val loss: 1.4679, Val acc: 0.6868\n",
      "Epoch 22/30 - Train loss: 0.1464, Train acc: 0.9488 | Val loss: 1.4233, Val acc: 0.6925\n",
      "Epoch 23/30 - Train loss: 0.1376, Train acc: 0.9519 | Val loss: 1.5134, Val acc: 0.6896\n",
      "Epoch 24/30 - Train loss: 0.1269, Train acc: 0.9559 | Val loss: 1.4575, Val acc: 0.6946\n",
      "Epoch 25/30 - Train loss: 0.1198, Train acc: 0.9572 | Val loss: 1.5375, Val acc: 0.6975\n",
      "Epoch 26/30 - Train loss: 0.1165, Train acc: 0.9605 | Val loss: 1.5304, Val acc: 0.6934\n",
      "Epoch 27/30 - Train loss: 0.1097, Train acc: 0.9625 | Val loss: 1.5523, Val acc: 0.6923\n",
      "Epoch 28/30 - Train loss: 0.1027, Train acc: 0.9645 | Val loss: 1.5746, Val acc: 0.6869\n",
      "Epoch 29/30 - Train loss: 0.1015, Train acc: 0.9643 | Val loss: 1.5204, Val acc: 0.7007\n",
      "Epoch 30/30 - Train loss: 0.0934, Train acc: 0.9665 | Val loss: 1.6368, Val acc: 0.6990\n",
      "Model saved successfully at Models_Pytorch_saved/model_Res_V.pth\n",
      "Test Loss: 1.6515, Test Accuracy: 0.6960\n"
     ]
    },
    {
     "data": {
      "text/plain": [
       "(1.651496865606308, 0.696025)"
      ]
     },
     "execution_count": 9,
     "metadata": {},
     "output_type": "execute_result"
    }
   ],
   "source": [
    "# Setup directories and DataLoaders\n",
    "train_dir = os.path.join(\"Data\", \"Data_converted\", \"train\")\n",
    "val_dir = os.path.join(\"Data\", \"Data_converted\", \"valid\")\n",
    "test_dir = os.path.join(\"Data\", \"Data_converted\", \"test\")\n",
    "\n",
    "train_loader = DataLoader(train_dir, batch_size=32, shuffle=True, max_per_class = 4000)\n",
    "val_loader = DataLoader(val_dir, batch_size=32, shuffle=True, max_per_class = 4000) \n",
    "test_loader = DataLoader(test_dir, batch_size=32, shuffle=True, max_per_class = 4000) \n",
    "\n",
    "# Instantiate the model\n",
    "model_Res_V = ResNet56(num_classes=10)\n",
    "# Train the model\n",
    "train_model(model_Res_V, train_loader, val_loader, num_epochs=30, lr=0.001)\n",
    "save_model(model_Res_V, \"Models_Pytorch_saved/model_Res_V.pth\")\n",
    "evaluate(model_Res_V, test_loader)"
   ]
  },
  {
   "cell_type": "code",
   "execution_count": 10,
   "metadata": {},
   "outputs": [
    {
     "name": "stdout",
     "output_type": "stream",
     "text": [
      "Epoch 1/30 - Train loss: 1.8614, Train acc: 0.3321 | Val loss: 1.6951, Val acc: 0.3975\n",
      "Epoch 2/30 - Train loss: 1.4417, Train acc: 0.4888 | Val loss: 1.4561, Val acc: 0.5033\n",
      "Epoch 3/30 - Train loss: 1.2322, Train acc: 0.5695 | Val loss: 1.1767, Val acc: 0.5832\n",
      "Epoch 4/30 - Train loss: 1.0861, Train acc: 0.6191 | Val loss: 1.0899, Val acc: 0.6223\n",
      "Epoch 5/30 - Train loss: 0.9676, Train acc: 0.6607 | Val loss: 0.9871, Val acc: 0.6576\n",
      "Epoch 6/30 - Train loss: 0.8719, Train acc: 0.6970 | Val loss: 0.9468, Val acc: 0.6727\n",
      "Epoch 7/30 - Train loss: 0.7767, Train acc: 0.7306 | Val loss: 0.8608, Val acc: 0.7002\n",
      "Epoch 8/30 - Train loss: 0.6888, Train acc: 0.7612 | Val loss: 0.8939, Val acc: 0.6982\n",
      "Epoch 9/30 - Train loss: 0.6108, Train acc: 0.7883 | Val loss: 0.9044, Val acc: 0.6992\n",
      "Epoch 10/30 - Train loss: 0.5330, Train acc: 0.8150 | Val loss: 0.9101, Val acc: 0.7071\n",
      "Epoch 11/30 - Train loss: 0.4562, Train acc: 0.8395 | Val loss: 0.9134, Val acc: 0.7021\n",
      "Epoch 12/30 - Train loss: 0.3829, Train acc: 0.8649 | Val loss: 0.9638, Val acc: 0.7144\n",
      "Epoch 13/30 - Train loss: 0.3259, Train acc: 0.8832 | Val loss: 1.0895, Val acc: 0.7002\n",
      "Epoch 14/30 - Train loss: 0.2745, Train acc: 0.9031 | Val loss: 1.0512, Val acc: 0.7068\n",
      "Epoch 15/30 - Train loss: 0.2341, Train acc: 0.9174 | Val loss: 1.1020, Val acc: 0.7097\n",
      "Epoch 16/30 - Train loss: 0.2067, Train acc: 0.9271 | Val loss: 1.1294, Val acc: 0.7086\n",
      "Epoch 17/30 - Train loss: 0.1824, Train acc: 0.9345 | Val loss: 1.2138, Val acc: 0.7096\n",
      "Epoch 18/30 - Train loss: 0.1603, Train acc: 0.9447 | Val loss: 1.2133, Val acc: 0.7132\n",
      "Epoch 19/30 - Train loss: 0.1465, Train acc: 0.9493 | Val loss: 1.2536, Val acc: 0.7102\n",
      "Epoch 20/30 - Train loss: 0.1351, Train acc: 0.9529 | Val loss: 1.2854, Val acc: 0.7132\n",
      "Epoch 21/30 - Train loss: 0.1298, Train acc: 0.9549 | Val loss: 1.3637, Val acc: 0.7078\n",
      "Epoch 22/30 - Train loss: 0.1263, Train acc: 0.9557 | Val loss: 1.3111, Val acc: 0.7075\n",
      "Epoch 23/30 - Train loss: 0.1101, Train acc: 0.9613 | Val loss: 1.3746, Val acc: 0.7044\n",
      "Epoch 24/30 - Train loss: 0.1053, Train acc: 0.9639 | Val loss: 1.3983, Val acc: 0.7116\n",
      "Epoch 25/30 - Train loss: 0.1023, Train acc: 0.9638 | Val loss: 1.3957, Val acc: 0.7132\n",
      "Epoch 26/30 - Train loss: 0.0919, Train acc: 0.9680 | Val loss: 1.4515, Val acc: 0.7179\n",
      "Epoch 27/30 - Train loss: 0.0933, Train acc: 0.9668 | Val loss: 1.4082, Val acc: 0.7145\n",
      "Epoch 28/30 - Train loss: 0.0869, Train acc: 0.9697 | Val loss: 1.4650, Val acc: 0.7136\n",
      "Epoch 29/30 - Train loss: 0.0846, Train acc: 0.9701 | Val loss: 1.5146, Val acc: 0.7034\n",
      "Epoch 30/30 - Train loss: 0.0811, Train acc: 0.9721 | Val loss: 1.5257, Val acc: 0.7080\n",
      "Model saved successfully at Models_Pytorch_saved/model_Res_VI.pth\n",
      "Test Loss: 1.5600, Test Accuracy: 0.7056\n"
     ]
    },
    {
     "data": {
      "text/plain": [
       "(1.5599717975139618, 0.705625)"
      ]
     },
     "execution_count": 10,
     "metadata": {},
     "output_type": "execute_result"
    }
   ],
   "source": [
    "# Setup directories and DataLoaders\n",
    "train_dir = os.path.join(\"Data\", \"Data_converted\", \"train\")\n",
    "val_dir = os.path.join(\"Data\", \"Data_converted\", \"valid\")\n",
    "test_dir = os.path.join(\"Data\", \"Data_converted\", \"test\")\n",
    "\n",
    "train_loader = DataLoader(train_dir, batch_size=32, shuffle=True, max_per_class = 4000)\n",
    "val_loader = DataLoader(val_dir, batch_size=32, shuffle=True, max_per_class = 4000) \n",
    "test_loader = DataLoader(test_dir, batch_size=32, shuffle=True, max_per_class = 4000) \n",
    "\n",
    "# Instantiate the model\n",
    "model_Res_VI = ResNet101(num_classes=10)\n",
    "# Train the model\n",
    "train_model(model_Res_VI, train_loader, val_loader, num_epochs=30, lr=0.001)\n",
    "save_model(model_Res_VI, \"Models_Pytorch_saved/model_Res_VI.pth\")\n",
    "evaluate(model_Res_VI, test_loader)"
   ]
  },
  {
   "cell_type": "code",
   "execution_count": 11,
   "metadata": {},
   "outputs": [
    {
     "name": "stdout",
     "output_type": "stream",
     "text": [
      "Epoch 1/30 - Train loss: 1.6485, Train acc: 0.3980 | Val loss: 1.4850, Val acc: 0.4557\n",
      "Epoch 2/30 - Train loss: 1.2834, Train acc: 0.5382 | Val loss: 1.2007, Val acc: 0.5717\n",
      "Epoch 3/30 - Train loss: 1.1071, Train acc: 0.6038 | Val loss: 1.0812, Val acc: 0.6144\n",
      "Epoch 4/30 - Train loss: 0.9834, Train acc: 0.6497 | Val loss: 0.9791, Val acc: 0.6527\n",
      "Epoch 5/30 - Train loss: 0.8859, Train acc: 0.6853 | Val loss: 0.9254, Val acc: 0.6721\n",
      "Epoch 6/30 - Train loss: 0.8105, Train acc: 0.7132 | Val loss: 0.8977, Val acc: 0.6817\n",
      "Epoch 7/30 - Train loss: 0.7369, Train acc: 0.7377 | Val loss: 0.8951, Val acc: 0.6849\n",
      "Epoch 8/30 - Train loss: 0.6715, Train acc: 0.7616 | Val loss: 0.8742, Val acc: 0.6970\n",
      "Epoch 9/30 - Train loss: 0.6053, Train acc: 0.7822 | Val loss: 0.8504, Val acc: 0.7026\n",
      "Epoch 10/30 - Train loss: 0.5441, Train acc: 0.8055 | Val loss: 0.9487, Val acc: 0.6815\n",
      "Epoch 11/30 - Train loss: 0.4823, Train acc: 0.8268 | Val loss: 0.8927, Val acc: 0.7067\n",
      "Epoch 12/30 - Train loss: 0.4220, Train acc: 0.8486 | Val loss: 0.9657, Val acc: 0.6987\n",
      "Epoch 13/30 - Train loss: 0.3705, Train acc: 0.8669 | Val loss: 1.0074, Val acc: 0.7028\n",
      "Epoch 14/30 - Train loss: 0.3256, Train acc: 0.8828 | Val loss: 1.0172, Val acc: 0.7011\n",
      "Epoch 15/30 - Train loss: 0.2862, Train acc: 0.8972 | Val loss: 1.0964, Val acc: 0.6967\n",
      "Epoch 16/30 - Train loss: 0.2539, Train acc: 0.9083 | Val loss: 1.1067, Val acc: 0.7022\n",
      "Epoch 17/30 - Train loss: 0.2288, Train acc: 0.9181 | Val loss: 1.1700, Val acc: 0.6998\n",
      "Epoch 18/30 - Train loss: 0.2072, Train acc: 0.9258 | Val loss: 1.2106, Val acc: 0.6982\n",
      "Epoch 19/30 - Train loss: 0.1881, Train acc: 0.9333 | Val loss: 1.3375, Val acc: 0.6944\n",
      "Epoch 20/30 - Train loss: 0.1715, Train acc: 0.9387 | Val loss: 1.2876, Val acc: 0.6963\n",
      "Epoch 21/30 - Train loss: 0.1614, Train acc: 0.9425 | Val loss: 1.3119, Val acc: 0.7036\n",
      "Epoch 22/30 - Train loss: 0.1472, Train acc: 0.9474 | Val loss: 1.3436, Val acc: 0.7007\n",
      "Epoch 23/30 - Train loss: 0.1410, Train acc: 0.9502 | Val loss: 1.3592, Val acc: 0.6987\n",
      "Epoch 24/30 - Train loss: 0.1368, Train acc: 0.9511 | Val loss: 1.3719, Val acc: 0.7013\n",
      "Epoch 25/30 - Train loss: 0.1234, Train acc: 0.9568 | Val loss: 1.6541, Val acc: 0.6898\n",
      "Epoch 26/30 - Train loss: 0.1215, Train acc: 0.9568 | Val loss: 1.4230, Val acc: 0.6998\n",
      "Epoch 27/30 - Train loss: 0.1141, Train acc: 0.9594 | Val loss: 1.6377, Val acc: 0.6870\n",
      "Epoch 28/30 - Train loss: 0.1101, Train acc: 0.9613 | Val loss: 1.5481, Val acc: 0.6942\n",
      "Epoch 29/30 - Train loss: 0.1046, Train acc: 0.9631 | Val loss: 1.4829, Val acc: 0.6991\n",
      "Epoch 30/30 - Train loss: 0.1008, Train acc: 0.9646 | Val loss: 1.5406, Val acc: 0.6998\n",
      "Model saved successfully at Models_Pytorch_saved/model_Res_VII.pth\n",
      "Test Loss: 1.5479, Test Accuracy: 0.6980\n"
     ]
    },
    {
     "data": {
      "text/plain": [
       "(1.547928866259257, 0.6979888888888889)"
      ]
     },
     "execution_count": 11,
     "metadata": {},
     "output_type": "execute_result"
    }
   ],
   "source": [
    "# Setup directories and DataLoaders\n",
    "train_dir = os.path.join(\"Data\", \"Data_converted\", \"train\")\n",
    "val_dir = os.path.join(\"Data\", \"Data_converted\", \"valid\")\n",
    "test_dir = os.path.join(\"Data\", \"Data_converted\", \"test\")\n",
    "\n",
    "train_loader = DataLoader(train_dir, batch_size=32, shuffle=True)\n",
    "val_loader = DataLoader(val_dir, batch_size=32, shuffle=True) \n",
    "test_loader = DataLoader(test_dir, batch_size=32, shuffle=True) \n",
    "\n",
    "# Instantiate the model\n",
    "model_Res_VII = ResNet101(num_classes=10)\n",
    "# Train the model\n",
    "train_model(model_Res_VII, train_loader, val_loader, num_epochs=30, lr=0.001)\n",
    "save_model(model_Res_VII, \"Models_Pytorch_saved/model_Res_VII.pth\")\n",
    "evaluate(model_Res_VII, test_loader)"
   ]
  },
  {
   "cell_type": "code",
   "execution_count": 12,
   "metadata": {},
   "outputs": [
    {
     "name": "stdout",
     "output_type": "stream",
     "text": [
      "Epoch 1/45 - Train loss: 1.7146, Train acc: 0.3762 | Val loss: 1.4631, Val acc: 0.4758\n",
      "Epoch 2/45 - Train loss: 1.3173, Train acc: 0.5248 | Val loss: 1.3907, Val acc: 0.5076\n",
      "Epoch 3/45 - Train loss: 1.1343, Train acc: 0.5951 | Val loss: 1.1353, Val acc: 0.5930\n",
      "Epoch 4/45 - Train loss: 1.0145, Train acc: 0.6384 | Val loss: 1.0579, Val acc: 0.6233\n",
      "Epoch 5/45 - Train loss: 0.9151, Train acc: 0.6736 | Val loss: 1.0465, Val acc: 0.6285\n",
      "Epoch 6/45 - Train loss: 0.8315, Train acc: 0.7046 | Val loss: 0.9298, Val acc: 0.6700\n",
      "Epoch 7/45 - Train loss: 0.7535, Train acc: 0.7310 | Val loss: 0.9640, Val acc: 0.6624\n",
      "Epoch 8/45 - Train loss: 0.6777, Train acc: 0.7591 | Val loss: 0.9109, Val acc: 0.6875\n",
      "Epoch 9/45 - Train loss: 0.6022, Train acc: 0.7854 | Val loss: 0.9049, Val acc: 0.6909\n",
      "Epoch 10/45 - Train loss: 0.5318, Train acc: 0.8098 | Val loss: 0.9316, Val acc: 0.6915\n",
      "Epoch 11/45 - Train loss: 0.4624, Train acc: 0.8340 | Val loss: 0.9748, Val acc: 0.6890\n",
      "Epoch 12/45 - Train loss: 0.3951, Train acc: 0.8583 | Val loss: 1.0425, Val acc: 0.6877\n",
      "Epoch 13/45 - Train loss: 0.3410, Train acc: 0.8773 | Val loss: 1.1132, Val acc: 0.6875\n",
      "Epoch 14/45 - Train loss: 0.2950, Train acc: 0.8940 | Val loss: 1.1526, Val acc: 0.6860\n",
      "Epoch 15/45 - Train loss: 0.2572, Train acc: 0.9066 | Val loss: 1.2779, Val acc: 0.6811\n",
      "Epoch 16/45 - Train loss: 0.2311, Train acc: 0.9164 | Val loss: 1.2346, Val acc: 0.6910\n",
      "Epoch 17/45 - Train loss: 0.2002, Train acc: 0.9274 | Val loss: 1.2606, Val acc: 0.6927\n",
      "Epoch 18/45 - Train loss: 0.1814, Train acc: 0.9344 | Val loss: 1.4119, Val acc: 0.6737\n",
      "Epoch 19/45 - Train loss: 0.1676, Train acc: 0.9401 | Val loss: 1.3541, Val acc: 0.6852\n",
      "Epoch 20/45 - Train loss: 0.1507, Train acc: 0.9463 | Val loss: 1.4746, Val acc: 0.6842\n",
      "Epoch 21/45 - Train loss: 0.1431, Train acc: 0.9492 | Val loss: 1.4454, Val acc: 0.6882\n",
      "Epoch 22/45 - Train loss: 0.1352, Train acc: 0.9519 | Val loss: 1.4965, Val acc: 0.6838\n",
      "Epoch 23/45 - Train loss: 0.1260, Train acc: 0.9555 | Val loss: 1.4409, Val acc: 0.6964\n",
      "Epoch 24/45 - Train loss: 0.1187, Train acc: 0.9579 | Val loss: 1.5190, Val acc: 0.6915\n",
      "Epoch 25/45 - Train loss: 0.1142, Train acc: 0.9596 | Val loss: 1.5393, Val acc: 0.6782\n",
      "Epoch 26/45 - Train loss: 0.1109, Train acc: 0.9608 | Val loss: 1.5486, Val acc: 0.6906\n",
      "Epoch 27/45 - Train loss: 0.1049, Train acc: 0.9631 | Val loss: 1.5724, Val acc: 0.6868\n",
      "Epoch 28/45 - Train loss: 0.1003, Train acc: 0.9645 | Val loss: 1.5514, Val acc: 0.6909\n",
      "Epoch 29/45 - Train loss: 0.0932, Train acc: 0.9672 | Val loss: 1.5937, Val acc: 0.6887\n",
      "Epoch 30/45 - Train loss: 0.0906, Train acc: 0.9674 | Val loss: 1.7142, Val acc: 0.6810\n",
      "Epoch 31/45 - Train loss: 0.0899, Train acc: 0.9684 | Val loss: 1.7110, Val acc: 0.6843\n",
      "Epoch 32/45 - Train loss: 0.0812, Train acc: 0.9718 | Val loss: 1.7815, Val acc: 0.6783\n",
      "Epoch 33/45 - Train loss: 0.0825, Train acc: 0.9708 | Val loss: 1.6967, Val acc: 0.6881\n",
      "Epoch 34/45 - Train loss: 0.0786, Train acc: 0.9722 | Val loss: 1.6856, Val acc: 0.6934\n",
      "Epoch 35/45 - Train loss: 0.0777, Train acc: 0.9724 | Val loss: 1.7343, Val acc: 0.6930\n",
      "Epoch 36/45 - Train loss: 0.0733, Train acc: 0.9742 | Val loss: 1.7607, Val acc: 0.6934\n",
      "Epoch 37/45 - Train loss: 0.0699, Train acc: 0.9757 | Val loss: 1.7274, Val acc: 0.6852\n",
      "Epoch 38/45 - Train loss: 0.0730, Train acc: 0.9749 | Val loss: 1.6467, Val acc: 0.6973\n",
      "Epoch 39/45 - Train loss: 0.0648, Train acc: 0.9768 | Val loss: 1.7797, Val acc: 0.6925\n",
      "Epoch 40/45 - Train loss: 0.0663, Train acc: 0.9763 | Val loss: 1.7751, Val acc: 0.6943\n",
      "Epoch 41/45 - Train loss: 0.0657, Train acc: 0.9771 | Val loss: 1.8059, Val acc: 0.6955\n",
      "Epoch 42/45 - Train loss: 0.0621, Train acc: 0.9785 | Val loss: 1.7601, Val acc: 0.6938\n",
      "Epoch 43/45 - Train loss: 0.0608, Train acc: 0.9790 | Val loss: 1.8257, Val acc: 0.6941\n",
      "Epoch 44/45 - Train loss: 0.0595, Train acc: 0.9788 | Val loss: 1.8986, Val acc: 0.6835\n",
      "Epoch 45/45 - Train loss: 0.0569, Train acc: 0.9803 | Val loss: 1.9102, Val acc: 0.6846\n",
      "Model saved successfully at Models_Pytorch_saved/model_Res_VIII.pth\n",
      "Test Loss: 1.9356, Test Accuracy: 0.6817\n"
     ]
    },
    {
     "data": {
      "text/plain": [
       "(1.935649514473809, 0.6816666666666666)"
      ]
     },
     "execution_count": 12,
     "metadata": {},
     "output_type": "execute_result"
    }
   ],
   "source": [
    "# Setup directories and DataLoaders\n",
    "train_dir = os.path.join(\"Data\", \"Data_converted\", \"train\")\n",
    "val_dir = os.path.join(\"Data\", \"Data_converted\", \"valid\")\n",
    "test_dir = os.path.join(\"Data\", \"Data_converted\", \"test\")\n",
    "\n",
    "train_loader = DataLoader(train_dir, batch_size=64, shuffle=True)\n",
    "val_loader = DataLoader(val_dir, batch_size=64, shuffle=True) \n",
    "test_loader = DataLoader(test_dir, batch_size=64, shuffle=True) \n",
    "\n",
    "# Instantiate the model\n",
    "model_Res_VIII = ResNet101(num_classes=10)\n",
    "# Train the model\n",
    "train_model(model_Res_VIII, train_loader, val_loader, num_epochs=45, lr=0.001)\n",
    "save_model(model_Res_VIII, \"Models_Pytorch_saved/model_Res_VIII.pth\")\n",
    "evaluate(model_Res_VIII, test_loader)"
   ]
  },
  {
   "cell_type": "code",
   "execution_count": 13,
   "metadata": {},
   "outputs": [
    {
     "name": "stdout",
     "output_type": "stream",
     "text": [
      "Epoch 1/45 - Train loss: 1.7467, Train acc: 0.3616 | Val loss: 1.5065, Val acc: 0.4582\n",
      "Epoch 2/45 - Train loss: 1.3762, Train acc: 0.5030 | Val loss: 1.4387, Val acc: 0.4946\n",
      "Epoch 3/45 - Train loss: 1.1962, Train acc: 0.5730 | Val loss: 1.3652, Val acc: 0.5243\n",
      "Epoch 4/45 - Train loss: 1.0617, Train acc: 0.6216 | Val loss: 1.2576, Val acc: 0.5664\n",
      "Epoch 5/45 - Train loss: 0.9634, Train acc: 0.6560 | Val loss: 1.0732, Val acc: 0.6258\n",
      "Epoch 6/45 - Train loss: 0.8817, Train acc: 0.6864 | Val loss: 1.0941, Val acc: 0.6183\n",
      "Epoch 7/45 - Train loss: 0.8092, Train acc: 0.7115 | Val loss: 0.9981, Val acc: 0.6542\n",
      "Epoch 8/45 - Train loss: 0.7429, Train acc: 0.7364 | Val loss: 0.9876, Val acc: 0.6544\n",
      "Epoch 9/45 - Train loss: 0.6799, Train acc: 0.7573 | Val loss: 0.9763, Val acc: 0.6695\n",
      "Epoch 10/45 - Train loss: 0.6097, Train acc: 0.7817 | Val loss: 0.9992, Val acc: 0.6657\n",
      "Epoch 11/45 - Train loss: 0.5442, Train acc: 0.8056 | Val loss: 1.0812, Val acc: 0.6528\n",
      "Epoch 12/45 - Train loss: 0.4882, Train acc: 0.8262 | Val loss: 1.0723, Val acc: 0.6657\n",
      "Epoch 13/45 - Train loss: 0.4222, Train acc: 0.8491 | Val loss: 1.0686, Val acc: 0.6775\n",
      "Epoch 14/45 - Train loss: 0.3651, Train acc: 0.8680 | Val loss: 1.2434, Val acc: 0.6604\n",
      "Epoch 15/45 - Train loss: 0.3214, Train acc: 0.8847 | Val loss: 1.1524, Val acc: 0.6798\n",
      "Epoch 16/45 - Train loss: 0.2778, Train acc: 0.9006 | Val loss: 1.2520, Val acc: 0.6698\n",
      "Epoch 17/45 - Train loss: 0.2424, Train acc: 0.9134 | Val loss: 1.3115, Val acc: 0.6776\n",
      "Epoch 18/45 - Train loss: 0.2173, Train acc: 0.9212 | Val loss: 1.4896, Val acc: 0.6579\n",
      "Epoch 19/45 - Train loss: 0.2035, Train acc: 0.9272 | Val loss: 1.4941, Val acc: 0.6605\n",
      "Epoch 20/45 - Train loss: 0.1852, Train acc: 0.9345 | Val loss: 1.5941, Val acc: 0.6651\n",
      "Epoch 21/45 - Train loss: 0.1635, Train acc: 0.9414 | Val loss: 1.5234, Val acc: 0.6735\n",
      "Epoch 22/45 - Train loss: 0.1548, Train acc: 0.9446 | Val loss: 1.5850, Val acc: 0.6703\n",
      "Epoch 23/45 - Train loss: 0.1359, Train acc: 0.9522 | Val loss: 1.6497, Val acc: 0.6648\n",
      "Epoch 24/45 - Train loss: 0.1287, Train acc: 0.9536 | Val loss: 1.5908, Val acc: 0.6808\n",
      "Epoch 25/45 - Train loss: 0.1315, Train acc: 0.9536 | Val loss: 1.6446, Val acc: 0.6680\n",
      "Epoch 26/45 - Train loss: 0.1180, Train acc: 0.9583 | Val loss: 1.7264, Val acc: 0.6784\n",
      "Epoch 27/45 - Train loss: 0.1118, Train acc: 0.9607 | Val loss: 1.6819, Val acc: 0.6738\n",
      "Epoch 28/45 - Train loss: 0.1087, Train acc: 0.9613 | Val loss: 1.6614, Val acc: 0.6801\n",
      "Epoch 29/45 - Train loss: 0.1025, Train acc: 0.9645 | Val loss: 1.7222, Val acc: 0.6768\n",
      "Epoch 30/45 - Train loss: 0.1049, Train acc: 0.9638 | Val loss: 1.7293, Val acc: 0.6756\n",
      "Epoch 31/45 - Train loss: 0.0995, Train acc: 0.9646 | Val loss: 1.7388, Val acc: 0.6786\n",
      "Epoch 32/45 - Train loss: 0.0951, Train acc: 0.9663 | Val loss: 1.7337, Val acc: 0.6795\n",
      "Epoch 33/45 - Train loss: 0.0866, Train acc: 0.9699 | Val loss: 1.7213, Val acc: 0.6822\n",
      "Epoch 34/45 - Train loss: 0.0851, Train acc: 0.9703 | Val loss: 1.7381, Val acc: 0.6809\n",
      "Epoch 35/45 - Train loss: 0.0798, Train acc: 0.9717 | Val loss: 1.8422, Val acc: 0.6766\n",
      "Epoch 36/45 - Train loss: 0.0825, Train acc: 0.9707 | Val loss: 1.8126, Val acc: 0.6822\n",
      "Epoch 37/45 - Train loss: 0.0766, Train acc: 0.9733 | Val loss: 1.7880, Val acc: 0.6783\n",
      "Epoch 38/45 - Train loss: 0.0777, Train acc: 0.9738 | Val loss: 1.9428, Val acc: 0.6739\n",
      "Epoch 39/45 - Train loss: 0.0747, Train acc: 0.9736 | Val loss: 1.8404, Val acc: 0.6823\n",
      "Epoch 40/45 - Train loss: 0.0740, Train acc: 0.9745 | Val loss: 1.8295, Val acc: 0.6841\n",
      "Epoch 41/45 - Train loss: 0.0717, Train acc: 0.9755 | Val loss: 1.8385, Val acc: 0.6834\n",
      "Epoch 42/45 - Train loss: 0.0621, Train acc: 0.9785 | Val loss: 2.0056, Val acc: 0.6696\n",
      "Epoch 43/45 - Train loss: 0.0634, Train acc: 0.9776 | Val loss: 1.9331, Val acc: 0.6706\n",
      "Epoch 44/45 - Train loss: 0.0655, Train acc: 0.9771 | Val loss: 1.9776, Val acc: 0.6775\n",
      "Epoch 45/45 - Train loss: 0.0636, Train acc: 0.9786 | Val loss: 1.8826, Val acc: 0.6829\n",
      "Model saved successfully at Models_Pytorch_saved/model_Res_IX.pth\n",
      "Test Loss: 1.8933, Test Accuracy: 0.6812\n"
     ]
    },
    {
     "data": {
      "text/plain": [
       "(1.8932811645083958, 0.6811888888888888)"
      ]
     },
     "execution_count": 13,
     "metadata": {},
     "output_type": "execute_result"
    }
   ],
   "source": [
    "# Setup directories and DataLoaders\n",
    "train_dir = os.path.join(\"Data\", \"Data_converted\", \"train\")\n",
    "val_dir = os.path.join(\"Data\", \"Data_converted\", \"valid\")\n",
    "test_dir = os.path.join(\"Data\", \"Data_converted\", \"test\")\n",
    "\n",
    "train_loader = DataLoader(train_dir, batch_size=128, shuffle=True)\n",
    "val_loader = DataLoader(val_dir, batch_size=128, shuffle=True) \n",
    "test_loader = DataLoader(test_dir, batch_size=128, shuffle=True) \n",
    "\n",
    "# Instantiate the model\n",
    "model_Res_IX = ResNet101(num_classes=10)\n",
    "# Train the model\n",
    "train_model(model_Res_IX, train_loader, val_loader, num_epochs=45, lr=0.001)\n",
    "save_model(model_Res_IX, \"Models_Pytorch_saved/model_Res_IX.pth\")\n",
    "evaluate(model_Res_IX, test_loader)"
   ]
  },
  {
   "cell_type": "code",
   "execution_count": null,
   "metadata": {},
   "outputs": [],
   "source": []
  }
 ],
 "metadata": {
  "kernelspec": {
   "display_name": "venv2",
   "language": "python",
   "name": "python3"
  },
  "language_info": {
   "codemirror_mode": {
    "name": "ipython",
    "version": 3
   },
   "file_extension": ".py",
   "mimetype": "text/x-python",
   "name": "python",
   "nbconvert_exporter": "python",
   "pygments_lexer": "ipython3",
   "version": "3.10.5"
  }
 },
 "nbformat": 4,
 "nbformat_minor": 2
}
