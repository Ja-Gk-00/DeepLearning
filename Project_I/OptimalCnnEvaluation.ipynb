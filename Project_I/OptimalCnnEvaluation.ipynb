{
 "cells": [
  {
   "cell_type": "code",
   "id": "initial_id",
   "metadata": {
    "collapsed": true,
    "ExecuteTime": {
     "end_time": "2025-03-31T15:13:00.327992Z",
     "start_time": "2025-03-31T15:12:59.063459Z"
    }
   },
   "source": [
    "import os\n",
    "\n",
    "import numpy as np\n",
    "\n",
    "from Architectures.OptimalCNN import OptimalCNN\n",
    "from DataObjects import DataLoader\n",
    "import torch.optim as optim\n",
    "from Architectures.StochasticDepthCNN import StochasticDepthCNN\n",
    "from utils import *\n",
    "import matplotlib.pyplot as plt\n",
    "\n",
    "from typing import Optional, Tuple"
   ],
   "outputs": [],
   "execution_count": 1
  },
  {
   "metadata": {
    "ExecuteTime": {
     "end_time": "2025-03-31T15:13:00.341043Z",
     "start_time": "2025-03-31T15:13:00.332434Z"
    }
   },
   "cell_type": "code",
   "source": [
    "def train_model(model: nn.Module, train_loader: DataLoader, val_loader: DataLoader,\n",
    "                num_epochs: int = 10, lr: float = 0.001,\n",
    "                device: torch.device = None) -> None:\n",
    "    if device is None:\n",
    "        device = torch.device(\"cuda\" if torch.cuda.is_available() else \"cpu\")\n",
    "    model.to(device)\n",
    "    criterion: nn.Module = nn.CrossEntropyLoss()\n",
    "    optimizer: torch.optim.Optimizer = optim.Adam(model.parameters(), lr=lr)\n",
    "\n",
    "    for epoch in range(num_epochs):\n",
    "        model.train()\n",
    "        train_loss: float = 0.0\n",
    "        train_correct: int = 0\n",
    "        total_train: int = 0\n",
    "\n",
    "        for batch in train_loader:\n",
    "            inputs = batch.data.to(device)\n",
    "            labels = batch.labels.to(device)\n",
    "            optimizer.zero_grad()\n",
    "            outputs = model(inputs)\n",
    "            loss = criterion(outputs, labels)\n",
    "            loss.backward()\n",
    "            optimizer.step()\n",
    "\n",
    "            train_loss += loss.item() * inputs.size(0)\n",
    "            _, preds = torch.max(outputs, 1)\n",
    "            train_correct += torch.sum(preds == labels).item()\n",
    "            total_train += labels.size(0)\n",
    "\n",
    "        avg_train_loss = train_loss / total_train\n",
    "        train_acc = train_correct / total_train\n",
    "\n",
    "        model.eval()\n",
    "        val_loss: float = 0.0\n",
    "        val_correct: int = 0\n",
    "        total_val: int = 0\n",
    "\n",
    "        with torch.no_grad():\n",
    "            for batch in val_loader:\n",
    "                inputs = batch.data.to(device)\n",
    "                labels = batch.labels.to(device)\n",
    "                outputs = model(inputs)\n",
    "                loss = criterion(outputs, labels)\n",
    "                val_loss += loss.item() * inputs.size(0)\n",
    "                _, preds = torch.max(outputs, 1)\n",
    "                val_correct += torch.sum(preds == labels).item()\n",
    "                total_val += labels.size(0)\n",
    "\n",
    "        avg_val_loss = val_loss / total_val\n",
    "        val_acc = val_correct / total_val\n",
    "\n",
    "        print(f\"Epoch {epoch+1}/{num_epochs} - Train loss: {avg_train_loss:.4f}, Train acc: {train_acc:.4f} | Val loss: {avg_val_loss:.4f}, Val acc: {val_acc:.4f}\")\n",
    "\n",
    "def evaluate(model: nn.Module,\n",
    "             test_loader: Optional[DataLoader] = None,\n",
    "             device: Optional[torch.device] = None) -> Tuple[float, float]:\n",
    "\n",
    "    if test_loader is None:\n",
    "        test_dir = os.path.join(\"Data\", \"Data_converted\", \"test\")\n",
    "        test_loader = DataLoader(test_dir, batch_size=64, shuffle=True)\n",
    "\n",
    "    if device is None:\n",
    "        device = torch.device(\"cuda\" if torch.cuda.is_available() else \"cpu\")\n",
    "\n",
    "    model.to(device)\n",
    "    criterion = nn.CrossEntropyLoss()\n",
    "    model.eval()\n",
    "\n",
    "    test_loss = 0.0\n",
    "    test_correct = 0\n",
    "    total_test = 0\n",
    "\n",
    "    with torch.no_grad():\n",
    "        for batch in test_loader:\n",
    "            inputs = batch.data.to(device)\n",
    "            labels = batch.labels.to(device)\n",
    "            outputs = model(inputs)\n",
    "            loss = criterion(outputs, labels)\n",
    "            test_loss += loss.item() * inputs.size(0)\n",
    "            _, preds = torch.max(outputs, 1)\n",
    "            test_correct += torch.sum(preds == labels).item()\n",
    "            total_test += labels.size(0)\n",
    "\n",
    "    avg_test_loss = test_loss / total_test\n",
    "    test_acc = test_correct / total_test\n",
    "\n",
    "    print(f\"Test Loss: {avg_test_loss:.4f}, Test Accuracy: {test_acc:.4f}\")\n",
    "    return avg_test_loss, test_acc"
   ],
   "id": "ab742d0b9b00187f",
   "outputs": [],

   "execution_count": 2
  },
  {
   "metadata": {
    "ExecuteTime": {

     "end_time": "2025-03-31T15:13:00.988703Z",
     "start_time": "2025-03-31T15:13:00.440162Z"
    }
   },
   "cell_type": "code",
   "source": [
    "# Setup directories and DataLoaders\n",
    "train_dir = os.path.join(\"Data\", \"Data_converted\", \"train\")\n",
    "train_dir_aug_auto = os.path.join(\"Data\", \"Data_augmented\",\"autoaugment\" ,\"train\")\n",
    "train_dir_aug_bright = os.path.join(\"Data\", \"Data_augmented\",\"brightness\" ,\"train\")\n",
    "train_dir_aug_gauss = os.path.join(\"Data\", \"Data_augmented\",\"gaussian_noise\" ,\"train\")\n",
    "train_dir_aug_hor = os.path.join(\"Data\", \"Data_augmented\",\"horizontal_flip\" ,\"train\")\n",
    "train_dir_aug_rot = os.path.join(\"Data\", \"Data_augmented\",\"rotation\" ,\"train\")\n",
    "\n",
    "val_dir = os.path.join(\"Data\", \"Data_converted\", \"valid\")\n",
    "val_dir_aug_auto = os.path.join(\"Data\", \"Data_augmented\",\"autoaugment\" ,\"valid\")\n",
    "val_dir_aug_bright = os.path.join(\"Data\", \"Data_augmented\",\"brightness\" ,\"valid\")\n",
    "val_dir_aug_gauss = os.path.join(\"Data\", \"Data_augmented\",\"gaussian_noise\" ,\"valid\")\n",
    "val_dir_aug_hor = os.path.join(\"Data\", \"Data_augmented\",\"horizontal_flip\" ,\"valid\")\n",
    "val_dir_aug_rot = os.path.join(\"Data\", \"Data_augmented\",\"rotation\" ,\"valid\")\n",
    "\n",
    "test_dir = os.path.join(\"Data\", \"Data_converted\", \"test\")\n",
    "test_dir_aug_auto = os.path.join(\"Data\", \"Data_augmented\",\"autoaugment\" ,\"test\")\n",
    "test_dir_aug_bright = os.path.join(\"Data\", \"Data_augmented\",\"brightness\" ,\"test\")\n",
    "test_dir_aug_gauss = os.path.join(\"Data\", \"Data_augmented\",\"gaussian_noise\" ,\"test\")\n",
    "test_dir_aug_hor = os.path.join(\"Data\", \"Data_augmented\",\"horizontal_flip\" ,\"test\")\n",
    "test_dir_aug_rot = os.path.join(\"Data\", \"Data_augmented\",\"rotation\" ,\"test\")\n",
    "\n",
    "train_loader = DataLoader(train_dir, batch_size=32, shuffle=True, max_per_class = 3000)\n",
    "train_loader_aug_auto = DataLoader(train_dir_aug_auto, batch_size=32, shuffle=True, max_per_class = 3000) + train_loader\n",
    "train_loader_aug_bright = DataLoader(train_dir_aug_auto, batch_size=32, shuffle=True, max_per_class = 3000) + train_loader\n",
    "train_loader_aug_gauss = DataLoader(train_dir_aug_auto, batch_size=32, shuffle=True, max_per_class = 3000) + train_loader\n",
    "train_loader_aug_hor = DataLoader(train_dir_aug_auto, batch_size=32, shuffle=True, max_per_class = 3000) + train_loader\n",
    "train_loader_aug_rot = DataLoader(train_dir_aug_auto, batch_size=32, shuffle=True, max_per_class = 3000) + train_loader\n",
    "\n",
    "val_loader = DataLoader(val_dir, batch_size=32, shuffle=True, max_per_class = 3000)\n",
    "val_loader_aug_auto = DataLoader(val_dir_aug_auto, batch_size=32, shuffle=True, max_per_class = 3000) + val_loader\n",
    "val_loader_aug_bright = DataLoader(val_dir_aug_auto, batch_size=32, shuffle=True, max_per_class = 3000) + val_loader\n",
    "val_loader_aug_gauss = DataLoader(val_dir_aug_auto, batch_size=32, shuffle=True, max_per_class = 3000) + val_loader\n",
    "val_loader_aug_hor = DataLoader(val_dir_aug_auto, batch_size=32, shuffle=True, max_per_class = 3000) + val_loader\n",
    "val_loader_aug_rot = DataLoader(val_dir_aug_auto, batch_size=32, shuffle=True, max_per_class = 3000) + val_loader\n",
    "\n",
    "test_loader = DataLoader(val_dir, batch_size=32, shuffle=True, max_per_class = 3000)\n",
    "test_loader_aug_auto = DataLoader(val_dir_aug_auto, batch_size=32, shuffle=True, max_per_class = 3000) + test_loader\n",
    "test_loader_aug_bright = DataLoader(val_dir_aug_auto, batch_size=32, shuffle=True, max_per_class = 3000) + test_loader\n",
    "test_loader_aug_gauss = DataLoader(val_dir_aug_auto, batch_size=32, shuffle=True, max_per_class = 3000) + test_loader\n",
    "test_loader_aug_hor = DataLoader(val_dir_aug_auto, batch_size=32, shuffle=True, max_per_class = 3000) + test_loader\n",
    "test_loader_aug_rot = DataLoader(val_dir_aug_auto, batch_size=32, shuffle=True, max_per_class = 3000) + test_loader"
   ],
   "id": "d49ce7e47e3009db",
   "outputs": [],
   "execution_count": 10
  },
  {
   "metadata": {
    "ExecuteTime": {

     "end_time": "2025-03-31T15:15:25.089858Z",
     "start_time": "2025-03-31T15:13:00.995003Z"
    }
   },
   "cell_type": "code",
   "source": [
    "# Instantiate the model\n",
    "model_Optimal_I = OptimalCNN(num_classes=10)\n",
    "# Train the model\n",
    "train_model(model_Optimal_I, train_loader, val_loader, num_epochs=10, lr=0.008)\n",
    "# Evaluate the model\n",
    "evaluate(model_Optimal_I, test_loader)\n",
    "# Save the model\n",
    "save_model(model_Optimal_I, \"Models_Pytorch_saved/model_Optimal_I_trained_saved.pth\")"
   ],
   "id": "3b51def0e9715368",
   "outputs": [
    {
     "name": "stdout",
     "output_type": "stream",
     "text": [
      "Epoch 1/10 - Train loss: 1.7321, Train acc: 0.3827 | Val loss: 1.7922, Val acc: 0.3991\n",
      "Epoch 2/10 - Train loss: 1.2058, Train acc: 0.5741 | Val loss: 1.2208, Val acc: 0.5782\n",
      "Epoch 3/10 - Train loss: 1.0201, Train acc: 0.6423 | Val loss: 1.0606, Val acc: 0.6387\n",
      "Epoch 4/10 - Train loss: 0.8874, Train acc: 0.6903 | Val loss: 1.0464, Val acc: 0.6453\n",
      "Epoch 5/10 - Train loss: 0.7689, Train acc: 0.7312 | Val loss: 0.8708, Val acc: 0.7031\n",
      "Epoch 6/10 - Train loss: 0.6607, Train acc: 0.7687 | Val loss: 1.0503, Val acc: 0.6608\n",
      "Epoch 7/10 - Train loss: 0.5477, Train acc: 0.8079 | Val loss: 1.0130, Val acc: 0.6863\n",
      "Epoch 8/10 - Train loss: 0.4474, Train acc: 0.8425 | Val loss: 1.0261, Val acc: 0.6998\n",
      "Epoch 9/10 - Train loss: 0.3653, Train acc: 0.8734 | Val loss: 1.0399, Val acc: 0.7109\n",
      "Epoch 10/10 - Train loss: 0.2930, Train acc: 0.8970 | Val loss: 1.1179, Val acc: 0.7049\n",
      "Test Loss: 1.1324, Test Accuracy: 0.7027\n",
      "Model saved successfully at Models_Pytorch_saved/model_Optimal_I_trained_saved.pth\n"
     ]
    }
   ],

   "execution_count": 4
  },
  {
   "metadata": {
    "ExecuteTime": {

     "end_time": "2025-03-31T15:17:44.925041Z",
     "start_time": "2025-03-31T15:15:25.101047Z"
    }
   },
   "cell_type": "code",
   "source": [
    "# Instantiate the model\n",
    "model_Optimal_auto = OptimalCNN(num_classes=10)\n",
    "# Train the model\n",
    "train_model(model_Optimal_auto, train_loader_aug_auto, val_loader_aug_auto, num_epochs=10, lr=0.008)\n",
    "# Evaluate the model\n",
    "evaluate(model_Optimal_auto, test_loader_aug_auto)\n",
    "# Save the model\n",
    "save_model(model_Optimal_auto, \"Models_Pytorch_saved/model_Optimal_auto_trained_saved.pth\")"
   ],
   "id": "a83367ac17e67c1d",
   "outputs": [
    {
     "name": "stdout",
     "output_type": "stream",
     "text": [

      "Epoch 1/10 - Train loss: 1.6342, Train acc: 0.4227 | Val loss: 1.6390, Val acc: 0.4607\n",
      "Epoch 2/10 - Train loss: 1.1668, Train acc: 0.5900 | Val loss: 1.2593, Val acc: 0.5751\n",
      "Epoch 3/10 - Train loss: 1.0074, Train acc: 0.6461 | Val loss: 1.0025, Val acc: 0.6480\n",
      "Epoch 4/10 - Train loss: 0.8812, Train acc: 0.6902 | Val loss: 0.9988, Val acc: 0.6478\n",
      "Epoch 5/10 - Train loss: 0.7649, Train acc: 0.7327 | Val loss: 0.8989, Val acc: 0.6978\n",
      "Epoch 6/10 - Train loss: 0.6573, Train acc: 0.7698 | Val loss: 0.9574, Val acc: 0.6820\n",
      "Epoch 7/10 - Train loss: 0.5475, Train acc: 0.8081 | Val loss: 0.9088, Val acc: 0.7056\n",
      "Epoch 8/10 - Train loss: 0.4432, Train acc: 0.8447 | Val loss: 1.0015, Val acc: 0.7038\n",
      "Epoch 9/10 - Train loss: 0.3639, Train acc: 0.8738 | Val loss: 1.0698, Val acc: 0.7128\n",
      "Epoch 10/10 - Train loss: 0.2940, Train acc: 0.8973 | Val loss: 1.1259, Val acc: 0.7059\n",
      "Test Loss: 1.1235, Test Accuracy: 0.7067\n",
      "Model saved successfully at Models_Pytorch_saved/model_Optimal_auto_trained_saved.pth\n"
     ]
    }
   ],

   "execution_count": 5
  },
  {
   "metadata": {
    "ExecuteTime": {
     "end_time": "2025-03-31T15:20:02.352279Z",
     "start_time": "2025-03-31T15:17:44.938413Z"
    }
   },
   "cell_type": "code",
   "source": [
    "# Instantiate the model\n",
    "model_Optimal_bright = OptimalCNN(num_classes=10)\n",
    "# Train the model\n",
    "train_model(model_Optimal_bright, train_loader_aug_bright, val_loader_aug_bright, num_epochs=10, lr=0.008)\n",
    "# Evaluate the model\n",
    "evaluate(model_Optimal_bright, test_loader_aug_bright)\n",
    "# Save the model\n",
    "save_model(model_Optimal_bright, \"Models_Pytorch_saved/model_Optimal_bright_trained_saved.pth\")"
   ],
   "id": "72ad30e9a857e841",
   "outputs": [
    {
     "name": "stdout",
     "output_type": "stream",
     "text": [
      "Epoch 1/10 - Train loss: 1.5888, Train acc: 0.4366 | Val loss: 1.4469, Val acc: 0.4875\n",
      "Epoch 2/10 - Train loss: 1.1462, Train acc: 0.5985 | Val loss: 1.3822, Val acc: 0.5346\n",
      "Epoch 3/10 - Train loss: 0.9910, Train acc: 0.6523 | Val loss: 1.2391, Val acc: 0.5922\n",
      "Epoch 4/10 - Train loss: 0.8567, Train acc: 0.7037 | Val loss: 1.0078, Val acc: 0.6562\n",
      "Epoch 5/10 - Train loss: 0.7509, Train acc: 0.7381 | Val loss: 0.9311, Val acc: 0.6799\n",
      "Epoch 6/10 - Train loss: 0.6446, Train acc: 0.7731 | Val loss: 0.9678, Val acc: 0.6768\n",
      "Epoch 7/10 - Train loss: 0.5386, Train acc: 0.8097 | Val loss: 0.9236, Val acc: 0.7021\n",
      "Epoch 8/10 - Train loss: 0.4308, Train acc: 0.8501 | Val loss: 0.9410, Val acc: 0.7090\n",
      "Epoch 9/10 - Train loss: 0.3472, Train acc: 0.8796 | Val loss: 1.0502, Val acc: 0.7155\n",
      "Epoch 10/10 - Train loss: 0.2959, Train acc: 0.8955 | Val loss: 1.1383, Val acc: 0.7170\n",
      "Test Loss: 1.1558, Test Accuracy: 0.7149\n",

      "Model saved successfully at Models_Pytorch_saved/model_Optimal_bright_trained_saved.pth\n"
     ]
    }
   ],

   "execution_count": 6
  },
  {
   "metadata": {
    "ExecuteTime": {
     "end_time": "2025-03-31T15:22:19.681863Z",
     "start_time": "2025-03-31T15:20:02.402610Z"
    }
   },
   "cell_type": "code",
   "source": [
    "# Instantiate the model\n",
    "model_Optimal_gauss = OptimalCNN(num_classes=10)\n",
    "# Train the model\n",
    "train_model(model_Optimal_gauss, train_loader_aug_gauss, val_loader_aug_gauss, num_epochs=10, lr=0.008)\n",
    "# Evaluate the model\n",
    "evaluate(model_Optimal_gauss, test_loader_aug_gauss)\n",
    "# Save the model\n",
    "save_model(model_Optimal_gauss, \"Models_Pytorch_saved/model_Optimal_gauss_trained_saved.pth\")"
   ],
   "id": "94591ec1c3b4a0ee",
   "outputs": [
    {
     "name": "stdout",
     "output_type": "stream",
     "text": [

      "Epoch 1/10 - Train loss: 1.6542, Train acc: 0.4132 | Val loss: 1.4863, Val acc: 0.4844\n",
      "Epoch 2/10 - Train loss: 1.1817, Train acc: 0.5866 | Val loss: 1.2906, Val acc: 0.5711\n",
      "Epoch 3/10 - Train loss: 0.9974, Train acc: 0.6520 | Val loss: 1.0727, Val acc: 0.6296\n",
      "Epoch 4/10 - Train loss: 0.8798, Train acc: 0.6946 | Val loss: 1.0590, Val acc: 0.6376\n",
      "Epoch 5/10 - Train loss: 0.7588, Train acc: 0.7361 | Val loss: 0.8568, Val acc: 0.7085\n",
      "Epoch 6/10 - Train loss: 0.6453, Train acc: 0.7736 | Val loss: 1.0096, Val acc: 0.6727\n",
      "Epoch 7/10 - Train loss: 0.5422, Train acc: 0.8089 | Val loss: 1.0124, Val acc: 0.6806\n",
      "Epoch 8/10 - Train loss: 0.4424, Train acc: 0.8414 | Val loss: 0.9972, Val acc: 0.7024\n",
      "Epoch 9/10 - Train loss: 0.3604, Train acc: 0.8733 | Val loss: 1.0222, Val acc: 0.7066\n",
      "Epoch 10/10 - Train loss: 0.2893, Train acc: 0.8984 | Val loss: 1.1517, Val acc: 0.7091\n",
      "Test Loss: 1.1458, Test Accuracy: 0.7089\n",
      "Model saved successfully at Models_Pytorch_saved/model_Optimal_gauss_trained_saved.pth\n"
     ]
    }
   ],
   "execution_count": 7

  },
  {
   "metadata": {
    "ExecuteTime": {
     "end_time": "2025-03-31T15:24:37.838426Z",
     "start_time": "2025-03-31T15:22:19.690898Z"
    }
   },
   "cell_type": "code",
   "source": [
    "# Instantiate the model\n",
    "model_Optimal_hor = OptimalCNN(num_classes=10)\n",
    "# Train the model\n",
    "train_model(model_Optimal_hor, train_loader_aug_hor, val_loader_aug_hor, num_epochs=10, lr=0.008)\n",
    "# Evaluate the model\n",
    "evaluate(model_Optimal_hor, test_loader_aug_hor)\n",
    "# Save the model\n",
    "save_model(model_Optimal_hor, \"Models_Pytorch_saved/model_Optimal_hor_trained_saved.pth\")"
   ],
   "id": "31c31bc70383b97b",
   "outputs": [
    {
     "name": "stdout",
     "output_type": "stream",
     "text": [

      "Epoch 1/10 - Train loss: 1.6620, Train acc: 0.4098 | Val loss: 1.3097, Val acc: 0.5331\n",
      "Epoch 2/10 - Train loss: 1.1813, Train acc: 0.5852 | Val loss: 1.1142, Val acc: 0.6084\n",
      "Epoch 3/10 - Train loss: 1.0105, Train acc: 0.6499 | Val loss: 1.0345, Val acc: 0.6405\n",
      "Epoch 4/10 - Train loss: 0.8830, Train acc: 0.6905 | Val loss: 1.0772, Val acc: 0.6391\n",
      "Epoch 5/10 - Train loss: 0.7660, Train acc: 0.7309 | Val loss: 0.9315, Val acc: 0.6805\n",
      "Epoch 6/10 - Train loss: 0.6522, Train acc: 0.7725 | Val loss: 1.0161, Val acc: 0.6771\n",
      "Epoch 7/10 - Train loss: 0.5419, Train acc: 0.8091 | Val loss: 0.8722, Val acc: 0.7134\n",
      "Epoch 8/10 - Train loss: 0.4397, Train acc: 0.8449 | Val loss: 1.0431, Val acc: 0.7015\n",
      "Epoch 9/10 - Train loss: 0.3560, Train acc: 0.8734 | Val loss: 1.0601, Val acc: 0.7016\n",
      "Epoch 10/10 - Train loss: 0.2868, Train acc: 0.8993 | Val loss: 1.1134, Val acc: 0.7028\n",
      "Test Loss: 1.1278, Test Accuracy: 0.7018\n",
      "Model saved successfully at Models_Pytorch_saved/model_Optimal_hor_trained_saved.pth\n"
     ]
    }
   ],
   "execution_count": 8
  },
  {
   "metadata": {
    "ExecuteTime": {

     "end_time": "2025-03-31T15:26:55.529598Z",
     "start_time": "2025-03-31T15:24:37.848803Z"
    }
   },
   "cell_type": "code",
   "source": [
    "# Instantiate the model\n",
    "model_Optimal_rot = OptimalCNN(num_classes=10)\n",
    "# Train the model\n",
    "train_model(model_Optimal_rot, train_loader_aug_rot, val_loader_aug_rot, num_epochs=10, lr=0.008)\n",
    "# Evaluate the model\n",
    "evaluate(model_Optimal_rot, test_loader_aug_rot)\n",
    "# Save the model\n",
    "save_model(model_Optimal_rot, \"Models_Pytorch_saved/model_Optimal_rot_trained_saved.pth\")"
   ],
   "id": "36e5aa932fd26833",
   "outputs": [
    {
     "name": "stdout",
     "output_type": "stream",
     "text": [

      "Epoch 1/10 - Train loss: 1.6204, Train acc: 0.4223 | Val loss: 1.3035, Val acc: 0.5362\n",
      "Epoch 2/10 - Train loss: 1.1570, Train acc: 0.5978 | Val loss: 1.1963, Val acc: 0.5831\n",
      "Epoch 3/10 - Train loss: 0.9842, Train acc: 0.6571 | Val loss: 1.0261, Val acc: 0.6423\n",
      "Epoch 4/10 - Train loss: 0.8534, Train acc: 0.7023 | Val loss: 1.1136, Val acc: 0.6333\n",
      "Epoch 5/10 - Train loss: 0.7349, Train acc: 0.7436 | Val loss: 0.9581, Val acc: 0.6719\n",
      "Epoch 6/10 - Train loss: 0.6303, Train acc: 0.7816 | Val loss: 0.9554, Val acc: 0.6862\n",
      "Epoch 7/10 - Train loss: 0.5152, Train acc: 0.8190 | Val loss: 0.9199, Val acc: 0.7150\n",
      "Epoch 8/10 - Train loss: 0.4117, Train acc: 0.8565 | Val loss: 0.9677, Val acc: 0.7104\n",
      "Epoch 9/10 - Train loss: 0.3347, Train acc: 0.8826 | Val loss: 1.1483, Val acc: 0.6772\n",
      "Epoch 10/10 - Train loss: 0.2644, Train acc: 0.9075 | Val loss: 1.1804, Val acc: 0.7133\n",
      "Test Loss: 1.1867, Test Accuracy: 0.7153\n",
      "Model saved successfully at Models_Pytorch_saved/model_Optimal_rot_trained_saved.pth\n"
     ]
    }
   ],

   "execution_count": 9
  },
  {
   "metadata": {},
   "cell_type": "markdown",
   "source": "# Stochastic Deep",
   "id": "1cb405d53d9f2afe"
  },
  {
   "metadata": {
    "ExecuteTime": {

     "end_time": "2025-03-31T15:40:28.959917Z",
     "start_time": "2025-03-31T15:26:55.541663Z"

    }
   },
   "cell_type": "code",
   "source": [
    "loss_tab = []\n",
    "acc_tab = []\n",
    "stoch_tab = []\n",
    "\n",
    "for i in np.arange(0.1, 0.7, 0.1):\n",
    "    # Instantiate the model\n",
    "    model_Stochastic = StochasticDepthCNN(num_classes=10, stoch_prob=i)\n",
    "    # Train the model\n",
    "    train_model(model_Stochastic, train_loader, val_loader, num_epochs=10, lr=0.008)\n",
    "    # Evaluate the model\n",
    "    [loss, acc] = evaluate(model_Stochastic, test_loader)\n",
    "    # Save the model\n",
    "    f = i*10\n",
    "    save_model(model_Stochastic, \"Models_Pytorch_saved/model_stochastic_{f}_trained_saved.pth\")\n",
    "\n",
    "    loss_tab.append(loss)\n",
    "    acc_tab.append(acc)\n",
    "    stoch_tab.append(i)"
   ],
   "id": "1e6e382052ee154f",
   "outputs": [
    {
     "name": "stdout",
     "output_type": "stream",
     "text": [
      "Epoch 1/10 - Train loss: 1.7676, Train acc: 0.3763 | Val loss: 1.4992, Val acc: 0.4488\n",
      "Epoch 2/10 - Train loss: 1.2942, Train acc: 0.5484 | Val loss: 1.3446, Val acc: 0.5260\n",
      "Epoch 3/10 - Train loss: 1.1320, Train acc: 0.6060 | Val loss: 1.3111, Val acc: 0.5301\n",
      "Epoch 4/10 - Train loss: 1.0337, Train acc: 0.6406 | Val loss: 1.0528, Val acc: 0.6456\n",
      "Epoch 5/10 - Train loss: 0.9458, Train acc: 0.6730 | Val loss: 1.2965, Val acc: 0.5652\n",
      "Epoch 6/10 - Train loss: 0.8768, Train acc: 0.6983 | Val loss: 1.6521, Val acc: 0.4210\n",
      "Epoch 7/10 - Train loss: 0.8017, Train acc: 0.7208 | Val loss: 2.1695, Val acc: 0.2516\n",
      "Epoch 8/10 - Train loss: 0.7306, Train acc: 0.7468 | Val loss: 1.1296, Val acc: 0.6001\n",
      "Epoch 9/10 - Train loss: 0.6671, Train acc: 0.7677 | Val loss: 3.1892, Val acc: 0.1769\n",
      "Epoch 10/10 - Train loss: 0.5844, Train acc: 0.7991 | Val loss: 3.0090, Val acc: 0.2970\n",
      "Test Loss: 3.0154, Test Accuracy: 0.2950\n",
      "Model saved successfully at Models_Pytorch_saved/model_stochastic_{f}_trained_saved.pth\n",
      "Epoch 1/10 - Train loss: 1.8007, Train acc: 0.3658 | Val loss: 1.7345, Val acc: 0.3737\n",
      "Epoch 2/10 - Train loss: 1.3313, Train acc: 0.5306 | Val loss: 1.5683, Val acc: 0.4611\n",
      "Epoch 3/10 - Train loss: 1.1732, Train acc: 0.5876 | Val loss: 2.0567, Val acc: 0.3889\n",
      "Epoch 4/10 - Train loss: 1.0643, Train acc: 0.6311 | Val loss: 1.8071, Val acc: 0.4111\n",
      "Epoch 5/10 - Train loss: 0.9877, Train acc: 0.6562 | Val loss: 1.9776, Val acc: 0.2923\n",
      "Epoch 6/10 - Train loss: 0.9133, Train acc: 0.6800 | Val loss: 2.7135, Val acc: 0.2849\n",
      "Epoch 7/10 - Train loss: 0.8421, Train acc: 0.7095 | Val loss: 2.5907, Val acc: 0.2819\n",
      "Epoch 8/10 - Train loss: 0.7771, Train acc: 0.7288 | Val loss: 2.6236, Val acc: 0.3130\n",
      "Epoch 9/10 - Train loss: 0.7115, Train acc: 0.7516 | Val loss: 4.0991, Val acc: 0.1122\n",
      "Epoch 10/10 - Train loss: 0.6650, Train acc: 0.7709 | Val loss: 7.1387, Val acc: 0.1768\n",
      "Test Loss: 7.1370, Test Accuracy: 0.1779\n",
      "Model saved successfully at Models_Pytorch_saved/model_stochastic_{f}_trained_saved.pth\n",
      "Epoch 1/10 - Train loss: 1.8339, Train acc: 0.3525 | Val loss: 2.1115, Val acc: 0.2445\n",
      "Epoch 2/10 - Train loss: 1.3488, Train acc: 0.5238 | Val loss: 2.0304, Val acc: 0.2939\n",
      "Epoch 3/10 - Train loss: 1.1723, Train acc: 0.5900 | Val loss: 2.1201, Val acc: 0.2968\n",
      "Epoch 4/10 - Train loss: 1.0694, Train acc: 0.6257 | Val loss: 2.6089, Val acc: 0.1508\n",
      "Epoch 5/10 - Train loss: 0.9898, Train acc: 0.6569 | Val loss: 1.8810, Val acc: 0.3949\n",
      "Epoch 6/10 - Train loss: 0.9213, Train acc: 0.6823 | Val loss: 3.6724, Val acc: 0.1771\n",
      "Epoch 7/10 - Train loss: 0.8498, Train acc: 0.7062 | Val loss: 3.5947, Val acc: 0.1823\n",
      "Epoch 8/10 - Train loss: 0.7889, Train acc: 0.7281 | Val loss: 3.7310, Val acc: 0.2588\n",
      "Epoch 9/10 - Train loss: 0.7233, Train acc: 0.7478 | Val loss: 5.9248, Val acc: 0.1033\n",
      "Epoch 10/10 - Train loss: 0.6557, Train acc: 0.7713 | Val loss: 4.2591, Val acc: 0.1959\n",
      "Test Loss: 4.2527, Test Accuracy: 0.1982\n",
      "Model saved successfully at Models_Pytorch_saved/model_stochastic_{f}_trained_saved.pth\n",
      "Epoch 1/10 - Train loss: 1.7986, Train acc: 0.3619 | Val loss: 1.8435, Val acc: 0.3429\n",
      "Epoch 2/10 - Train loss: 1.3472, Train acc: 0.5228 | Val loss: 1.6239, Val acc: 0.3823\n",
      "Epoch 3/10 - Train loss: 1.1895, Train acc: 0.5824 | Val loss: 1.7242, Val acc: 0.3838\n",
      "Epoch 4/10 - Train loss: 1.0789, Train acc: 0.6241 | Val loss: 3.0631, Val acc: 0.2149\n",
      "Epoch 5/10 - Train loss: 0.9968, Train acc: 0.6544 | Val loss: 4.6317, Val acc: 0.1134\n",
      "Epoch 6/10 - Train loss: 0.9221, Train acc: 0.6789 | Val loss: 3.3538, Val acc: 0.1725\n",
      "Epoch 7/10 - Train loss: 0.8450, Train acc: 0.7103 | Val loss: 4.2037, Val acc: 0.1842\n",
      "Epoch 8/10 - Train loss: 0.7795, Train acc: 0.7336 | Val loss: 5.6536, Val acc: 0.1084\n",
      "Epoch 9/10 - Train loss: 0.7082, Train acc: 0.7524 | Val loss: 9.1048, Val acc: 0.1000\n",
      "Epoch 10/10 - Train loss: 0.6486, Train acc: 0.7733 | Val loss: 4.6088, Val acc: 0.1125\n",
      "Test Loss: 4.6034, Test Accuracy: 0.1137\n",
      "Model saved successfully at Models_Pytorch_saved/model_stochastic_{f}_trained_saved.pth\n",
      "Epoch 1/10 - Train loss: 1.8505, Train acc: 0.3425 | Val loss: 2.5947, Val acc: 0.1730\n",
      "Epoch 2/10 - Train loss: 1.3926, Train acc: 0.5089 | Val loss: 2.3666, Val acc: 0.2567\n",
      "Epoch 3/10 - Train loss: 1.2146, Train acc: 0.5722 | Val loss: 3.2244, Val acc: 0.1595\n",
      "Epoch 4/10 - Train loss: 1.1063, Train acc: 0.6157 | Val loss: 4.3825, Val acc: 0.1221\n",
      "Epoch 5/10 - Train loss: 1.0070, Train acc: 0.6518 | Val loss: 3.1997, Val acc: 0.1262\n",
      "Epoch 6/10 - Train loss: 0.9362, Train acc: 0.6739 | Val loss: 5.0115, Val acc: 0.1000\n",
      "Epoch 7/10 - Train loss: 0.8657, Train acc: 0.6996 | Val loss: 4.9444, Val acc: 0.1015\n",
      "Epoch 8/10 - Train loss: 0.7940, Train acc: 0.7244 | Val loss: 8.0092, Val acc: 0.1092\n",
      "Epoch 9/10 - Train loss: 0.7317, Train acc: 0.7440 | Val loss: 9.8711, Val acc: 0.1001\n",
      "Epoch 10/10 - Train loss: 0.6646, Train acc: 0.7709 | Val loss: 12.2426, Val acc: 0.1000\n",
      "Test Loss: 12.2408, Test Accuracy: 0.1000\n",
      "Model saved successfully at Models_Pytorch_saved/model_stochastic_{f}_trained_saved.pth\n",
      "Epoch 1/10 - Train loss: 1.8498, Train acc: 0.3484 | Val loss: 2.7954, Val acc: 0.1632\n",
      "Epoch 2/10 - Train loss: 1.3890, Train acc: 0.5098 | Val loss: 3.3107, Val acc: 0.2133\n",
      "Epoch 3/10 - Train loss: 1.1985, Train acc: 0.5794 | Val loss: 3.3425, Val acc: 0.1861\n",
      "Epoch 4/10 - Train loss: 1.0820, Train acc: 0.6217 | Val loss: 3.2796, Val acc: 0.1011\n",
      "Epoch 5/10 - Train loss: 1.0007, Train acc: 0.6505 | Val loss: 5.5346, Val acc: 0.1068\n",
      "Epoch 6/10 - Train loss: 0.9194, Train acc: 0.6768 | Val loss: 5.4180, Val acc: 0.1005\n",
      "Epoch 7/10 - Train loss: 0.8454, Train acc: 0.7047 | Val loss: 6.7949, Val acc: 0.1502\n",
      "Epoch 8/10 - Train loss: 0.7814, Train acc: 0.7247 | Val loss: 6.2856, Val acc: 0.1029\n",
      "Epoch 9/10 - Train loss: 0.7208, Train acc: 0.7489 | Val loss: 8.4426, Val acc: 0.1000\n",
      "Epoch 10/10 - Train loss: 0.6384, Train acc: 0.7771 | Val loss: 9.5426, Val acc: 0.1000\n",
      "Test Loss: 9.5334, Test Accuracy: 0.1000\n",
      "Epoch 1/10 - Train loss: 1.8065, Train acc: 0.3613 | Val loss: 1.5536, Val acc: 0.4560\n",
      "Epoch 2/10 - Train loss: 1.3142, Train acc: 0.5379 | Val loss: 1.1417, Val acc: 0.5952\n",
      "Epoch 3/10 - Train loss: 1.1493, Train acc: 0.5996 | Val loss: 1.2303, Val acc: 0.5528\n",
      "Epoch 4/10 - Train loss: 1.0400, Train acc: 0.6388 | Val loss: 1.1659, Val acc: 0.6078\n",
      "Epoch 5/10 - Train loss: 0.9510, Train acc: 0.6740 | Val loss: 1.2025, Val acc: 0.5911\n",
      "Epoch 6/10 - Train loss: 0.8791, Train acc: 0.6954 | Val loss: 1.3100, Val acc: 0.5481\n",
      "Epoch 7/10 - Train loss: 0.7972, Train acc: 0.7250 | Val loss: 1.1330, Val acc: 0.6225\n",
      "Epoch 8/10 - Train loss: 0.7376, Train acc: 0.7475 | Val loss: 2.5035, Val acc: 0.3189\n",
      "Epoch 9/10 - Train loss: 0.6596, Train acc: 0.7714 | Val loss: 2.4471, Val acc: 0.2850\n",
      "Epoch 10/10 - Train loss: 0.5945, Train acc: 0.7948 | Val loss: 2.9561, Val acc: 0.1855\n",
      "Test Loss: 2.9561, Test Accuracy: 0.1855\n",
      "Model saved successfully at Models_Pytorch_saved/model_stochastic_{f}_trained_saved.pth\n",
      "Epoch 1/10 - Train loss: 1.7937, Train acc: 0.3664 | Val loss: 1.6713, Val acc: 0.4001\n",
      "Epoch 2/10 - Train loss: 1.3209, Train acc: 0.5358 | Val loss: 2.0984, Val acc: 0.3616\n",
      "Epoch 3/10 - Train loss: 1.1574, Train acc: 0.5975 | Val loss: 1.5517, Val acc: 0.4859\n",
      "Epoch 4/10 - Train loss: 1.0472, Train acc: 0.6338 | Val loss: 1.2143, Val acc: 0.5903\n",
      "Epoch 5/10 - Train loss: 0.9637, Train acc: 0.6646 | Val loss: 3.5180, Val acc: 0.1503\n",
      "Epoch 6/10 - Train loss: 0.8867, Train acc: 0.6901 | Val loss: 3.2543, Val acc: 0.1906\n",
      "Epoch 7/10 - Train loss: 0.8219, Train acc: 0.7139 | Val loss: 4.8700, Val acc: 0.1087\n",
      "Epoch 8/10 - Train loss: 0.7507, Train acc: 0.7390 | Val loss: 6.8844, Val acc: 0.1089\n",
      "Epoch 9/10 - Train loss: 0.6924, Train acc: 0.7594 | Val loss: 3.6805, Val acc: 0.1934\n",
      "Epoch 10/10 - Train loss: 0.6214, Train acc: 0.7844 | Val loss: 6.8260, Val acc: 0.1007\n",
      "Test Loss: 6.8260, Test Accuracy: 0.1007\n",
      "Model saved successfully at Models_Pytorch_saved/model_stochastic_{f}_trained_saved.pth\n",
      "Epoch 1/10 - Train loss: 1.7683, Train acc: 0.3720 | Val loss: 1.9787, Val acc: 0.3005\n",
      "Epoch 2/10 - Train loss: 1.3309, Train acc: 0.5308 | Val loss: 2.0618, Val acc: 0.3206\n",
      "Epoch 3/10 - Train loss: 1.1631, Train acc: 0.5921 | Val loss: 2.6719, Val acc: 0.2574\n",
      "Epoch 4/10 - Train loss: 1.0657, Train acc: 0.6296 | Val loss: 2.2396, Val acc: 0.3533\n",
      "Epoch 5/10 - Train loss: 0.9885, Train acc: 0.6576 | Val loss: 1.9940, Val acc: 0.4035\n",
      "Epoch 6/10 - Train loss: 0.9166, Train acc: 0.6842 | Val loss: 2.9527, Val acc: 0.2638\n",
      "Epoch 7/10 - Train loss: 0.8516, Train acc: 0.7032 | Val loss: 4.2229, Val acc: 0.1558\n",
      "Epoch 8/10 - Train loss: 0.7798, Train acc: 0.7311 | Val loss: 5.5309, Val acc: 0.1469\n",
      "Epoch 9/10 - Train loss: 0.7273, Train acc: 0.7499 | Val loss: 5.5312, Val acc: 0.1157\n",
      "Epoch 10/10 - Train loss: 0.6579, Train acc: 0.7715 | Val loss: 5.7147, Val acc: 0.1008\n",
      "Test Loss: 5.7147, Test Accuracy: 0.1008\n",
      "Model saved successfully at Models_Pytorch_saved/model_stochastic_{f}_trained_saved.pth\n",
      "Epoch 1/10 - Train loss: 1.8214, Train acc: 0.3589 | Val loss: 2.9876, Val acc: 0.1456\n",
      "Epoch 2/10 - Train loss: 1.3648, Train acc: 0.5190 | Val loss: 2.9818, Val acc: 0.1176\n",
      "Epoch 3/10 - Train loss: 1.2102, Train acc: 0.5757 | Val loss: 2.1304, Val acc: 0.2321\n",
      "Epoch 4/10 - Train loss: 1.0975, Train acc: 0.6156 | Val loss: 2.9876, Val acc: 0.1915\n",
      "Epoch 5/10 - Train loss: 1.0168, Train acc: 0.6463 | Val loss: 6.4375, Val acc: 0.1001\n",
      "Epoch 6/10 - Train loss: 0.9403, Train acc: 0.6731 | Val loss: 4.6062, Val acc: 0.1693\n",
      "Epoch 7/10 - Train loss: 0.8680, Train acc: 0.6977 | Val loss: 5.0973, Val acc: 0.1589\n",
      "Epoch 8/10 - Train loss: 0.7992, Train acc: 0.7173 | Val loss: 7.7867, Val acc: 0.1000\n",
      "Epoch 9/10 - Train loss: 0.7354, Train acc: 0.7422 | Val loss: 5.4690, Val acc: 0.1649\n",
      "Epoch 10/10 - Train loss: 0.6697, Train acc: 0.7657 | Val loss: 7.9930, Val acc: 0.1000\n",
      "Test Loss: 7.9930, Test Accuracy: 0.1000\n",
      "Model saved successfully at Models_Pytorch_saved/model_stochastic_{f}_trained_saved.pth\n",
      "Epoch 1/10 - Train loss: 1.8148, Train acc: 0.3606 | Val loss: 2.2879, Val acc: 0.2759\n",
      "Epoch 2/10 - Train loss: 1.3560, Train acc: 0.5209 | Val loss: 2.3862, Val acc: 0.2630\n",
      "Epoch 3/10 - Train loss: 1.1934, Train acc: 0.5790 | Val loss: 4.2272, Val acc: 0.1029\n",
      "Epoch 4/10 - Train loss: 1.0889, Train acc: 0.6223 | Val loss: 4.1447, Val acc: 0.1116\n",
      "Epoch 5/10 - Train loss: 0.9985, Train acc: 0.6521 | Val loss: 4.1819, Val acc: 0.1008\n",
      "Epoch 6/10 - Train loss: 0.9269, Train acc: 0.6776 | Val loss: 5.8379, Val acc: 0.1013\n",
      "Epoch 7/10 - Train loss: 0.8716, Train acc: 0.6988 | Val loss: 6.8089, Val acc: 0.1562\n",
      "Epoch 8/10 - Train loss: 0.7856, Train acc: 0.7258 | Val loss: 5.6086, Val acc: 0.1037\n",
      "Epoch 9/10 - Train loss: 0.7236, Train acc: 0.7490 | Val loss: 5.7037, Val acc: 0.1434\n",
      "Epoch 10/10 - Train loss: 0.6536, Train acc: 0.7713 | Val loss: 7.0332, Val acc: 0.1013\n",
      "Test Loss: 7.0332, Test Accuracy: 0.1013\n",
      "Model saved successfully at Models_Pytorch_saved/model_stochastic_{f}_trained_saved.pth\n",
      "Epoch 1/10 - Train loss: 1.8349, Train acc: 0.3516 | Val loss: 2.2913, Val acc: 0.2117\n",
      "Epoch 2/10 - Train loss: 1.3763, Train acc: 0.5108 | Val loss: 3.0835, Val acc: 0.1701\n",
      "Epoch 3/10 - Train loss: 1.1984, Train acc: 0.5807 | Val loss: 3.0680, Val acc: 0.1936\n",
      "Epoch 4/10 - Train loss: 1.0898, Train acc: 0.6225 | Val loss: 4.0426, Val acc: 0.1234\n",
      "Epoch 5/10 - Train loss: 1.0105, Train acc: 0.6487 | Val loss: 4.0840, Val acc: 0.1085\n",
      "Epoch 6/10 - Train loss: 0.9298, Train acc: 0.6766 | Val loss: 4.6799, Val acc: 0.1037\n",
      "Epoch 7/10 - Train loss: 0.8439, Train acc: 0.7059 | Val loss: 11.3819, Val acc: 0.1000\n",
      "Epoch 8/10 - Train loss: 0.7831, Train acc: 0.7284 | Val loss: 8.5511, Val acc: 0.1000\n",
      "Epoch 9/10 - Train loss: 0.7118, Train acc: 0.7563 | Val loss: 8.6369, Val acc: 0.1000\n",
      "Epoch 10/10 - Train loss: 0.6498, Train acc: 0.7729 | Val loss: 7.7564, Val acc: 0.1000\n",
      "Test Loss: 7.7564, Test Accuracy: 0.1000\n",
      "Model saved successfully at Models_Pytorch_saved/model_stochastic_{f}_trained_saved.pth\n"
     ]
    }
   ],
   "execution_count": 18
  },
  {
   "metadata": {
    "ExecuteTime": {
     "end_time": "2025-03-31T15:40:29.153815Z",
     "start_time": "2025-03-31T15:40:28.971002Z"
    }
   },
   "cell_type": "code",
   "source": [
    "# Plot loss and accuracy vs learning rate\n",
    "plt.figure(figsize=(10, 5))\n",
    "\n",
    "# Loss plot\n",
    "plt.subplot(1, 2, 1)\n",
    "plt.plot(stoch_tab, loss_tab, marker='o', linestyle='-')\n",
    "plt.xlabel(\"Stochastic Probability\")\n",
    "plt.ylabel(\"Loss\")\n",
    "plt.title(\"Loss vs Stochastic Probability\")\n",
    "\n",
    "# Accuracy plot\n",
    "plt.subplot(1, 2, 2)\n",
    "plt.plot(stoch_tab, acc_tab, marker='o', linestyle='-', color='g')\n",
    "plt.xlabel(\"Stochastic Probability\")\n",
    "plt.ylabel(\"Accuracy\")\n",
    "plt.title(\"Accuracy vs Stochastic Probability\")\n",
    "\n",
    "plt.tight_layout()\n",
    "plt.show()"
   ],
   "id": "99892056f1574574",
   "outputs": [
    {
     "data": {
      "text/plain": [
       "<Figure size 1000x500 with 2 Axes>"
      ],
      "image/png": "[encoded data removed]"
     },
     "metadata": {},
     "output_type": "display_data"
    }
   ],
   "execution_count": 11
  },
  {
   "metadata": {
    "ExecuteTime": {
     "end_time": "2025-03-31T15:42:46.467750Z",
     "start_time": "2025-03-31T15:40:29.198676Z"
    }
   },
   "cell_type": "code",
   "source": [
    "# Instantiate the model\n",
    "model_Stochastic_auto = StochasticDepthCNN(num_classes=10)\n",
    "# Train the model\n",
    "train_model(model_Stochastic_auto, train_loader_aug_auto, val_loader_aug_auto, num_epochs=10, lr=0.008)\n",
    "# Evaluate the model\n",
    "evaluate(model_Stochastic_auto, test_loader_aug_auto)\n",
    "# Save the model\n",
    "save_model(model_Stochastic_auto, \"Models_Pytorch_saved/model_Stochastic_auto_trained_saved.pth\")"
   ],
   "id": "4baf4b1668c240a0",
   "outputs": [
    {
     "name": "stdout",
     "output_type": "stream",
     "text": [
      "Epoch 1/10 - Train loss: 1.7768, Train acc: 0.3753 | Val loss: 1.6887, Val acc: 0.4032\n",
      "Epoch 2/10 - Train loss: 1.3306, Train acc: 0.5297 | Val loss: 1.7634, Val acc: 0.3741\n",
      "Epoch 3/10 - Train loss: 1.1661, Train acc: 0.5906 | Val loss: 1.9568, Val acc: 0.3340\n",
      "Epoch 4/10 - Train loss: 1.0604, Train acc: 0.6329 | Val loss: 2.6763, Val acc: 0.2461\n",
      "Epoch 5/10 - Train loss: 0.9787, Train acc: 0.6586 | Val loss: 1.7000, Val acc: 0.4404\n",
      "Epoch 6/10 - Train loss: 0.9037, Train acc: 0.6852 | Val loss: 4.0613, Val acc: 0.2082\n",
      "Epoch 7/10 - Train loss: 0.8325, Train acc: 0.7125 | Val loss: 2.4588, Val acc: 0.2161\n",
      "Epoch 8/10 - Train loss: 0.7594, Train acc: 0.7360 | Val loss: 5.9788, Val acc: 0.1000\n",
      "Epoch 9/10 - Train loss: 0.6976, Train acc: 0.7555 | Val loss: 6.7478, Val acc: 0.1000\n",
      "Epoch 10/10 - Train loss: 0.6404, Train acc: 0.7771 | Val loss: 5.8436, Val acc: 0.1000\n",
      "Test Loss: 5.8380, Test Accuracy: 0.1000\n",
      "Model saved successfully at Models_Pytorch_saved/model_Stochastic_auto_trained_saved.pth\n"
     ]
    }
   ],
   "execution_count": 12
  },
  {
   "metadata": {
    "ExecuteTime": {
     "end_time": "2025-03-31T15:45:02.852827Z",
     "start_time": "2025-03-31T15:42:46.482194Z"
    }
   },
   "cell_type": "code",
   "source": [
    "# Instantiate the model\n",
    "model_Stochastic_bright = StochasticDepthCNN(num_classes=10)\n",
    "# Train the model\n",
    "train_model(model_Stochastic_bright, train_loader_aug_bright, val_loader_aug_bright, num_epochs=10, lr=0.008)\n",
    "# Evaluate the model\n",
    "evaluate(model_Stochastic_bright, test_loader_aug_bright)\n",
    "# Save the model\n",
    "save_model(model_Stochastic_bright, \"Models_Pytorch_saved/model_Stochastic_bright_trained_saved.pth\")"
   ],
   "id": "f04cd3750a13522d",
   "outputs": [
    {
     "name": "stdout",
     "output_type": "stream",
     "text": [
      "Epoch 1/10 - Train loss: 1.7917, Train acc: 0.3691 | Val loss: 1.8174, Val acc: 0.3325\n",
      "Epoch 2/10 - Train loss: 1.3246, Train acc: 0.5333 | Val loss: 1.4756, Val acc: 0.4660\n",
      "Epoch 3/10 - Train loss: 1.1635, Train acc: 0.5950 | Val loss: 1.4453, Val acc: 0.4794\n",
      "Epoch 4/10 - Train loss: 1.0646, Train acc: 0.6298 | Val loss: 1.6812, Val acc: 0.3987\n",
      "Epoch 5/10 - Train loss: 0.9933, Train acc: 0.6592 | Val loss: 1.5539, Val acc: 0.4359\n",
      "Epoch 6/10 - Train loss: 0.9042, Train acc: 0.6860 | Val loss: 2.5190, Val acc: 0.2531\n",
      "Epoch 7/10 - Train loss: 0.8412, Train acc: 0.7088 | Val loss: 1.9365, Val acc: 0.3975\n",
      "Epoch 8/10 - Train loss: 0.7783, Train acc: 0.7306 | Val loss: 2.6689, Val acc: 0.1906\n",
      "Epoch 9/10 - Train loss: 0.7124, Train acc: 0.7518 | Val loss: 1.9843, Val acc: 0.2855\n",
      "Epoch 10/10 - Train loss: 0.6450, Train acc: 0.7765 | Val loss: 5.2958, Val acc: 0.1430\n",
      "Test Loss: 5.2948, Test Accuracy: 0.1417\n",
      "Model saved successfully at Models_Pytorch_saved/model_Stochastic_bright_trained_saved.pth\n"
     ]
    }
   ],

   "execution_count": 13
  },
  {
   "metadata": {
    "ExecuteTime": {
     "end_time": "2025-03-31T15:47:20.403489Z",
     "start_time": "2025-03-31T15:45:02.903489Z"
    }
   },
   "cell_type": "code",
   "source": [
    "# Instantiate the model\n",
    "model_Stochastic_gauss = StochasticDepthCNN(num_classes=10)\n",
    "# Train the model\n",
    "train_model(model_Stochastic_gauss, train_loader_aug_gauss, val_loader_aug_gauss, num_epochs=10, lr=0.008)\n",
    "# Evaluate the model\n",
    "evaluate(model_Stochastic_gauss, test_loader_aug_gauss)\n",
    "# Save the model\n",
    "save_model(model_Stochastic_gauss, \"Models_Pytorch_saved/model_Stochastic_gauss_trained_saved.pth\")"
   ],
   "id": "c45c508ef1a6b53f",
   "outputs": [
    {
     "name": "stdout",
     "output_type": "stream",
     "text": [
      "Epoch 1/10 - Train loss: 1.7935, Train acc: 0.3655 | Val loss: 2.0286, Val acc: 0.3284\n",
      "Epoch 2/10 - Train loss: 1.3299, Train acc: 0.5330 | Val loss: 1.4204, Val acc: 0.4979\n",
      "Epoch 3/10 - Train loss: 1.1608, Train acc: 0.5940 | Val loss: 1.3141, Val acc: 0.5384\n",
      "Epoch 4/10 - Train loss: 1.0599, Train acc: 0.6300 | Val loss: 1.6978, Val acc: 0.4031\n",
      "Epoch 5/10 - Train loss: 0.9842, Train acc: 0.6551 | Val loss: 2.4736, Val acc: 0.2376\n",
      "Epoch 6/10 - Train loss: 0.8944, Train acc: 0.6890 | Val loss: 2.8385, Val acc: 0.2702\n",
      "Epoch 7/10 - Train loss: 0.8329, Train acc: 0.7098 | Val loss: 4.5473, Val acc: 0.1626\n",
      "Epoch 8/10 - Train loss: 0.7475, Train acc: 0.7412 | Val loss: 4.2389, Val acc: 0.1721\n",
      "Epoch 9/10 - Train loss: 0.6978, Train acc: 0.7564 | Val loss: 4.8568, Val acc: 0.1168\n",
      "Epoch 10/10 - Train loss: 0.6392, Train acc: 0.7780 | Val loss: 7.6862, Val acc: 0.1035\n",
      "Test Loss: 7.6874, Test Accuracy: 0.1033\n",
      "Model saved successfully at Models_Pytorch_saved/model_Stochastic_gauss_trained_saved.pth\n"
     ]
    }
   ],

   "execution_count": 14
  },
  {
   "metadata": {
    "ExecuteTime": {

     "end_time": "2025-03-31T15:49:38.475925Z",
     "start_time": "2025-03-31T15:47:20.413200Z"
    }
   },
   "cell_type": "code",
   "source": [
    "# Instantiate the model\n",
    "model_Stochastic_hor = StochasticDepthCNN(num_classes=10)\n",
    "# Train the model\n",
    "train_model(model_Stochastic_hor, train_loader_aug_hor, val_loader_aug_hor, num_epochs=10, lr=0.008)\n",
    "# Evaluate the model\n",
    "evaluate(model_Stochastic_hor, test_loader_aug_hor)\n",
    "# Save the model\n",
    "save_model(model_Stochastic_hor, \"Models_Pytorch_saved/model_Stochastic_hor_trained_saved.pth\")"
   ],
   "id": "e66a8b60364082ab",
   "outputs": [
    {
     "name": "stdout",
     "output_type": "stream",
     "text": [

      "Epoch 1/10 - Train loss: 1.7804, Train acc: 0.3701 | Val loss: 1.5941, Val acc: 0.4261\n",
      "Epoch 2/10 - Train loss: 1.3232, Train acc: 0.5370 | Val loss: 1.4913, Val acc: 0.4818\n",
      "Epoch 3/10 - Train loss: 1.1640, Train acc: 0.5963 | Val loss: 1.4117, Val acc: 0.5250\n",
      "Epoch 4/10 - Train loss: 1.0624, Train acc: 0.6288 | Val loss: 1.4892, Val acc: 0.4880\n",
      "Epoch 5/10 - Train loss: 0.9738, Train acc: 0.6616 | Val loss: 1.4946, Val acc: 0.4749\n",
      "Epoch 6/10 - Train loss: 0.9004, Train acc: 0.6869 | Val loss: 2.0872, Val acc: 0.3327\n",
      "Epoch 7/10 - Train loss: 0.8352, Train acc: 0.7117 | Val loss: 3.0878, Val acc: 0.2461\n",
      "Epoch 8/10 - Train loss: 0.7702, Train acc: 0.7343 | Val loss: 4.2695, Val acc: 0.1304\n",
      "Epoch 9/10 - Train loss: 0.7045, Train acc: 0.7552 | Val loss: 3.8728, Val acc: 0.1871\n",
      "Epoch 10/10 - Train loss: 0.6305, Train acc: 0.7820 | Val loss: 5.6850, Val acc: 0.1131\n",
      "Test Loss: 5.6867, Test Accuracy: 0.1135\n",
      "Model saved successfully at Models_Pytorch_saved/model_Stochastic_hor_trained_saved.pth\n"
     ]
    }
   ],

   "execution_count": 15

  },
  {
   "metadata": {
    "ExecuteTime": {

     "end_time": "2025-03-31T15:51:59.075712Z",
     "start_time": "2025-03-31T15:49:38.485554Z"
    }
   },
   "cell_type": "code",
   "source": [
    "# Instantiate the model\n",
    "model_Stochastic_rot = StochasticDepthCNN(num_classes=10)\n",
    "# Train the model\n",
    "train_model(model_Stochastic_rot, train_loader_aug_rot, val_loader_aug_rot, num_epochs=10, lr=0.008)\n",
    "# Evaluate the model\n",
    "evaluate(model_Stochastic_rot, test_loader_aug_rot)\n",
    "# Save the model\n",
    "save_model(model_Stochastic_rot, \"Models_Pytorch_saved/model_Stochastic_rot_trained_saved.pth\")"
   ],
   "id": "e618dd8c0d2fd433",
   "outputs": [
    {
     "name": "stdout",
     "output_type": "stream",
     "text": [

      "Epoch 1/10 - Train loss: 1.8224, Train acc: 0.3588 | Val loss: 2.0286, Val acc: 0.2835\n",
      "Epoch 2/10 - Train loss: 1.3611, Train acc: 0.5172 | Val loss: 2.1819, Val acc: 0.3283\n",
      "Epoch 3/10 - Train loss: 1.1961, Train acc: 0.5809 | Val loss: 2.4455, Val acc: 0.3419\n",
      "Epoch 4/10 - Train loss: 1.0808, Train acc: 0.6230 | Val loss: 1.6648, Val acc: 0.4139\n",
      "Epoch 5/10 - Train loss: 0.9982, Train acc: 0.6544 | Val loss: 1.6354, Val acc: 0.4553\n",
      "Epoch 6/10 - Train loss: 0.9177, Train acc: 0.6800 | Val loss: 4.2989, Val acc: 0.1496\n",
      "Epoch 7/10 - Train loss: 0.8409, Train acc: 0.7108 | Val loss: 6.3339, Val acc: 0.1000\n",
      "Epoch 8/10 - Train loss: 0.7755, Train acc: 0.7296 | Val loss: 5.5547, Val acc: 0.1419\n",
      "Epoch 9/10 - Train loss: 0.7100, Train acc: 0.7551 | Val loss: 7.4505, Val acc: 0.1000\n",
      "Epoch 10/10 - Train loss: 0.6512, Train acc: 0.7737 | Val loss: 11.9559, Val acc: 0.1000\n",
      "Test Loss: 11.9484, Test Accuracy: 0.1000\n",
      "Model saved successfully at Models_Pytorch_saved/model_Stochastic_rot_trained_saved.pth\n"
     ]
    }
   ],
   "execution_count": 16

  }
 ],
 "metadata": {
  "kernelspec": {
   "display_name": "Python 3",
   "language": "python",
   "name": "python3"
  },
  "language_info": {
   "codemirror_mode": {
    "name": "ipython",
    "version": 2
   },
   "file_extension": ".py",
   "mimetype": "text/x-python",
   "name": "python",
   "nbconvert_exporter": "python",
   "pygments_lexer": "ipython2",
   "version": "2.7.6"
  }
 },
 "nbformat": 4,
 "nbformat_minor": 5
}
