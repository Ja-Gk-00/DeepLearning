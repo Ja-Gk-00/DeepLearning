{
 "cells": [
  {
   "cell_type": "markdown",
   "id": "1f3090f1",
   "metadata": {},
   "source": [
    "# Training and Evaluation for CINIC10 using SimpleCNN and OptimalCNN\n",
    "\n",
    "This notebook loads the converted dataset, trains the SimpleCNN model, and performs evaluation and inference on the validation set."
   ]
  },
  {
   "cell_type": "code",
   "id": "440dd3a7",
   "metadata": {
    "ExecuteTime": {
     "end_time": "2025-03-22T17:09:28.843616Z",
     "start_time": "2025-03-22T17:09:27.864801Z"
    }
   },
   "source": [
    "import os\n",
    "import torch\n",
    "import torch.optim as optim\n",
    "import torch.nn as nn\n",
    "\n",
    "from DataObjects import DataLoader\n",
    "from Architectures.SimpleCNN import SimpleCNN\n",
    "from Architectures.OptimalCNN import OptimalCNN\n",
    "from Architectures.StochasticDepthCNN import StochasticDepthCNN\n",
    "\n",
    "from typing import Optional, Tuple\n",
    "\n",
    "from utils import save_model, load_model"
   ],
   "outputs": [],
   "execution_count": 1
  },
  {
   "cell_type": "code",
   "id": "0945689d",
   "metadata": {
    "ExecuteTime": {
     "end_time": "2025-03-22T17:09:28.855679Z",
     "start_time": "2025-03-22T17:09:28.846963Z"
    }
   },
   "source": [
    "def train_model(model: nn.Module, train_loader: DataLoader, val_loader: DataLoader,\n",
    "                num_epochs: int = 10, lr: float = 0.001,\n",
    "                device: torch.device = None) -> None:\n",
    "    if device is None:\n",
    "        device = torch.device(\"cuda\" if torch.cuda.is_available() else \"cpu\")\n",
    "    model.to(device)\n",
    "    criterion: nn.Module = nn.CrossEntropyLoss()\n",
    "    optimizer: torch.optim.Optimizer = optim.Adam(model.parameters(), lr=lr)\n",
    "    \n",
    "    for epoch in range(num_epochs):\n",
    "        model.train()\n",
    "        train_loss: float = 0.0\n",
    "        train_correct: int = 0\n",
    "        total_train: int = 0\n",
    "        \n",
    "        for batch in train_loader:\n",
    "            inputs = batch.data.to(device)\n",
    "            labels = batch.labels.to(device)\n",
    "            optimizer.zero_grad()\n",
    "            outputs = model(inputs)\n",
    "            loss = criterion(outputs, labels)\n",
    "            loss.backward()\n",
    "            optimizer.step()\n",
    "            \n",
    "            train_loss += loss.item() * inputs.size(0)\n",
    "            _, preds = torch.max(outputs, 1)\n",
    "            train_correct += torch.sum(preds == labels).item()\n",
    "            total_train += labels.size(0)\n",
    "        \n",
    "        avg_train_loss = train_loss / total_train\n",
    "        train_acc = train_correct / total_train\n",
    "        \n",
    "        model.eval()\n",
    "        val_loss: float = 0.0\n",
    "        val_correct: int = 0\n",
    "        total_val: int = 0\n",
    "        \n",
    "        with torch.no_grad():\n",
    "            for batch in val_loader:\n",
    "                inputs = batch.data.to(device)\n",
    "                labels = batch.labels.to(device)\n",
    "                outputs = model(inputs)\n",
    "                loss = criterion(outputs, labels)\n",
    "                val_loss += loss.item() * inputs.size(0)\n",
    "                _, preds = torch.max(outputs, 1)\n",
    "                val_correct += torch.sum(preds == labels).item()\n",
    "                total_val += labels.size(0)\n",
    "        \n",
    "        avg_val_loss = val_loss / total_val\n",
    "        val_acc = val_correct / total_val\n",
    "        \n",
    "        print(f\"Epoch {epoch+1}/{num_epochs} - Train loss: {avg_train_loss:.4f}, Train acc: {train_acc:.4f} | Val loss: {avg_val_loss:.4f}, Val acc: {val_acc:.4f}\")\n",
    "\n",
    "def infer(model: nn.Module, data_loader: DataLoader,\n",
    "          device: torch.device = None) -> list:\n",
    "    if device is None:\n",
    "        device = torch.device(\"cuda\" if torch.cuda.is_available() else \"cpu\")\n",
    "    model.eval()\n",
    "    predictions: list = []\n",
    "    \n",
    "    with torch.no_grad():\n",
    "        for batch in data_loader:\n",
    "            inputs = batch.data.to(device)\n",
    "            outputs = model(inputs)\n",
    "            _, preds = torch.max(outputs, 1)\n",
    "            predictions.extend(preds.cpu().tolist())\n",
    "    \n",
    "    return predictions\n",
    "\n",
    "\n",
    "def evaluate(model: nn.Module,\n",
    "             test_loader: Optional[DataLoader] = None,\n",
    "             device: Optional[torch.device] = None) -> Tuple[float, float]:\n",
    "\n",
    "    if test_loader is None:\n",
    "        test_dir = os.path.join(\"Data\", \"Data_converted\", \"test\")\n",
    "        test_loader = DataLoader(test_dir, batch_size=64, shuffle=True)\n",
    "        \n",
    "    if device is None:\n",
    "        device = torch.device(\"cuda\" if torch.cuda.is_available() else \"cpu\")\n",
    "    \n",
    "    model.to(device)\n",
    "    criterion = nn.CrossEntropyLoss()\n",
    "    model.eval()\n",
    "    \n",
    "    test_loss = 0.0\n",
    "    test_correct = 0\n",
    "    total_test = 0\n",
    "    \n",
    "    with torch.no_grad():\n",
    "        for batch in test_loader:\n",
    "            inputs = batch.data.to(device)\n",
    "            labels = batch.labels.to(device)\n",
    "            outputs = model(inputs)\n",
    "            loss = criterion(outputs, labels)\n",
    "            test_loss += loss.item() * inputs.size(0)\n",
    "            _, preds = torch.max(outputs, 1)\n",
    "            test_correct += torch.sum(preds == labels).item()\n",
    "            total_test += labels.size(0)\n",
    "    \n",
    "    avg_test_loss = test_loss / total_test\n",
    "    test_acc = test_correct / total_test\n",
    "    \n",
    "    print(f\"Test Loss: {avg_test_loss:.4f}, Test Accuracy: {test_acc:.4f}\")\n",
    "    return avg_test_loss, test_acc\n"
   ],
   "outputs": [],
   "execution_count": 2
  },
  {
   "cell_type": "code",
   "id": "ee232775",
   "metadata": {
    "ExecuteTime": {
     "end_time": "2025-03-22T17:09:29.087811Z",
     "start_time": "2025-03-22T17:09:28.955354Z"
    }
   },
   "source": [
    "# Setup directories and DataLoaders\n",
    "train_dir = os.path.join(\"Data\", \"Data_converted\", \"train\")\n",
    "val_dir = os.path.join(\"Data\", \"Data_converted\", \"valid\")\n",
    "\n",
    "train_loader = DataLoader(train_dir, batch_size=64, shuffle=True, max_per_class=150)\n",
    "val_loader = DataLoader(val_dir, batch_size=64, shuffle=False, max_per_class=150) \n",
    "\n",
    "# Instantiate the model\n",
    "model = SimpleCNN(num_classes=10)"
   ],
   "outputs": [],
   "execution_count": 3
  },
  {
   "cell_type": "code",
   "id": "b96dd00a",
   "metadata": {
    "ExecuteTime": {
     "end_time": "2025-03-22T17:09:35.427820Z",
     "start_time": "2025-03-22T17:09:29.094476Z"
    }
   },
   "source": [
    "# Train the model\n",
    "train_model(model, train_loader, val_loader, num_epochs=10, lr=0.001)"
   ],
   "outputs": [
    {
     "name": "stdout",
     "output_type": "stream",
     "text": [
      "Epoch 1/10 - Train loss: 6.6857, Train acc: 0.1033 | Val loss: 2.3000, Val acc: 0.1080\n",
      "Epoch 2/10 - Train loss: 2.2259, Train acc: 0.1673 | Val loss: 2.1438, Val acc: 0.2213\n",
      "Epoch 3/10 - Train loss: 1.9777, Train acc: 0.3020 | Val loss: 2.0973, Val acc: 0.2513\n",
      "Epoch 4/10 - Train loss: 1.6652, Train acc: 0.4280 | Val loss: 2.1132, Val acc: 0.2747\n",
      "Epoch 5/10 - Train loss: 1.4246, Train acc: 0.5160 | Val loss: 2.2301, Val acc: 0.2840\n",
      "Epoch 6/10 - Train loss: 1.1182, Train acc: 0.6227 | Val loss: 2.3942, Val acc: 0.3127\n",
      "Epoch 7/10 - Train loss: 0.8696, Train acc: 0.7127 | Val loss: 2.4653, Val acc: 0.3133\n",
      "Epoch 8/10 - Train loss: 0.6512, Train acc: 0.7840 | Val loss: 2.7072, Val acc: 0.3087\n",
      "Epoch 9/10 - Train loss: 0.4566, Train acc: 0.8667 | Val loss: 3.0975, Val acc: 0.3307\n",
      "Epoch 10/10 - Train loss: 0.3268, Train acc: 0.8920 | Val loss: 3.5846, Val acc: 0.3347\n"
     ]
    }
   ],
   "execution_count": 4
  },
  {
   "cell_type": "code",
   "id": "189aca2c",
   "metadata": {
    "ExecuteTime": {
     "end_time": "2025-03-22T17:09:57.071985Z",
     "start_time": "2025-03-22T17:09:35.433384Z"
    }
   },
   "source": [
    "test_dir = os.path.join(\"Data\", \"Data_converted\", \"test\")\n",
    "test_loader = DataLoader(test_dir, batch_size=64, shuffle=False)\n",
    "device = torch.device(\"cuda\" if torch.cuda.is_available() else \"cpu\")\n",
    "model.to(device)\n",
    "\n",
    "criterion = nn.CrossEntropyLoss()\n",
    "\n",
    "model.eval()\n",
    "test_loss = 0.0\n",
    "test_correct = 0\n",
    "total_test = 0\n",
    "\n",
    "with torch.no_grad():\n",
    "    for batch in test_loader:\n",
    "        inputs = batch.data.to(device)\n",
    "        labels = batch.labels.to(device)\n",
    "        outputs = model(inputs)\n",
    "        loss = criterion(outputs, labels)\n",
    "        test_loss += loss.item() * inputs.size(0)\n",
    "        _, preds = torch.max(outputs, 1)\n",
    "        test_correct += torch.sum(preds == labels).item()\n",
    "        total_test += labels.size(0)\n",
    "\n",
    "avg_test_loss = test_loss / total_test\n",
    "test_acc = test_correct / total_test\n",
    "\n",
    "print(f\"Test Loss: {avg_test_loss:.4f}, Test Accuracy: {test_acc:.4f}\")\n"
   ],
   "outputs": [
    {
     "name": "stdout",
     "output_type": "stream",
     "text": [
      "Test Loss: 4.4494, Test Accuracy: 0.2675\n"
     ]
    }
   ],
   "execution_count": 5
  },
  {
   "cell_type": "code",
   "id": "52e5fbd7",
   "metadata": {
    "ExecuteTime": {
     "end_time": "2025-03-22T17:09:57.420646Z",
     "start_time": "2025-03-22T17:09:57.165850Z"
    }
   },
   "source": [
    "# Full training\n",
    "train_loader_full = DataLoader(train_dir, batch_size=64, shuffle=True)\n",
    "val_loader_full = DataLoader(val_dir, batch_size=64, shuffle=False) \n",
    "\n",
    "# Instantiate the model\n",
    "model_2 = SimpleCNN(num_classes=10)"
   ],
   "outputs": [],
   "execution_count": 6
  },
  {
   "cell_type": "code",
   "id": "159fc1d1",
   "metadata": {
    "ExecuteTime": {
     "end_time": "2025-03-22T17:10:02.107296Z",
     "start_time": "2025-03-22T17:09:57.424624Z"
    }
   },
   "source": [
    "# Train the model\n",
    "train_model(model_2, train_loader, val_loader, num_epochs=10, lr=0.001)"
   ],
   "outputs": [
    {
     "name": "stdout",
     "output_type": "stream",
     "text": [
      "Epoch 1/10 - Train loss: 10.2835, Train acc: 0.1120 | Val loss: 2.2460, Val acc: 0.1753\n",
      "Epoch 2/10 - Train loss: 2.0958, Train acc: 0.2527 | Val loss: 2.0453, Val acc: 0.2393\n",
      "Epoch 3/10 - Train loss: 1.8051, Train acc: 0.3533 | Val loss: 1.9665, Val acc: 0.2880\n",
      "Epoch 4/10 - Train loss: 1.5452, Train acc: 0.4680 | Val loss: 1.9917, Val acc: 0.2867\n",
      "Epoch 5/10 - Train loss: 1.3262, Train acc: 0.5400 | Val loss: 2.0860, Val acc: 0.3040\n",
      "Epoch 6/10 - Train loss: 1.0859, Train acc: 0.6340 | Val loss: 2.2698, Val acc: 0.3220\n",
      "Epoch 7/10 - Train loss: 0.9261, Train acc: 0.6867 | Val loss: 2.3528, Val acc: 0.3187\n",
      "Epoch 8/10 - Train loss: 0.7389, Train acc: 0.7660 | Val loss: 2.5201, Val acc: 0.3380\n",
      "Epoch 9/10 - Train loss: 0.6293, Train acc: 0.7967 | Val loss: 2.7999, Val acc: 0.3373\n",
      "Epoch 10/10 - Train loss: 0.4693, Train acc: 0.8620 | Val loss: 2.8354, Val acc: 0.3347\n"
     ]
    }
   ],
   "execution_count": 7
  },
  {
   "cell_type": "code",
   "id": "fb95a77e",
   "metadata": {
    "ExecuteTime": {
     "end_time": "2025-03-22T17:10:15.694611Z",
     "start_time": "2025-03-22T17:10:02.121273Z"
    }
   },
   "source": [
    "device = torch.device(\"cuda\" if torch.cuda.is_available() else \"cpu\")\n",
    "model_2.to(device)\n",
    "\n",
    "criterion = nn.CrossEntropyLoss()\n",
    "\n",
    "model_2.eval()\n",
    "test_loss = 0.0\n",
    "test_correct = 0\n",
    "total_test = 0\n",
    "\n",
    "with torch.no_grad():\n",
    "    for batch in test_loader:\n",
    "        inputs = batch.data.to(device)\n",
    "        labels = batch.labels.to(device)\n",
    "        outputs = model(inputs)\n",
    "        loss = criterion(outputs, labels)\n",
    "        test_loss += loss.item() * inputs.size(0)\n",
    "        _, preds = torch.max(outputs, 1)\n",
    "        test_correct += torch.sum(preds == labels).item()\n",
    "        total_test += labels.size(0)\n",
    "\n",
    "avg_test_loss = test_loss / total_test\n",
    "test_acc = test_correct / total_test\n",
    "\n",
    "print(f\"Test Loss: {avg_test_loss:.4f}, Test Accuracy: {test_acc:.4f}\")\n"
   ],
   "outputs": [
    {
     "name": "stdout",
     "output_type": "stream",
     "text": [
      "Test Loss: 4.4494, Test Accuracy: 0.2675\n"
     ]
    }
   ],
   "execution_count": 8
  },
  {
   "cell_type": "code",
   "id": "a23077da",
   "metadata": {
    "ExecuteTime": {
     "end_time": "2025-03-22T17:10:15.732806Z",
     "start_time": "2025-03-22T17:10:15.709917Z"
    }
   },
   "source": [
    "## Different architecture\n",
    "model_Optimal = OptimalCNN(num_classes=10)\n",
    "model_Stochastic = StochasticDepthCNN(num_classes=10)"
   ],
   "outputs": [],
   "execution_count": 9
  },
  {
   "cell_type": "code",
   "id": "154842b2",
   "metadata": {
    "ExecuteTime": {
     "end_time": "2025-03-22T17:22:10.730702Z",
     "start_time": "2025-03-22T17:10:15.747525Z"
    }
   },
   "source": [
    "# Train the model\n",
    "# On full set, it trains for really long time, reserve around 6 hours or reduce the size of the training set\n",
    "train_model(model_Optimal, train_loader_full, val_loader_full, num_epochs=20, lr=0.005)"
   ],
   "outputs": [
    {
     "name": "stdout",
     "output_type": "stream",
     "text": [
      "Epoch 1/20 - Train loss: 1.4979, Train acc: 0.4528 | Val loss: 1.3284, Val acc: 0.5117\n",
      "Epoch 2/20 - Train loss: 1.2171, Train acc: 0.5647 | Val loss: 1.1851, Val acc: 0.5766\n",
      "Epoch 3/20 - Train loss: 1.0974, Train acc: 0.6120 | Val loss: 1.0521, Val acc: 0.6255\n",
      "Epoch 4/20 - Train loss: 1.0052, Train acc: 0.6463 | Val loss: 1.0027, Val acc: 0.6413\n",
      "Epoch 5/20 - Train loss: 0.9302, Train acc: 0.6721 | Val loss: 1.0255, Val acc: 0.6427\n",
      "Epoch 6/20 - Train loss: 0.8679, Train acc: 0.6934 | Val loss: 0.9478, Val acc: 0.6678\n",
      "Epoch 7/20 - Train loss: 0.8046, Train acc: 0.7162 | Val loss: 0.9418, Val acc: 0.6706\n",
      "Epoch 8/20 - Train loss: 0.7543, Train acc: 0.7333 | Val loss: 0.9796, Val acc: 0.6721\n",
      "Epoch 9/20 - Train loss: 0.6992, Train acc: 0.7535 | Val loss: 0.8934, Val acc: 0.6893\n",
      "Epoch 10/20 - Train loss: 0.6532, Train acc: 0.7677 | Val loss: 0.9709, Val acc: 0.6800\n",
      "Epoch 11/20 - Train loss: 0.6048, Train acc: 0.7846 | Val loss: 0.9759, Val acc: 0.6817\n",
      "Epoch 12/20 - Train loss: 0.5645, Train acc: 0.7992 | Val loss: 0.9702, Val acc: 0.6841\n",
      "Epoch 13/20 - Train loss: 0.5277, Train acc: 0.8118 | Val loss: 0.9972, Val acc: 0.6884\n",
      "Epoch 14/20 - Train loss: 0.4899, Train acc: 0.8248 | Val loss: 1.0535, Val acc: 0.6828\n",
      "Epoch 15/20 - Train loss: 0.4593, Train acc: 0.8367 | Val loss: 1.0616, Val acc: 0.6806\n",
      "Epoch 16/20 - Train loss: 0.4296, Train acc: 0.8464 | Val loss: 1.1405, Val acc: 0.6835\n",
      "Epoch 17/20 - Train loss: 0.4033, Train acc: 0.8553 | Val loss: 1.1572, Val acc: 0.6816\n",
      "Epoch 18/20 - Train loss: 0.3838, Train acc: 0.8633 | Val loss: 1.1912, Val acc: 0.6768\n",
      "Epoch 19/20 - Train loss: 0.3557, Train acc: 0.8745 | Val loss: 1.1989, Val acc: 0.6837\n",
      "Epoch 20/20 - Train loss: 0.3364, Train acc: 0.8796 | Val loss: 1.2452, Val acc: 0.6818\n"
     ]
    }
   ],
   "execution_count": 10
  },
  {
   "metadata": {
    "ExecuteTime": {
     "end_time": "2025-03-22T17:22:10.788988Z",
     "start_time": "2025-03-22T17:22:10.787316Z"
    }
   },
   "cell_type": "code",
   "source": "# train_model(model_Stochastic, train_loader_full, val_loader_full, num_epochs=10, lr=0.001)",
   "id": "10256a4113de10ae",
   "outputs": [],
   "execution_count": 11
  },
  {
   "cell_type": "code",
   "id": "579b1b63",
   "metadata": {
    "ExecuteTime": {
     "end_time": "2025-03-22T17:22:25.426452Z",
     "start_time": "2025-03-22T17:22:10.830128Z"
    }
   },
   "source": [
    "# Evaluate\n",
    "evaluate(model_Optimal, test_loader)"
   ],
   "outputs": [
    {
     "name": "stdout",
     "output_type": "stream",
     "text": [
      "Test Loss: 1.2586, Test Accuracy: 0.6792\n"
     ]
    },
    {
     "data": {
      "text/plain": [
       "(1.2585868682649402, 0.6792111111111111)"
      ]
     },
     "execution_count": 12,
     "metadata": {},
     "output_type": "execute_result"
    }
   ],
   "execution_count": 12
  },
  {
   "metadata": {
    "ExecuteTime": {
     "end_time": "2025-03-22T17:22:40.296656Z",
     "start_time": "2025-03-22T17:22:25.439876Z"
    }
   },
   "cell_type": "code",
   "source": "evaluate(model_Stochastic, test_loader)",
   "id": "73b9e8b18aa0c024",
   "outputs": [
    {
     "name": "stdout",
     "output_type": "stream",
     "text": [
      "Test Loss: 2.3101, Test Accuracy: 0.0899\n"
     ]
    },
    {
     "data": {
      "text/plain": [
       "(2.3100872038947213, 0.08987777777777778)"
      ]
     },
     "execution_count": 13,
     "metadata": {},
     "output_type": "execute_result"
    }
   ],
   "execution_count": 13
  },
  {
   "cell_type": "code",
   "id": "b7c19941",
   "metadata": {
    "ExecuteTime": {
     "end_time": "2025-03-22T17:22:40.349265Z",
     "start_time": "2025-03-22T17:22:40.340910Z"
    }
   },
   "source": [
    "# Saving model into the pytorch format\n",
    "save_model(model_Optimal, \"Models_Pytorch_saved/OptimalCNN_trained_saved.pth\")"
   ],
   "outputs": [
    {
     "name": "stdout",
     "output_type": "stream",
     "text": [
      "Model saved successfully at Models_Pytorch_saved/OptimalCNN_trained_saved.pth\n"
     ]
    }
   ],
   "execution_count": 14
  },
  {
   "cell_type": "code",
   "id": "31050ca9",
   "metadata": {
    "ExecuteTime": {
     "end_time": "2025-03-22T17:22:40.397246Z",
     "start_time": "2025-03-22T17:22:40.389138Z"
    }
   },
   "source": [
    "# Now load it\n",
    "model_Optimal_loaded = load_model(\"Models_Pytorch_saved/OptimalCNN_trained_saved.pth\")"
   ],
   "outputs": [
    {
     "name": "stdout",
     "output_type": "stream",
     "text": [
      "Model loaded successfully from Models_Pytorch_saved/OptimalCNN_trained_saved.pth\n"
     ]
    }
   ],
   "execution_count": 15
  },
  {
   "cell_type": "code",
   "id": "e2d2e838",
   "metadata": {
    "ExecuteTime": {
     "end_time": "2025-03-22T17:22:54.895231Z",
     "start_time": "2025-03-22T17:22:40.434443Z"
    }
   },
   "source": [
    "# Check if evaluated the same with the loaded model\n",
    "evaluate(model_Optimal_loaded, test_loader)\n",
    "# yes!"
   ],
   "outputs": [
    {
     "name": "stdout",
     "output_type": "stream",
     "text": [
      "Test Loss: 1.2586, Test Accuracy: 0.6792\n"
     ]
    },
    {
     "data": {
      "text/plain": [
       "(1.2585868682649402, 0.6792111111111111)"
      ]
     },
     "execution_count": 16,
     "metadata": {},
     "output_type": "execute_result"
    }
   ],
   "execution_count": 16
  },
  {
   "cell_type": "code",
   "id": "2e9ab73b",
   "metadata": {
    "ExecuteTime": {
     "end_time": "2025-03-22T17:22:54.911794Z",
     "start_time": "2025-03-22T17:22:54.910311Z"
    }
   },
   "source": [],
   "outputs": [],
   "execution_count": null
  }
 ],
 "metadata": {
  "kernelspec": {
   "display_name": "Python 3",
   "language": "python",
   "name": "python3"
  },
  "language_info": {
   "codemirror_mode": {
    "name": "ipython",
    "version": 3
   },
   "file_extension": ".py",
   "mimetype": "text/x-python",
   "name": "python",
   "nbconvert_exporter": "python",
   "pygments_lexer": "ipython3",
   "version": "3.10.5"
  }
 },
 "nbformat": 4,
 "nbformat_minor": 5
}
