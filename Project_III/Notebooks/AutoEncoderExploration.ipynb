{
 "cells": [
  {
   "metadata": {
    "ExecuteTime": {
     "end_time": "2025-06-09T12:26:19.456900Z",
     "start_time": "2025-06-09T12:26:19.453939Z"
    }
   },
   "cell_type": "code",
   "source": [
    "import torch\n",
    "import torchvision\n",
    "from Architectures.ConvolutionalAutoEncoder import ConvVAE\n",
    "from Architectures.EnhancedVAE import EnhancedConvVAE\n",
    "from Architectures.VAE_utilis import *\n",
    "from DataObjects.DataLoader import DataLoader\n",
    "import os"
   ],
   "id": "c480a67a17243b8c",
   "outputs": [],
   "execution_count": 8
  },
  {
   "metadata": {
    "ExecuteTime": {
     "end_time": "2025-06-09T12:26:19.507898Z",
     "start_time": "2025-06-09T12:26:19.504367Z"
    }
   },
   "cell_type": "code",
   "source": "torch.manual_seed(34)",
   "id": "81fe0a5e7f1c5f03",
   "outputs": [
    {
     "data": {
      "text/plain": [
       "<torch._C.Generator at 0x7b960aec1ed0>"
      ]
     },
     "execution_count": 9,
     "metadata": {},
     "output_type": "execute_result"
    }
   ],
   "execution_count": 9
  },
  {
   "metadata": {
    "ExecuteTime": {
     "end_time": "2025-06-09T12:26:19.554288Z",
     "start_time": "2025-06-09T12:26:19.552134Z"
    }
   },
   "cell_type": "code",
   "source": [
    "device = torch.device(\"cuda\" if torch.cuda.is_available() else \"cpu\")\n",
    "print(f\"Using device: {device}\")"
   ],
   "id": "a06729502a05d05c",
   "outputs": [
    {
     "name": "stdout",
     "output_type": "stream",
     "text": [
      "Using device: cuda\n"
     ]
    }
   ],
   "execution_count": 10
  },
  {
   "metadata": {
    "ExecuteTime": {
     "end_time": "2025-06-09T12:26:19.602392Z",
     "start_time": "2025-06-09T12:26:19.599956Z"
    }
   },
   "cell_type": "code",
   "source": [
    "# Get the current directory of the script (DataObjects)\n",
    "current_script_dir = os.getcwd()\n",
    "\n",
    "# Go up one level to the project root\n",
    "project_root = os.path.dirname(current_script_dir)\n",
    "\n",
    "data_dir = os.path.join(project_root, 'data', 'downscaled')"
   ],
   "id": "deac0e8dd5fd78be",
   "outputs": [],
   "execution_count": 11
  },
  {
   "metadata": {
    "ExecuteTime": {
     "end_time": "2025-06-09T12:26:27.333666Z",
     "start_time": "2025-06-09T12:26:19.645988Z"
    }
   },
   "cell_type": "code",
   "source": [
    "batch_size = 32\n",
    "\n",
    "Data_cats = DataLoader(data_dir , batch_size=batch_size, shuffle=True)\n",
    "print(f\"Number of cat batches: {len(Data_cats)}\")\n",
    "Data_dogs = DataLoader(data_dir + '/dog/', batch_size=batch_size, shuffle=True)\n",
    "print(f\"Number of dog batches: {len(Data_dogs)}\")"
   ],
   "id": "806905b322c3b7d0",
   "outputs": [
    {
     "name": "stdout",
     "output_type": "stream",
     "text": [
      "Number of cat batches: 933\n",
      "Number of dog batches: 0\n"
     ]
    }
   ],
   "execution_count": 12
  },
  {
   "metadata": {
    "ExecuteTime": {
     "end_time": "2025-06-09T12:28:08.099850Z",
     "start_time": "2025-06-09T12:26:27.340643Z"
    }
   },
   "cell_type": "code",
   "source": [
    "epochs = 20\n",
    "\n",
    "device = torch.device(\"cuda\" if torch.cuda.is_available() else \"cpu\")\n",
    "model = ConvVAE.from_pretrained(device)\n",
    "\n",
    "model.train_architecture(Data_cats, epochs)\n",
    "model.save_model(f\"../Saved_Models/cae_model.pt\")\n"
   ],
   "id": "39674a680202ceb3",
   "outputs": [
    {
     "name": "stdout",
     "output_type": "stream",
     "text": [
      "VAE initialized on device: cuda\n",
      "First conv layer device: cuda:0\n",
      "VAE model moved to device: cuda\n",
      "VAE model parameters on device: cuda:0\n",
      "Epoch [1/20], Batch [0/933], Total Loss: 13.4706, Recon Loss: 0.6830, KL Loss: 12.7876\n",
      "Epoch [1/20], Batch [100/933], Total Loss: 0.2353, Recon Loss: 0.0736, KL Loss: 0.1617\n",
      "Epoch [1/20], Batch [200/933], Total Loss: 0.1540, Recon Loss: 0.0583, KL Loss: 0.0957\n",
      "Epoch [1/20], Batch [300/933], Total Loss: 0.1083, Recon Loss: 0.0644, KL Loss: 0.0439\n",
      "Epoch [1/20], Batch [400/933], Total Loss: 0.0907, Recon Loss: 0.0591, KL Loss: 0.0316\n",
      "Epoch [1/20], Batch [500/933], Total Loss: 0.1144, Recon Loss: 0.0618, KL Loss: 0.0526\n",
      "Epoch [1/20], Batch [600/933], Total Loss: 0.0929, Recon Loss: 0.0592, KL Loss: 0.0338\n",
      "Epoch [1/20], Batch [700/933], Total Loss: 0.1027, Recon Loss: 0.0599, KL Loss: 0.0427\n",
      "Epoch [1/20], Batch [800/933], Total Loss: 0.0903, Recon Loss: 0.0537, KL Loss: 0.0366\n",
      "Epoch [1/20], Batch [900/933], Total Loss: 0.1014, Recon Loss: 0.0536, KL Loss: 0.0478\n",
      "Epoch [1/20] completed, Avg Total Loss: 0.2982, Avg Recon Loss: 0.0736, Avg KL Loss: 0.2245\n",
      "Epoch [2/20], Batch [0/933], Total Loss: 0.0908, Recon Loss: 0.0602, KL Loss: 0.0305\n",
      "Epoch [2/20], Batch [100/933], Total Loss: 0.0866, Recon Loss: 0.0595, KL Loss: 0.0271\n",
      "Epoch [2/20], Batch [200/933], Total Loss: 0.0830, Recon Loss: 0.0534, KL Loss: 0.0296\n",
      "Epoch [2/20], Batch [300/933], Total Loss: 0.0995, Recon Loss: 0.0640, KL Loss: 0.0355\n",
      "Epoch [2/20], Batch [400/933], Total Loss: 0.0960, Recon Loss: 0.0587, KL Loss: 0.0373\n",
      "Epoch [2/20], Batch [500/933], Total Loss: 0.1094, Recon Loss: 0.0605, KL Loss: 0.0489\n",
      "Epoch [2/20], Batch [600/933], Total Loss: 0.1147, Recon Loss: 0.0590, KL Loss: 0.0558\n",
      "Epoch [2/20], Batch [700/933], Total Loss: 0.1288, Recon Loss: 0.0600, KL Loss: 0.0688\n",
      "Epoch [2/20], Batch [800/933], Total Loss: 0.1002, Recon Loss: 0.0540, KL Loss: 0.0462\n",
      "Epoch [2/20], Batch [900/933], Total Loss: 0.1426, Recon Loss: 0.0534, KL Loss: 0.0892\n",
      "Epoch [2/20] completed, Avg Total Loss: 0.1237, Avg Recon Loss: 0.0629, Avg KL Loss: 0.0608\n",
      "Epoch [3/20], Batch [0/933], Total Loss: 0.1159, Recon Loss: 0.0601, KL Loss: 0.0558\n",
      "Epoch [3/20], Batch [100/933], Total Loss: 0.0940, Recon Loss: 0.0584, KL Loss: 0.0357\n",
      "Epoch [3/20], Batch [200/933], Total Loss: 0.0821, Recon Loss: 0.0532, KL Loss: 0.0288\n",
      "Epoch [3/20], Batch [300/933], Total Loss: 0.1485, Recon Loss: 0.0637, KL Loss: 0.0848\n",
      "Epoch [3/20], Batch [400/933], Total Loss: 0.0856, Recon Loss: 0.0585, KL Loss: 0.0271\n",
      "Epoch [3/20], Batch [500/933], Total Loss: 0.1117, Recon Loss: 0.0610, KL Loss: 0.0508\n",
      "Epoch [3/20], Batch [600/933], Total Loss: 0.0910, Recon Loss: 0.0591, KL Loss: 0.0318\n",
      "Epoch [3/20], Batch [700/933], Total Loss: 0.1003, Recon Loss: 0.0598, KL Loss: 0.0405\n",
      "Epoch [3/20], Batch [800/933], Total Loss: 0.1007, Recon Loss: 0.0540, KL Loss: 0.0467\n",
      "Epoch [3/20], Batch [900/933], Total Loss: 0.1255, Recon Loss: 0.0534, KL Loss: 0.0721\n",
      "Epoch [3/20] completed, Avg Total Loss: 0.1193, Avg Recon Loss: 0.0627, Avg KL Loss: 0.0565\n",
      "Epoch [4/20], Batch [0/933], Total Loss: 0.1314, Recon Loss: 0.0596, KL Loss: 0.0717\n",
      "Epoch [4/20], Batch [100/933], Total Loss: 0.1063, Recon Loss: 0.0586, KL Loss: 0.0476\n",
      "Epoch [4/20], Batch [200/933], Total Loss: 0.0829, Recon Loss: 0.0531, KL Loss: 0.0298\n",
      "Epoch [4/20], Batch [300/933], Total Loss: 0.2117, Recon Loss: 0.0635, KL Loss: 0.1482\n",
      "Epoch [4/20], Batch [400/933], Total Loss: 0.0839, Recon Loss: 0.0583, KL Loss: 0.0255\n",
      "Epoch [4/20], Batch [500/933], Total Loss: 0.1036, Recon Loss: 0.0609, KL Loss: 0.0427\n",
      "Epoch [4/20], Batch [600/933], Total Loss: 0.0783, Recon Loss: 0.0590, KL Loss: 0.0193\n",
      "Epoch [4/20], Batch [700/933], Total Loss: 0.0912, Recon Loss: 0.0595, KL Loss: 0.0317\n",
      "Epoch [4/20], Batch [800/933], Total Loss: 0.0886, Recon Loss: 0.0541, KL Loss: 0.0345\n",
      "Epoch [4/20], Batch [900/933], Total Loss: 0.0748, Recon Loss: 0.0531, KL Loss: 0.0217\n",
      "Epoch [4/20] completed, Avg Total Loss: 0.1186, Avg Recon Loss: 0.0627, Avg KL Loss: 0.0559\n",
      "Epoch [5/20], Batch [0/933], Total Loss: 0.0953, Recon Loss: 0.0594, KL Loss: 0.0359\n",
      "Epoch [5/20], Batch [100/933], Total Loss: 0.0788, Recon Loss: 0.0588, KL Loss: 0.0200\n",
      "Epoch [5/20], Batch [200/933], Total Loss: 0.0753, Recon Loss: 0.0530, KL Loss: 0.0224\n",
      "Epoch [5/20], Batch [300/933], Total Loss: 0.1434, Recon Loss: 0.0636, KL Loss: 0.0798\n",
      "Epoch [5/20], Batch [400/933], Total Loss: 0.0663, Recon Loss: 0.0585, KL Loss: 0.0077\n",
      "Epoch [5/20], Batch [500/933], Total Loss: 0.0666, Recon Loss: 0.0608, KL Loss: 0.0058\n",
      "Epoch [5/20], Batch [600/933], Total Loss: 0.0645, Recon Loss: 0.0590, KL Loss: 0.0055\n",
      "Epoch [5/20], Batch [700/933], Total Loss: 0.0697, Recon Loss: 0.0594, KL Loss: 0.0103\n",
      "Epoch [5/20], Batch [800/933], Total Loss: 0.0615, Recon Loss: 0.0539, KL Loss: 0.0076\n",
      "Epoch [5/20], Batch [900/933], Total Loss: 0.0593, Recon Loss: 0.0534, KL Loss: 0.0060\n",
      "Epoch [5/20] completed, Avg Total Loss: 0.0827, Avg Recon Loss: 0.0626, Avg KL Loss: 0.0201\n",
      "Epoch [6/20], Batch [0/933], Total Loss: 0.0730, Recon Loss: 0.0596, KL Loss: 0.0134\n",
      "Epoch [6/20], Batch [100/933], Total Loss: 0.0607, Recon Loss: 0.0584, KL Loss: 0.0022\n",
      "Epoch [6/20], Batch [200/933], Total Loss: 0.0581, Recon Loss: 0.0529, KL Loss: 0.0052\n",
      "Epoch [6/20], Batch [300/933], Total Loss: 0.0661, Recon Loss: 0.0633, KL Loss: 0.0028\n",
      "Epoch [6/20], Batch [400/933], Total Loss: 0.0631, Recon Loss: 0.0584, KL Loss: 0.0047\n",
      "Epoch [6/20], Batch [500/933], Total Loss: 0.0648, Recon Loss: 0.0608, KL Loss: 0.0039\n",
      "Epoch [6/20], Batch [600/933], Total Loss: 0.0667, Recon Loss: 0.0588, KL Loss: 0.0079\n",
      "Epoch [6/20], Batch [700/933], Total Loss: 0.1672, Recon Loss: 0.0593, KL Loss: 0.1079\n",
      "Epoch [6/20], Batch [800/933], Total Loss: 0.0656, Recon Loss: 0.0540, KL Loss: 0.0116\n",
      "Epoch [6/20], Batch [900/933], Total Loss: 2.5944, Recon Loss: 0.0532, KL Loss: 2.5412\n",
      "Epoch [6/20] completed, Avg Total Loss: 0.1065, Avg Recon Loss: 0.0626, Avg KL Loss: 0.0439\n",
      "Epoch [7/20], Batch [0/933], Total Loss: 0.1059, Recon Loss: 0.0596, KL Loss: 0.0463\n",
      "Epoch [7/20], Batch [100/933], Total Loss: 0.0680, Recon Loss: 0.0584, KL Loss: 0.0096\n",
      "Epoch [7/20], Batch [200/933], Total Loss: 0.0571, Recon Loss: 0.0530, KL Loss: 0.0041\n",
      "Epoch [7/20], Batch [300/933], Total Loss: 0.0694, Recon Loss: 0.0637, KL Loss: 0.0057\n",
      "Epoch [7/20], Batch [400/933], Total Loss: 0.0679, Recon Loss: 0.0586, KL Loss: 0.0093\n",
      "Epoch [7/20], Batch [500/933], Total Loss: 0.0631, Recon Loss: 0.0608, KL Loss: 0.0023\n",
      "Epoch [7/20], Batch [600/933], Total Loss: 0.0607, Recon Loss: 0.0587, KL Loss: 0.0020\n",
      "Epoch [7/20], Batch [700/933], Total Loss: 0.0646, Recon Loss: 0.0593, KL Loss: 0.0053\n",
      "Epoch [7/20], Batch [800/933], Total Loss: 0.0699, Recon Loss: 0.0540, KL Loss: 0.0159\n",
      "Epoch [7/20], Batch [900/933], Total Loss: 0.0602, Recon Loss: 0.0533, KL Loss: 0.0069\n",
      "Epoch [7/20] completed, Avg Total Loss: 0.0877, Avg Recon Loss: 0.0626, Avg KL Loss: 0.0251\n",
      "Epoch [8/20], Batch [0/933], Total Loss: 0.0613, Recon Loss: 0.0598, KL Loss: 0.0016\n",
      "Epoch [8/20], Batch [100/933], Total Loss: 0.0607, Recon Loss: 0.0584, KL Loss: 0.0023\n",
      "Epoch [8/20], Batch [200/933], Total Loss: 0.0544, Recon Loss: 0.0531, KL Loss: 0.0012\n",
      "Epoch [8/20], Batch [300/933], Total Loss: 0.0642, Recon Loss: 0.0635, KL Loss: 0.0007\n",
      "Epoch [8/20], Batch [400/933], Total Loss: 0.0659, Recon Loss: 0.0586, KL Loss: 0.0073\n",
      "Epoch [8/20], Batch [500/933], Total Loss: 0.0616, Recon Loss: 0.0608, KL Loss: 0.0009\n",
      "Epoch [8/20], Batch [600/933], Total Loss: 0.0599, Recon Loss: 0.0584, KL Loss: 0.0015\n",
      "Epoch [8/20], Batch [700/933], Total Loss: 0.0644, Recon Loss: 0.0591, KL Loss: 0.0053\n",
      "Epoch [8/20], Batch [800/933], Total Loss: 0.0575, Recon Loss: 0.0539, KL Loss: 0.0036\n",
      "Epoch [8/20], Batch [900/933], Total Loss: 0.0552, Recon Loss: 0.0533, KL Loss: 0.0019\n",
      "Epoch [8/20] completed, Avg Total Loss: 0.0692, Avg Recon Loss: 0.0625, Avg KL Loss: 0.0067\n",
      "Epoch [9/20], Batch [0/933], Total Loss: 0.0601, Recon Loss: 0.0597, KL Loss: 0.0004\n",
      "Epoch [9/20], Batch [100/933], Total Loss: 0.0591, Recon Loss: 0.0582, KL Loss: 0.0009\n",
      "Epoch [9/20], Batch [200/933], Total Loss: 0.0536, Recon Loss: 0.0532, KL Loss: 0.0003\n",
      "Epoch [9/20], Batch [300/933], Total Loss: 0.0639, Recon Loss: 0.0636, KL Loss: 0.0003\n",
      "Epoch [9/20], Batch [400/933], Total Loss: 0.0617, Recon Loss: 0.0588, KL Loss: 0.0029\n",
      "Epoch [9/20], Batch [500/933], Total Loss: 0.0611, Recon Loss: 0.0608, KL Loss: 0.0003\n",
      "Epoch [9/20], Batch [600/933], Total Loss: 0.0742, Recon Loss: 0.0583, KL Loss: 0.0159\n",
      "Epoch [9/20], Batch [700/933], Total Loss: 0.0623, Recon Loss: 0.0589, KL Loss: 0.0034\n",
      "Epoch [9/20], Batch [800/933], Total Loss: 0.0557, Recon Loss: 0.0539, KL Loss: 0.0018\n",
      "Epoch [9/20], Batch [900/933], Total Loss: 0.0599, Recon Loss: 0.0531, KL Loss: 0.0068\n",
      "Epoch [9/20] completed, Avg Total Loss: 0.0741, Avg Recon Loss: 0.0625, Avg KL Loss: 0.0116\n",
      "Epoch [10/20], Batch [0/933], Total Loss: 0.0598, Recon Loss: 0.0596, KL Loss: 0.0002\n",
      "Epoch [10/20], Batch [100/933], Total Loss: 0.0587, Recon Loss: 0.0584, KL Loss: 0.0003\n",
      "Epoch [10/20], Batch [200/933], Total Loss: 0.0535, Recon Loss: 0.0533, KL Loss: 0.0003\n",
      "Epoch [10/20], Batch [300/933], Total Loss: 0.0641, Recon Loss: 0.0636, KL Loss: 0.0004\n",
      "Epoch [10/20], Batch [400/933], Total Loss: 0.0613, Recon Loss: 0.0589, KL Loss: 0.0024\n",
      "Epoch [10/20], Batch [500/933], Total Loss: 0.0609, Recon Loss: 0.0606, KL Loss: 0.0003\n",
      "Epoch [10/20], Batch [600/933], Total Loss: 0.0599, Recon Loss: 0.0582, KL Loss: 0.0017\n",
      "Epoch [10/20], Batch [700/933], Total Loss: 0.0594, Recon Loss: 0.0591, KL Loss: 0.0003\n",
      "Epoch [10/20], Batch [800/933], Total Loss: 0.0540, Recon Loss: 0.0540, KL Loss: 0.0000\n",
      "Epoch [10/20], Batch [900/933], Total Loss: 0.0539, Recon Loss: 0.0532, KL Loss: 0.0007\n",
      "Epoch [10/20] completed, Avg Total Loss: 0.0636, Avg Recon Loss: 0.0625, Avg KL Loss: 0.0011\n",
      "Epoch [11/20], Batch [0/933], Total Loss: 0.0597, Recon Loss: 0.0597, KL Loss: 0.0000\n",
      "Epoch [11/20], Batch [100/933], Total Loss: 0.0585, Recon Loss: 0.0584, KL Loss: 0.0000\n",
      "Epoch [11/20], Batch [200/933], Total Loss: 0.0534, Recon Loss: 0.0534, KL Loss: 0.0001\n",
      "Epoch [11/20], Batch [300/933], Total Loss: 0.0865, Recon Loss: 0.0635, KL Loss: 0.0230\n",
      "Epoch [11/20], Batch [400/933], Total Loss: 0.0617, Recon Loss: 0.0588, KL Loss: 0.0029\n",
      "Epoch [11/20], Batch [500/933], Total Loss: 0.0617, Recon Loss: 0.0609, KL Loss: 0.0009\n",
      "Epoch [11/20], Batch [600/933], Total Loss: 0.0590, Recon Loss: 0.0581, KL Loss: 0.0009\n",
      "Epoch [11/20], Batch [700/933], Total Loss: 0.0597, Recon Loss: 0.0590, KL Loss: 0.0007\n",
      "Epoch [11/20], Batch [800/933], Total Loss: 0.0561, Recon Loss: 0.0539, KL Loss: 0.0022\n",
      "Epoch [11/20], Batch [900/933], Total Loss: 0.0540, Recon Loss: 0.0533, KL Loss: 0.0006\n",
      "Epoch [11/20] completed, Avg Total Loss: 0.0752, Avg Recon Loss: 0.0625, Avg KL Loss: 0.0127\n",
      "Epoch [12/20], Batch [0/933], Total Loss: 0.0602, Recon Loss: 0.0597, KL Loss: 0.0005\n",
      "Epoch [12/20], Batch [100/933], Total Loss: 0.0587, Recon Loss: 0.0585, KL Loss: 0.0003\n",
      "Epoch [12/20], Batch [200/933], Total Loss: 0.0534, Recon Loss: 0.0532, KL Loss: 0.0001\n",
      "Epoch [12/20], Batch [300/933], Total Loss: 0.0638, Recon Loss: 0.0635, KL Loss: 0.0003\n",
      "Epoch [12/20], Batch [400/933], Total Loss: 0.0592, Recon Loss: 0.0589, KL Loss: 0.0004\n",
      "Epoch [12/20], Batch [500/933], Total Loss: 0.0611, Recon Loss: 0.0607, KL Loss: 0.0003\n",
      "Epoch [12/20], Batch [600/933], Total Loss: 0.0583, Recon Loss: 0.0581, KL Loss: 0.0002\n",
      "Epoch [12/20], Batch [700/933], Total Loss: 0.0590, Recon Loss: 0.0589, KL Loss: 0.0001\n",
      "Epoch [12/20], Batch [800/933], Total Loss: 0.0550, Recon Loss: 0.0540, KL Loss: 0.0010\n",
      "Epoch [12/20], Batch [900/933], Total Loss: 0.0535, Recon Loss: 0.0532, KL Loss: 0.0002\n",
      "Epoch [12/20] completed, Avg Total Loss: 0.0631, Avg Recon Loss: 0.0625, Avg KL Loss: 0.0006\n",
      "Epoch [13/20], Batch [0/933], Total Loss: 0.0599, Recon Loss: 0.0596, KL Loss: 0.0002\n",
      "Epoch [13/20], Batch [100/933], Total Loss: 0.0585, Recon Loss: 0.0584, KL Loss: 0.0001\n",
      "Epoch [13/20], Batch [200/933], Total Loss: 0.0535, Recon Loss: 0.0533, KL Loss: 0.0001\n",
      "Epoch [13/20], Batch [300/933], Total Loss: 0.0636, Recon Loss: 0.0635, KL Loss: 0.0001\n",
      "Epoch [13/20], Batch [400/933], Total Loss: 0.0591, Recon Loss: 0.0588, KL Loss: 0.0003\n",
      "Epoch [13/20], Batch [500/933], Total Loss: 0.0609, Recon Loss: 0.0608, KL Loss: 0.0001\n",
      "Epoch [13/20], Batch [600/933], Total Loss: 0.0584, Recon Loss: 0.0580, KL Loss: 0.0004\n",
      "Epoch [13/20], Batch [700/933], Total Loss: 0.0589, Recon Loss: 0.0588, KL Loss: 0.0001\n",
      "Epoch [13/20], Batch [800/933], Total Loss: 0.0541, Recon Loss: 0.0537, KL Loss: 0.0004\n",
      "Epoch [13/20], Batch [900/933], Total Loss: 0.2450, Recon Loss: 0.0534, KL Loss: 0.1916\n",
      "Epoch [13/20] completed, Avg Total Loss: 0.0932, Avg Recon Loss: 0.0625, Avg KL Loss: 0.0307\n",
      "Epoch [14/20], Batch [0/933], Total Loss: 0.1372, Recon Loss: 0.0597, KL Loss: 0.0776\n",
      "Epoch [14/20], Batch [100/933], Total Loss: 0.0650, Recon Loss: 0.0584, KL Loss: 0.0066\n",
      "Epoch [14/20], Batch [200/933], Total Loss: 0.0550, Recon Loss: 0.0533, KL Loss: 0.0017\n",
      "Epoch [14/20], Batch [300/933], Total Loss: 0.0658, Recon Loss: 0.0636, KL Loss: 0.0021\n",
      "Epoch [14/20], Batch [400/933], Total Loss: 0.0678, Recon Loss: 0.0586, KL Loss: 0.0092\n",
      "Epoch [14/20], Batch [500/933], Total Loss: 0.0619, Recon Loss: 0.0608, KL Loss: 0.0011\n",
      "Epoch [14/20], Batch [600/933], Total Loss: 0.0597, Recon Loss: 0.0581, KL Loss: 0.0017\n",
      "Epoch [14/20], Batch [700/933], Total Loss: 0.0598, Recon Loss: 0.0587, KL Loss: 0.0010\n",
      "Epoch [14/20], Batch [800/933], Total Loss: 0.0588, Recon Loss: 0.0538, KL Loss: 0.0050\n",
      "Epoch [14/20], Batch [900/933], Total Loss: 0.0541, Recon Loss: 0.0532, KL Loss: 0.0009\n",
      "Epoch [14/20] completed, Avg Total Loss: 0.0716, Avg Recon Loss: 0.0625, Avg KL Loss: 0.0091\n",
      "Epoch [15/20], Batch [0/933], Total Loss: 0.0603, Recon Loss: 0.0597, KL Loss: 0.0006\n",
      "Epoch [15/20], Batch [100/933], Total Loss: 0.0591, Recon Loss: 0.0585, KL Loss: 0.0006\n",
      "Epoch [15/20], Batch [200/933], Total Loss: 0.0537, Recon Loss: 0.0535, KL Loss: 0.0002\n",
      "Epoch [15/20], Batch [300/933], Total Loss: 0.0643, Recon Loss: 0.0636, KL Loss: 0.0006\n",
      "Epoch [15/20], Batch [400/933], Total Loss: 0.0604, Recon Loss: 0.0590, KL Loss: 0.0014\n",
      "Epoch [15/20], Batch [500/933], Total Loss: 0.0610, Recon Loss: 0.0606, KL Loss: 0.0003\n",
      "Epoch [15/20], Batch [600/933], Total Loss: 0.0592, Recon Loss: 0.0580, KL Loss: 0.0012\n",
      "Epoch [15/20], Batch [700/933], Total Loss: 0.0590, Recon Loss: 0.0586, KL Loss: 0.0003\n",
      "Epoch [15/20], Batch [800/933], Total Loss: 0.0551, Recon Loss: 0.0538, KL Loss: 0.0013\n",
      "Epoch [15/20], Batch [900/933], Total Loss: 0.0537, Recon Loss: 0.0533, KL Loss: 0.0003\n",
      "Epoch [15/20] completed, Avg Total Loss: 0.0638, Avg Recon Loss: 0.0625, Avg KL Loss: 0.0014\n",
      "Epoch [16/20], Batch [0/933], Total Loss: 0.0601, Recon Loss: 0.0598, KL Loss: 0.0003\n",
      "Epoch [16/20], Batch [100/933], Total Loss: 0.0587, Recon Loss: 0.0585, KL Loss: 0.0002\n",
      "Epoch [16/20], Batch [200/933], Total Loss: 0.0535, Recon Loss: 0.0535, KL Loss: 0.0001\n",
      "Epoch [16/20], Batch [300/933], Total Loss: 0.0638, Recon Loss: 0.0635, KL Loss: 0.0002\n",
      "Epoch [16/20], Batch [400/933], Total Loss: 0.0591, Recon Loss: 0.0589, KL Loss: 0.0002\n",
      "Epoch [16/20], Batch [500/933], Total Loss: 0.0608, Recon Loss: 0.0607, KL Loss: 0.0001\n",
      "Epoch [16/20], Batch [600/933], Total Loss: 0.0582, Recon Loss: 0.0579, KL Loss: 0.0004\n",
      "Epoch [16/20], Batch [700/933], Total Loss: 0.0588, Recon Loss: 0.0587, KL Loss: 0.0002\n",
      "Epoch [16/20], Batch [800/933], Total Loss: 0.0547, Recon Loss: 0.0538, KL Loss: 0.0009\n",
      "Epoch [16/20], Batch [900/933], Total Loss: 0.0535, Recon Loss: 0.0533, KL Loss: 0.0002\n",
      "Epoch [16/20] completed, Avg Total Loss: 0.0630, Avg Recon Loss: 0.0625, Avg KL Loss: 0.0006\n",
      "Epoch [17/20], Batch [0/933], Total Loss: 0.0597, Recon Loss: 0.0596, KL Loss: 0.0001\n",
      "Epoch [17/20], Batch [100/933], Total Loss: 0.0585, Recon Loss: 0.0584, KL Loss: 0.0001\n",
      "Epoch [17/20], Batch [200/933], Total Loss: 0.0535, Recon Loss: 0.0535, KL Loss: 0.0000\n",
      "Epoch [17/20], Batch [300/933], Total Loss: 0.0636, Recon Loss: 0.0635, KL Loss: 0.0001\n",
      "Epoch [17/20], Batch [400/933], Total Loss: 0.0589, Recon Loss: 0.0588, KL Loss: 0.0001\n",
      "Epoch [17/20], Batch [500/933], Total Loss: 0.0608, Recon Loss: 0.0607, KL Loss: 0.0001\n",
      "Epoch [17/20], Batch [600/933], Total Loss: 0.0580, Recon Loss: 0.0578, KL Loss: 0.0001\n",
      "Epoch [17/20], Batch [700/933], Total Loss: 0.0588, Recon Loss: 0.0588, KL Loss: 0.0000\n",
      "Epoch [17/20], Batch [800/933], Total Loss: 0.0539, Recon Loss: 0.0538, KL Loss: 0.0001\n",
      "Epoch [17/20], Batch [900/933], Total Loss: 0.0534, Recon Loss: 0.0533, KL Loss: 0.0001\n",
      "Epoch [17/20] completed, Avg Total Loss: 0.0627, Avg Recon Loss: 0.0624, Avg KL Loss: 0.0002\n",
      "Epoch [18/20], Batch [0/933], Total Loss: 0.0597, Recon Loss: 0.0596, KL Loss: 0.0001\n",
      "Epoch [18/20], Batch [100/933], Total Loss: 0.0584, Recon Loss: 0.0584, KL Loss: 0.0000\n",
      "Epoch [18/20], Batch [200/933], Total Loss: 0.0534, Recon Loss: 0.0534, KL Loss: 0.0000\n",
      "Epoch [18/20], Batch [300/933], Total Loss: 0.0636, Recon Loss: 0.0636, KL Loss: 0.0000\n",
      "Epoch [18/20], Batch [400/933], Total Loss: 0.0588, Recon Loss: 0.0587, KL Loss: 0.0001\n",
      "Epoch [18/20], Batch [500/933], Total Loss: 0.0607, Recon Loss: 0.0606, KL Loss: 0.0000\n",
      "Epoch [18/20], Batch [600/933], Total Loss: 0.0578, Recon Loss: 0.0578, KL Loss: 0.0000\n",
      "Epoch [18/20], Batch [700/933], Total Loss: 0.0587, Recon Loss: 0.0587, KL Loss: 0.0000\n",
      "Epoch [18/20], Batch [800/933], Total Loss: 0.0539, Recon Loss: 0.0538, KL Loss: 0.0001\n",
      "Epoch [18/20], Batch [900/933], Total Loss: 0.0533, Recon Loss: 0.0533, KL Loss: 0.0000\n",
      "Epoch [18/20] completed, Avg Total Loss: 0.0626, Avg Recon Loss: 0.0624, Avg KL Loss: 0.0001\n",
      "Epoch [19/20], Batch [0/933], Total Loss: 0.0597, Recon Loss: 0.0597, KL Loss: 0.0000\n",
      "Epoch [19/20], Batch [100/933], Total Loss: 0.0584, Recon Loss: 0.0584, KL Loss: 0.0000\n",
      "Epoch [19/20], Batch [200/933], Total Loss: 0.0535, Recon Loss: 0.0535, KL Loss: 0.0000\n",
      "Epoch [19/20], Batch [300/933], Total Loss: 0.0635, Recon Loss: 0.0635, KL Loss: 0.0000\n",
      "Epoch [19/20], Batch [400/933], Total Loss: 0.0589, Recon Loss: 0.0588, KL Loss: 0.0000\n",
      "Epoch [19/20], Batch [500/933], Total Loss: 0.0607, Recon Loss: 0.0607, KL Loss: 0.0000\n",
      "Epoch [19/20], Batch [600/933], Total Loss: 0.0577, Recon Loss: 0.0577, KL Loss: 0.0000\n",
      "Epoch [19/20], Batch [700/933], Total Loss: 0.0586, Recon Loss: 0.0586, KL Loss: 0.0000\n",
      "Epoch [19/20], Batch [800/933], Total Loss: 0.0538, Recon Loss: 0.0538, KL Loss: 0.0000\n",
      "Epoch [19/20], Batch [900/933], Total Loss: 0.0532, Recon Loss: 0.0532, KL Loss: 0.0000\n",
      "Epoch [19/20] completed, Avg Total Loss: 0.0625, Avg Recon Loss: 0.0624, Avg KL Loss: 0.0001\n",
      "Epoch [20/20], Batch [0/933], Total Loss: 0.0598, Recon Loss: 0.0598, KL Loss: 0.0000\n",
      "Epoch [20/20], Batch [100/933], Total Loss: 0.0583, Recon Loss: 0.0583, KL Loss: 0.0000\n",
      "Epoch [20/20], Batch [200/933], Total Loss: 0.0534, Recon Loss: 0.0534, KL Loss: 0.0000\n",
      "Epoch [20/20], Batch [300/933], Total Loss: 0.0634, Recon Loss: 0.0634, KL Loss: 0.0000\n",
      "Epoch [20/20], Batch [400/933], Total Loss: 0.0588, Recon Loss: 0.0588, KL Loss: 0.0000\n",
      "Epoch [20/20], Batch [500/933], Total Loss: 0.0607, Recon Loss: 0.0607, KL Loss: 0.0000\n",
      "Epoch [20/20], Batch [600/933], Total Loss: 0.0577, Recon Loss: 0.0577, KL Loss: 0.0000\n",
      "Epoch [20/20], Batch [700/933], Total Loss: 0.0587, Recon Loss: 0.0587, KL Loss: 0.0000\n",
      "Epoch [20/20], Batch [800/933], Total Loss: 0.0538, Recon Loss: 0.0538, KL Loss: 0.0000\n",
      "Epoch [20/20], Batch [900/933], Total Loss: 0.0533, Recon Loss: 0.0533, KL Loss: 0.0000\n",
      "Epoch [20/20] completed, Avg Total Loss: 0.0625, Avg Recon Loss: 0.0624, Avg KL Loss: 0.0000\n",
      "VAE model saved to ../Saved_Models/cae_model.pt\n"
     ]
    }
   ],
   "execution_count": 13
  },
  {
   "metadata": {
    "ExecuteTime": {
     "end_time": "2025-06-09T12:28:08.239775Z",
     "start_time": "2025-06-09T12:28:08.114233Z"
    }
   },
   "cell_type": "code",
   "source": [
    "model = ConvVAE.from_pretrained(device)\n",
    "model.load_model(f\"../Saved_Models/cae_model.pt\", map_location=device)\n",
    "samples = model.generate(num_samples=4)\n",
    "output_dir = \"../Saved_Models\"\n",
    "model.save_generated_images(samples, output_dir, prefix=\"sample\")"
   ],
   "id": "7a6493b50b77c76f",
   "outputs": [
    {
     "name": "stdout",
     "output_type": "stream",
     "text": [
      "VAE initialized on device: cuda\n",
      "First conv layer device: cuda:0\n",
      "VAE model moved to device: cuda\n",
      "VAE model parameters on device: cuda:0\n",
      "VAE model loaded from ../Saved_Models/cae_model.pt and moved to cuda\n",
      "Saved 4 generated images to ../Saved_Models\n"
     ]
    }
   ],
   "execution_count": 14
  },
  {
   "metadata": {
    "ExecuteTime": {
     "end_time": "2025-06-09T14:31:28.456801Z",
     "start_time": "2025-06-09T14:31:28.240313Z"
    }
   },
   "cell_type": "code",
   "source": [
    "vae.load_model(f\"../Saved_Models/cae_model.pt\", map_location=device)  # Replace with actual path\n",
    "\n",
    "print(f\"Model loaded on device: {device}\")\n",
    "\n",
    "# 2. Generate diverse samples using different methods\n",
    "\n",
    "# Method 1: Simple high temperature\n",
    "print(\"Generating high temperature samples...\")\n",
    "high_temp_samples = vae.generate(num_samples=16, temperature=2.5)\n",
    "\n",
    "# Method 2: Advanced diverse sampling\n",
    "print(\"Generating diverse samples...\")\n",
    "diverse_samples = generate_diverse_samples(vae, num_samples=16)\n",
    "\n",
    "# Method 3: Constrained generation\n",
    "print(\"Generating constrained samples...\")\n",
    "constrained_samples = generate_with_constraints(vae, num_samples=16)\n",
    "\n",
    "# Method 4: Latent space exploration\n",
    "print(\"Exploring latent space...\")\n",
    "exploration_samples = explore_latent_space(vae, num_samples=16)\n",
    "\n",
    "# 3. Save all results\n",
    "os.makedirs(\"../Saved_Models\", exist_ok=True)\n",
    "\n",
    "methods = {\n",
    "    'high_temperature': high_temp_samples,\n",
    "    'diverse_sampling': diverse_samples,\n",
    "    'constrained_generation': constrained_samples,\n",
    "    'latent_exploration': exploration_samples\n",
    "}\n",
    "\n",
    "for method_name, samples in methods.items():\n",
    "    # Normalize from [-1, 1] to [0, 1]\n",
    "    normalized = (samples + 1) / 2\n",
    "\n",
    "    # Save as grid\n",
    "    torchvision.utils.save_image(\n",
    "        normalized.cpu(),\n",
    "        f\"../Saved_Models/{method_name}_samples.png\",\n",
    "        nrow=4,\n",
    "        normalize=False  # Already normalized\n",
    "    )\n",
    "\n",
    "    print(f\"Saved {method_name} samples to ../Saved_Models/{method_name}_samples.png\")\n",
    "\n",
    "print(\"All samples generated and saved!\")\n",
    "\n",
    "torchvision.utils.save_image(\n",
    "    normalized_original.cpu(),\n",
    "    \"../Saved_Models/original_samples.png\",\n",
    "    nrow=4\n",
    ")"
   ],
   "id": "a914467a8b526b58",
   "outputs": [
    {
     "name": "stdout",
     "output_type": "stream",
     "text": [
      "VAE model loaded from ../Saved_Models/cae_model.pt and moved to cuda\n",
      "Model loaded on device: cuda\n",
      "Generating high temperature samples...\n",
      "Generating diverse samples...\n",
      "Generating constrained samples...\n",
      "Exploring latent space...\n",
      "Saved high_temperature samples to ../Saved_Models/high_temperature_samples.png\n",
      "Saved diverse_sampling samples to ../Saved_Models/diverse_sampling_samples.png\n",
      "Saved constrained_generation samples to ../Saved_Models/constrained_generation_samples.png\n",
      "Saved latent_exploration samples to ../Saved_Models/latent_exploration_samples.png\n",
      "All samples generated and saved!\n"
     ]
    },
    {
     "ename": "NameError",
     "evalue": "name 'normalized_original' is not defined",
     "output_type": "error",
     "traceback": [
      "\u001B[0;31m---------------------------------------------------------------------------\u001B[0m",
      "\u001B[0;31mNameError\u001B[0m                                 Traceback (most recent call last)",
      "Cell \u001B[0;32mIn[16], line 50\u001B[0m\n\u001B[1;32m     45\u001B[0m     \u001B[38;5;28mprint\u001B[39m(\u001B[38;5;124mf\u001B[39m\u001B[38;5;124m\"\u001B[39m\u001B[38;5;124mSaved \u001B[39m\u001B[38;5;132;01m{\u001B[39;00mmethod_name\u001B[38;5;132;01m}\u001B[39;00m\u001B[38;5;124m samples to ../Saved_Models/\u001B[39m\u001B[38;5;132;01m{\u001B[39;00mmethod_name\u001B[38;5;132;01m}\u001B[39;00m\u001B[38;5;124m_samples.png\u001B[39m\u001B[38;5;124m\"\u001B[39m)\n\u001B[1;32m     47\u001B[0m \u001B[38;5;28mprint\u001B[39m(\u001B[38;5;124m\"\u001B[39m\u001B[38;5;124mAll samples generated and saved!\u001B[39m\u001B[38;5;124m\"\u001B[39m)\n\u001B[1;32m     49\u001B[0m torchvision\u001B[38;5;241m.\u001B[39mutils\u001B[38;5;241m.\u001B[39msave_image(\n\u001B[0;32m---> 50\u001B[0m     \u001B[43mnormalized_original\u001B[49m\u001B[38;5;241m.\u001B[39mcpu(),\n\u001B[1;32m     51\u001B[0m     \u001B[38;5;124m\"\u001B[39m\u001B[38;5;124m../Saved_Models/original_samples.png\u001B[39m\u001B[38;5;124m\"\u001B[39m,\n\u001B[1;32m     52\u001B[0m     nrow\u001B[38;5;241m=\u001B[39m\u001B[38;5;241m4\u001B[39m\n\u001B[1;32m     53\u001B[0m )\n",
      "\u001B[0;31mNameError\u001B[0m: name 'normalized_original' is not defined"
     ]
    }
   ],
   "execution_count": 16
  },
  {
   "metadata": {
    "ExecuteTime": {
     "end_time": "2025-06-09T12:28:08.587661669Z",
     "start_time": "2025-06-09T11:55:59.577700Z"
    }
   },
   "cell_type": "code",
   "source": "",
   "id": "a398b0a8ddeee03",
   "outputs": [
    {
     "ename": "AttributeError",
     "evalue": "'EnhancedConvVAE' object has no attribute 'train_architecture'",
     "output_type": "error",
     "traceback": [
      "\u001B[0;31m---------------------------------------------------------------------------\u001B[0m",
      "\u001B[0;31mAttributeError\u001B[0m                            Traceback (most recent call last)",
      "Cell \u001B[0;32mIn[6], line 12\u001B[0m\n\u001B[1;32m      1\u001B[0m evae \u001B[38;5;241m=\u001B[39m EnhancedConvVAE(\n\u001B[1;32m      2\u001B[0m         device\u001B[38;5;241m=\u001B[39mdevice,\n\u001B[1;32m      3\u001B[0m         input_channels\u001B[38;5;241m=\u001B[39m\u001B[38;5;241m3\u001B[39m,\n\u001B[0;32m   (...)\u001B[0m\n\u001B[1;32m      9\u001B[0m         use_spectral_norm\u001B[38;5;241m=\u001B[39m\u001B[38;5;28;01mTrue\u001B[39;00m\n\u001B[1;32m     10\u001B[0m     )\n\u001B[0;32m---> 12\u001B[0m \u001B[43mevae\u001B[49m\u001B[38;5;241;43m.\u001B[39;49m\u001B[43mtrain_architecture\u001B[49m(Data_cats, \u001B[38;5;241m20\u001B[39m)\n\u001B[1;32m     13\u001B[0m model\u001B[38;5;241m.\u001B[39msave_model(\u001B[38;5;124mf\u001B[39m\u001B[38;5;124m\"\u001B[39m\u001B[38;5;124m../Saved_Models/cae_model.pt\u001B[39m\u001B[38;5;124m\"\u001B[39m)\n",
      "File \u001B[0;32m~/PycharmProjects/dl_project1/DeepLearning/Project_III/.venv/lib/python3.10/site-packages/torch/nn/modules/module.py:1940\u001B[0m, in \u001B[0;36mModule.__getattr__\u001B[0;34m(self, name)\u001B[0m\n\u001B[1;32m   1938\u001B[0m     \u001B[38;5;28;01mif\u001B[39;00m name \u001B[38;5;129;01min\u001B[39;00m modules:\n\u001B[1;32m   1939\u001B[0m         \u001B[38;5;28;01mreturn\u001B[39;00m modules[name]\n\u001B[0;32m-> 1940\u001B[0m \u001B[38;5;28;01mraise\u001B[39;00m \u001B[38;5;167;01mAttributeError\u001B[39;00m(\n\u001B[1;32m   1941\u001B[0m     \u001B[38;5;124mf\u001B[39m\u001B[38;5;124m\"\u001B[39m\u001B[38;5;124m'\u001B[39m\u001B[38;5;132;01m{\u001B[39;00m\u001B[38;5;28mtype\u001B[39m(\u001B[38;5;28mself\u001B[39m)\u001B[38;5;241m.\u001B[39m\u001B[38;5;18m__name__\u001B[39m\u001B[38;5;132;01m}\u001B[39;00m\u001B[38;5;124m'\u001B[39m\u001B[38;5;124m object has no attribute \u001B[39m\u001B[38;5;124m'\u001B[39m\u001B[38;5;132;01m{\u001B[39;00mname\u001B[38;5;132;01m}\u001B[39;00m\u001B[38;5;124m'\u001B[39m\u001B[38;5;124m\"\u001B[39m\n\u001B[1;32m   1942\u001B[0m )\n",
      "\u001B[0;31mAttributeError\u001B[0m: 'EnhancedConvVAE' object has no attribute 'train_architecture'"
     ]
    }
   ],
   "execution_count": 6
  },
  {
   "metadata": {},
   "cell_type": "code",
   "outputs": [],
   "execution_count": null,
   "source": "",
   "id": "5fb47b43ccbdc4c2"
  }
 ],
 "metadata": {
  "kernelspec": {
   "display_name": "Python 3",
   "language": "python",
   "name": "python3"
  },
  "language_info": {
   "codemirror_mode": {
    "name": "ipython",
    "version": 2
   },
   "file_extension": ".py",
   "mimetype": "text/x-python",
   "name": "python",
   "nbconvert_exporter": "python",
   "pygments_lexer": "ipython2",
   "version": "2.7.6"
  }
 },
 "nbformat": 4,
 "nbformat_minor": 5
}
