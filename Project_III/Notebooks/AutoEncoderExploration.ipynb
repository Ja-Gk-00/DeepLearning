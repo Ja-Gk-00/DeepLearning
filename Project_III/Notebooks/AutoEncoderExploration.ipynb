{
 "cells": [
  {
   "metadata": {
    "ExecuteTime": {
     "end_time": "2025-06-07T09:32:03.490056Z",
     "start_time": "2025-06-07T09:32:01.643723Z"
    }
   },
   "cell_type": "code",
   "source": [
    "import torch\n",
    "import torchvision\n",
    "from Architectures.ConvolutionalAutoEncoder import ConvVAE\n",
    "from DataObjects.DataLoader import DataLoader\n",
    "import os"
   ],
   "id": "c480a67a17243b8c",
   "outputs": [],
   "execution_count": 1
  },
  {
   "metadata": {
    "ExecuteTime": {
     "end_time": "2025-06-07T09:32:03.613746Z",
     "start_time": "2025-06-07T09:32:03.608070Z"
    }
   },
   "cell_type": "code",
   "source": "torch.manual_seed(34)",
   "id": "81fe0a5e7f1c5f03",
   "outputs": [
    {
     "data": {
      "text/plain": [
       "<torch._C.Generator at 0x7a99e0fa5ed0>"
      ]
     },
     "execution_count": 2,
     "metadata": {},
     "output_type": "execute_result"
    }
   ],
   "execution_count": 2
  },
  {
   "metadata": {
    "ExecuteTime": {
     "end_time": "2025-06-07T09:32:03.675090Z",
     "start_time": "2025-06-07T09:32:03.658781Z"
    }
   },
   "cell_type": "code",
   "source": [
    "device = torch.device(\"cuda\" if torch.cuda.is_available() else \"cpu\")\n",
    "print(f\"Using device: {device}\")"
   ],
   "id": "a06729502a05d05c",
   "outputs": [
    {
     "name": "stdout",
     "output_type": "stream",
     "text": [
      "Using device: cuda\n"
     ]
    }
   ],
   "execution_count": 3
  },
  {
   "metadata": {
    "ExecuteTime": {
     "end_time": "2025-06-07T09:32:03.707805Z",
     "start_time": "2025-06-07T09:32:03.705681Z"
    }
   },
   "cell_type": "code",
   "source": [
    "# Get the current directory of the script (DataObjects)\n",
    "current_script_dir = os.getcwd()\n",
    "\n",
    "# Go up one level to the project root\n",
    "project_root = os.path.dirname(current_script_dir)\n",
    "\n",
    "data_dir = os.path.join(project_root, 'data', 'downscaled')"
   ],
   "id": "deac0e8dd5fd78be",
   "outputs": [],
   "execution_count": 4
  },
  {
   "metadata": {
    "ExecuteTime": {
     "end_time": "2025-06-07T09:32:11.448144Z",
     "start_time": "2025-06-07T09:32:03.760879Z"
    }
   },
   "cell_type": "code",
   "source": [
    "batch_size = 32\n",
    "\n",
    "Data_cats = DataLoader(data_dir , batch_size=batch_size, shuffle=True)\n",
    "print(f\"Number of cat batches: {len(Data_cats)}\")\n",
    "Data_dogs = DataLoader(data_dir + '/dog/', batch_size=batch_size, shuffle=True)\n",
    "print(f\"Number of dog batches: {len(Data_dogs)}\")"
   ],
   "id": "806905b322c3b7d0",
   "outputs": [
    {
     "name": "stdout",
     "output_type": "stream",
     "text": [
      "Number of cat batches: 933\n",
      "Number of dog batches: 0\n"
     ]
    }
   ],
   "execution_count": 5
  },
  {
   "metadata": {
    "ExecuteTime": {
     "end_time": "2025-06-07T09:33:52.216077Z",
     "start_time": "2025-06-07T09:32:11.462380Z"
    }
   },
   "cell_type": "code",
   "source": [
    "epochs = 20\n",
    "\n",
    "device = torch.device(\"cuda\" if torch.cuda.is_available() else \"cpu\")\n",
    "model = ConvVAE.from_pretrained(device)\n",
    "\n",
    "model.train_architecture(Data_cats, epochs)\n",
    "model.save_model(f\"../Saved_Models/cae_model.pt\")\n",
    "model.load_model(f\"../Saved_Models/cae_model.pt\", map_location=device)"
   ],
   "id": "39674a680202ceb3",
   "outputs": [
    {
     "name": "stdout",
     "output_type": "stream",
     "text": [
      "VAE initialized on device: cuda\n",
      "First conv layer device: cuda:0\n",
      "VAE model moved to device: cuda\n",
      "VAE model parameters on device: cuda:0\n",
      "Epoch [1/20], Batch [0/933], Total Loss: 13.3593, Recon Loss: 0.7248, KL Loss: 12.6345\n",
      "Epoch [1/20], Batch [100/933], Total Loss: 0.2238, Recon Loss: 0.0833, KL Loss: 0.1406\n",
      "Epoch [1/20], Batch [200/933], Total Loss: 0.1582, Recon Loss: 0.0772, KL Loss: 0.0810\n",
      "Epoch [1/20], Batch [300/933], Total Loss: 0.1239, Recon Loss: 0.0738, KL Loss: 0.0501\n",
      "Epoch [1/20], Batch [400/933], Total Loss: 0.0936, Recon Loss: 0.0604, KL Loss: 0.0332\n",
      "Epoch [1/20], Batch [500/933], Total Loss: 0.0958, Recon Loss: 0.0583, KL Loss: 0.0375\n",
      "Epoch [1/20], Batch [600/933], Total Loss: 0.1121, Recon Loss: 0.0649, KL Loss: 0.0472\n",
      "Epoch [1/20], Batch [700/933], Total Loss: 0.1052, Recon Loss: 0.0734, KL Loss: 0.0317\n",
      "Epoch [1/20], Batch [800/933], Total Loss: 0.1151, Recon Loss: 0.0630, KL Loss: 0.0521\n",
      "Epoch [1/20], Batch [900/933], Total Loss: 0.0960, Recon Loss: 0.0589, KL Loss: 0.0372\n",
      "Epoch [1/20] completed, Avg Total Loss: 0.3078, Avg Recon Loss: 0.0740, Avg KL Loss: 0.2338\n",
      "Epoch [2/20], Batch [0/933], Total Loss: 0.0989, Recon Loss: 0.0667, KL Loss: 0.0322\n",
      "Epoch [2/20], Batch [100/933], Total Loss: 0.1142, Recon Loss: 0.0685, KL Loss: 0.0457\n",
      "Epoch [2/20], Batch [200/933], Total Loss: 0.1183, Recon Loss: 0.0684, KL Loss: 0.0499\n",
      "Epoch [2/20], Batch [300/933], Total Loss: 0.1063, Recon Loss: 0.0724, KL Loss: 0.0339\n",
      "Epoch [2/20], Batch [400/933], Total Loss: 0.0972, Recon Loss: 0.0588, KL Loss: 0.0384\n",
      "Epoch [2/20], Batch [500/933], Total Loss: 0.0868, Recon Loss: 0.0577, KL Loss: 0.0291\n",
      "Epoch [2/20], Batch [600/933], Total Loss: 0.1701, Recon Loss: 0.0643, KL Loss: 0.1057\n",
      "Epoch [2/20], Batch [700/933], Total Loss: 0.1189, Recon Loss: 0.0742, KL Loss: 0.0446\n",
      "Epoch [2/20], Batch [800/933], Total Loss: 0.1832, Recon Loss: 0.0627, KL Loss: 0.1205\n",
      "Epoch [2/20], Batch [900/933], Total Loss: 0.1463, Recon Loss: 0.0587, KL Loss: 0.0876\n",
      "Epoch [2/20] completed, Avg Total Loss: 0.1196, Avg Recon Loss: 0.0628, Avg KL Loss: 0.0568\n",
      "Epoch [3/20], Batch [0/933], Total Loss: 0.1168, Recon Loss: 0.0670, KL Loss: 0.0498\n",
      "Epoch [3/20], Batch [100/933], Total Loss: 0.1332, Recon Loss: 0.0679, KL Loss: 0.0653\n",
      "Epoch [3/20], Batch [200/933], Total Loss: 0.1219, Recon Loss: 0.0681, KL Loss: 0.0538\n",
      "Epoch [3/20], Batch [300/933], Total Loss: 0.0995, Recon Loss: 0.0729, KL Loss: 0.0266\n",
      "Epoch [3/20], Batch [400/933], Total Loss: 0.0903, Recon Loss: 0.0595, KL Loss: 0.0308\n",
      "Epoch [3/20], Batch [500/933], Total Loss: 0.0981, Recon Loss: 0.0576, KL Loss: 0.0404\n",
      "Epoch [3/20], Batch [600/933], Total Loss: 0.2844, Recon Loss: 0.0638, KL Loss: 0.2206\n",
      "Epoch [3/20], Batch [700/933], Total Loss: 0.1050, Recon Loss: 0.0738, KL Loss: 0.0313\n",
      "Epoch [3/20], Batch [800/933], Total Loss: 0.2219, Recon Loss: 0.0624, KL Loss: 0.1596\n",
      "Epoch [3/20], Batch [900/933], Total Loss: 0.1148, Recon Loss: 0.0583, KL Loss: 0.0565\n",
      "Epoch [3/20] completed, Avg Total Loss: 0.1205, Avg Recon Loss: 0.0627, Avg KL Loss: 0.0578\n",
      "Epoch [4/20], Batch [0/933], Total Loss: 0.1135, Recon Loss: 0.0666, KL Loss: 0.0470\n",
      "Epoch [4/20], Batch [100/933], Total Loss: 0.1089, Recon Loss: 0.0680, KL Loss: 0.0409\n",
      "Epoch [4/20], Batch [200/933], Total Loss: 0.1456, Recon Loss: 0.0671, KL Loss: 0.0785\n",
      "Epoch [4/20], Batch [300/933], Total Loss: 0.0990, Recon Loss: 0.0733, KL Loss: 0.0257\n",
      "Epoch [4/20], Batch [400/933], Total Loss: 0.0715, Recon Loss: 0.0595, KL Loss: 0.0121\n",
      "Epoch [4/20], Batch [500/933], Total Loss: 0.0933, Recon Loss: 0.0579, KL Loss: 0.0354\n",
      "Epoch [4/20], Batch [600/933], Total Loss: 0.3360, Recon Loss: 0.0638, KL Loss: 0.2723\n",
      "Epoch [4/20], Batch [700/933], Total Loss: 0.0959, Recon Loss: 0.0742, KL Loss: 0.0217\n",
      "Epoch [4/20], Batch [800/933], Total Loss: 0.0901, Recon Loss: 0.0625, KL Loss: 0.0276\n",
      "Epoch [4/20], Batch [900/933], Total Loss: 0.0710, Recon Loss: 0.0582, KL Loss: 0.0128\n",
      "Epoch [4/20] completed, Avg Total Loss: 0.1117, Avg Recon Loss: 0.0626, Avg KL Loss: 0.0491\n",
      "Epoch [5/20], Batch [0/933], Total Loss: 0.0827, Recon Loss: 0.0669, KL Loss: 0.0158\n",
      "Epoch [5/20], Batch [100/933], Total Loss: 0.0849, Recon Loss: 0.0683, KL Loss: 0.0167\n",
      "Epoch [5/20], Batch [200/933], Total Loss: 0.0876, Recon Loss: 0.0677, KL Loss: 0.0199\n",
      "Epoch [5/20], Batch [300/933], Total Loss: 0.0878, Recon Loss: 0.0732, KL Loss: 0.0146\n",
      "Epoch [5/20], Batch [400/933], Total Loss: 0.0662, Recon Loss: 0.0589, KL Loss: 0.0072\n",
      "Epoch [5/20], Batch [500/933], Total Loss: 0.0669, Recon Loss: 0.0575, KL Loss: 0.0094\n",
      "Epoch [5/20], Batch [600/933], Total Loss: 0.0842, Recon Loss: 0.0641, KL Loss: 0.0202\n",
      "Epoch [5/20], Batch [700/933], Total Loss: 0.0831, Recon Loss: 0.0738, KL Loss: 0.0093\n",
      "Epoch [5/20], Batch [800/933], Total Loss: 0.0706, Recon Loss: 0.0626, KL Loss: 0.0080\n",
      "Epoch [5/20], Batch [900/933], Total Loss: 0.0627, Recon Loss: 0.0582, KL Loss: 0.0045\n",
      "Epoch [5/20] completed, Avg Total Loss: 0.0755, Avg Recon Loss: 0.0626, Avg KL Loss: 0.0129\n",
      "Epoch [6/20], Batch [0/933], Total Loss: 0.0742, Recon Loss: 0.0668, KL Loss: 0.0074\n",
      "Epoch [6/20], Batch [100/933], Total Loss: 0.0782, Recon Loss: 0.0683, KL Loss: 0.0099\n",
      "Epoch [6/20], Batch [200/933], Total Loss: 0.0739, Recon Loss: 0.0676, KL Loss: 0.0063\n",
      "Epoch [6/20], Batch [300/933], Total Loss: 0.0783, Recon Loss: 0.0733, KL Loss: 0.0050\n",
      "Epoch [6/20], Batch [400/933], Total Loss: 0.0724, Recon Loss: 0.0589, KL Loss: 0.0135\n",
      "Epoch [6/20], Batch [500/933], Total Loss: 0.0671, Recon Loss: 0.0576, KL Loss: 0.0095\n",
      "Epoch [6/20], Batch [600/933], Total Loss: 0.0933, Recon Loss: 0.0639, KL Loss: 0.0294\n",
      "Epoch [6/20], Batch [700/933], Total Loss: 0.0794, Recon Loss: 0.0734, KL Loss: 0.0060\n",
      "Epoch [6/20], Batch [800/933], Total Loss: 0.0704, Recon Loss: 0.0624, KL Loss: 0.0081\n",
      "Epoch [6/20], Batch [900/933], Total Loss: 0.0632, Recon Loss: 0.0584, KL Loss: 0.0048\n",
      "Epoch [6/20] completed, Avg Total Loss: 0.0724, Avg Recon Loss: 0.0625, Avg KL Loss: 0.0099\n",
      "Epoch [7/20], Batch [0/933], Total Loss: 0.0733, Recon Loss: 0.0666, KL Loss: 0.0067\n",
      "Epoch [7/20], Batch [100/933], Total Loss: 0.0776, Recon Loss: 0.0681, KL Loss: 0.0095\n",
      "Epoch [7/20], Batch [200/933], Total Loss: 0.0744, Recon Loss: 0.0672, KL Loss: 0.0072\n",
      "Epoch [7/20], Batch [300/933], Total Loss: 0.0764, Recon Loss: 0.0731, KL Loss: 0.0033\n",
      "Epoch [7/20], Batch [400/933], Total Loss: 0.0697, Recon Loss: 0.0591, KL Loss: 0.0106\n",
      "Epoch [7/20], Batch [500/933], Total Loss: 0.0766, Recon Loss: 0.0573, KL Loss: 0.0193\n",
      "Epoch [7/20], Batch [600/933], Total Loss: 0.0768, Recon Loss: 0.0640, KL Loss: 0.0128\n",
      "Epoch [7/20], Batch [700/933], Total Loss: 0.0773, Recon Loss: 0.0737, KL Loss: 0.0037\n",
      "Epoch [7/20], Batch [800/933], Total Loss: 0.0723, Recon Loss: 0.0624, KL Loss: 0.0099\n",
      "Epoch [7/20], Batch [900/933], Total Loss: 0.1812, Recon Loss: 0.0583, KL Loss: 0.1229\n",
      "Epoch [7/20] completed, Avg Total Loss: 0.1389, Avg Recon Loss: 0.0625, Avg KL Loss: 0.0764\n",
      "Epoch [8/20], Batch [0/933], Total Loss: 0.1050, Recon Loss: 0.0668, KL Loss: 0.0382\n",
      "Epoch [8/20], Batch [100/933], Total Loss: 0.0798, Recon Loss: 0.0681, KL Loss: 0.0117\n",
      "Epoch [8/20], Batch [200/933], Total Loss: 0.0731, Recon Loss: 0.0676, KL Loss: 0.0054\n",
      "Epoch [8/20], Batch [300/933], Total Loss: 0.0775, Recon Loss: 0.0738, KL Loss: 0.0036\n",
      "Epoch [8/20], Batch [400/933], Total Loss: 0.0611, Recon Loss: 0.0590, KL Loss: 0.0021\n",
      "Epoch [8/20], Batch [500/933], Total Loss: 0.0604, Recon Loss: 0.0572, KL Loss: 0.0032\n",
      "Epoch [8/20], Batch [600/933], Total Loss: 0.0664, Recon Loss: 0.0638, KL Loss: 0.0026\n",
      "Epoch [8/20], Batch [700/933], Total Loss: 0.0759, Recon Loss: 0.0736, KL Loss: 0.0023\n",
      "Epoch [8/20], Batch [800/933], Total Loss: 0.0669, Recon Loss: 0.0625, KL Loss: 0.0044\n",
      "Epoch [8/20], Batch [900/933], Total Loss: 0.0599, Recon Loss: 0.0583, KL Loss: 0.0016\n",
      "Epoch [8/20] completed, Avg Total Loss: 0.0672, Avg Recon Loss: 0.0625, Avg KL Loss: 0.0047\n",
      "Epoch [9/20], Batch [0/933], Total Loss: 0.0697, Recon Loss: 0.0671, KL Loss: 0.0026\n",
      "Epoch [9/20], Batch [100/933], Total Loss: 0.0698, Recon Loss: 0.0681, KL Loss: 0.0016\n",
      "Epoch [9/20], Batch [200/933], Total Loss: 0.0690, Recon Loss: 0.0674, KL Loss: 0.0015\n",
      "Epoch [9/20], Batch [300/933], Total Loss: 0.0753, Recon Loss: 0.0734, KL Loss: 0.0019\n",
      "Epoch [9/20], Batch [400/933], Total Loss: 0.0713, Recon Loss: 0.0584, KL Loss: 0.0129\n",
      "Epoch [9/20], Batch [500/933], Total Loss: 0.0591, Recon Loss: 0.0571, KL Loss: 0.0020\n",
      "Epoch [9/20], Batch [600/933], Total Loss: 0.0670, Recon Loss: 0.0640, KL Loss: 0.0030\n",
      "Epoch [9/20], Batch [700/933], Total Loss: 0.0760, Recon Loss: 0.0736, KL Loss: 0.0024\n",
      "Epoch [9/20], Batch [800/933], Total Loss: 0.0725, Recon Loss: 0.0625, KL Loss: 0.0100\n",
      "Epoch [9/20], Batch [900/933], Total Loss: 0.0610, Recon Loss: 0.0583, KL Loss: 0.0028\n",
      "Epoch [9/20] completed, Avg Total Loss: 0.0664, Avg Recon Loss: 0.0625, Avg KL Loss: 0.0039\n",
      "Epoch [10/20], Batch [0/933], Total Loss: 0.0698, Recon Loss: 0.0666, KL Loss: 0.0031\n",
      "Epoch [10/20], Batch [100/933], Total Loss: 0.0696, Recon Loss: 0.0679, KL Loss: 0.0017\n",
      "Epoch [10/20], Batch [200/933], Total Loss: 0.0693, Recon Loss: 0.0677, KL Loss: 0.0017\n",
      "Epoch [10/20], Batch [300/933], Total Loss: 0.0744, Recon Loss: 0.0734, KL Loss: 0.0009\n",
      "Epoch [10/20], Batch [400/933], Total Loss: 0.0639, Recon Loss: 0.0591, KL Loss: 0.0048\n",
      "Epoch [10/20], Batch [500/933], Total Loss: 0.0605, Recon Loss: 0.0576, KL Loss: 0.0029\n",
      "Epoch [10/20], Batch [600/933], Total Loss: 0.0683, Recon Loss: 0.0641, KL Loss: 0.0043\n",
      "Epoch [10/20], Batch [700/933], Total Loss: 0.0784, Recon Loss: 0.0737, KL Loss: 0.0047\n",
      "Epoch [10/20], Batch [800/933], Total Loss: 0.0790, Recon Loss: 0.0625, KL Loss: 0.0165\n",
      "Epoch [10/20], Batch [900/933], Total Loss: 0.0616, Recon Loss: 0.0583, KL Loss: 0.0033\n",
      "Epoch [10/20] completed, Avg Total Loss: 0.0671, Avg Recon Loss: 0.0625, Avg KL Loss: 0.0047\n",
      "Epoch [11/20], Batch [0/933], Total Loss: 0.0692, Recon Loss: 0.0668, KL Loss: 0.0024\n",
      "Epoch [11/20], Batch [100/933], Total Loss: 0.0698, Recon Loss: 0.0681, KL Loss: 0.0017\n",
      "Epoch [11/20], Batch [200/933], Total Loss: 0.0716, Recon Loss: 0.0675, KL Loss: 0.0040\n",
      "Epoch [11/20], Batch [300/933], Total Loss: 0.0792, Recon Loss: 0.0737, KL Loss: 0.0055\n",
      "Epoch [11/20], Batch [400/933], Total Loss: 0.0597, Recon Loss: 0.0590, KL Loss: 0.0007\n",
      "Epoch [11/20], Batch [500/933], Total Loss: 0.0597, Recon Loss: 0.0576, KL Loss: 0.0021\n",
      "Epoch [11/20], Batch [600/933], Total Loss: 0.0660, Recon Loss: 0.0638, KL Loss: 0.0021\n",
      "Epoch [11/20], Batch [700/933], Total Loss: 0.0795, Recon Loss: 0.0735, KL Loss: 0.0059\n",
      "Epoch [11/20], Batch [800/933], Total Loss: 0.0649, Recon Loss: 0.0623, KL Loss: 0.0026\n",
      "Epoch [11/20], Batch [900/933], Total Loss: 0.0601, Recon Loss: 0.0582, KL Loss: 0.0020\n",
      "Epoch [11/20] completed, Avg Total Loss: 0.0656, Avg Recon Loss: 0.0625, Avg KL Loss: 0.0032\n",
      "Epoch [12/20], Batch [0/933], Total Loss: 0.0677, Recon Loss: 0.0666, KL Loss: 0.0011\n",
      "Epoch [12/20], Batch [100/933], Total Loss: 0.0705, Recon Loss: 0.0680, KL Loss: 0.0025\n",
      "Epoch [12/20], Batch [200/933], Total Loss: 0.0733, Recon Loss: 0.0676, KL Loss: 0.0057\n",
      "Epoch [12/20], Batch [300/933], Total Loss: 0.0783, Recon Loss: 0.0737, KL Loss: 0.0046\n",
      "Epoch [12/20], Batch [400/933], Total Loss: 0.0602, Recon Loss: 0.0590, KL Loss: 0.0013\n",
      "Epoch [12/20], Batch [500/933], Total Loss: 0.0587, Recon Loss: 0.0573, KL Loss: 0.0013\n",
      "Epoch [12/20], Batch [600/933], Total Loss: 0.0646, Recon Loss: 0.0638, KL Loss: 0.0008\n",
      "Epoch [12/20], Batch [700/933], Total Loss: 0.0747, Recon Loss: 0.0735, KL Loss: 0.0012\n",
      "Epoch [12/20], Batch [800/933], Total Loss: 0.0651, Recon Loss: 0.0624, KL Loss: 0.0026\n",
      "Epoch [12/20], Batch [900/933], Total Loss: 0.0590, Recon Loss: 0.0582, KL Loss: 0.0007\n",
      "Epoch [12/20] completed, Avg Total Loss: 0.0664, Avg Recon Loss: 0.0625, Avg KL Loss: 0.0039\n",
      "Epoch [13/20], Batch [0/933], Total Loss: 0.0678, Recon Loss: 0.0668, KL Loss: 0.0010\n",
      "Epoch [13/20], Batch [100/933], Total Loss: 0.0715, Recon Loss: 0.0680, KL Loss: 0.0036\n",
      "Epoch [13/20], Batch [200/933], Total Loss: 0.1407, Recon Loss: 0.0677, KL Loss: 0.0730\n",
      "Epoch [13/20], Batch [300/933], Total Loss: 0.0975, Recon Loss: 0.0738, KL Loss: 0.0237\n",
      "Epoch [13/20], Batch [400/933], Total Loss: 0.0596, Recon Loss: 0.0588, KL Loss: 0.0008\n",
      "Epoch [13/20], Batch [500/933], Total Loss: 0.0576, Recon Loss: 0.0573, KL Loss: 0.0002\n",
      "Epoch [13/20], Batch [600/933], Total Loss: 0.0641, Recon Loss: 0.0638, KL Loss: 0.0004\n",
      "Epoch [13/20], Batch [700/933], Total Loss: 0.0738, Recon Loss: 0.0734, KL Loss: 0.0003\n",
      "Epoch [13/20], Batch [800/933], Total Loss: 0.0627, Recon Loss: 0.0625, KL Loss: 0.0002\n",
      "Epoch [13/20], Batch [900/933], Total Loss: 0.0584, Recon Loss: 0.0583, KL Loss: 0.0001\n",
      "Epoch [13/20] completed, Avg Total Loss: 0.0757, Avg Recon Loss: 0.0624, Avg KL Loss: 0.0132\n",
      "Epoch [14/20], Batch [0/933], Total Loss: 0.0668, Recon Loss: 0.0667, KL Loss: 0.0001\n",
      "Epoch [14/20], Batch [100/933], Total Loss: 0.0682, Recon Loss: 0.0679, KL Loss: 0.0003\n",
      "Epoch [14/20], Batch [200/933], Total Loss: 0.0677, Recon Loss: 0.0676, KL Loss: 0.0001\n",
      "Epoch [14/20], Batch [300/933], Total Loss: 0.0742, Recon Loss: 0.0738, KL Loss: 0.0005\n",
      "Epoch [14/20], Batch [400/933], Total Loss: 0.0591, Recon Loss: 0.0589, KL Loss: 0.0002\n",
      "Epoch [14/20], Batch [500/933], Total Loss: 0.0576, Recon Loss: 0.0575, KL Loss: 0.0001\n",
      "Epoch [14/20], Batch [600/933], Total Loss: 0.0640, Recon Loss: 0.0638, KL Loss: 0.0002\n",
      "Epoch [14/20], Batch [700/933], Total Loss: 0.0738, Recon Loss: 0.0735, KL Loss: 0.0003\n",
      "Epoch [14/20], Batch [800/933], Total Loss: 0.0628, Recon Loss: 0.0626, KL Loss: 0.0002\n",
      "Epoch [14/20], Batch [900/933], Total Loss: 0.0584, Recon Loss: 0.0583, KL Loss: 0.0001\n",
      "Epoch [14/20] completed, Avg Total Loss: 0.0627, Avg Recon Loss: 0.0624, Avg KL Loss: 0.0003\n",
      "Epoch [15/20], Batch [0/933], Total Loss: 0.0668, Recon Loss: 0.0667, KL Loss: 0.0000\n",
      "Epoch [15/20], Batch [100/933], Total Loss: 0.0684, Recon Loss: 0.0682, KL Loss: 0.0002\n",
      "Epoch [15/20], Batch [200/933], Total Loss: 0.0678, Recon Loss: 0.0677, KL Loss: 0.0001\n",
      "Epoch [15/20], Batch [300/933], Total Loss: 0.0753, Recon Loss: 0.0739, KL Loss: 0.0014\n",
      "Epoch [15/20], Batch [400/933], Total Loss: 0.0591, Recon Loss: 0.0589, KL Loss: 0.0002\n",
      "Epoch [15/20], Batch [500/933], Total Loss: 0.0576, Recon Loss: 0.0575, KL Loss: 0.0001\n",
      "Epoch [15/20], Batch [600/933], Total Loss: 0.0649, Recon Loss: 0.0637, KL Loss: 0.0012\n",
      "Epoch [15/20], Batch [700/933], Total Loss: 0.0742, Recon Loss: 0.0732, KL Loss: 0.0010\n",
      "Epoch [15/20], Batch [800/933], Total Loss: 0.0628, Recon Loss: 0.0625, KL Loss: 0.0004\n",
      "Epoch [15/20], Batch [900/933], Total Loss: 0.0584, Recon Loss: 0.0584, KL Loss: 0.0000\n",
      "Epoch [15/20] completed, Avg Total Loss: 0.0630, Avg Recon Loss: 0.0624, Avg KL Loss: 0.0006\n",
      "Epoch [16/20], Batch [0/933], Total Loss: 0.0667, Recon Loss: 0.0667, KL Loss: 0.0000\n",
      "Epoch [16/20], Batch [100/933], Total Loss: 0.0685, Recon Loss: 0.0680, KL Loss: 0.0005\n",
      "Epoch [16/20], Batch [200/933], Total Loss: 0.0675, Recon Loss: 0.0675, KL Loss: 0.0000\n",
      "Epoch [16/20], Batch [300/933], Total Loss: 0.0739, Recon Loss: 0.0738, KL Loss: 0.0001\n",
      "Epoch [16/20], Batch [400/933], Total Loss: 0.0589, Recon Loss: 0.0588, KL Loss: 0.0000\n",
      "Epoch [16/20], Batch [500/933], Total Loss: 0.0574, Recon Loss: 0.0574, KL Loss: 0.0000\n",
      "Epoch [16/20], Batch [600/933], Total Loss: 2.0683, Recon Loss: 0.0637, KL Loss: 2.0046\n",
      "Epoch [16/20], Batch [700/933], Total Loss: 0.0784, Recon Loss: 0.0735, KL Loss: 0.0049\n",
      "Epoch [16/20], Batch [800/933], Total Loss: 0.0629, Recon Loss: 0.0625, KL Loss: 0.0004\n",
      "Epoch [16/20], Batch [900/933], Total Loss: 0.0585, Recon Loss: 0.0583, KL Loss: 0.0001\n",
      "Epoch [16/20] completed, Avg Total Loss: 0.0789, Avg Recon Loss: 0.0624, Avg KL Loss: 0.0165\n",
      "Epoch [17/20], Batch [0/933], Total Loss: 0.0669, Recon Loss: 0.0667, KL Loss: 0.0002\n",
      "Epoch [17/20], Batch [100/933], Total Loss: 0.0689, Recon Loss: 0.0680, KL Loss: 0.0009\n",
      "Epoch [17/20], Batch [200/933], Total Loss: 0.0679, Recon Loss: 0.0676, KL Loss: 0.0003\n",
      "Epoch [17/20], Batch [300/933], Total Loss: 0.0743, Recon Loss: 0.0737, KL Loss: 0.0006\n",
      "Epoch [17/20], Batch [400/933], Total Loss: 0.0592, Recon Loss: 0.0590, KL Loss: 0.0002\n",
      "Epoch [17/20], Batch [500/933], Total Loss: 0.0574, Recon Loss: 0.0574, KL Loss: 0.0001\n",
      "Epoch [17/20], Batch [600/933], Total Loss: 0.0639, Recon Loss: 0.0638, KL Loss: 0.0001\n",
      "Epoch [17/20], Batch [700/933], Total Loss: 0.0737, Recon Loss: 0.0734, KL Loss: 0.0002\n",
      "Epoch [17/20], Batch [800/933], Total Loss: 0.0625, Recon Loss: 0.0624, KL Loss: 0.0000\n",
      "Epoch [17/20], Batch [900/933], Total Loss: 0.0584, Recon Loss: 0.0583, KL Loss: 0.0000\n",
      "Epoch [17/20] completed, Avg Total Loss: 0.0626, Avg Recon Loss: 0.0624, Avg KL Loss: 0.0002\n",
      "Epoch [18/20], Batch [0/933], Total Loss: 0.0667, Recon Loss: 0.0667, KL Loss: 0.0000\n",
      "Epoch [18/20], Batch [100/933], Total Loss: 0.0681, Recon Loss: 0.0679, KL Loss: 0.0002\n",
      "Epoch [18/20], Batch [200/933], Total Loss: 0.0676, Recon Loss: 0.0675, KL Loss: 0.0001\n",
      "Epoch [18/20], Batch [300/933], Total Loss: 0.0739, Recon Loss: 0.0736, KL Loss: 0.0002\n",
      "Epoch [18/20], Batch [400/933], Total Loss: 0.0590, Recon Loss: 0.0590, KL Loss: 0.0001\n",
      "Epoch [18/20], Batch [500/933], Total Loss: 0.0575, Recon Loss: 0.0574, KL Loss: 0.0000\n",
      "Epoch [18/20], Batch [600/933], Total Loss: 0.0636, Recon Loss: 0.0635, KL Loss: 0.0001\n",
      "Epoch [18/20], Batch [700/933], Total Loss: 0.0733, Recon Loss: 0.0732, KL Loss: 0.0001\n",
      "Epoch [18/20], Batch [800/933], Total Loss: 0.0624, Recon Loss: 0.0623, KL Loss: 0.0000\n",
      "Epoch [18/20], Batch [900/933], Total Loss: 0.0583, Recon Loss: 0.0583, KL Loss: 0.0000\n",
      "Epoch [18/20] completed, Avg Total Loss: 0.0625, Avg Recon Loss: 0.0624, Avg KL Loss: 0.0001\n",
      "Epoch [19/20], Batch [0/933], Total Loss: 0.0666, Recon Loss: 0.0666, KL Loss: 0.0000\n",
      "Epoch [19/20], Batch [100/933], Total Loss: 0.0681, Recon Loss: 0.0680, KL Loss: 0.0001\n",
      "Epoch [19/20], Batch [200/933], Total Loss: 0.0676, Recon Loss: 0.0675, KL Loss: 0.0000\n",
      "Epoch [19/20], Batch [300/933], Total Loss: 0.0738, Recon Loss: 0.0737, KL Loss: 0.0001\n",
      "Epoch [19/20], Batch [400/933], Total Loss: 0.0591, Recon Loss: 0.0591, KL Loss: 0.0000\n",
      "Epoch [19/20], Batch [500/933], Total Loss: 0.0575, Recon Loss: 0.0574, KL Loss: 0.0000\n",
      "Epoch [19/20], Batch [600/933], Total Loss: 0.0636, Recon Loss: 0.0635, KL Loss: 0.0000\n",
      "Epoch [19/20], Batch [700/933], Total Loss: 0.0735, Recon Loss: 0.0734, KL Loss: 0.0001\n",
      "Epoch [19/20], Batch [800/933], Total Loss: 0.0624, Recon Loss: 0.0624, KL Loss: 0.0000\n",
      "Epoch [19/20], Batch [900/933], Total Loss: 0.0583, Recon Loss: 0.0583, KL Loss: 0.0000\n",
      "Epoch [19/20] completed, Avg Total Loss: 0.0625, Avg Recon Loss: 0.0624, Avg KL Loss: 0.0001\n",
      "Epoch [20/20], Batch [0/933], Total Loss: 0.0666, Recon Loss: 0.0666, KL Loss: 0.0000\n",
      "Epoch [20/20], Batch [100/933], Total Loss: 0.0680, Recon Loss: 0.0679, KL Loss: 0.0001\n",
      "Epoch [20/20], Batch [200/933], Total Loss: 0.0675, Recon Loss: 0.0675, KL Loss: 0.0000\n",
      "Epoch [20/20], Batch [300/933], Total Loss: 0.0738, Recon Loss: 0.0737, KL Loss: 0.0001\n",
      "Epoch [20/20], Batch [400/933], Total Loss: 0.0591, Recon Loss: 0.0590, KL Loss: 0.0000\n",
      "Epoch [20/20], Batch [500/933], Total Loss: 0.0575, Recon Loss: 0.0575, KL Loss: 0.0000\n",
      "Epoch [20/20], Batch [600/933], Total Loss: 0.0636, Recon Loss: 0.0636, KL Loss: 0.0001\n",
      "Epoch [20/20], Batch [700/933], Total Loss: 0.0736, Recon Loss: 0.0734, KL Loss: 0.0002\n",
      "Epoch [20/20], Batch [800/933], Total Loss: 0.0623, Recon Loss: 0.0623, KL Loss: 0.0000\n",
      "Epoch [20/20], Batch [900/933], Total Loss: 0.0584, Recon Loss: 0.0584, KL Loss: 0.0000\n",
      "Epoch [20/20] completed, Avg Total Loss: 0.0625, Avg Recon Loss: 0.0624, Avg KL Loss: 0.0001\n",
      "VAE model saved to ../Saved_Models/cae_model.pt\n",
      "VAE model loaded from ../Saved_Models/cae_model.pt and moved to cuda\n"
     ]
    }
   ],
   "execution_count": 6
  },
  {
   "metadata": {
    "ExecuteTime": {
     "end_time": "2025-06-07T09:33:52.256534Z",
     "start_time": "2025-06-07T09:33:52.227468Z"
    }
   },
   "cell_type": "code",
   "source": [
    "samples = model.generate(num_samples=4)\n",
    "for i, img in enumerate(samples):\n",
    "    torchvision.utils.save_image(img, f\"../Saved_Models/sample_{i}.png\")"
   ],
   "id": "7a6493b50b77c76f",
   "outputs": [],
   "execution_count": 7
  }
 ],
 "metadata": {
  "kernelspec": {
   "display_name": "Python 3",
   "language": "python",
   "name": "python3"
  },
  "language_info": {
   "codemirror_mode": {
    "name": "ipython",
    "version": 2
   },
   "file_extension": ".py",
   "mimetype": "text/x-python",
   "name": "python",
   "nbconvert_exporter": "python",
   "pygments_lexer": "ipython2",
   "version": "2.7.6"
  }
 },
 "nbformat": 4,
 "nbformat_minor": 5
}
