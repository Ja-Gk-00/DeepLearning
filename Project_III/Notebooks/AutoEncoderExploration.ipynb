{
 "cells": [
  {
   "metadata": {
    "ExecuteTime": {
     "end_time": "2025-06-07T09:15:34.080009Z",
     "start_time": "2025-06-07T09:15:32.243925Z"
    }
   },
   "cell_type": "code",
   "source": [
    "import torch\n",
    "import torchvision\n",
    "from Architectures.ConvolutionalAutoEncoder import ConvVAE\n",
    "from DataObjects.DataLoader import DataLoader\n",
    "import os"
   ],
   "id": "c480a67a17243b8c",
   "outputs": [],
   "execution_count": 1
  },
  {
   "metadata": {
    "ExecuteTime": {
     "end_time": "2025-06-07T09:15:34.195261Z",
     "start_time": "2025-06-07T09:15:34.181081Z"
    }
   },
   "cell_type": "code",
   "source": [
    "device = torch.device(\"cuda\" if torch.cuda.is_available() else \"cpu\")\n",
    "print(f\"Using device: {device}\")"
   ],
   "id": "a06729502a05d05c",
   "outputs": [
    {
     "name": "stdout",
     "output_type": "stream",
     "text": [
      "Using device: cuda\n"
     ]
    }
   ],
   "execution_count": 2
  },
  {
   "metadata": {
    "ExecuteTime": {
     "end_time": "2025-06-07T09:15:34.231637Z",
     "start_time": "2025-06-07T09:15:34.229310Z"
    }
   },
   "cell_type": "code",
   "source": [
    "# Get the current directory of the script (DataObjects)\n",
    "current_script_dir = os.getcwd()\n",
    "\n",
    "# Go up one level to the project root\n",
    "project_root = os.path.dirname(current_script_dir)\n",
    "\n",
    "data_dir = os.path.join(project_root, 'data', 'downscaled')"
   ],
   "id": "deac0e8dd5fd78be",
   "outputs": [],
   "execution_count": 3
  },
  {
   "metadata": {
    "ExecuteTime": {
     "end_time": "2025-06-07T09:15:42.165376Z",
     "start_time": "2025-06-07T09:15:34.273592Z"
    }
   },
   "cell_type": "code",
   "source": [
    "batch_size = 32\n",
    "\n",
    "Data_cats = DataLoader(data_dir , batch_size=batch_size, shuffle=True)\n",
    "print(f\"Number of cat batches: {len(Data_cats)}\")\n",
    "Data_dogs = DataLoader(data_dir + '/dog/', batch_size=batch_size, shuffle=True)\n",
    "print(f\"Number of dog batches: {len(Data_dogs)}\")"
   ],
   "id": "806905b322c3b7d0",
   "outputs": [
    {
     "name": "stdout",
     "output_type": "stream",
     "text": [
      "Number of cat batches: 933\n",
      "Number of dog batches: 0\n"
     ]
    }
   ],
   "execution_count": 4
  },
  {
   "metadata": {
    "ExecuteTime": {
     "end_time": "2025-06-07T09:16:32.976625Z",
     "start_time": "2025-06-07T09:15:42.180520Z"
    }
   },
   "cell_type": "code",
   "source": [
    "epochs = 10\n",
    "\n",
    "device = torch.device(\"cuda\" if torch.cuda.is_available() else \"cpu\")\n",
    "model = ConvVAE.from_pretrained(device)\n",
    "\n",
    "model.train_architecture(Data_cats, epochs)\n",
    "model.save_model(f\"../Saved_Models/cae_model.pt\")\n",
    "model.load_model(f\"../Saved_Models/cae_model.pt\", map_location=device)"
   ],
   "id": "39674a680202ceb3",
   "outputs": [
    {
     "name": "stdout",
     "output_type": "stream",
     "text": [
      "VAE initialized on device: cuda\n",
      "First conv layer device: cuda:0\n",
      "VAE model moved to device: cuda\n",
      "VAE model parameters on device: cuda:0\n",
      "Epoch [1/10], Batch [0/933], Total Loss: 13.1695, Recon Loss: 0.8283, KL Loss: 12.3411\n",
      "Epoch [1/10], Batch [100/933], Total Loss: 0.3134, Recon Loss: 0.1418, KL Loss: 0.1716\n",
      "Epoch [1/10], Batch [200/933], Total Loss: 0.1907, Recon Loss: 0.0717, KL Loss: 0.1190\n",
      "Epoch [1/10], Batch [300/933], Total Loss: 0.1379, Recon Loss: 0.0666, KL Loss: 0.0714\n",
      "Epoch [1/10], Batch [400/933], Total Loss: 0.1246, Recon Loss: 0.0738, KL Loss: 0.0508\n",
      "Epoch [1/10], Batch [500/933], Total Loss: 0.1185, Recon Loss: 0.0592, KL Loss: 0.0593\n",
      "Epoch [1/10], Batch [600/933], Total Loss: 0.1203, Recon Loss: 0.0673, KL Loss: 0.0530\n",
      "Epoch [1/10], Batch [700/933], Total Loss: 0.1019, Recon Loss: 0.0562, KL Loss: 0.0457\n",
      "Epoch [1/10], Batch [800/933], Total Loss: 0.0916, Recon Loss: 0.0617, KL Loss: 0.0299\n",
      "Epoch [1/10], Batch [900/933], Total Loss: 0.0841, Recon Loss: 0.0585, KL Loss: 0.0256\n",
      "Epoch [1/10] completed, Avg Total Loss: 0.3349, Avg Recon Loss: 0.0862, Avg KL Loss: 0.2487\n",
      "Epoch [2/10], Batch [0/933], Total Loss: 0.1090, Recon Loss: 0.0693, KL Loss: 0.0397\n",
      "Epoch [2/10], Batch [100/933], Total Loss: 0.0862, Recon Loss: 0.0629, KL Loss: 0.0233\n",
      "Epoch [2/10], Batch [200/933], Total Loss: 0.0930, Recon Loss: 0.0535, KL Loss: 0.0394\n",
      "Epoch [2/10], Batch [300/933], Total Loss: 0.0909, Recon Loss: 0.0632, KL Loss: 0.0277\n",
      "Epoch [2/10], Batch [400/933], Total Loss: 0.0948, Recon Loss: 0.0734, KL Loss: 0.0214\n",
      "Epoch [2/10], Batch [500/933], Total Loss: 0.0867, Recon Loss: 0.0587, KL Loss: 0.0280\n",
      "Epoch [2/10], Batch [600/933], Total Loss: 0.1003, Recon Loss: 0.0671, KL Loss: 0.0332\n",
      "Epoch [2/10], Batch [700/933], Total Loss: 0.0804, Recon Loss: 0.0549, KL Loss: 0.0254\n",
      "Epoch [2/10], Batch [800/933], Total Loss: 0.0854, Recon Loss: 0.0617, KL Loss: 0.0237\n",
      "Epoch [2/10], Batch [900/933], Total Loss: 0.0725, Recon Loss: 0.0575, KL Loss: 0.0150\n",
      "Epoch [2/10] completed, Avg Total Loss: 0.0897, Avg Recon Loss: 0.0629, Avg KL Loss: 0.0268\n",
      "Epoch [3/10], Batch [0/933], Total Loss: 0.0918, Recon Loss: 0.0688, KL Loss: 0.0229\n",
      "Epoch [3/10], Batch [100/933], Total Loss: 0.0762, Recon Loss: 0.0629, KL Loss: 0.0133\n",
      "Epoch [3/10], Batch [200/933], Total Loss: 0.0802, Recon Loss: 0.0534, KL Loss: 0.0268\n",
      "Epoch [3/10], Batch [300/933], Total Loss: 0.0834, Recon Loss: 0.0628, KL Loss: 0.0206\n",
      "Epoch [3/10], Batch [400/933], Total Loss: 0.0865, Recon Loss: 0.0734, KL Loss: 0.0131\n",
      "Epoch [3/10], Batch [500/933], Total Loss: 0.0789, Recon Loss: 0.0590, KL Loss: 0.0198\n",
      "Epoch [3/10], Batch [600/933], Total Loss: 0.1129, Recon Loss: 0.0673, KL Loss: 0.0456\n",
      "Epoch [3/10], Batch [700/933], Total Loss: 0.0760, Recon Loss: 0.0558, KL Loss: 0.0202\n",
      "Epoch [3/10], Batch [800/933], Total Loss: 0.0772, Recon Loss: 0.0615, KL Loss: 0.0157\n",
      "Epoch [3/10], Batch [900/933], Total Loss: 0.0682, Recon Loss: 0.0568, KL Loss: 0.0114\n",
      "Epoch [3/10] completed, Avg Total Loss: 0.0854, Avg Recon Loss: 0.0627, Avg KL Loss: 0.0227\n",
      "Epoch [4/10], Batch [0/933], Total Loss: 0.0844, Recon Loss: 0.0685, KL Loss: 0.0158\n",
      "Epoch [4/10], Batch [100/933], Total Loss: 0.0740, Recon Loss: 0.0624, KL Loss: 0.0115\n",
      "Epoch [4/10], Batch [200/933], Total Loss: 0.0712, Recon Loss: 0.0532, KL Loss: 0.0180\n",
      "Epoch [4/10], Batch [300/933], Total Loss: 0.0803, Recon Loss: 0.0629, KL Loss: 0.0174\n",
      "Epoch [4/10], Batch [400/933], Total Loss: 0.0889, Recon Loss: 0.0737, KL Loss: 0.0152\n",
      "Epoch [4/10], Batch [500/933], Total Loss: 0.0765, Recon Loss: 0.0582, KL Loss: 0.0183\n",
      "Epoch [4/10], Batch [600/933], Total Loss: 0.1052, Recon Loss: 0.0673, KL Loss: 0.0379\n",
      "Epoch [4/10], Batch [700/933], Total Loss: 0.0751, Recon Loss: 0.0555, KL Loss: 0.0196\n",
      "Epoch [4/10], Batch [800/933], Total Loss: 0.0786, Recon Loss: 0.0621, KL Loss: 0.0165\n",
      "Epoch [4/10], Batch [900/933], Total Loss: 0.0643, Recon Loss: 0.0570, KL Loss: 0.0072\n",
      "Epoch [4/10] completed, Avg Total Loss: 0.0842, Avg Recon Loss: 0.0627, Avg KL Loss: 0.0215\n",
      "Epoch [5/10], Batch [0/933], Total Loss: 0.0781, Recon Loss: 0.0681, KL Loss: 0.0100\n",
      "Epoch [5/10], Batch [100/933], Total Loss: 0.0776, Recon Loss: 0.0635, KL Loss: 0.0142\n",
      "Epoch [5/10], Batch [200/933], Total Loss: 0.0687, Recon Loss: 0.0534, KL Loss: 0.0153\n",
      "Epoch [5/10], Batch [300/933], Total Loss: 0.0734, Recon Loss: 0.0629, KL Loss: 0.0105\n",
      "Epoch [5/10], Batch [400/933], Total Loss: 0.0838, Recon Loss: 0.0730, KL Loss: 0.0108\n",
      "Epoch [5/10], Batch [500/933], Total Loss: 0.0734, Recon Loss: 0.0588, KL Loss: 0.0146\n",
      "Epoch [5/10], Batch [600/933], Total Loss: 0.0862, Recon Loss: 0.0674, KL Loss: 0.0188\n",
      "Epoch [5/10], Batch [700/933], Total Loss: 0.0759, Recon Loss: 0.0559, KL Loss: 0.0200\n",
      "Epoch [5/10], Batch [800/933], Total Loss: 0.0834, Recon Loss: 0.0615, KL Loss: 0.0219\n",
      "Epoch [5/10], Batch [900/933], Total Loss: 0.0624, Recon Loss: 0.0568, KL Loss: 0.0056\n",
      "Epoch [5/10] completed, Avg Total Loss: 0.0811, Avg Recon Loss: 0.0626, Avg KL Loss: 0.0184\n",
      "Epoch [6/10], Batch [0/933], Total Loss: 0.0749, Recon Loss: 0.0683, KL Loss: 0.0066\n",
      "Epoch [6/10], Batch [100/933], Total Loss: 0.0711, Recon Loss: 0.0627, KL Loss: 0.0084\n",
      "Epoch [6/10], Batch [200/933], Total Loss: 0.0625, Recon Loss: 0.0531, KL Loss: 0.0094\n",
      "Epoch [6/10], Batch [300/933], Total Loss: 0.0671, Recon Loss: 0.0628, KL Loss: 0.0043\n",
      "Epoch [6/10], Batch [400/933], Total Loss: 0.0789, Recon Loss: 0.0732, KL Loss: 0.0057\n",
      "Epoch [6/10], Batch [500/933], Total Loss: 0.0646, Recon Loss: 0.0585, KL Loss: 0.0061\n",
      "Epoch [6/10], Batch [600/933], Total Loss: 0.0768, Recon Loss: 0.0673, KL Loss: 0.0096\n",
      "Epoch [6/10], Batch [700/933], Total Loss: 0.0735, Recon Loss: 0.0554, KL Loss: 0.0180\n",
      "Epoch [6/10], Batch [800/933], Total Loss: 0.0851, Recon Loss: 0.0617, KL Loss: 0.0234\n",
      "Epoch [6/10], Batch [900/933], Total Loss: 0.0624, Recon Loss: 0.0567, KL Loss: 0.0057\n",
      "Epoch [6/10] completed, Avg Total Loss: 0.0775, Avg Recon Loss: 0.0626, Avg KL Loss: 0.0149\n",
      "Epoch [7/10], Batch [0/933], Total Loss: 0.0726, Recon Loss: 0.0685, KL Loss: 0.0041\n",
      "Epoch [7/10], Batch [100/933], Total Loss: 0.0658, Recon Loss: 0.0630, KL Loss: 0.0028\n",
      "Epoch [7/10], Batch [200/933], Total Loss: 0.0583, Recon Loss: 0.0532, KL Loss: 0.0051\n",
      "Epoch [7/10], Batch [300/933], Total Loss: 0.0655, Recon Loss: 0.0628, KL Loss: 0.0027\n",
      "Epoch [7/10], Batch [400/933], Total Loss: 0.0799, Recon Loss: 0.0731, KL Loss: 0.0069\n",
      "Epoch [7/10], Batch [500/933], Total Loss: 0.0634, Recon Loss: 0.0586, KL Loss: 0.0048\n",
      "Epoch [7/10], Batch [600/933], Total Loss: 0.0891, Recon Loss: 0.0672, KL Loss: 0.0220\n",
      "Epoch [7/10], Batch [700/933], Total Loss: 0.0648, Recon Loss: 0.0555, KL Loss: 0.0092\n",
      "Epoch [7/10], Batch [800/933], Total Loss: 0.2107, Recon Loss: 0.0614, KL Loss: 0.1493\n",
      "Epoch [7/10], Batch [900/933], Total Loss: 0.0827, Recon Loss: 0.0566, KL Loss: 0.0261\n",
      "Epoch [7/10] completed, Avg Total Loss: 0.0974, Avg Recon Loss: 0.0625, Avg KL Loss: 0.0348\n",
      "Epoch [8/10], Batch [0/933], Total Loss: 0.0922, Recon Loss: 0.0684, KL Loss: 0.0238\n",
      "Epoch [8/10], Batch [100/933], Total Loss: 0.0650, Recon Loss: 0.0626, KL Loss: 0.0023\n",
      "Epoch [8/10], Batch [200/933], Total Loss: 0.0544, Recon Loss: 0.0531, KL Loss: 0.0012\n",
      "Epoch [8/10], Batch [300/933], Total Loss: 0.0641, Recon Loss: 0.0626, KL Loss: 0.0015\n",
      "Epoch [8/10], Batch [400/933], Total Loss: 0.0736, Recon Loss: 0.0727, KL Loss: 0.0010\n",
      "Epoch [8/10], Batch [500/933], Total Loss: 0.0595, Recon Loss: 0.0584, KL Loss: 0.0011\n",
      "Epoch [8/10], Batch [600/933], Total Loss: 0.0747, Recon Loss: 0.0672, KL Loss: 0.0075\n",
      "Epoch [8/10], Batch [700/933], Total Loss: 0.1188, Recon Loss: 0.0554, KL Loss: 0.0634\n",
      "Epoch [8/10], Batch [800/933], Total Loss: 0.1910, Recon Loss: 0.0613, KL Loss: 0.1297\n",
      "Epoch [8/10], Batch [900/933], Total Loss: 0.0618, Recon Loss: 0.0570, KL Loss: 0.0048\n",
      "Epoch [8/10] completed, Avg Total Loss: 0.0973, Avg Recon Loss: 0.0625, Avg KL Loss: 0.0348\n",
      "Epoch [9/10], Batch [0/933], Total Loss: 0.0707, Recon Loss: 0.0685, KL Loss: 0.0022\n",
      "Epoch [9/10], Batch [100/933], Total Loss: 0.0636, Recon Loss: 0.0627, KL Loss: 0.0009\n",
      "Epoch [9/10], Batch [200/933], Total Loss: 0.0543, Recon Loss: 0.0531, KL Loss: 0.0012\n",
      "Epoch [9/10], Batch [300/933], Total Loss: 0.0643, Recon Loss: 0.0627, KL Loss: 0.0017\n",
      "Epoch [9/10], Batch [400/933], Total Loss: 0.0734, Recon Loss: 0.0726, KL Loss: 0.0007\n",
      "Epoch [9/10], Batch [500/933], Total Loss: 0.0713, Recon Loss: 0.0583, KL Loss: 0.0131\n",
      "Epoch [9/10], Batch [600/933], Total Loss: 0.0906, Recon Loss: 0.0674, KL Loss: 0.0232\n",
      "Epoch [9/10], Batch [700/933], Total Loss: 0.0561, Recon Loss: 0.0554, KL Loss: 0.0007\n",
      "Epoch [9/10], Batch [800/933], Total Loss: 0.0619, Recon Loss: 0.0614, KL Loss: 0.0005\n",
      "Epoch [9/10], Batch [900/933], Total Loss: 0.0569, Recon Loss: 0.0567, KL Loss: 0.0002\n",
      "Epoch [9/10] completed, Avg Total Loss: 0.0648, Avg Recon Loss: 0.0625, Avg KL Loss: 0.0023\n",
      "Epoch [10/10], Batch [0/933], Total Loss: 0.0689, Recon Loss: 0.0683, KL Loss: 0.0006\n",
      "Epoch [10/10], Batch [100/933], Total Loss: 0.0630, Recon Loss: 0.0628, KL Loss: 0.0002\n",
      "Epoch [10/10], Batch [200/933], Total Loss: 0.0535, Recon Loss: 0.0532, KL Loss: 0.0002\n",
      "Epoch [10/10], Batch [300/933], Total Loss: 0.0735, Recon Loss: 0.0625, KL Loss: 0.0110\n",
      "Epoch [10/10], Batch [400/933], Total Loss: 0.0731, Recon Loss: 0.0728, KL Loss: 0.0003\n",
      "Epoch [10/10], Batch [500/933], Total Loss: 0.0599, Recon Loss: 0.0583, KL Loss: 0.0016\n",
      "Epoch [10/10], Batch [600/933], Total Loss: 0.0752, Recon Loss: 0.0669, KL Loss: 0.0083\n",
      "Epoch [10/10], Batch [700/933], Total Loss: 0.0596, Recon Loss: 0.0554, KL Loss: 0.0042\n",
      "Epoch [10/10], Batch [800/933], Total Loss: 0.0655, Recon Loss: 0.0613, KL Loss: 0.0041\n",
      "Epoch [10/10], Batch [900/933], Total Loss: 0.0577, Recon Loss: 0.0568, KL Loss: 0.0009\n",
      "Epoch [10/10] completed, Avg Total Loss: 0.0641, Avg Recon Loss: 0.0625, Avg KL Loss: 0.0016\n",
      "VAE model saved to ../Saved_Models/cae_model.pt\n",
      "VAE model loaded from ../Saved_Models/cae_model.pt and moved to cuda\n"
     ]
    }
   ],
   "execution_count": 5
  },
  {
   "metadata": {
    "ExecuteTime": {
     "end_time": "2025-06-07T09:16:33.012084Z",
     "start_time": "2025-06-07T09:16:32.985499Z"
    }
   },
   "cell_type": "code",
   "source": [
    "samples = model.generate(num_samples=4)\n",
    "for i, img in enumerate(samples):\n",
    "    torchvision.utils.save_image(img, f\"../Saved_Models/sample_{i}.png\")"
   ],
   "id": "7a6493b50b77c76f",
   "outputs": [],
   "execution_count": 6
  }
 ],
 "metadata": {
  "kernelspec": {
   "display_name": "Python 3",
   "language": "python",
   "name": "python3"
  },
  "language_info": {
   "codemirror_mode": {
    "name": "ipython",
    "version": 2
   },
   "file_extension": ".py",
   "mimetype": "text/x-python",
   "name": "python",
   "nbconvert_exporter": "python",
   "pygments_lexer": "ipython2",
   "version": "2.7.6"
  }
 },
 "nbformat": 4,
 "nbformat_minor": 5
}
