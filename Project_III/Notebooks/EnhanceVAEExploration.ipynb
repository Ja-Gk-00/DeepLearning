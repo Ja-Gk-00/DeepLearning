{
 "cells": [
  {
   "metadata": {
    "ExecuteTime": {
     "end_time": "2025-06-09T12:32:43.212034Z",
     "start_time": "2025-06-09T12:32:41.373470Z"
    }
   },
   "cell_type": "code",
   "source": [
    "import torch\n",
    "import torchvision\n",
    "from Architectures.ConvolutionalAutoEncoder import ConvVAE\n",
    "from Architectures.EnhancedVAE import EnhancedConvVAE\n",
    "from Architectures.VAE_utilis import *\n",
    "from DataObjects.DataLoader import DataLoader\n",
    "import os"
   ],
   "id": "660ef3030472b3a9",
   "outputs": [
    {
     "name": "stdout",
     "output_type": "stream",
     "text": [
      "VAE initialized on device: cuda\n",
      "First conv layer device: cuda:0\n",
      "VAE model moved to device: cuda\n",
      "VAE model parameters on device: cuda:0\n"
     ]
    }
   ],
   "execution_count": 1
  },
  {
   "metadata": {
    "ExecuteTime": {
     "end_time": "2025-06-09T12:32:43.316892Z",
     "start_time": "2025-06-09T12:32:43.311245Z"
    }
   },
   "cell_type": "code",
   "source": "torch.manual_seed(34)",
   "id": "9eed9044a4d8f1b6",
   "outputs": [
    {
     "data": {
      "text/plain": [
       "<torch._C.Generator at 0x7055a43aded0>"
      ]
     },
     "execution_count": 2,
     "metadata": {},
     "output_type": "execute_result"
    }
   ],
   "execution_count": 2
  },
  {
   "metadata": {
    "ExecuteTime": {
     "end_time": "2025-06-09T12:32:43.326413Z",
     "start_time": "2025-06-09T12:32:43.324204Z"
    }
   },
   "cell_type": "code",
   "source": [
    "device = torch.device(\"cuda\" if torch.cuda.is_available() else \"cpu\")\n",
    "print(f\"Using device: {device}\")"
   ],
   "id": "544792c00aa63c37",
   "outputs": [
    {
     "name": "stdout",
     "output_type": "stream",
     "text": [
      "Using device: cuda\n"
     ]
    }
   ],
   "execution_count": 3
  },
  {
   "metadata": {
    "ExecuteTime": {
     "end_time": "2025-06-09T12:32:43.373889Z",
     "start_time": "2025-06-09T12:32:43.371687Z"
    }
   },
   "cell_type": "code",
   "source": [
    "# Get the current directory of the script (DataObjects)\n",
    "current_script_dir = os.getcwd()\n",
    "\n",
    "# Go up one level to the project root\n",
    "project_root = os.path.dirname(current_script_dir)\n",
    "\n",
    "data_dir = os.path.join(project_root, 'data', 'downscaled')"
   ],
   "id": "25c938cbc325038e",
   "outputs": [],
   "execution_count": 4
  },
  {
   "metadata": {
    "ExecuteTime": {
     "end_time": "2025-06-09T12:32:50.928970Z",
     "start_time": "2025-06-09T12:32:43.416959Z"
    }
   },
   "cell_type": "code",
   "source": [
    "batch_size = 32\n",
    "\n",
    "Data_cats = DataLoader(data_dir , batch_size=batch_size, shuffle=True)\n",
    "print(f\"Number of cat batches: {len(Data_cats)}\")\n",
    "Data_dogs = DataLoader(data_dir + '/dog/', batch_size=batch_size, shuffle=True)\n",
    "print(f\"Number of dog batches: {len(Data_dogs)}\")"
   ],
   "id": "7fa8501f0e4d179d",
   "outputs": [
    {
     "name": "stdout",
     "output_type": "stream",
     "text": [
      "Number of cat batches: 933\n",
      "Number of dog batches: 0\n"
     ]
    }
   ],
   "execution_count": 5
  },
  {
   "metadata": {
    "ExecuteTime": {
     "end_time": "2025-06-09T12:32:51.045059Z",
     "start_time": "2025-06-09T12:32:50.941582Z"
    }
   },
   "cell_type": "code",
   "source": [
    "# Initialize the VAE\n",
    "vae = EnhancedConvVAE(\n",
    "    device=device,\n",
    "    input_channels=3,\n",
    "    latent_dim=256,\n",
    "    base_channels=64,\n",
    "    image_size=64,\n",
    "    learning_rate=1e-4,\n",
    "    beta=0.5,\n",
    "    gamma=1000,\n",
    "    use_spectral_norm=True\n",
    ").to(device) # Ensure model is on the correct device\n",
    "\n",
    "optimizer = vae.configure_optimizers()\n",
    "\n",
    "print(\"VAE model initialized.\")"
   ],
   "id": "953b617ea7fb45ac",
   "outputs": [
    {
     "name": "stdout",
     "output_type": "stream",
     "text": [
      "EnhancedConvVAE initialized on device: cuda\n",
      "VAE model initialized.\n"
     ]
    }
   ],
   "execution_count": 6
  },
  {
   "metadata": {
    "ExecuteTime": {
     "end_time": "2025-06-09T12:34:27.854731Z",
     "start_time": "2025-06-09T12:32:51.052850Z"
    }
   },
   "cell_type": "code",
   "source": [
    "# 4. Training the Model\n",
    "num_epochs = 10 # You can set this higher for better results\n",
    "print(\"\\nTraining EnhancedConvVAE...\")\n",
    "training_history = vae.train_architecture(Data_cats, epochs=num_epochs, use_capacity=True)\n"
   ],
   "id": "b74fe8a27a0659f",
   "outputs": [
    {
     "name": "stdout",
     "output_type": "stream",
     "text": [
      "\n",
      "Training EnhancedConvVAE...\n",
      "Starting EnhancedConvVAE training...\n",
      "Epoch [1/10], Batch [100/933], Total Loss: 3253.8054, Recon Loss: 0.0809, KL Loss: 3.2787, Capacity: 0.03\n",
      "Epoch [1/10], Batch [200/933], Total Loss: 1970.4435, Recon Loss: 0.0698, KL Loss: 2.0204, Capacity: 0.05\n",
      "Epoch [1/10], Batch [300/933], Total Loss: 1174.7891, Recon Loss: 0.0707, KL Loss: 1.2497, Capacity: 0.07\n",
      "Epoch [1/10], Batch [400/933], Total Loss: 1004.3373, Recon Loss: 0.0616, KL Loss: 1.1043, Capacity: 0.10\n",
      "Epoch [1/10], Batch [500/933], Total Loss: 774.5616, Recon Loss: 0.0675, KL Loss: 0.8995, Capacity: 0.12\n",
      "Epoch [1/10], Batch [600/933], Total Loss: 669.1547, Recon Loss: 0.0597, KL Loss: 0.8191, Capacity: 0.15\n",
      "Epoch [1/10], Batch [700/933], Total Loss: 428.9076, Recon Loss: 0.0654, KL Loss: 0.6038, Capacity: 0.17\n",
      "Epoch [1/10], Batch [800/933], Total Loss: 375.9575, Recon Loss: 0.0619, KL Loss: 0.5759, Capacity: 0.20\n",
      "Epoch [1/10], Batch [900/933], Total Loss: 2248.2878, Recon Loss: 0.0796, KL Loss: 0.5201, Capacity: 0.23\n",
      "Epoch [1/10] completed, Avg Total Loss: 2544.2435, Avg Recon Loss: 0.0713, Avg KL Loss: 2.4725, Avg Capacity: 0.12\n",
      "Epoch [2/10], Batch [1000/933], Total Loss: 185.8636, Recon Loss: 0.0631, KL Loss: 0.4358, Capacity: 0.25\n",
      "Epoch [2/10], Batch [1100/933], Total Loss: 164.4157, Recon Loss: 0.0563, KL Loss: 0.4394, Capacity: 0.28\n",
      "Epoch [2/10], Batch [1200/933], Total Loss: 85.1694, Recon Loss: 0.0651, KL Loss: 0.3851, Capacity: 0.30\n",
      "Epoch [2/10], Batch [1300/933], Total Loss: 65.9193, Recon Loss: 0.0638, KL Loss: 0.3909, Capacity: 0.33\n",
      "Epoch [2/10], Batch [1400/933], Total Loss: 54.9572, Recon Loss: 0.0599, KL Loss: 0.4049, Capacity: 0.35\n",
      "Epoch [2/10], Batch [1500/933], Total Loss: 29.8234, Recon Loss: 0.0570, KL Loss: 0.4048, Capacity: 0.38\n",
      "Epoch [2/10], Batch [1600/933], Total Loss: 42.9100, Recon Loss: 0.0717, KL Loss: 0.3572, Capacity: 0.40\n",
      "Epoch [2/10], Batch [1700/933], Total Loss: 33.3809, Recon Loss: 0.0644, KL Loss: 0.3917, Capacity: 0.42\n",
      "Epoch [2/10], Batch [1800/933], Total Loss: 19.1266, Recon Loss: 0.0591, KL Loss: 0.4691, Capacity: 0.45\n",
      "Epoch [2/10] completed, Avg Total Loss: 301.5740, Avg Recon Loss: 0.0627, Avg KL Loss: 0.4667, Avg Capacity: 0.35\n",
      "Epoch [3/10], Batch [1900/933], Total Loss: 253.6383, Recon Loss: 0.0722, KL Loss: 0.7286, Capacity: 0.47\n",
      "Epoch [3/10], Batch [2000/933], Total Loss: 168.0346, Recon Loss: 0.0619, KL Loss: 0.6680, Capacity: 0.50\n",
      "Epoch [3/10], Batch [2100/933], Total Loss: 88.9845, Recon Loss: 0.0771, KL Loss: 0.6139, Capacity: 0.53\n",
      "Epoch [3/10], Batch [2200/933], Total Loss: 416.3884, Recon Loss: 0.0660, KL Loss: 0.9663, Capacity: 0.55\n",
      "Epoch [3/10], Batch [2300/933], Total Loss: 142.6283, Recon Loss: 0.0706, KL Loss: 0.4324, Capacity: 0.57\n",
      "Epoch [3/10], Batch [2400/933], Total Loss: 448.0723, Recon Loss: 0.0641, KL Loss: 1.0480, Capacity: 0.60\n",
      "Epoch [3/10], Batch [2500/933], Total Loss: 40.7881, Recon Loss: 0.0601, KL Loss: 0.5843, Capacity: 0.62\n",
      "Epoch [3/10], Batch [2600/933], Total Loss: 171.8984, Recon Loss: 0.0695, KL Loss: 0.4782, Capacity: 0.65\n",
      "Epoch [3/10], Batch [2700/933], Total Loss: 62.0042, Recon Loss: 0.0704, KL Loss: 0.7369, Capacity: 0.68\n",
      "Epoch [3/10] completed, Avg Total Loss: 303.2159, Avg Recon Loss: 0.0625, Avg KL Loss: 0.6265, Avg Capacity: 0.58\n",
      "Epoch [4/10], Batch [2800/933], Total Loss: 114.0244, Recon Loss: 0.0587, KL Loss: 0.5860, Capacity: 0.70\n",
      "Epoch [4/10], Batch [2900/933], Total Loss: 304.6297, Recon Loss: 0.0746, KL Loss: 1.0296, Capacity: 0.72\n",
      "Epoch [4/10], Batch [3000/933], Total Loss: 224.3712, Recon Loss: 0.0609, KL Loss: 0.5257, Capacity: 0.75\n",
      "Epoch [4/10], Batch [3100/933], Total Loss: 400.2551, Recon Loss: 0.0571, KL Loss: 1.1752, Capacity: 0.78\n",
      "Epoch [4/10], Batch [3200/933], Total Loss: 218.0023, Recon Loss: 0.0556, KL Loss: 0.5821, Capacity: 0.80\n",
      "Epoch [4/10], Batch [3300/933], Total Loss: 53.6486, Recon Loss: 0.0608, KL Loss: 0.8786, Capacity: 0.82\n",
      "Epoch [4/10], Batch [3400/933], Total Loss: 112.1238, Recon Loss: 0.0637, KL Loss: 0.9621, Capacity: 0.85\n",
      "Epoch [4/10], Batch [3500/933], Total Loss: 165.6875, Recon Loss: 0.0550, KL Loss: 1.0406, Capacity: 0.88\n",
      "Epoch [4/10], Batch [3600/933], Total Loss: 132.8228, Recon Loss: 0.0638, KL Loss: 0.7672, Capacity: 0.90\n",
      "Epoch [4/10], Batch [3700/933], Total Loss: 254.4054, Recon Loss: 0.0586, KL Loss: 1.1793, Capacity: 0.93\n",
      "Epoch [4/10] completed, Avg Total Loss: 371.0173, Avg Recon Loss: 0.0624, Avg KL Loss: 0.8572, Avg Capacity: 0.82\n",
      "Epoch [5/10], Batch [3800/933], Total Loss: 69.1126, Recon Loss: 0.0639, KL Loss: 0.8810, Capacity: 0.95\n",
      "Epoch [5/10], Batch [3900/933], Total Loss: 307.9747, Recon Loss: 0.0629, KL Loss: 0.6671, Capacity: 0.97\n",
      "Epoch [5/10], Batch [4000/933], Total Loss: 2095.2253, Recon Loss: 0.0541, KL Loss: 1.1420, Capacity: 1.00\n",
      "Epoch [5/10], Batch [4100/933], Total Loss: 43.0657, Recon Loss: 0.0605, KL Loss: 0.9820, Capacity: 1.02\n",
      "Epoch [5/10], Batch [4200/933], Total Loss: 302.5147, Recon Loss: 0.0666, KL Loss: 1.3524, Capacity: 1.05\n",
      "Epoch [5/10], Batch [4300/933], Total Loss: 96.9504, Recon Loss: 0.0567, KL Loss: 0.9781, Capacity: 1.07\n",
      "Epoch [5/10], Batch [4400/933], Total Loss: 166.2154, Recon Loss: 0.0652, KL Loss: 0.9338, Capacity: 1.10\n",
      "Epoch [5/10], Batch [4500/933], Total Loss: 131.5185, Recon Loss: 0.0614, KL Loss: 0.9935, Capacity: 1.12\n",
      "Epoch [5/10], Batch [4600/933], Total Loss: 410.2757, Recon Loss: 0.0657, KL Loss: 1.5602, Capacity: 1.15\n",
      "Epoch [5/10] completed, Avg Total Loss: 401.8219, Avg Recon Loss: 0.0622, Avg KL Loss: 1.0733, Avg Capacity: 1.05\n",
      "Epoch [6/10], Batch [4700/933], Total Loss: 304.7033, Recon Loss: 0.0572, KL Loss: 0.8704, Capacity: 1.18\n",
      "Epoch [6/10], Batch [4800/933], Total Loss: 40.9328, Recon Loss: 0.0646, KL Loss: 1.2409, Capacity: 1.20\n",
      "Epoch [6/10], Batch [4900/933], Total Loss: 146.7814, Recon Loss: 0.0570, KL Loss: 1.0783, Capacity: 1.23\n",
      "Epoch [6/10], Batch [5000/933], Total Loss: 31.6894, Recon Loss: 0.0584, KL Loss: 1.2816, Capacity: 1.25\n",
      "Epoch [6/10], Batch [5100/933], Total Loss: 310.7827, Recon Loss: 0.0544, KL Loss: 0.9643, Capacity: 1.27\n",
      "Epoch [6/10], Batch [5200/933], Total Loss: 88.2249, Recon Loss: 0.0708, KL Loss: 1.2118, Capacity: 1.30\n",
      "Epoch [6/10], Batch [5300/933], Total Loss: 84.9311, Recon Loss: 0.0580, KL Loss: 1.4099, Capacity: 1.32\n",
      "Epoch [6/10], Batch [5400/933], Total Loss: 63.3249, Recon Loss: 0.0607, KL Loss: 1.2867, Capacity: 1.35\n",
      "Epoch [6/10], Batch [5500/933], Total Loss: 176.8446, Recon Loss: 0.0631, KL Loss: 1.1982, Capacity: 1.38\n",
      "Epoch [6/10] completed, Avg Total Loss: 342.5472, Avg Recon Loss: 0.0621, Avg KL Loss: 1.2932, Avg Capacity: 1.28\n",
      "Epoch [7/10], Batch [5600/933], Total Loss: 223.0576, Recon Loss: 0.0602, KL Loss: 1.1770, Capacity: 1.40\n",
      "Epoch [7/10], Batch [5700/933], Total Loss: 141.4382, Recon Loss: 0.0686, KL Loss: 1.5664, Capacity: 1.43\n",
      "Epoch [7/10], Batch [5800/933], Total Loss: 36.8658, Recon Loss: 0.0636, KL Loss: 1.4868, Capacity: 1.45\n",
      "Epoch [7/10], Batch [5900/933], Total Loss: 2032.5751, Recon Loss: 0.0540, KL Loss: 1.3956, Capacity: 1.48\n",
      "Epoch [7/10], Batch [6000/933], Total Loss: 60.9247, Recon Loss: 0.0593, KL Loss: 1.5609, Capacity: 1.50\n",
      "Epoch [7/10], Batch [6100/933], Total Loss: 2011.2699, Recon Loss: 0.0630, KL Loss: 1.5831, Capacity: 1.52\n",
      "Epoch [7/10], Batch [6200/933], Total Loss: 23.4453, Recon Loss: 0.0701, KL Loss: 1.5734, Capacity: 1.55\n",
      "Epoch [7/10], Batch [6300/933], Total Loss: 135.7545, Recon Loss: 0.0578, KL Loss: 1.4393, Capacity: 1.57\n",
      "Epoch [7/10], Batch [6400/933], Total Loss: 219.1922, Recon Loss: 0.0592, KL Loss: 1.8191, Capacity: 1.60\n",
      "Epoch [7/10], Batch [6500/933], Total Loss: 45.2509, Recon Loss: 0.0592, KL Loss: 1.5798, Capacity: 1.62\n",
      "Epoch [7/10] completed, Avg Total Loss: 378.7213, Avg Recon Loss: 0.0621, Avg KL Loss: 1.5371, Avg Capacity: 1.52\n",
      "Epoch [8/10], Batch [6600/933], Total Loss: 144.1656, Recon Loss: 0.0593, KL Loss: 1.7941, Capacity: 1.65\n",
      "Epoch [8/10], Batch [6700/933], Total Loss: 217.6071, Recon Loss: 0.0642, KL Loss: 1.4575, Capacity: 1.68\n",
      "Epoch [8/10], Batch [6800/933], Total Loss: 266.9317, Recon Loss: 0.0550, KL Loss: 1.9669, Capacity: 1.70\n",
      "Epoch [8/10], Batch [6900/933], Total Loss: 153.3929, Recon Loss: 0.0527, KL Loss: 1.5717, Capacity: 1.73\n",
      "Epoch [8/10], Batch [7000/933], Total Loss: 222.4846, Recon Loss: 0.0642, KL Loss: 1.9724, Capacity: 1.75\n",
      "Epoch [8/10], Batch [7100/933], Total Loss: 146.0174, Recon Loss: 0.0589, KL Loss: 1.9210, Capacity: 1.77\n",
      "Epoch [8/10], Batch [7200/933], Total Loss: 58.9021, Recon Loss: 0.0661, KL Loss: 1.7412, Capacity: 1.80\n",
      "Epoch [8/10], Batch [7300/933], Total Loss: 140.3975, Recon Loss: 0.0562, KL Loss: 1.6847, Capacity: 1.82\n",
      "Epoch [8/10], Batch [7400/933], Total Loss: 211.4710, Recon Loss: 0.0668, KL Loss: 1.6386, Capacity: 1.85\n",
      "Epoch [8/10] completed, Avg Total Loss: 356.7608, Avg Recon Loss: 0.0620, Avg KL Loss: 1.7603, Avg Capacity: 1.75\n",
      "Epoch [9/10], Batch [7500/933], Total Loss: 32.4446, Recon Loss: 0.0554, KL Loss: 1.9074, Capacity: 1.88\n",
      "Epoch [9/10], Batch [7600/933], Total Loss: 47.3341, Recon Loss: 0.0698, KL Loss: 1.8527, Capacity: 1.90\n",
      "Epoch [9/10], Batch [7700/933], Total Loss: 127.8552, Recon Loss: 0.0667, KL Loss: 2.0528, Capacity: 1.93\n",
      "Epoch [9/10], Batch [7800/933], Total Loss: 359.0055, Recon Loss: 0.0563, KL Loss: 2.3089, Capacity: 1.95\n",
      "Epoch [9/10], Batch [7900/933], Total Loss: 235.2916, Recon Loss: 0.0675, KL Loss: 2.2102, Capacity: 1.98\n",
      "Epoch [9/10], Batch [8000/933], Total Loss: 75.6489, Recon Loss: 0.0597, KL Loss: 1.9244, Capacity: 2.00\n",
      "Epoch [9/10], Batch [8100/933], Total Loss: 18.0525, Recon Loss: 0.0624, KL Loss: 2.0070, Capacity: 2.02\n",
      "Epoch [9/10], Batch [8200/933], Total Loss: 53.5537, Recon Loss: 0.0595, KL Loss: 1.9965, Capacity: 2.05\n",
      "Epoch [9/10], Batch [8300/933], Total Loss: 14.6650, Recon Loss: 0.0593, KL Loss: 2.0896, Capacity: 2.08\n",
      "Epoch [9/10] completed, Avg Total Loss: 317.5138, Avg Recon Loss: 0.0620, Avg KL Loss: 1.9986, Avg Capacity: 1.98\n",
      "Epoch [10/10], Batch [8400/933], Total Loss: 186.9580, Recon Loss: 0.0564, KL Loss: 1.9131, Capacity: 2.10\n",
      "Epoch [10/10], Batch [8500/933], Total Loss: 3.8423, Recon Loss: 0.0643, KL Loss: 2.1212, Capacity: 2.12\n",
      "Epoch [10/10], Batch [8600/933], Total Loss: 47.5409, Recon Loss: 0.0627, KL Loss: 2.1975, Capacity: 2.15\n",
      "Epoch [10/10], Batch [8700/933], Total Loss: 168.4938, Recon Loss: 0.0632, KL Loss: 2.0066, Capacity: 2.17\n",
      "Epoch [10/10], Batch [8800/933], Total Loss: 59.2244, Recon Loss: 0.0751, KL Loss: 2.2591, Capacity: 2.20\n",
      "Epoch [10/10], Batch [8900/933], Total Loss: 2062.8022, Recon Loss: 0.0557, KL Loss: 2.1154, Capacity: 2.23\n",
      "Epoch [10/10], Batch [9000/933], Total Loss: 17.9702, Recon Loss: 0.0611, KL Loss: 2.2679, Capacity: 2.25\n",
      "Epoch [10/10], Batch [9100/933], Total Loss: 130.6620, Recon Loss: 0.0701, KL Loss: 2.4056, Capacity: 2.27\n",
      "Epoch [10/10], Batch [9200/933], Total Loss: 151.3472, Recon Loss: 0.0594, KL Loss: 2.4513, Capacity: 2.30\n",
      "Epoch [10/10], Batch [9300/933], Total Loss: 82.0359, Recon Loss: 0.0592, KL Loss: 2.2430, Capacity: 2.33\n",
      "Epoch [10/10] completed, Avg Total Loss: 307.6676, Avg Recon Loss: 0.0621, Avg KL Loss: 2.2243, Avg Capacity: 2.22\n",
      "EnhancedConvVAE training complete.\n"
     ]
    }
   ],
   "execution_count": 7
  },
  {
   "metadata": {
    "ExecuteTime": {
     "end_time": "2025-06-09T12:34:27.922632Z",
     "start_time": "2025-06-09T12:34:27.865711Z"
    }
   },
   "cell_type": "code",
   "source": [
    "# 7. Generate and Visualize Images\n",
    "vae.eval() # Set to evaluation mode\n",
    "\n",
    "# Generate diverse samples\n",
    "num_samples_gen = 25\n",
    "print(\"\\nGenerating diverse samples...\")\n",
    "diverse_samples = vae.generate_diverse(num_samples_gen, temperature=1.2)\n",
    "vae.save_generated_images(diverse_samples, folder_path='./generated_images_diverse', prefix='diverse_sample')\n"
   ],
   "id": "100e8879c44684d3",
   "outputs": [
    {
     "name": "stdout",
     "output_type": "stream",
     "text": [
      "\n",
      "Generating diverse samples...\n",
      "Saved 25 generated images to ./generated_images_diverse\n"
     ]
    }
   ],
   "execution_count": 8
  }
 ],
 "metadata": {},
 "nbformat": 4,
 "nbformat_minor": 5
}
